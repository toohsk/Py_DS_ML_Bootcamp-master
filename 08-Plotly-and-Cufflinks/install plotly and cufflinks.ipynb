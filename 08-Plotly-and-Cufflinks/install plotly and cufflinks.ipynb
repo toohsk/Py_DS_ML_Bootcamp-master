{
 "cells": [
  {
   "cell_type": "code",
   "execution_count": 1,
   "metadata": {},
   "outputs": [
    {
     "name": "stdout",
     "output_type": "stream",
     "text": [
      "Collecting plotly\n",
      "  Downloading plotly-4.9.0-py2.py3-none-any.whl (12.9 MB)\n",
      "\u001b[K     |████████████████████████████████| 12.9 MB 5.1 MB/s eta 0:00:01\n",
      "\u001b[?25hRequirement already satisfied: six in /Users/haraatsushi/.anyenv/envs/pyenv/versions/anaconda3-2020.02/lib/python3.7/site-packages (from plotly) (1.14.0)\n",
      "Collecting retrying>=1.3.3\n",
      "  Downloading retrying-1.3.3.tar.gz (10 kB)\n",
      "Building wheels for collected packages: retrying\n",
      "  Building wheel for retrying (setup.py) ... \u001b[?25ldone\n",
      "\u001b[?25h  Created wheel for retrying: filename=retrying-1.3.3-py3-none-any.whl size=11430 sha256=8a7be4bf1ec4fc3d5fde6b8e14a90196a409e15528c9209a8eb737772cf25a4f\n",
      "  Stored in directory: /Users/haraatsushi/Library/Caches/pip/wheels/f9/8d/8d/f6af3f7f9eea3553bc2fe6d53e4b287dad18b06a861ac56ddf\n",
      "Successfully built retrying\n",
      "Installing collected packages: retrying, plotly\n",
      "Successfully installed plotly-4.9.0 retrying-1.3.3\n",
      "Collecting cufflinks\n",
      "  Downloading cufflinks-0.17.3.tar.gz (81 kB)\n",
      "\u001b[K     |████████████████████████████████| 81 kB 3.6 MB/s eta 0:00:011\n",
      "\u001b[?25hRequirement already satisfied: numpy>=1.9.2 in /Users/haraatsushi/.anyenv/envs/pyenv/versions/anaconda3-2020.02/lib/python3.7/site-packages (from cufflinks) (1.18.1)\n",
      "Requirement already satisfied: pandas>=0.19.2 in /Users/haraatsushi/.anyenv/envs/pyenv/versions/anaconda3-2020.02/lib/python3.7/site-packages (from cufflinks) (1.0.1)\n",
      "Requirement already satisfied: plotly>=4.1.1 in /Users/haraatsushi/.anyenv/envs/pyenv/versions/anaconda3-2020.02/lib/python3.7/site-packages (from cufflinks) (4.9.0)\n",
      "Requirement already satisfied: six>=1.9.0 in /Users/haraatsushi/.anyenv/envs/pyenv/versions/anaconda3-2020.02/lib/python3.7/site-packages (from cufflinks) (1.14.0)\n",
      "Collecting colorlover>=0.2.1\n",
      "  Downloading colorlover-0.3.0-py3-none-any.whl (8.9 kB)\n",
      "Requirement already satisfied: setuptools>=34.4.1 in /Users/haraatsushi/.anyenv/envs/pyenv/versions/anaconda3-2020.02/lib/python3.7/site-packages (from cufflinks) (45.2.0.post20200210)\n",
      "Requirement already satisfied: ipython>=5.3.0 in /Users/haraatsushi/.anyenv/envs/pyenv/versions/anaconda3-2020.02/lib/python3.7/site-packages (from cufflinks) (7.12.0)\n",
      "Requirement already satisfied: ipywidgets>=7.0.0 in /Users/haraatsushi/.anyenv/envs/pyenv/versions/anaconda3-2020.02/lib/python3.7/site-packages (from cufflinks) (7.5.1)\n",
      "Requirement already satisfied: python-dateutil>=2.6.1 in /Users/haraatsushi/.anyenv/envs/pyenv/versions/anaconda3-2020.02/lib/python3.7/site-packages (from pandas>=0.19.2->cufflinks) (2.8.1)\n",
      "Requirement already satisfied: pytz>=2017.2 in /Users/haraatsushi/.anyenv/envs/pyenv/versions/anaconda3-2020.02/lib/python3.7/site-packages (from pandas>=0.19.2->cufflinks) (2019.3)\n",
      "Requirement already satisfied: retrying>=1.3.3 in /Users/haraatsushi/.anyenv/envs/pyenv/versions/anaconda3-2020.02/lib/python3.7/site-packages (from plotly>=4.1.1->cufflinks) (1.3.3)\n",
      "Requirement already satisfied: pygments in /Users/haraatsushi/.anyenv/envs/pyenv/versions/anaconda3-2020.02/lib/python3.7/site-packages (from ipython>=5.3.0->cufflinks) (2.5.2)\n",
      "Requirement already satisfied: backcall in /Users/haraatsushi/.anyenv/envs/pyenv/versions/anaconda3-2020.02/lib/python3.7/site-packages (from ipython>=5.3.0->cufflinks) (0.1.0)\n",
      "Requirement already satisfied: jedi>=0.10 in /Users/haraatsushi/.anyenv/envs/pyenv/versions/anaconda3-2020.02/lib/python3.7/site-packages (from ipython>=5.3.0->cufflinks) (0.14.1)\n",
      "Requirement already satisfied: pexpect; sys_platform != \"win32\" in /Users/haraatsushi/.anyenv/envs/pyenv/versions/anaconda3-2020.02/lib/python3.7/site-packages (from ipython>=5.3.0->cufflinks) (4.8.0)\n",
      "Requirement already satisfied: prompt-toolkit!=3.0.0,!=3.0.1,<3.1.0,>=2.0.0 in /Users/haraatsushi/.anyenv/envs/pyenv/versions/anaconda3-2020.02/lib/python3.7/site-packages (from ipython>=5.3.0->cufflinks) (3.0.3)\n",
      "Requirement already satisfied: decorator in /Users/haraatsushi/.anyenv/envs/pyenv/versions/anaconda3-2020.02/lib/python3.7/site-packages (from ipython>=5.3.0->cufflinks) (4.4.1)\n",
      "Requirement already satisfied: pickleshare in /Users/haraatsushi/.anyenv/envs/pyenv/versions/anaconda3-2020.02/lib/python3.7/site-packages (from ipython>=5.3.0->cufflinks) (0.7.5)\n",
      "Requirement already satisfied: appnope; sys_platform == \"darwin\" in /Users/haraatsushi/.anyenv/envs/pyenv/versions/anaconda3-2020.02/lib/python3.7/site-packages (from ipython>=5.3.0->cufflinks) (0.1.0)\n",
      "Requirement already satisfied: traitlets>=4.2 in /Users/haraatsushi/.anyenv/envs/pyenv/versions/anaconda3-2020.02/lib/python3.7/site-packages (from ipython>=5.3.0->cufflinks) (4.3.3)\n",
      "Requirement already satisfied: ipykernel>=4.5.1 in /Users/haraatsushi/.anyenv/envs/pyenv/versions/anaconda3-2020.02/lib/python3.7/site-packages (from ipywidgets>=7.0.0->cufflinks) (5.1.4)\n",
      "Requirement already satisfied: widgetsnbextension~=3.5.0 in /Users/haraatsushi/.anyenv/envs/pyenv/versions/anaconda3-2020.02/lib/python3.7/site-packages (from ipywidgets>=7.0.0->cufflinks) (3.5.1)\n",
      "Requirement already satisfied: nbformat>=4.2.0 in /Users/haraatsushi/.anyenv/envs/pyenv/versions/anaconda3-2020.02/lib/python3.7/site-packages (from ipywidgets>=7.0.0->cufflinks) (5.0.4)\n",
      "Requirement already satisfied: parso>=0.5.0 in /Users/haraatsushi/.anyenv/envs/pyenv/versions/anaconda3-2020.02/lib/python3.7/site-packages (from jedi>=0.10->ipython>=5.3.0->cufflinks) (0.5.2)\n",
      "Requirement already satisfied: ptyprocess>=0.5 in /Users/haraatsushi/.anyenv/envs/pyenv/versions/anaconda3-2020.02/lib/python3.7/site-packages (from pexpect; sys_platform != \"win32\"->ipython>=5.3.0->cufflinks) (0.6.0)\n",
      "Requirement already satisfied: wcwidth in /Users/haraatsushi/.anyenv/envs/pyenv/versions/anaconda3-2020.02/lib/python3.7/site-packages (from prompt-toolkit!=3.0.0,!=3.0.1,<3.1.0,>=2.0.0->ipython>=5.3.0->cufflinks) (0.1.8)\n",
      "Requirement already satisfied: ipython-genutils in /Users/haraatsushi/.anyenv/envs/pyenv/versions/anaconda3-2020.02/lib/python3.7/site-packages (from traitlets>=4.2->ipython>=5.3.0->cufflinks) (0.2.0)\n",
      "Requirement already satisfied: jupyter-client in /Users/haraatsushi/.anyenv/envs/pyenv/versions/anaconda3-2020.02/lib/python3.7/site-packages (from ipykernel>=4.5.1->ipywidgets>=7.0.0->cufflinks) (5.3.4)\n",
      "Requirement already satisfied: tornado>=4.2 in /Users/haraatsushi/.anyenv/envs/pyenv/versions/anaconda3-2020.02/lib/python3.7/site-packages (from ipykernel>=4.5.1->ipywidgets>=7.0.0->cufflinks) (6.0.3)\n",
      "Requirement already satisfied: notebook>=4.4.1 in /Users/haraatsushi/.anyenv/envs/pyenv/versions/anaconda3-2020.02/lib/python3.7/site-packages (from widgetsnbextension~=3.5.0->ipywidgets>=7.0.0->cufflinks) (6.0.3)\n",
      "Requirement already satisfied: jsonschema!=2.5.0,>=2.4 in /Users/haraatsushi/.anyenv/envs/pyenv/versions/anaconda3-2020.02/lib/python3.7/site-packages (from nbformat>=4.2.0->ipywidgets>=7.0.0->cufflinks) (3.2.0)\n",
      "Requirement already satisfied: jupyter-core in /Users/haraatsushi/.anyenv/envs/pyenv/versions/anaconda3-2020.02/lib/python3.7/site-packages (from nbformat>=4.2.0->ipywidgets>=7.0.0->cufflinks) (4.6.1)\n",
      "Requirement already satisfied: pyzmq>=13 in /Users/haraatsushi/.anyenv/envs/pyenv/versions/anaconda3-2020.02/lib/python3.7/site-packages (from jupyter-client->ipykernel>=4.5.1->ipywidgets>=7.0.0->cufflinks) (18.1.1)\n",
      "Requirement already satisfied: prometheus-client in /Users/haraatsushi/.anyenv/envs/pyenv/versions/anaconda3-2020.02/lib/python3.7/site-packages (from notebook>=4.4.1->widgetsnbextension~=3.5.0->ipywidgets>=7.0.0->cufflinks) (0.7.1)\n",
      "Requirement already satisfied: nbconvert in /Users/haraatsushi/.anyenv/envs/pyenv/versions/anaconda3-2020.02/lib/python3.7/site-packages (from notebook>=4.4.1->widgetsnbextension~=3.5.0->ipywidgets>=7.0.0->cufflinks) (5.6.1)\n",
      "Requirement already satisfied: Send2Trash in /Users/haraatsushi/.anyenv/envs/pyenv/versions/anaconda3-2020.02/lib/python3.7/site-packages (from notebook>=4.4.1->widgetsnbextension~=3.5.0->ipywidgets>=7.0.0->cufflinks) (1.5.0)\n",
      "Requirement already satisfied: terminado>=0.8.1 in /Users/haraatsushi/.anyenv/envs/pyenv/versions/anaconda3-2020.02/lib/python3.7/site-packages (from notebook>=4.4.1->widgetsnbextension~=3.5.0->ipywidgets>=7.0.0->cufflinks) (0.8.3)\n",
      "Requirement already satisfied: jinja2 in /Users/haraatsushi/.anyenv/envs/pyenv/versions/anaconda3-2020.02/lib/python3.7/site-packages (from notebook>=4.4.1->widgetsnbextension~=3.5.0->ipywidgets>=7.0.0->cufflinks) (2.11.1)\n",
      "Requirement already satisfied: pyrsistent>=0.14.0 in /Users/haraatsushi/.anyenv/envs/pyenv/versions/anaconda3-2020.02/lib/python3.7/site-packages (from jsonschema!=2.5.0,>=2.4->nbformat>=4.2.0->ipywidgets>=7.0.0->cufflinks) (0.15.7)\n"
     ]
    },
    {
     "name": "stdout",
     "output_type": "stream",
     "text": [
      "Requirement already satisfied: importlib-metadata; python_version < \"3.8\" in /Users/haraatsushi/.anyenv/envs/pyenv/versions/anaconda3-2020.02/lib/python3.7/site-packages (from jsonschema!=2.5.0,>=2.4->nbformat>=4.2.0->ipywidgets>=7.0.0->cufflinks) (1.5.0)\n",
      "Requirement already satisfied: attrs>=17.4.0 in /Users/haraatsushi/.anyenv/envs/pyenv/versions/anaconda3-2020.02/lib/python3.7/site-packages (from jsonschema!=2.5.0,>=2.4->nbformat>=4.2.0->ipywidgets>=7.0.0->cufflinks) (19.3.0)\n",
      "Requirement already satisfied: mistune<2,>=0.8.1 in /Users/haraatsushi/.anyenv/envs/pyenv/versions/anaconda3-2020.02/lib/python3.7/site-packages (from nbconvert->notebook>=4.4.1->widgetsnbextension~=3.5.0->ipywidgets>=7.0.0->cufflinks) (0.8.4)\n",
      "Requirement already satisfied: entrypoints>=0.2.2 in /Users/haraatsushi/.anyenv/envs/pyenv/versions/anaconda3-2020.02/lib/python3.7/site-packages (from nbconvert->notebook>=4.4.1->widgetsnbextension~=3.5.0->ipywidgets>=7.0.0->cufflinks) (0.3)\n",
      "Requirement already satisfied: testpath in /Users/haraatsushi/.anyenv/envs/pyenv/versions/anaconda3-2020.02/lib/python3.7/site-packages (from nbconvert->notebook>=4.4.1->widgetsnbextension~=3.5.0->ipywidgets>=7.0.0->cufflinks) (0.4.4)\n",
      "Requirement already satisfied: defusedxml in /Users/haraatsushi/.anyenv/envs/pyenv/versions/anaconda3-2020.02/lib/python3.7/site-packages (from nbconvert->notebook>=4.4.1->widgetsnbextension~=3.5.0->ipywidgets>=7.0.0->cufflinks) (0.6.0)\n",
      "Requirement already satisfied: pandocfilters>=1.4.1 in /Users/haraatsushi/.anyenv/envs/pyenv/versions/anaconda3-2020.02/lib/python3.7/site-packages (from nbconvert->notebook>=4.4.1->widgetsnbextension~=3.5.0->ipywidgets>=7.0.0->cufflinks) (1.4.2)\n",
      "Requirement already satisfied: bleach in /Users/haraatsushi/.anyenv/envs/pyenv/versions/anaconda3-2020.02/lib/python3.7/site-packages (from nbconvert->notebook>=4.4.1->widgetsnbextension~=3.5.0->ipywidgets>=7.0.0->cufflinks) (3.1.0)\n",
      "Requirement already satisfied: MarkupSafe>=0.23 in /Users/haraatsushi/.anyenv/envs/pyenv/versions/anaconda3-2020.02/lib/python3.7/site-packages (from jinja2->notebook>=4.4.1->widgetsnbextension~=3.5.0->ipywidgets>=7.0.0->cufflinks) (1.1.1)\n",
      "Requirement already satisfied: zipp>=0.5 in /Users/haraatsushi/.anyenv/envs/pyenv/versions/anaconda3-2020.02/lib/python3.7/site-packages (from importlib-metadata; python_version < \"3.8\"->jsonschema!=2.5.0,>=2.4->nbformat>=4.2.0->ipywidgets>=7.0.0->cufflinks) (2.2.0)\n",
      "Requirement already satisfied: webencodings in /Users/haraatsushi/.anyenv/envs/pyenv/versions/anaconda3-2020.02/lib/python3.7/site-packages (from bleach->nbconvert->notebook>=4.4.1->widgetsnbextension~=3.5.0->ipywidgets>=7.0.0->cufflinks) (0.5.1)\n",
      "Building wheels for collected packages: cufflinks\n",
      "  Building wheel for cufflinks (setup.py) ... \u001b[?25ldone\n",
      "\u001b[?25h  Created wheel for cufflinks: filename=cufflinks-0.17.3-py3-none-any.whl size=67921 sha256=a35f1703455661c5fe1757551f81b6f8e5891528d6219c55a07ee5133b8bfc98\n",
      "  Stored in directory: /Users/haraatsushi/Library/Caches/pip/wheels/e1/27/13/3fe67fa7ea7be444b831d117220b3b586b872c9acd4df480d0\n",
      "Successfully built cufflinks\n",
      "Installing collected packages: colorlover, cufflinks\n",
      "Successfully installed colorlover-0.3.0 cufflinks-0.17.3\n"
     ]
    }
   ],
   "source": [
    "!pip install plotly\n",
    "!pip install cufflinks"
   ]
  },
  {
   "cell_type": "code",
   "execution_count": null,
   "metadata": {},
   "outputs": [],
   "source": []
  }
 ],
 "metadata": {
  "kernelspec": {
   "display_name": "Python 3",
   "language": "python",
   "name": "python3"
  },
  "language_info": {
   "codemirror_mode": {
    "name": "ipython",
    "version": 3
   },
   "file_extension": ".py",
   "mimetype": "text/x-python",
   "name": "python",
   "nbconvert_exporter": "python",
   "pygments_lexer": "ipython3",
   "version": "3.7.6"
  }
 },
 "nbformat": 4,
 "nbformat_minor": 4
}
