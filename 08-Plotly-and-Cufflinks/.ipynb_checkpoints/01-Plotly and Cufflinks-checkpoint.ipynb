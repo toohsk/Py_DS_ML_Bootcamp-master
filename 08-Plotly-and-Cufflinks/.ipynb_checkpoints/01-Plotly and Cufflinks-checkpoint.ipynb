{
 "cells": [
  {
   "cell_type": "markdown",
   "metadata": {},
   "source": [
    "___\n",
    "\n",
    "<a href='http://www.pieriandata.com'> <img src='../Pierian_Data_Logo.png' /></a>\n",
    "___\n",
    "# Plotly and Cufflinks"
   ]
  },
  {
   "cell_type": "markdown",
   "metadata": {},
   "source": [
    "Plotly is a library that allows you to create interactive plots that you can use in dashboards or websites (you can save them as html files or static images).\n",
    "\n",
    "## Installation\n",
    "\n",
    "In order for this all to work, you'll need to install plotly and cufflinks to call plots directly off of a pandas dataframe. These libraries are not currently available through **conda** but are available through **pip**. Install the libraries at your command line/terminal using:\n",
    "\n",
    "    pip install plotly\n",
    "    pip install cufflinks\n",
    "\n",
    "** NOTE: Make sure you only have one installation of Python on your computer when you do this, otherwise the installation may not work. **\n",
    "\n",
    "## Imports and Set-up"
   ]
  },
  {
   "cell_type": "code",
   "execution_count": 1,
   "metadata": {},
   "outputs": [],
   "source": [
    "import pandas as pd\n",
    "import numpy as np\n",
    "%matplotlib inline"
   ]
  },
  {
   "cell_type": "code",
   "execution_count": 2,
   "metadata": {},
   "outputs": [
    {
     "name": "stdout",
     "output_type": "stream",
     "text": [
      "4.9.0\n"
     ]
    }
   ],
   "source": [
    "from plotly import __version__\n",
    "from plotly.offline import download_plotlyjs, init_notebook_mode, plot, iplot\n",
    "\n",
    "print(__version__) # requires version >= 1.9.0"
   ]
  },
  {
   "cell_type": "code",
   "execution_count": 3,
   "metadata": {},
   "outputs": [],
   "source": [
    "import cufflinks as cf"
   ]
  },
  {
   "cell_type": "code",
   "execution_count": 4,
   "metadata": {},
   "outputs": [
    {
     "data": {
      "text/html": [
       "        <script type=\"text/javascript\">\n",
       "        window.PlotlyConfig = {MathJaxConfig: 'local'};\n",
       "        if (window.MathJax) {MathJax.Hub.Config({SVG: {font: \"STIX-Web\"}});}\n",
       "        if (typeof require !== 'undefined') {\n",
       "        require.undef(\"plotly\");\n",
       "        requirejs.config({\n",
       "            paths: {\n",
       "                'plotly': ['https://cdn.plot.ly/plotly-latest.min']\n",
       "            }\n",
       "        });\n",
       "        require(['plotly'], function(Plotly) {\n",
       "            window._Plotly = Plotly;\n",
       "        });\n",
       "        }\n",
       "        </script>\n",
       "        "
      ]
     },
     "metadata": {},
     "output_type": "display_data"
    }
   ],
   "source": [
    "# For Notebooks\n",
    "init_notebook_mode(connected=True)"
   ]
  },
  {
   "cell_type": "code",
   "execution_count": 5,
   "metadata": {},
   "outputs": [
    {
     "data": {
      "text/html": [
       "        <script type=\"text/javascript\">\n",
       "        window.PlotlyConfig = {MathJaxConfig: 'local'};\n",
       "        if (window.MathJax) {MathJax.Hub.Config({SVG: {font: \"STIX-Web\"}});}\n",
       "        if (typeof require !== 'undefined') {\n",
       "        require.undef(\"plotly\");\n",
       "        requirejs.config({\n",
       "            paths: {\n",
       "                'plotly': ['https://cdn.plot.ly/plotly-latest.min']\n",
       "            }\n",
       "        });\n",
       "        require(['plotly'], function(Plotly) {\n",
       "            window._Plotly = Plotly;\n",
       "        });\n",
       "        }\n",
       "        </script>\n",
       "        "
      ]
     },
     "metadata": {},
     "output_type": "display_data"
    }
   ],
   "source": [
    "# For offline use\n",
    "cf.go_offline()"
   ]
  },
  {
   "cell_type": "markdown",
   "metadata": {},
   "source": [
    "### Fake Data"
   ]
  },
  {
   "cell_type": "code",
   "execution_count": 6,
   "metadata": {},
   "outputs": [],
   "source": [
    "df = pd.DataFrame(np.random.randn(100,4),columns='A B C D'.split())"
   ]
  },
  {
   "cell_type": "code",
   "execution_count": 7,
   "metadata": {},
   "outputs": [
    {
     "data": {
      "text/html": [
       "<div>\n",
       "<style scoped>\n",
       "    .dataframe tbody tr th:only-of-type {\n",
       "        vertical-align: middle;\n",
       "    }\n",
       "\n",
       "    .dataframe tbody tr th {\n",
       "        vertical-align: top;\n",
       "    }\n",
       "\n",
       "    .dataframe thead th {\n",
       "        text-align: right;\n",
       "    }\n",
       "</style>\n",
       "<table border=\"1\" class=\"dataframe\">\n",
       "  <thead>\n",
       "    <tr style=\"text-align: right;\">\n",
       "      <th></th>\n",
       "      <th>A</th>\n",
       "      <th>B</th>\n",
       "      <th>C</th>\n",
       "      <th>D</th>\n",
       "    </tr>\n",
       "  </thead>\n",
       "  <tbody>\n",
       "    <tr>\n",
       "      <th>0</th>\n",
       "      <td>1.565884</td>\n",
       "      <td>-0.696774</td>\n",
       "      <td>-0.730135</td>\n",
       "      <td>-1.721617</td>\n",
       "    </tr>\n",
       "    <tr>\n",
       "      <th>1</th>\n",
       "      <td>-0.457714</td>\n",
       "      <td>0.395592</td>\n",
       "      <td>0.087796</td>\n",
       "      <td>1.804686</td>\n",
       "    </tr>\n",
       "    <tr>\n",
       "      <th>2</th>\n",
       "      <td>-0.629498</td>\n",
       "      <td>0.930451</td>\n",
       "      <td>-0.524709</td>\n",
       "      <td>-1.464729</td>\n",
       "    </tr>\n",
       "    <tr>\n",
       "      <th>3</th>\n",
       "      <td>-0.316326</td>\n",
       "      <td>-0.074459</td>\n",
       "      <td>-0.215930</td>\n",
       "      <td>-1.514733</td>\n",
       "    </tr>\n",
       "    <tr>\n",
       "      <th>4</th>\n",
       "      <td>-0.841539</td>\n",
       "      <td>0.121198</td>\n",
       "      <td>1.325090</td>\n",
       "      <td>1.682589</td>\n",
       "    </tr>\n",
       "  </tbody>\n",
       "</table>\n",
       "</div>"
      ],
      "text/plain": [
       "          A         B         C         D\n",
       "0  1.565884 -0.696774 -0.730135 -1.721617\n",
       "1 -0.457714  0.395592  0.087796  1.804686\n",
       "2 -0.629498  0.930451 -0.524709 -1.464729\n",
       "3 -0.316326 -0.074459 -0.215930 -1.514733\n",
       "4 -0.841539  0.121198  1.325090  1.682589"
      ]
     },
     "execution_count": 7,
     "metadata": {},
     "output_type": "execute_result"
    }
   ],
   "source": [
    "df.head()"
   ]
  },
  {
   "cell_type": "code",
   "execution_count": 8,
   "metadata": {},
   "outputs": [],
   "source": [
    "df2 = pd.DataFrame({'Category':['A','B','C'],'Values':[32,43,50]})"
   ]
  },
  {
   "cell_type": "code",
   "execution_count": 9,
   "metadata": {},
   "outputs": [
    {
     "data": {
      "text/html": [
       "<div>\n",
       "<style scoped>\n",
       "    .dataframe tbody tr th:only-of-type {\n",
       "        vertical-align: middle;\n",
       "    }\n",
       "\n",
       "    .dataframe tbody tr th {\n",
       "        vertical-align: top;\n",
       "    }\n",
       "\n",
       "    .dataframe thead th {\n",
       "        text-align: right;\n",
       "    }\n",
       "</style>\n",
       "<table border=\"1\" class=\"dataframe\">\n",
       "  <thead>\n",
       "    <tr style=\"text-align: right;\">\n",
       "      <th></th>\n",
       "      <th>Category</th>\n",
       "      <th>Values</th>\n",
       "    </tr>\n",
       "  </thead>\n",
       "  <tbody>\n",
       "    <tr>\n",
       "      <th>0</th>\n",
       "      <td>A</td>\n",
       "      <td>32</td>\n",
       "    </tr>\n",
       "    <tr>\n",
       "      <th>1</th>\n",
       "      <td>B</td>\n",
       "      <td>43</td>\n",
       "    </tr>\n",
       "    <tr>\n",
       "      <th>2</th>\n",
       "      <td>C</td>\n",
       "      <td>50</td>\n",
       "    </tr>\n",
       "  </tbody>\n",
       "</table>\n",
       "</div>"
      ],
      "text/plain": [
       "  Category  Values\n",
       "0        A      32\n",
       "1        B      43\n",
       "2        C      50"
      ]
     },
     "execution_count": 9,
     "metadata": {},
     "output_type": "execute_result"
    }
   ],
   "source": [
    "df2.head()"
   ]
  },
  {
   "cell_type": "markdown",
   "metadata": {},
   "source": [
    "## Using Cufflinks and iplot()\n",
    "\n",
    "* scatter\n",
    "* bar\n",
    "* box\n",
    "* spread\n",
    "* ratio\n",
    "* heatmap\n",
    "* surface\n",
    "* histogram\n",
    "* bubble"
   ]
  },
  {
   "cell_type": "markdown",
   "metadata": {},
   "source": [
    "## Scatter"
   ]
  },
  {
   "cell_type": "code",
   "execution_count": 10,
   "metadata": {},
   "outputs": [
    {
     "data": {
      "application/vnd.plotly.v1+json": {
       "config": {
        "linkText": "Export to plot.ly",
        "plotlyServerURL": "https://plot.ly",
        "showLink": true
       },
       "data": [
        {
         "line": {
          "color": "rgba(255, 153, 51, 1.0)",
          "dash": "solid",
          "shape": "linear",
          "width": 1.3
         },
         "marker": {
          "size": 10,
          "symbol": "circle"
         },
         "mode": "markers",
         "name": "B",
         "text": "",
         "type": "scatter",
         "x": [
          1.565884337167468,
          -0.45771390855734573,
          -0.6294981356484306,
          -0.31632596935640805,
          -0.8415387236765782,
          -1.0011109686364592,
          -1.4848300297289672,
          -0.4341971001119396,
          0.20559798897040746,
          -1.0093491072636154,
          -0.6933918467635506,
          -1.4134648098598488,
          -0.006558075223548637,
          0.42339501837302906,
          1.0536102304279946,
          -0.22135839802994153,
          -0.5588442239783614,
          0.8011714238548048,
          -0.8954504814497545,
          -0.8702490790991079,
          -0.08548128885203164,
          -1.7781641352509694,
          2.614932210947218,
          -0.1040436359440887,
          -1.6474994438719635,
          0.1131359207721515,
          -0.08796528933397242,
          2.5258333098386765,
          -0.4163684847370185,
          0.278459211531101,
          1.348134060287212,
          -1.0270330164094006,
          -0.3082720877712286,
          1.0975241245551837,
          -1.955871071034986,
          -0.6521508448632184,
          -0.8038019598913686,
          -1.501894043694504,
          0.24333768279152238,
          1.592031644168021,
          0.949301075242087,
          -0.023481831597560853,
          -1.367738140808775,
          -0.08686752700857645,
          -0.1638917532126145,
          -1.272210803236027,
          -1.0741244297077253,
          -3.4659277855100084,
          -0.9738316689582084,
          0.34373991219368616,
          -1.3290005300039058,
          2.2827711463244196,
          -0.6194094358815374,
          0.37335682630177425,
          1.7163568406020657,
          0.6634845573251583,
          0.13750158166138593,
          0.8869606796560566,
          -0.36898132575109505,
          -0.027969059779097097,
          0.5651141298181905,
          -0.998635320715629,
          -0.520446310714804,
          0.5994623035040102,
          0.708852267700245,
          -0.8136227015450364,
          -1.5764748894413487,
          -0.8977669402845133,
          0.06760506819494855,
          1.8214441598957745,
          -0.858597184257929,
          0.018599761851139936,
          1.0615074581619262,
          -0.5945356040381385,
          1.063628108280927,
          -0.026343395611301456,
          1.6160843357286385,
          -2.039300163490272,
          0.29197227096395584,
          1.2773432038890091,
          1.397931871420511,
          -0.19011073602518447,
          -0.5616139272987423,
          -0.33365921974022533,
          0.25498039368357694,
          -0.5045169854402038,
          -0.6823106757278841,
          -1.0524270888935459,
          1.297890380840405,
          0.37222308458826087,
          -0.1858497690901246,
          -0.5969749215773195,
          1.750369944761348,
          1.05428825034664,
          -0.9561301036271894,
          -1.0575419797300827,
          -1.0516778401677838,
          0.8456087654973249,
          0.41348484173507144,
          -2.0351669878108525
         ],
         "y": [
          -0.6967737301029128,
          0.3955923153588364,
          0.9304509208325568,
          -0.0744586522642926,
          0.1211984333652385,
          0.022291349587955523,
          0.3887385590763829,
          -2.197471675736836,
          -0.18263329127329966,
          -0.8441573294832997,
          0.25438217466521695,
          -0.4665323161144188,
          -0.28094950723014095,
          -0.9019303972034435,
          -0.8564555377646561,
          0.4945430468649379,
          -1.76258208763336,
          -0.4918490163755658,
          1.2494042369031118,
          0.031181800975316205,
          -0.1083735743325583,
          1.2884576364371843,
          -1.6037547525042675,
          -1.1462001137263944,
          0.9548645539803001,
          -1.3886683835731528,
          0.7532489553467764,
          -0.010822797014181502,
          -0.3577884303405244,
          -0.9600572198594697,
          -0.8487481571361674,
          -0.1886567268766113,
          0.7651822612089191,
          -0.154652529142487,
          0.25439107341567063,
          -2.8948776168564954,
          -0.03072124986333935,
          0.22591470261515573,
          1.5029917208158639,
          0.15340207199391692,
          -0.06341970644899546,
          -0.778625105227336,
          -0.3739662082593961,
          0.5826781894263957,
          1.3352886097452983,
          0.45955618854761954,
          -1.2509126022463022,
          -0.23781710320954533,
          0.6511060012132226,
          1.0599773131525834,
          1.455408403447102,
          -0.8892299822485499,
          1.6720953701987729,
          0.7586822821240174,
          -1.1029657978608838,
          -0.42074668557719874,
          0.4373370016959473,
          1.6674354351089624,
          -0.5014138119319443,
          0.8901371658728653,
          0.5450316271810358,
          -0.2979814489174735,
          0.00746766129420241,
          0.48805137821334166,
          -0.15750421727680192,
          0.5135060773499763,
          -0.6679765559004219,
          0.6234621029683176,
          0.6687995341297776,
          0.44948993111897134,
          0.22050423567227825,
          -0.7373287858654547,
          -0.024554045318524825,
          1.3946803315640273,
          0.5892612669063987,
          0.6474314037463123,
          -1.3016713140423926,
          1.263933201091441,
          -2.062701337755691,
          2.525763242001359,
          0.7361501938603366,
          -0.07660514326388362,
          0.054162809365627486,
          -1.6422968996712803,
          -0.7101847406077325,
          1.079380624362349,
          -0.602693260182104,
          -1.598310885910521,
          0.7222361259546951,
          0.87395586159824,
          0.44038898813091215,
          -0.3631094213080669,
          1.644230309460639,
          1.0507482071374046,
          0.9512076062512657,
          -0.894214278654392,
          1.9233660832168906,
          -1.268145238676145,
          0.18883957711582006,
          0.851423150446762
         ]
        }
       ],
       "layout": {
        "legend": {
         "bgcolor": "#F5F6F9",
         "font": {
          "color": "#4D5663"
         }
        },
        "paper_bgcolor": "#F5F6F9",
        "plot_bgcolor": "#F5F6F9",
        "template": {
         "data": {
          "bar": [
           {
            "error_x": {
             "color": "#2a3f5f"
            },
            "error_y": {
             "color": "#2a3f5f"
            },
            "marker": {
             "line": {
              "color": "#E5ECF6",
              "width": 0.5
             }
            },
            "type": "bar"
           }
          ],
          "barpolar": [
           {
            "marker": {
             "line": {
              "color": "#E5ECF6",
              "width": 0.5
             }
            },
            "type": "barpolar"
           }
          ],
          "carpet": [
           {
            "aaxis": {
             "endlinecolor": "#2a3f5f",
             "gridcolor": "white",
             "linecolor": "white",
             "minorgridcolor": "white",
             "startlinecolor": "#2a3f5f"
            },
            "baxis": {
             "endlinecolor": "#2a3f5f",
             "gridcolor": "white",
             "linecolor": "white",
             "minorgridcolor": "white",
             "startlinecolor": "#2a3f5f"
            },
            "type": "carpet"
           }
          ],
          "choropleth": [
           {
            "colorbar": {
             "outlinewidth": 0,
             "ticks": ""
            },
            "type": "choropleth"
           }
          ],
          "contour": [
           {
            "colorbar": {
             "outlinewidth": 0,
             "ticks": ""
            },
            "colorscale": [
             [
              0,
              "#0d0887"
             ],
             [
              0.1111111111111111,
              "#46039f"
             ],
             [
              0.2222222222222222,
              "#7201a8"
             ],
             [
              0.3333333333333333,
              "#9c179e"
             ],
             [
              0.4444444444444444,
              "#bd3786"
             ],
             [
              0.5555555555555556,
              "#d8576b"
             ],
             [
              0.6666666666666666,
              "#ed7953"
             ],
             [
              0.7777777777777778,
              "#fb9f3a"
             ],
             [
              0.8888888888888888,
              "#fdca26"
             ],
             [
              1,
              "#f0f921"
             ]
            ],
            "type": "contour"
           }
          ],
          "contourcarpet": [
           {
            "colorbar": {
             "outlinewidth": 0,
             "ticks": ""
            },
            "type": "contourcarpet"
           }
          ],
          "heatmap": [
           {
            "colorbar": {
             "outlinewidth": 0,
             "ticks": ""
            },
            "colorscale": [
             [
              0,
              "#0d0887"
             ],
             [
              0.1111111111111111,
              "#46039f"
             ],
             [
              0.2222222222222222,
              "#7201a8"
             ],
             [
              0.3333333333333333,
              "#9c179e"
             ],
             [
              0.4444444444444444,
              "#bd3786"
             ],
             [
              0.5555555555555556,
              "#d8576b"
             ],
             [
              0.6666666666666666,
              "#ed7953"
             ],
             [
              0.7777777777777778,
              "#fb9f3a"
             ],
             [
              0.8888888888888888,
              "#fdca26"
             ],
             [
              1,
              "#f0f921"
             ]
            ],
            "type": "heatmap"
           }
          ],
          "heatmapgl": [
           {
            "colorbar": {
             "outlinewidth": 0,
             "ticks": ""
            },
            "colorscale": [
             [
              0,
              "#0d0887"
             ],
             [
              0.1111111111111111,
              "#46039f"
             ],
             [
              0.2222222222222222,
              "#7201a8"
             ],
             [
              0.3333333333333333,
              "#9c179e"
             ],
             [
              0.4444444444444444,
              "#bd3786"
             ],
             [
              0.5555555555555556,
              "#d8576b"
             ],
             [
              0.6666666666666666,
              "#ed7953"
             ],
             [
              0.7777777777777778,
              "#fb9f3a"
             ],
             [
              0.8888888888888888,
              "#fdca26"
             ],
             [
              1,
              "#f0f921"
             ]
            ],
            "type": "heatmapgl"
           }
          ],
          "histogram": [
           {
            "marker": {
             "colorbar": {
              "outlinewidth": 0,
              "ticks": ""
             }
            },
            "type": "histogram"
           }
          ],
          "histogram2d": [
           {
            "colorbar": {
             "outlinewidth": 0,
             "ticks": ""
            },
            "colorscale": [
             [
              0,
              "#0d0887"
             ],
             [
              0.1111111111111111,
              "#46039f"
             ],
             [
              0.2222222222222222,
              "#7201a8"
             ],
             [
              0.3333333333333333,
              "#9c179e"
             ],
             [
              0.4444444444444444,
              "#bd3786"
             ],
             [
              0.5555555555555556,
              "#d8576b"
             ],
             [
              0.6666666666666666,
              "#ed7953"
             ],
             [
              0.7777777777777778,
              "#fb9f3a"
             ],
             [
              0.8888888888888888,
              "#fdca26"
             ],
             [
              1,
              "#f0f921"
             ]
            ],
            "type": "histogram2d"
           }
          ],
          "histogram2dcontour": [
           {
            "colorbar": {
             "outlinewidth": 0,
             "ticks": ""
            },
            "colorscale": [
             [
              0,
              "#0d0887"
             ],
             [
              0.1111111111111111,
              "#46039f"
             ],
             [
              0.2222222222222222,
              "#7201a8"
             ],
             [
              0.3333333333333333,
              "#9c179e"
             ],
             [
              0.4444444444444444,
              "#bd3786"
             ],
             [
              0.5555555555555556,
              "#d8576b"
             ],
             [
              0.6666666666666666,
              "#ed7953"
             ],
             [
              0.7777777777777778,
              "#fb9f3a"
             ],
             [
              0.8888888888888888,
              "#fdca26"
             ],
             [
              1,
              "#f0f921"
             ]
            ],
            "type": "histogram2dcontour"
           }
          ],
          "mesh3d": [
           {
            "colorbar": {
             "outlinewidth": 0,
             "ticks": ""
            },
            "type": "mesh3d"
           }
          ],
          "parcoords": [
           {
            "line": {
             "colorbar": {
              "outlinewidth": 0,
              "ticks": ""
             }
            },
            "type": "parcoords"
           }
          ],
          "pie": [
           {
            "automargin": true,
            "type": "pie"
           }
          ],
          "scatter": [
           {
            "marker": {
             "colorbar": {
              "outlinewidth": 0,
              "ticks": ""
             }
            },
            "type": "scatter"
           }
          ],
          "scatter3d": [
           {
            "line": {
             "colorbar": {
              "outlinewidth": 0,
              "ticks": ""
             }
            },
            "marker": {
             "colorbar": {
              "outlinewidth": 0,
              "ticks": ""
             }
            },
            "type": "scatter3d"
           }
          ],
          "scattercarpet": [
           {
            "marker": {
             "colorbar": {
              "outlinewidth": 0,
              "ticks": ""
             }
            },
            "type": "scattercarpet"
           }
          ],
          "scattergeo": [
           {
            "marker": {
             "colorbar": {
              "outlinewidth": 0,
              "ticks": ""
             }
            },
            "type": "scattergeo"
           }
          ],
          "scattergl": [
           {
            "marker": {
             "colorbar": {
              "outlinewidth": 0,
              "ticks": ""
             }
            },
            "type": "scattergl"
           }
          ],
          "scattermapbox": [
           {
            "marker": {
             "colorbar": {
              "outlinewidth": 0,
              "ticks": ""
             }
            },
            "type": "scattermapbox"
           }
          ],
          "scatterpolar": [
           {
            "marker": {
             "colorbar": {
              "outlinewidth": 0,
              "ticks": ""
             }
            },
            "type": "scatterpolar"
           }
          ],
          "scatterpolargl": [
           {
            "marker": {
             "colorbar": {
              "outlinewidth": 0,
              "ticks": ""
             }
            },
            "type": "scatterpolargl"
           }
          ],
          "scatterternary": [
           {
            "marker": {
             "colorbar": {
              "outlinewidth": 0,
              "ticks": ""
             }
            },
            "type": "scatterternary"
           }
          ],
          "surface": [
           {
            "colorbar": {
             "outlinewidth": 0,
             "ticks": ""
            },
            "colorscale": [
             [
              0,
              "#0d0887"
             ],
             [
              0.1111111111111111,
              "#46039f"
             ],
             [
              0.2222222222222222,
              "#7201a8"
             ],
             [
              0.3333333333333333,
              "#9c179e"
             ],
             [
              0.4444444444444444,
              "#bd3786"
             ],
             [
              0.5555555555555556,
              "#d8576b"
             ],
             [
              0.6666666666666666,
              "#ed7953"
             ],
             [
              0.7777777777777778,
              "#fb9f3a"
             ],
             [
              0.8888888888888888,
              "#fdca26"
             ],
             [
              1,
              "#f0f921"
             ]
            ],
            "type": "surface"
           }
          ],
          "table": [
           {
            "cells": {
             "fill": {
              "color": "#EBF0F8"
             },
             "line": {
              "color": "white"
             }
            },
            "header": {
             "fill": {
              "color": "#C8D4E3"
             },
             "line": {
              "color": "white"
             }
            },
            "type": "table"
           }
          ]
         },
         "layout": {
          "annotationdefaults": {
           "arrowcolor": "#2a3f5f",
           "arrowhead": 0,
           "arrowwidth": 1
          },
          "coloraxis": {
           "colorbar": {
            "outlinewidth": 0,
            "ticks": ""
           }
          },
          "colorscale": {
           "diverging": [
            [
             0,
             "#8e0152"
            ],
            [
             0.1,
             "#c51b7d"
            ],
            [
             0.2,
             "#de77ae"
            ],
            [
             0.3,
             "#f1b6da"
            ],
            [
             0.4,
             "#fde0ef"
            ],
            [
             0.5,
             "#f7f7f7"
            ],
            [
             0.6,
             "#e6f5d0"
            ],
            [
             0.7,
             "#b8e186"
            ],
            [
             0.8,
             "#7fbc41"
            ],
            [
             0.9,
             "#4d9221"
            ],
            [
             1,
             "#276419"
            ]
           ],
           "sequential": [
            [
             0,
             "#0d0887"
            ],
            [
             0.1111111111111111,
             "#46039f"
            ],
            [
             0.2222222222222222,
             "#7201a8"
            ],
            [
             0.3333333333333333,
             "#9c179e"
            ],
            [
             0.4444444444444444,
             "#bd3786"
            ],
            [
             0.5555555555555556,
             "#d8576b"
            ],
            [
             0.6666666666666666,
             "#ed7953"
            ],
            [
             0.7777777777777778,
             "#fb9f3a"
            ],
            [
             0.8888888888888888,
             "#fdca26"
            ],
            [
             1,
             "#f0f921"
            ]
           ],
           "sequentialminus": [
            [
             0,
             "#0d0887"
            ],
            [
             0.1111111111111111,
             "#46039f"
            ],
            [
             0.2222222222222222,
             "#7201a8"
            ],
            [
             0.3333333333333333,
             "#9c179e"
            ],
            [
             0.4444444444444444,
             "#bd3786"
            ],
            [
             0.5555555555555556,
             "#d8576b"
            ],
            [
             0.6666666666666666,
             "#ed7953"
            ],
            [
             0.7777777777777778,
             "#fb9f3a"
            ],
            [
             0.8888888888888888,
             "#fdca26"
            ],
            [
             1,
             "#f0f921"
            ]
           ]
          },
          "colorway": [
           "#636efa",
           "#EF553B",
           "#00cc96",
           "#ab63fa",
           "#FFA15A",
           "#19d3f3",
           "#FF6692",
           "#B6E880",
           "#FF97FF",
           "#FECB52"
          ],
          "font": {
           "color": "#2a3f5f"
          },
          "geo": {
           "bgcolor": "white",
           "lakecolor": "white",
           "landcolor": "#E5ECF6",
           "showlakes": true,
           "showland": true,
           "subunitcolor": "white"
          },
          "hoverlabel": {
           "align": "left"
          },
          "hovermode": "closest",
          "mapbox": {
           "style": "light"
          },
          "paper_bgcolor": "white",
          "plot_bgcolor": "#E5ECF6",
          "polar": {
           "angularaxis": {
            "gridcolor": "white",
            "linecolor": "white",
            "ticks": ""
           },
           "bgcolor": "#E5ECF6",
           "radialaxis": {
            "gridcolor": "white",
            "linecolor": "white",
            "ticks": ""
           }
          },
          "scene": {
           "xaxis": {
            "backgroundcolor": "#E5ECF6",
            "gridcolor": "white",
            "gridwidth": 2,
            "linecolor": "white",
            "showbackground": true,
            "ticks": "",
            "zerolinecolor": "white"
           },
           "yaxis": {
            "backgroundcolor": "#E5ECF6",
            "gridcolor": "white",
            "gridwidth": 2,
            "linecolor": "white",
            "showbackground": true,
            "ticks": "",
            "zerolinecolor": "white"
           },
           "zaxis": {
            "backgroundcolor": "#E5ECF6",
            "gridcolor": "white",
            "gridwidth": 2,
            "linecolor": "white",
            "showbackground": true,
            "ticks": "",
            "zerolinecolor": "white"
           }
          },
          "shapedefaults": {
           "line": {
            "color": "#2a3f5f"
           }
          },
          "ternary": {
           "aaxis": {
            "gridcolor": "white",
            "linecolor": "white",
            "ticks": ""
           },
           "baxis": {
            "gridcolor": "white",
            "linecolor": "white",
            "ticks": ""
           },
           "bgcolor": "#E5ECF6",
           "caxis": {
            "gridcolor": "white",
            "linecolor": "white",
            "ticks": ""
           }
          },
          "title": {
           "x": 0.05
          },
          "xaxis": {
           "automargin": true,
           "gridcolor": "white",
           "linecolor": "white",
           "ticks": "",
           "title": {
            "standoff": 15
           },
           "zerolinecolor": "white",
           "zerolinewidth": 2
          },
          "yaxis": {
           "automargin": true,
           "gridcolor": "white",
           "linecolor": "white",
           "ticks": "",
           "title": {
            "standoff": 15
           },
           "zerolinecolor": "white",
           "zerolinewidth": 2
          }
         }
        },
        "title": {
         "font": {
          "color": "#4D5663"
         }
        },
        "xaxis": {
         "gridcolor": "#E1E5ED",
         "showgrid": true,
         "tickfont": {
          "color": "#4D5663"
         },
         "title": {
          "font": {
           "color": "#4D5663"
          },
          "text": ""
         },
         "zerolinecolor": "#E1E5ED"
        },
        "yaxis": {
         "gridcolor": "#E1E5ED",
         "showgrid": true,
         "tickfont": {
          "color": "#4D5663"
         },
         "title": {
          "font": {
           "color": "#4D5663"
          },
          "text": ""
         },
         "zerolinecolor": "#E1E5ED"
        }
       }
      },
      "text/html": [
       "<div>\n",
       "        \n",
       "        \n",
       "            <div id=\"acb92c1e-4427-43c1-aa92-b00d03d18943\" class=\"plotly-graph-div\" style=\"height:525px; width:100%;\"></div>\n",
       "            <script type=\"text/javascript\">\n",
       "                require([\"plotly\"], function(Plotly) {\n",
       "                    window.PLOTLYENV=window.PLOTLYENV || {};\n",
       "                    window.PLOTLYENV.BASE_URL='https://plot.ly';\n",
       "                    \n",
       "                if (document.getElementById(\"acb92c1e-4427-43c1-aa92-b00d03d18943\")) {\n",
       "                    Plotly.newPlot(\n",
       "                        'acb92c1e-4427-43c1-aa92-b00d03d18943',\n",
       "                        [{\"line\": {\"color\": \"rgba(255, 153, 51, 1.0)\", \"dash\": \"solid\", \"shape\": \"linear\", \"width\": 1.3}, \"marker\": {\"size\": 10, \"symbol\": \"circle\"}, \"mode\": \"markers\", \"name\": \"B\", \"text\": \"\", \"type\": \"scatter\", \"x\": [1.565884337167468, -0.45771390855734573, -0.6294981356484306, -0.31632596935640805, -0.8415387236765782, -1.0011109686364592, -1.4848300297289672, -0.4341971001119396, 0.20559798897040746, -1.0093491072636154, -0.6933918467635506, -1.4134648098598488, -0.006558075223548637, 0.42339501837302906, 1.0536102304279946, -0.22135839802994153, -0.5588442239783614, 0.8011714238548048, -0.8954504814497545, -0.8702490790991079, -0.08548128885203164, -1.7781641352509694, 2.614932210947218, -0.1040436359440887, -1.6474994438719635, 0.1131359207721515, -0.08796528933397242, 2.5258333098386765, -0.4163684847370185, 0.278459211531101, 1.348134060287212, -1.0270330164094006, -0.3082720877712286, 1.0975241245551837, -1.955871071034986, -0.6521508448632184, -0.8038019598913686, -1.501894043694504, 0.24333768279152238, 1.592031644168021, 0.949301075242087, -0.023481831597560853, -1.367738140808775, -0.08686752700857645, -0.1638917532126145, -1.272210803236027, -1.0741244297077253, -3.4659277855100084, -0.9738316689582084, 0.34373991219368616, -1.3290005300039058, 2.2827711463244196, -0.6194094358815374, 0.37335682630177425, 1.7163568406020657, 0.6634845573251583, 0.13750158166138593, 0.8869606796560566, -0.36898132575109505, -0.027969059779097097, 0.5651141298181905, -0.998635320715629, -0.520446310714804, 0.5994623035040102, 0.708852267700245, -0.8136227015450364, -1.5764748894413487, -0.8977669402845133, 0.06760506819494855, 1.8214441598957745, -0.858597184257929, 0.018599761851139936, 1.0615074581619262, -0.5945356040381385, 1.063628108280927, -0.026343395611301456, 1.6160843357286385, -2.039300163490272, 0.29197227096395584, 1.2773432038890091, 1.397931871420511, -0.19011073602518447, -0.5616139272987423, -0.33365921974022533, 0.25498039368357694, -0.5045169854402038, -0.6823106757278841, -1.0524270888935459, 1.297890380840405, 0.37222308458826087, -0.1858497690901246, -0.5969749215773195, 1.750369944761348, 1.05428825034664, -0.9561301036271894, -1.0575419797300827, -1.0516778401677838, 0.8456087654973249, 0.41348484173507144, -2.0351669878108525], \"y\": [-0.6967737301029128, 0.3955923153588364, 0.9304509208325568, -0.0744586522642926, 0.1211984333652385, 0.022291349587955523, 0.3887385590763829, -2.197471675736836, -0.18263329127329966, -0.8441573294832997, 0.25438217466521695, -0.4665323161144188, -0.28094950723014095, -0.9019303972034435, -0.8564555377646561, 0.4945430468649379, -1.76258208763336, -0.4918490163755658, 1.2494042369031118, 0.031181800975316205, -0.1083735743325583, 1.2884576364371843, -1.6037547525042675, -1.1462001137263944, 0.9548645539803001, -1.3886683835731528, 0.7532489553467764, -0.010822797014181502, -0.3577884303405244, -0.9600572198594697, -0.8487481571361674, -0.1886567268766113, 0.7651822612089191, -0.154652529142487, 0.25439107341567063, -2.8948776168564954, -0.03072124986333935, 0.22591470261515573, 1.5029917208158639, 0.15340207199391692, -0.06341970644899546, -0.778625105227336, -0.3739662082593961, 0.5826781894263957, 1.3352886097452983, 0.45955618854761954, -1.2509126022463022, -0.23781710320954533, 0.6511060012132226, 1.0599773131525834, 1.455408403447102, -0.8892299822485499, 1.6720953701987729, 0.7586822821240174, -1.1029657978608838, -0.42074668557719874, 0.4373370016959473, 1.6674354351089624, -0.5014138119319443, 0.8901371658728653, 0.5450316271810358, -0.2979814489174735, 0.00746766129420241, 0.48805137821334166, -0.15750421727680192, 0.5135060773499763, -0.6679765559004219, 0.6234621029683176, 0.6687995341297776, 0.44948993111897134, 0.22050423567227825, -0.7373287858654547, -0.024554045318524825, 1.3946803315640273, 0.5892612669063987, 0.6474314037463123, -1.3016713140423926, 1.263933201091441, -2.062701337755691, 2.525763242001359, 0.7361501938603366, -0.07660514326388362, 0.054162809365627486, -1.6422968996712803, -0.7101847406077325, 1.079380624362349, -0.602693260182104, -1.598310885910521, 0.7222361259546951, 0.87395586159824, 0.44038898813091215, -0.3631094213080669, 1.644230309460639, 1.0507482071374046, 0.9512076062512657, -0.894214278654392, 1.9233660832168906, -1.268145238676145, 0.18883957711582006, 0.851423150446762]}],\n",
       "                        {\"legend\": {\"bgcolor\": \"#F5F6F9\", \"font\": {\"color\": \"#4D5663\"}}, \"paper_bgcolor\": \"#F5F6F9\", \"plot_bgcolor\": \"#F5F6F9\", \"template\": {\"data\": {\"bar\": [{\"error_x\": {\"color\": \"#2a3f5f\"}, \"error_y\": {\"color\": \"#2a3f5f\"}, \"marker\": {\"line\": {\"color\": \"#E5ECF6\", \"width\": 0.5}}, \"type\": \"bar\"}], \"barpolar\": [{\"marker\": {\"line\": {\"color\": \"#E5ECF6\", \"width\": 0.5}}, \"type\": \"barpolar\"}], \"carpet\": [{\"aaxis\": {\"endlinecolor\": \"#2a3f5f\", \"gridcolor\": \"white\", \"linecolor\": \"white\", \"minorgridcolor\": \"white\", \"startlinecolor\": \"#2a3f5f\"}, \"baxis\": {\"endlinecolor\": \"#2a3f5f\", \"gridcolor\": \"white\", \"linecolor\": \"white\", \"minorgridcolor\": \"white\", \"startlinecolor\": \"#2a3f5f\"}, \"type\": \"carpet\"}], \"choropleth\": [{\"colorbar\": {\"outlinewidth\": 0, \"ticks\": \"\"}, \"type\": \"choropleth\"}], \"contour\": [{\"colorbar\": {\"outlinewidth\": 0, \"ticks\": \"\"}, \"colorscale\": [[0.0, \"#0d0887\"], [0.1111111111111111, \"#46039f\"], [0.2222222222222222, \"#7201a8\"], [0.3333333333333333, \"#9c179e\"], [0.4444444444444444, \"#bd3786\"], [0.5555555555555556, \"#d8576b\"], [0.6666666666666666, \"#ed7953\"], [0.7777777777777778, \"#fb9f3a\"], [0.8888888888888888, \"#fdca26\"], [1.0, \"#f0f921\"]], \"type\": \"contour\"}], \"contourcarpet\": [{\"colorbar\": {\"outlinewidth\": 0, \"ticks\": \"\"}, \"type\": \"contourcarpet\"}], \"heatmap\": [{\"colorbar\": {\"outlinewidth\": 0, \"ticks\": \"\"}, \"colorscale\": [[0.0, \"#0d0887\"], [0.1111111111111111, \"#46039f\"], [0.2222222222222222, \"#7201a8\"], [0.3333333333333333, \"#9c179e\"], [0.4444444444444444, \"#bd3786\"], [0.5555555555555556, \"#d8576b\"], [0.6666666666666666, \"#ed7953\"], [0.7777777777777778, \"#fb9f3a\"], [0.8888888888888888, \"#fdca26\"], [1.0, \"#f0f921\"]], \"type\": \"heatmap\"}], \"heatmapgl\": [{\"colorbar\": {\"outlinewidth\": 0, \"ticks\": \"\"}, \"colorscale\": [[0.0, \"#0d0887\"], [0.1111111111111111, \"#46039f\"], [0.2222222222222222, \"#7201a8\"], [0.3333333333333333, \"#9c179e\"], [0.4444444444444444, \"#bd3786\"], [0.5555555555555556, \"#d8576b\"], [0.6666666666666666, \"#ed7953\"], [0.7777777777777778, \"#fb9f3a\"], [0.8888888888888888, \"#fdca26\"], [1.0, \"#f0f921\"]], \"type\": \"heatmapgl\"}], \"histogram\": [{\"marker\": {\"colorbar\": {\"outlinewidth\": 0, \"ticks\": \"\"}}, \"type\": \"histogram\"}], \"histogram2d\": [{\"colorbar\": {\"outlinewidth\": 0, \"ticks\": \"\"}, \"colorscale\": [[0.0, \"#0d0887\"], [0.1111111111111111, \"#46039f\"], [0.2222222222222222, \"#7201a8\"], [0.3333333333333333, \"#9c179e\"], [0.4444444444444444, \"#bd3786\"], [0.5555555555555556, \"#d8576b\"], [0.6666666666666666, \"#ed7953\"], [0.7777777777777778, \"#fb9f3a\"], [0.8888888888888888, \"#fdca26\"], [1.0, \"#f0f921\"]], \"type\": \"histogram2d\"}], \"histogram2dcontour\": [{\"colorbar\": {\"outlinewidth\": 0, \"ticks\": \"\"}, \"colorscale\": [[0.0, \"#0d0887\"], [0.1111111111111111, \"#46039f\"], [0.2222222222222222, \"#7201a8\"], [0.3333333333333333, \"#9c179e\"], [0.4444444444444444, \"#bd3786\"], [0.5555555555555556, \"#d8576b\"], [0.6666666666666666, \"#ed7953\"], [0.7777777777777778, \"#fb9f3a\"], [0.8888888888888888, \"#fdca26\"], [1.0, \"#f0f921\"]], \"type\": \"histogram2dcontour\"}], \"mesh3d\": [{\"colorbar\": {\"outlinewidth\": 0, \"ticks\": \"\"}, \"type\": \"mesh3d\"}], \"parcoords\": [{\"line\": {\"colorbar\": {\"outlinewidth\": 0, \"ticks\": \"\"}}, \"type\": \"parcoords\"}], \"pie\": [{\"automargin\": true, \"type\": \"pie\"}], \"scatter\": [{\"marker\": {\"colorbar\": {\"outlinewidth\": 0, \"ticks\": \"\"}}, \"type\": \"scatter\"}], \"scatter3d\": [{\"line\": {\"colorbar\": {\"outlinewidth\": 0, \"ticks\": \"\"}}, \"marker\": {\"colorbar\": {\"outlinewidth\": 0, \"ticks\": \"\"}}, \"type\": \"scatter3d\"}], \"scattercarpet\": [{\"marker\": {\"colorbar\": {\"outlinewidth\": 0, \"ticks\": \"\"}}, \"type\": \"scattercarpet\"}], \"scattergeo\": [{\"marker\": {\"colorbar\": {\"outlinewidth\": 0, \"ticks\": \"\"}}, \"type\": \"scattergeo\"}], \"scattergl\": [{\"marker\": {\"colorbar\": {\"outlinewidth\": 0, \"ticks\": \"\"}}, \"type\": \"scattergl\"}], \"scattermapbox\": [{\"marker\": {\"colorbar\": {\"outlinewidth\": 0, \"ticks\": \"\"}}, \"type\": \"scattermapbox\"}], \"scatterpolar\": [{\"marker\": {\"colorbar\": {\"outlinewidth\": 0, \"ticks\": \"\"}}, \"type\": \"scatterpolar\"}], \"scatterpolargl\": [{\"marker\": {\"colorbar\": {\"outlinewidth\": 0, \"ticks\": \"\"}}, \"type\": \"scatterpolargl\"}], \"scatterternary\": [{\"marker\": {\"colorbar\": {\"outlinewidth\": 0, \"ticks\": \"\"}}, \"type\": \"scatterternary\"}], \"surface\": [{\"colorbar\": {\"outlinewidth\": 0, \"ticks\": \"\"}, \"colorscale\": [[0.0, \"#0d0887\"], [0.1111111111111111, \"#46039f\"], [0.2222222222222222, \"#7201a8\"], [0.3333333333333333, \"#9c179e\"], [0.4444444444444444, \"#bd3786\"], [0.5555555555555556, \"#d8576b\"], [0.6666666666666666, \"#ed7953\"], [0.7777777777777778, \"#fb9f3a\"], [0.8888888888888888, \"#fdca26\"], [1.0, \"#f0f921\"]], \"type\": \"surface\"}], \"table\": [{\"cells\": {\"fill\": {\"color\": \"#EBF0F8\"}, \"line\": {\"color\": \"white\"}}, \"header\": {\"fill\": {\"color\": \"#C8D4E3\"}, \"line\": {\"color\": \"white\"}}, \"type\": \"table\"}]}, \"layout\": {\"annotationdefaults\": {\"arrowcolor\": \"#2a3f5f\", \"arrowhead\": 0, \"arrowwidth\": 1}, \"coloraxis\": {\"colorbar\": {\"outlinewidth\": 0, \"ticks\": \"\"}}, \"colorscale\": {\"diverging\": [[0, \"#8e0152\"], [0.1, \"#c51b7d\"], [0.2, \"#de77ae\"], [0.3, \"#f1b6da\"], [0.4, \"#fde0ef\"], [0.5, \"#f7f7f7\"], [0.6, \"#e6f5d0\"], [0.7, \"#b8e186\"], [0.8, \"#7fbc41\"], [0.9, \"#4d9221\"], [1, \"#276419\"]], \"sequential\": [[0.0, \"#0d0887\"], [0.1111111111111111, \"#46039f\"], [0.2222222222222222, \"#7201a8\"], [0.3333333333333333, \"#9c179e\"], [0.4444444444444444, \"#bd3786\"], [0.5555555555555556, \"#d8576b\"], [0.6666666666666666, \"#ed7953\"], [0.7777777777777778, \"#fb9f3a\"], [0.8888888888888888, \"#fdca26\"], [1.0, \"#f0f921\"]], \"sequentialminus\": [[0.0, \"#0d0887\"], [0.1111111111111111, \"#46039f\"], [0.2222222222222222, \"#7201a8\"], [0.3333333333333333, \"#9c179e\"], [0.4444444444444444, \"#bd3786\"], [0.5555555555555556, \"#d8576b\"], [0.6666666666666666, \"#ed7953\"], [0.7777777777777778, \"#fb9f3a\"], [0.8888888888888888, \"#fdca26\"], [1.0, \"#f0f921\"]]}, \"colorway\": [\"#636efa\", \"#EF553B\", \"#00cc96\", \"#ab63fa\", \"#FFA15A\", \"#19d3f3\", \"#FF6692\", \"#B6E880\", \"#FF97FF\", \"#FECB52\"], \"font\": {\"color\": \"#2a3f5f\"}, \"geo\": {\"bgcolor\": \"white\", \"lakecolor\": \"white\", \"landcolor\": \"#E5ECF6\", \"showlakes\": true, \"showland\": true, \"subunitcolor\": \"white\"}, \"hoverlabel\": {\"align\": \"left\"}, \"hovermode\": \"closest\", \"mapbox\": {\"style\": \"light\"}, \"paper_bgcolor\": \"white\", \"plot_bgcolor\": \"#E5ECF6\", \"polar\": {\"angularaxis\": {\"gridcolor\": \"white\", \"linecolor\": \"white\", \"ticks\": \"\"}, \"bgcolor\": \"#E5ECF6\", \"radialaxis\": {\"gridcolor\": \"white\", \"linecolor\": \"white\", \"ticks\": \"\"}}, \"scene\": {\"xaxis\": {\"backgroundcolor\": \"#E5ECF6\", \"gridcolor\": \"white\", \"gridwidth\": 2, \"linecolor\": \"white\", \"showbackground\": true, \"ticks\": \"\", \"zerolinecolor\": \"white\"}, \"yaxis\": {\"backgroundcolor\": \"#E5ECF6\", \"gridcolor\": \"white\", \"gridwidth\": 2, \"linecolor\": \"white\", \"showbackground\": true, \"ticks\": \"\", \"zerolinecolor\": \"white\"}, \"zaxis\": {\"backgroundcolor\": \"#E5ECF6\", \"gridcolor\": \"white\", \"gridwidth\": 2, \"linecolor\": \"white\", \"showbackground\": true, \"ticks\": \"\", \"zerolinecolor\": \"white\"}}, \"shapedefaults\": {\"line\": {\"color\": \"#2a3f5f\"}}, \"ternary\": {\"aaxis\": {\"gridcolor\": \"white\", \"linecolor\": \"white\", \"ticks\": \"\"}, \"baxis\": {\"gridcolor\": \"white\", \"linecolor\": \"white\", \"ticks\": \"\"}, \"bgcolor\": \"#E5ECF6\", \"caxis\": {\"gridcolor\": \"white\", \"linecolor\": \"white\", \"ticks\": \"\"}}, \"title\": {\"x\": 0.05}, \"xaxis\": {\"automargin\": true, \"gridcolor\": \"white\", \"linecolor\": \"white\", \"ticks\": \"\", \"title\": {\"standoff\": 15}, \"zerolinecolor\": \"white\", \"zerolinewidth\": 2}, \"yaxis\": {\"automargin\": true, \"gridcolor\": \"white\", \"linecolor\": \"white\", \"ticks\": \"\", \"title\": {\"standoff\": 15}, \"zerolinecolor\": \"white\", \"zerolinewidth\": 2}}}, \"title\": {\"font\": {\"color\": \"#4D5663\"}}, \"xaxis\": {\"gridcolor\": \"#E1E5ED\", \"showgrid\": true, \"tickfont\": {\"color\": \"#4D5663\"}, \"title\": {\"font\": {\"color\": \"#4D5663\"}, \"text\": \"\"}, \"zerolinecolor\": \"#E1E5ED\"}, \"yaxis\": {\"gridcolor\": \"#E1E5ED\", \"showgrid\": true, \"tickfont\": {\"color\": \"#4D5663\"}, \"title\": {\"font\": {\"color\": \"#4D5663\"}, \"text\": \"\"}, \"zerolinecolor\": \"#E1E5ED\"}},\n",
       "                        {\"showLink\": true, \"linkText\": \"Export to plot.ly\", \"plotlyServerURL\": \"https://plot.ly\", \"responsive\": true}\n",
       "                    ).then(function(){\n",
       "                            \n",
       "var gd = document.getElementById('acb92c1e-4427-43c1-aa92-b00d03d18943');\n",
       "var x = new MutationObserver(function (mutations, observer) {{\n",
       "        var display = window.getComputedStyle(gd).display;\n",
       "        if (!display || display === 'none') {{\n",
       "            console.log([gd, 'removed!']);\n",
       "            Plotly.purge(gd);\n",
       "            observer.disconnect();\n",
       "        }}\n",
       "}});\n",
       "\n",
       "// Listen for the removal of the full notebook cells\n",
       "var notebookContainer = gd.closest('#notebook-container');\n",
       "if (notebookContainer) {{\n",
       "    x.observe(notebookContainer, {childList: true});\n",
       "}}\n",
       "\n",
       "// Listen for the clearing of the current output cell\n",
       "var outputEl = gd.closest('.output');\n",
       "if (outputEl) {{\n",
       "    x.observe(outputEl, {childList: true});\n",
       "}}\n",
       "\n",
       "                        })\n",
       "                };\n",
       "                });\n",
       "            </script>\n",
       "        </div>"
      ]
     },
     "metadata": {},
     "output_type": "display_data"
    }
   ],
   "source": [
    "df.iplot(kind='scatter',x='A',y='B',mode='markers',size=10)"
   ]
  },
  {
   "cell_type": "markdown",
   "metadata": {},
   "source": [
    "## Bar Plots"
   ]
  },
  {
   "cell_type": "code",
   "execution_count": 11,
   "metadata": {},
   "outputs": [
    {
     "data": {
      "application/vnd.plotly.v1+json": {
       "config": {
        "linkText": "Export to plot.ly",
        "plotlyServerURL": "https://plot.ly",
        "showLink": true
       },
       "data": [
        {
         "marker": {
          "color": "rgba(255, 153, 51, 0.6)",
          "line": {
           "color": "rgba(255, 153, 51, 1.0)",
           "width": 1
          }
         },
         "name": "Values",
         "orientation": "v",
         "text": "",
         "type": "bar",
         "x": [
          "A",
          "B",
          "C"
         ],
         "y": [
          32,
          43,
          50
         ]
        }
       ],
       "layout": {
        "legend": {
         "bgcolor": "#F5F6F9",
         "font": {
          "color": "#4D5663"
         }
        },
        "paper_bgcolor": "#F5F6F9",
        "plot_bgcolor": "#F5F6F9",
        "template": {
         "data": {
          "bar": [
           {
            "error_x": {
             "color": "#2a3f5f"
            },
            "error_y": {
             "color": "#2a3f5f"
            },
            "marker": {
             "line": {
              "color": "#E5ECF6",
              "width": 0.5
             }
            },
            "type": "bar"
           }
          ],
          "barpolar": [
           {
            "marker": {
             "line": {
              "color": "#E5ECF6",
              "width": 0.5
             }
            },
            "type": "barpolar"
           }
          ],
          "carpet": [
           {
            "aaxis": {
             "endlinecolor": "#2a3f5f",
             "gridcolor": "white",
             "linecolor": "white",
             "minorgridcolor": "white",
             "startlinecolor": "#2a3f5f"
            },
            "baxis": {
             "endlinecolor": "#2a3f5f",
             "gridcolor": "white",
             "linecolor": "white",
             "minorgridcolor": "white",
             "startlinecolor": "#2a3f5f"
            },
            "type": "carpet"
           }
          ],
          "choropleth": [
           {
            "colorbar": {
             "outlinewidth": 0,
             "ticks": ""
            },
            "type": "choropleth"
           }
          ],
          "contour": [
           {
            "colorbar": {
             "outlinewidth": 0,
             "ticks": ""
            },
            "colorscale": [
             [
              0,
              "#0d0887"
             ],
             [
              0.1111111111111111,
              "#46039f"
             ],
             [
              0.2222222222222222,
              "#7201a8"
             ],
             [
              0.3333333333333333,
              "#9c179e"
             ],
             [
              0.4444444444444444,
              "#bd3786"
             ],
             [
              0.5555555555555556,
              "#d8576b"
             ],
             [
              0.6666666666666666,
              "#ed7953"
             ],
             [
              0.7777777777777778,
              "#fb9f3a"
             ],
             [
              0.8888888888888888,
              "#fdca26"
             ],
             [
              1,
              "#f0f921"
             ]
            ],
            "type": "contour"
           }
          ],
          "contourcarpet": [
           {
            "colorbar": {
             "outlinewidth": 0,
             "ticks": ""
            },
            "type": "contourcarpet"
           }
          ],
          "heatmap": [
           {
            "colorbar": {
             "outlinewidth": 0,
             "ticks": ""
            },
            "colorscale": [
             [
              0,
              "#0d0887"
             ],
             [
              0.1111111111111111,
              "#46039f"
             ],
             [
              0.2222222222222222,
              "#7201a8"
             ],
             [
              0.3333333333333333,
              "#9c179e"
             ],
             [
              0.4444444444444444,
              "#bd3786"
             ],
             [
              0.5555555555555556,
              "#d8576b"
             ],
             [
              0.6666666666666666,
              "#ed7953"
             ],
             [
              0.7777777777777778,
              "#fb9f3a"
             ],
             [
              0.8888888888888888,
              "#fdca26"
             ],
             [
              1,
              "#f0f921"
             ]
            ],
            "type": "heatmap"
           }
          ],
          "heatmapgl": [
           {
            "colorbar": {
             "outlinewidth": 0,
             "ticks": ""
            },
            "colorscale": [
             [
              0,
              "#0d0887"
             ],
             [
              0.1111111111111111,
              "#46039f"
             ],
             [
              0.2222222222222222,
              "#7201a8"
             ],
             [
              0.3333333333333333,
              "#9c179e"
             ],
             [
              0.4444444444444444,
              "#bd3786"
             ],
             [
              0.5555555555555556,
              "#d8576b"
             ],
             [
              0.6666666666666666,
              "#ed7953"
             ],
             [
              0.7777777777777778,
              "#fb9f3a"
             ],
             [
              0.8888888888888888,
              "#fdca26"
             ],
             [
              1,
              "#f0f921"
             ]
            ],
            "type": "heatmapgl"
           }
          ],
          "histogram": [
           {
            "marker": {
             "colorbar": {
              "outlinewidth": 0,
              "ticks": ""
             }
            },
            "type": "histogram"
           }
          ],
          "histogram2d": [
           {
            "colorbar": {
             "outlinewidth": 0,
             "ticks": ""
            },
            "colorscale": [
             [
              0,
              "#0d0887"
             ],
             [
              0.1111111111111111,
              "#46039f"
             ],
             [
              0.2222222222222222,
              "#7201a8"
             ],
             [
              0.3333333333333333,
              "#9c179e"
             ],
             [
              0.4444444444444444,
              "#bd3786"
             ],
             [
              0.5555555555555556,
              "#d8576b"
             ],
             [
              0.6666666666666666,
              "#ed7953"
             ],
             [
              0.7777777777777778,
              "#fb9f3a"
             ],
             [
              0.8888888888888888,
              "#fdca26"
             ],
             [
              1,
              "#f0f921"
             ]
            ],
            "type": "histogram2d"
           }
          ],
          "histogram2dcontour": [
           {
            "colorbar": {
             "outlinewidth": 0,
             "ticks": ""
            },
            "colorscale": [
             [
              0,
              "#0d0887"
             ],
             [
              0.1111111111111111,
              "#46039f"
             ],
             [
              0.2222222222222222,
              "#7201a8"
             ],
             [
              0.3333333333333333,
              "#9c179e"
             ],
             [
              0.4444444444444444,
              "#bd3786"
             ],
             [
              0.5555555555555556,
              "#d8576b"
             ],
             [
              0.6666666666666666,
              "#ed7953"
             ],
             [
              0.7777777777777778,
              "#fb9f3a"
             ],
             [
              0.8888888888888888,
              "#fdca26"
             ],
             [
              1,
              "#f0f921"
             ]
            ],
            "type": "histogram2dcontour"
           }
          ],
          "mesh3d": [
           {
            "colorbar": {
             "outlinewidth": 0,
             "ticks": ""
            },
            "type": "mesh3d"
           }
          ],
          "parcoords": [
           {
            "line": {
             "colorbar": {
              "outlinewidth": 0,
              "ticks": ""
             }
            },
            "type": "parcoords"
           }
          ],
          "pie": [
           {
            "automargin": true,
            "type": "pie"
           }
          ],
          "scatter": [
           {
            "marker": {
             "colorbar": {
              "outlinewidth": 0,
              "ticks": ""
             }
            },
            "type": "scatter"
           }
          ],
          "scatter3d": [
           {
            "line": {
             "colorbar": {
              "outlinewidth": 0,
              "ticks": ""
             }
            },
            "marker": {
             "colorbar": {
              "outlinewidth": 0,
              "ticks": ""
             }
            },
            "type": "scatter3d"
           }
          ],
          "scattercarpet": [
           {
            "marker": {
             "colorbar": {
              "outlinewidth": 0,
              "ticks": ""
             }
            },
            "type": "scattercarpet"
           }
          ],
          "scattergeo": [
           {
            "marker": {
             "colorbar": {
              "outlinewidth": 0,
              "ticks": ""
             }
            },
            "type": "scattergeo"
           }
          ],
          "scattergl": [
           {
            "marker": {
             "colorbar": {
              "outlinewidth": 0,
              "ticks": ""
             }
            },
            "type": "scattergl"
           }
          ],
          "scattermapbox": [
           {
            "marker": {
             "colorbar": {
              "outlinewidth": 0,
              "ticks": ""
             }
            },
            "type": "scattermapbox"
           }
          ],
          "scatterpolar": [
           {
            "marker": {
             "colorbar": {
              "outlinewidth": 0,
              "ticks": ""
             }
            },
            "type": "scatterpolar"
           }
          ],
          "scatterpolargl": [
           {
            "marker": {
             "colorbar": {
              "outlinewidth": 0,
              "ticks": ""
             }
            },
            "type": "scatterpolargl"
           }
          ],
          "scatterternary": [
           {
            "marker": {
             "colorbar": {
              "outlinewidth": 0,
              "ticks": ""
             }
            },
            "type": "scatterternary"
           }
          ],
          "surface": [
           {
            "colorbar": {
             "outlinewidth": 0,
             "ticks": ""
            },
            "colorscale": [
             [
              0,
              "#0d0887"
             ],
             [
              0.1111111111111111,
              "#46039f"
             ],
             [
              0.2222222222222222,
              "#7201a8"
             ],
             [
              0.3333333333333333,
              "#9c179e"
             ],
             [
              0.4444444444444444,
              "#bd3786"
             ],
             [
              0.5555555555555556,
              "#d8576b"
             ],
             [
              0.6666666666666666,
              "#ed7953"
             ],
             [
              0.7777777777777778,
              "#fb9f3a"
             ],
             [
              0.8888888888888888,
              "#fdca26"
             ],
             [
              1,
              "#f0f921"
             ]
            ],
            "type": "surface"
           }
          ],
          "table": [
           {
            "cells": {
             "fill": {
              "color": "#EBF0F8"
             },
             "line": {
              "color": "white"
             }
            },
            "header": {
             "fill": {
              "color": "#C8D4E3"
             },
             "line": {
              "color": "white"
             }
            },
            "type": "table"
           }
          ]
         },
         "layout": {
          "annotationdefaults": {
           "arrowcolor": "#2a3f5f",
           "arrowhead": 0,
           "arrowwidth": 1
          },
          "coloraxis": {
           "colorbar": {
            "outlinewidth": 0,
            "ticks": ""
           }
          },
          "colorscale": {
           "diverging": [
            [
             0,
             "#8e0152"
            ],
            [
             0.1,
             "#c51b7d"
            ],
            [
             0.2,
             "#de77ae"
            ],
            [
             0.3,
             "#f1b6da"
            ],
            [
             0.4,
             "#fde0ef"
            ],
            [
             0.5,
             "#f7f7f7"
            ],
            [
             0.6,
             "#e6f5d0"
            ],
            [
             0.7,
             "#b8e186"
            ],
            [
             0.8,
             "#7fbc41"
            ],
            [
             0.9,
             "#4d9221"
            ],
            [
             1,
             "#276419"
            ]
           ],
           "sequential": [
            [
             0,
             "#0d0887"
            ],
            [
             0.1111111111111111,
             "#46039f"
            ],
            [
             0.2222222222222222,
             "#7201a8"
            ],
            [
             0.3333333333333333,
             "#9c179e"
            ],
            [
             0.4444444444444444,
             "#bd3786"
            ],
            [
             0.5555555555555556,
             "#d8576b"
            ],
            [
             0.6666666666666666,
             "#ed7953"
            ],
            [
             0.7777777777777778,
             "#fb9f3a"
            ],
            [
             0.8888888888888888,
             "#fdca26"
            ],
            [
             1,
             "#f0f921"
            ]
           ],
           "sequentialminus": [
            [
             0,
             "#0d0887"
            ],
            [
             0.1111111111111111,
             "#46039f"
            ],
            [
             0.2222222222222222,
             "#7201a8"
            ],
            [
             0.3333333333333333,
             "#9c179e"
            ],
            [
             0.4444444444444444,
             "#bd3786"
            ],
            [
             0.5555555555555556,
             "#d8576b"
            ],
            [
             0.6666666666666666,
             "#ed7953"
            ],
            [
             0.7777777777777778,
             "#fb9f3a"
            ],
            [
             0.8888888888888888,
             "#fdca26"
            ],
            [
             1,
             "#f0f921"
            ]
           ]
          },
          "colorway": [
           "#636efa",
           "#EF553B",
           "#00cc96",
           "#ab63fa",
           "#FFA15A",
           "#19d3f3",
           "#FF6692",
           "#B6E880",
           "#FF97FF",
           "#FECB52"
          ],
          "font": {
           "color": "#2a3f5f"
          },
          "geo": {
           "bgcolor": "white",
           "lakecolor": "white",
           "landcolor": "#E5ECF6",
           "showlakes": true,
           "showland": true,
           "subunitcolor": "white"
          },
          "hoverlabel": {
           "align": "left"
          },
          "hovermode": "closest",
          "mapbox": {
           "style": "light"
          },
          "paper_bgcolor": "white",
          "plot_bgcolor": "#E5ECF6",
          "polar": {
           "angularaxis": {
            "gridcolor": "white",
            "linecolor": "white",
            "ticks": ""
           },
           "bgcolor": "#E5ECF6",
           "radialaxis": {
            "gridcolor": "white",
            "linecolor": "white",
            "ticks": ""
           }
          },
          "scene": {
           "xaxis": {
            "backgroundcolor": "#E5ECF6",
            "gridcolor": "white",
            "gridwidth": 2,
            "linecolor": "white",
            "showbackground": true,
            "ticks": "",
            "zerolinecolor": "white"
           },
           "yaxis": {
            "backgroundcolor": "#E5ECF6",
            "gridcolor": "white",
            "gridwidth": 2,
            "linecolor": "white",
            "showbackground": true,
            "ticks": "",
            "zerolinecolor": "white"
           },
           "zaxis": {
            "backgroundcolor": "#E5ECF6",
            "gridcolor": "white",
            "gridwidth": 2,
            "linecolor": "white",
            "showbackground": true,
            "ticks": "",
            "zerolinecolor": "white"
           }
          },
          "shapedefaults": {
           "line": {
            "color": "#2a3f5f"
           }
          },
          "ternary": {
           "aaxis": {
            "gridcolor": "white",
            "linecolor": "white",
            "ticks": ""
           },
           "baxis": {
            "gridcolor": "white",
            "linecolor": "white",
            "ticks": ""
           },
           "bgcolor": "#E5ECF6",
           "caxis": {
            "gridcolor": "white",
            "linecolor": "white",
            "ticks": ""
           }
          },
          "title": {
           "x": 0.05
          },
          "xaxis": {
           "automargin": true,
           "gridcolor": "white",
           "linecolor": "white",
           "ticks": "",
           "title": {
            "standoff": 15
           },
           "zerolinecolor": "white",
           "zerolinewidth": 2
          },
          "yaxis": {
           "automargin": true,
           "gridcolor": "white",
           "linecolor": "white",
           "ticks": "",
           "title": {
            "standoff": 15
           },
           "zerolinecolor": "white",
           "zerolinewidth": 2
          }
         }
        },
        "title": {
         "font": {
          "color": "#4D5663"
         }
        },
        "xaxis": {
         "gridcolor": "#E1E5ED",
         "showgrid": true,
         "tickfont": {
          "color": "#4D5663"
         },
         "title": {
          "font": {
           "color": "#4D5663"
          },
          "text": ""
         },
         "zerolinecolor": "#E1E5ED"
        },
        "yaxis": {
         "gridcolor": "#E1E5ED",
         "showgrid": true,
         "tickfont": {
          "color": "#4D5663"
         },
         "title": {
          "font": {
           "color": "#4D5663"
          },
          "text": ""
         },
         "zerolinecolor": "#E1E5ED"
        }
       }
      },
      "text/html": [
       "<div>\n",
       "        \n",
       "        \n",
       "            <div id=\"cfa5a362-f97f-4ee5-a272-5751c2f36ef1\" class=\"plotly-graph-div\" style=\"height:525px; width:100%;\"></div>\n",
       "            <script type=\"text/javascript\">\n",
       "                require([\"plotly\"], function(Plotly) {\n",
       "                    window.PLOTLYENV=window.PLOTLYENV || {};\n",
       "                    window.PLOTLYENV.BASE_URL='https://plot.ly';\n",
       "                    \n",
       "                if (document.getElementById(\"cfa5a362-f97f-4ee5-a272-5751c2f36ef1\")) {\n",
       "                    Plotly.newPlot(\n",
       "                        'cfa5a362-f97f-4ee5-a272-5751c2f36ef1',\n",
       "                        [{\"marker\": {\"color\": \"rgba(255, 153, 51, 0.6)\", \"line\": {\"color\": \"rgba(255, 153, 51, 1.0)\", \"width\": 1}}, \"name\": \"Values\", \"orientation\": \"v\", \"text\": \"\", \"type\": \"bar\", \"x\": [\"A\", \"B\", \"C\"], \"y\": [32, 43, 50]}],\n",
       "                        {\"legend\": {\"bgcolor\": \"#F5F6F9\", \"font\": {\"color\": \"#4D5663\"}}, \"paper_bgcolor\": \"#F5F6F9\", \"plot_bgcolor\": \"#F5F6F9\", \"template\": {\"data\": {\"bar\": [{\"error_x\": {\"color\": \"#2a3f5f\"}, \"error_y\": {\"color\": \"#2a3f5f\"}, \"marker\": {\"line\": {\"color\": \"#E5ECF6\", \"width\": 0.5}}, \"type\": \"bar\"}], \"barpolar\": [{\"marker\": {\"line\": {\"color\": \"#E5ECF6\", \"width\": 0.5}}, \"type\": \"barpolar\"}], \"carpet\": [{\"aaxis\": {\"endlinecolor\": \"#2a3f5f\", \"gridcolor\": \"white\", \"linecolor\": \"white\", \"minorgridcolor\": \"white\", \"startlinecolor\": \"#2a3f5f\"}, \"baxis\": {\"endlinecolor\": \"#2a3f5f\", \"gridcolor\": \"white\", \"linecolor\": \"white\", \"minorgridcolor\": \"white\", \"startlinecolor\": \"#2a3f5f\"}, \"type\": \"carpet\"}], \"choropleth\": [{\"colorbar\": {\"outlinewidth\": 0, \"ticks\": \"\"}, \"type\": \"choropleth\"}], \"contour\": [{\"colorbar\": {\"outlinewidth\": 0, \"ticks\": \"\"}, \"colorscale\": [[0.0, \"#0d0887\"], [0.1111111111111111, \"#46039f\"], [0.2222222222222222, \"#7201a8\"], [0.3333333333333333, \"#9c179e\"], [0.4444444444444444, \"#bd3786\"], [0.5555555555555556, \"#d8576b\"], [0.6666666666666666, \"#ed7953\"], [0.7777777777777778, \"#fb9f3a\"], [0.8888888888888888, \"#fdca26\"], [1.0, \"#f0f921\"]], \"type\": \"contour\"}], \"contourcarpet\": [{\"colorbar\": {\"outlinewidth\": 0, \"ticks\": \"\"}, \"type\": \"contourcarpet\"}], \"heatmap\": [{\"colorbar\": {\"outlinewidth\": 0, \"ticks\": \"\"}, \"colorscale\": [[0.0, \"#0d0887\"], [0.1111111111111111, \"#46039f\"], [0.2222222222222222, \"#7201a8\"], [0.3333333333333333, \"#9c179e\"], [0.4444444444444444, \"#bd3786\"], [0.5555555555555556, \"#d8576b\"], [0.6666666666666666, \"#ed7953\"], [0.7777777777777778, \"#fb9f3a\"], [0.8888888888888888, \"#fdca26\"], [1.0, \"#f0f921\"]], \"type\": \"heatmap\"}], \"heatmapgl\": [{\"colorbar\": {\"outlinewidth\": 0, \"ticks\": \"\"}, \"colorscale\": [[0.0, \"#0d0887\"], [0.1111111111111111, \"#46039f\"], [0.2222222222222222, \"#7201a8\"], [0.3333333333333333, \"#9c179e\"], [0.4444444444444444, \"#bd3786\"], [0.5555555555555556, \"#d8576b\"], [0.6666666666666666, \"#ed7953\"], [0.7777777777777778, \"#fb9f3a\"], [0.8888888888888888, \"#fdca26\"], [1.0, \"#f0f921\"]], \"type\": \"heatmapgl\"}], \"histogram\": [{\"marker\": {\"colorbar\": {\"outlinewidth\": 0, \"ticks\": \"\"}}, \"type\": \"histogram\"}], \"histogram2d\": [{\"colorbar\": {\"outlinewidth\": 0, \"ticks\": \"\"}, \"colorscale\": [[0.0, \"#0d0887\"], [0.1111111111111111, \"#46039f\"], [0.2222222222222222, \"#7201a8\"], [0.3333333333333333, \"#9c179e\"], [0.4444444444444444, \"#bd3786\"], [0.5555555555555556, \"#d8576b\"], [0.6666666666666666, \"#ed7953\"], [0.7777777777777778, \"#fb9f3a\"], [0.8888888888888888, \"#fdca26\"], [1.0, \"#f0f921\"]], \"type\": \"histogram2d\"}], \"histogram2dcontour\": [{\"colorbar\": {\"outlinewidth\": 0, \"ticks\": \"\"}, \"colorscale\": [[0.0, \"#0d0887\"], [0.1111111111111111, \"#46039f\"], [0.2222222222222222, \"#7201a8\"], [0.3333333333333333, \"#9c179e\"], [0.4444444444444444, \"#bd3786\"], [0.5555555555555556, \"#d8576b\"], [0.6666666666666666, \"#ed7953\"], [0.7777777777777778, \"#fb9f3a\"], [0.8888888888888888, \"#fdca26\"], [1.0, \"#f0f921\"]], \"type\": \"histogram2dcontour\"}], \"mesh3d\": [{\"colorbar\": {\"outlinewidth\": 0, \"ticks\": \"\"}, \"type\": \"mesh3d\"}], \"parcoords\": [{\"line\": {\"colorbar\": {\"outlinewidth\": 0, \"ticks\": \"\"}}, \"type\": \"parcoords\"}], \"pie\": [{\"automargin\": true, \"type\": \"pie\"}], \"scatter\": [{\"marker\": {\"colorbar\": {\"outlinewidth\": 0, \"ticks\": \"\"}}, \"type\": \"scatter\"}], \"scatter3d\": [{\"line\": {\"colorbar\": {\"outlinewidth\": 0, \"ticks\": \"\"}}, \"marker\": {\"colorbar\": {\"outlinewidth\": 0, \"ticks\": \"\"}}, \"type\": \"scatter3d\"}], \"scattercarpet\": [{\"marker\": {\"colorbar\": {\"outlinewidth\": 0, \"ticks\": \"\"}}, \"type\": \"scattercarpet\"}], \"scattergeo\": [{\"marker\": {\"colorbar\": {\"outlinewidth\": 0, \"ticks\": \"\"}}, \"type\": \"scattergeo\"}], \"scattergl\": [{\"marker\": {\"colorbar\": {\"outlinewidth\": 0, \"ticks\": \"\"}}, \"type\": \"scattergl\"}], \"scattermapbox\": [{\"marker\": {\"colorbar\": {\"outlinewidth\": 0, \"ticks\": \"\"}}, \"type\": \"scattermapbox\"}], \"scatterpolar\": [{\"marker\": {\"colorbar\": {\"outlinewidth\": 0, \"ticks\": \"\"}}, \"type\": \"scatterpolar\"}], \"scatterpolargl\": [{\"marker\": {\"colorbar\": {\"outlinewidth\": 0, \"ticks\": \"\"}}, \"type\": \"scatterpolargl\"}], \"scatterternary\": [{\"marker\": {\"colorbar\": {\"outlinewidth\": 0, \"ticks\": \"\"}}, \"type\": \"scatterternary\"}], \"surface\": [{\"colorbar\": {\"outlinewidth\": 0, \"ticks\": \"\"}, \"colorscale\": [[0.0, \"#0d0887\"], [0.1111111111111111, \"#46039f\"], [0.2222222222222222, \"#7201a8\"], [0.3333333333333333, \"#9c179e\"], [0.4444444444444444, \"#bd3786\"], [0.5555555555555556, \"#d8576b\"], [0.6666666666666666, \"#ed7953\"], [0.7777777777777778, \"#fb9f3a\"], [0.8888888888888888, \"#fdca26\"], [1.0, \"#f0f921\"]], \"type\": \"surface\"}], \"table\": [{\"cells\": {\"fill\": {\"color\": \"#EBF0F8\"}, \"line\": {\"color\": \"white\"}}, \"header\": {\"fill\": {\"color\": \"#C8D4E3\"}, \"line\": {\"color\": \"white\"}}, \"type\": \"table\"}]}, \"layout\": {\"annotationdefaults\": {\"arrowcolor\": \"#2a3f5f\", \"arrowhead\": 0, \"arrowwidth\": 1}, \"coloraxis\": {\"colorbar\": {\"outlinewidth\": 0, \"ticks\": \"\"}}, \"colorscale\": {\"diverging\": [[0, \"#8e0152\"], [0.1, \"#c51b7d\"], [0.2, \"#de77ae\"], [0.3, \"#f1b6da\"], [0.4, \"#fde0ef\"], [0.5, \"#f7f7f7\"], [0.6, \"#e6f5d0\"], [0.7, \"#b8e186\"], [0.8, \"#7fbc41\"], [0.9, \"#4d9221\"], [1, \"#276419\"]], \"sequential\": [[0.0, \"#0d0887\"], [0.1111111111111111, \"#46039f\"], [0.2222222222222222, \"#7201a8\"], [0.3333333333333333, \"#9c179e\"], [0.4444444444444444, \"#bd3786\"], [0.5555555555555556, \"#d8576b\"], [0.6666666666666666, \"#ed7953\"], [0.7777777777777778, \"#fb9f3a\"], [0.8888888888888888, \"#fdca26\"], [1.0, \"#f0f921\"]], \"sequentialminus\": [[0.0, \"#0d0887\"], [0.1111111111111111, \"#46039f\"], [0.2222222222222222, \"#7201a8\"], [0.3333333333333333, \"#9c179e\"], [0.4444444444444444, \"#bd3786\"], [0.5555555555555556, \"#d8576b\"], [0.6666666666666666, \"#ed7953\"], [0.7777777777777778, \"#fb9f3a\"], [0.8888888888888888, \"#fdca26\"], [1.0, \"#f0f921\"]]}, \"colorway\": [\"#636efa\", \"#EF553B\", \"#00cc96\", \"#ab63fa\", \"#FFA15A\", \"#19d3f3\", \"#FF6692\", \"#B6E880\", \"#FF97FF\", \"#FECB52\"], \"font\": {\"color\": \"#2a3f5f\"}, \"geo\": {\"bgcolor\": \"white\", \"lakecolor\": \"white\", \"landcolor\": \"#E5ECF6\", \"showlakes\": true, \"showland\": true, \"subunitcolor\": \"white\"}, \"hoverlabel\": {\"align\": \"left\"}, \"hovermode\": \"closest\", \"mapbox\": {\"style\": \"light\"}, \"paper_bgcolor\": \"white\", \"plot_bgcolor\": \"#E5ECF6\", \"polar\": {\"angularaxis\": {\"gridcolor\": \"white\", \"linecolor\": \"white\", \"ticks\": \"\"}, \"bgcolor\": \"#E5ECF6\", \"radialaxis\": {\"gridcolor\": \"white\", \"linecolor\": \"white\", \"ticks\": \"\"}}, \"scene\": {\"xaxis\": {\"backgroundcolor\": \"#E5ECF6\", \"gridcolor\": \"white\", \"gridwidth\": 2, \"linecolor\": \"white\", \"showbackground\": true, \"ticks\": \"\", \"zerolinecolor\": \"white\"}, \"yaxis\": {\"backgroundcolor\": \"#E5ECF6\", \"gridcolor\": \"white\", \"gridwidth\": 2, \"linecolor\": \"white\", \"showbackground\": true, \"ticks\": \"\", \"zerolinecolor\": \"white\"}, \"zaxis\": {\"backgroundcolor\": \"#E5ECF6\", \"gridcolor\": \"white\", \"gridwidth\": 2, \"linecolor\": \"white\", \"showbackground\": true, \"ticks\": \"\", \"zerolinecolor\": \"white\"}}, \"shapedefaults\": {\"line\": {\"color\": \"#2a3f5f\"}}, \"ternary\": {\"aaxis\": {\"gridcolor\": \"white\", \"linecolor\": \"white\", \"ticks\": \"\"}, \"baxis\": {\"gridcolor\": \"white\", \"linecolor\": \"white\", \"ticks\": \"\"}, \"bgcolor\": \"#E5ECF6\", \"caxis\": {\"gridcolor\": \"white\", \"linecolor\": \"white\", \"ticks\": \"\"}}, \"title\": {\"x\": 0.05}, \"xaxis\": {\"automargin\": true, \"gridcolor\": \"white\", \"linecolor\": \"white\", \"ticks\": \"\", \"title\": {\"standoff\": 15}, \"zerolinecolor\": \"white\", \"zerolinewidth\": 2}, \"yaxis\": {\"automargin\": true, \"gridcolor\": \"white\", \"linecolor\": \"white\", \"ticks\": \"\", \"title\": {\"standoff\": 15}, \"zerolinecolor\": \"white\", \"zerolinewidth\": 2}}}, \"title\": {\"font\": {\"color\": \"#4D5663\"}}, \"xaxis\": {\"gridcolor\": \"#E1E5ED\", \"showgrid\": true, \"tickfont\": {\"color\": \"#4D5663\"}, \"title\": {\"font\": {\"color\": \"#4D5663\"}, \"text\": \"\"}, \"zerolinecolor\": \"#E1E5ED\"}, \"yaxis\": {\"gridcolor\": \"#E1E5ED\", \"showgrid\": true, \"tickfont\": {\"color\": \"#4D5663\"}, \"title\": {\"font\": {\"color\": \"#4D5663\"}, \"text\": \"\"}, \"zerolinecolor\": \"#E1E5ED\"}},\n",
       "                        {\"showLink\": true, \"linkText\": \"Export to plot.ly\", \"plotlyServerURL\": \"https://plot.ly\", \"responsive\": true}\n",
       "                    ).then(function(){\n",
       "                            \n",
       "var gd = document.getElementById('cfa5a362-f97f-4ee5-a272-5751c2f36ef1');\n",
       "var x = new MutationObserver(function (mutations, observer) {{\n",
       "        var display = window.getComputedStyle(gd).display;\n",
       "        if (!display || display === 'none') {{\n",
       "            console.log([gd, 'removed!']);\n",
       "            Plotly.purge(gd);\n",
       "            observer.disconnect();\n",
       "        }}\n",
       "}});\n",
       "\n",
       "// Listen for the removal of the full notebook cells\n",
       "var notebookContainer = gd.closest('#notebook-container');\n",
       "if (notebookContainer) {{\n",
       "    x.observe(notebookContainer, {childList: true});\n",
       "}}\n",
       "\n",
       "// Listen for the clearing of the current output cell\n",
       "var outputEl = gd.closest('.output');\n",
       "if (outputEl) {{\n",
       "    x.observe(outputEl, {childList: true});\n",
       "}}\n",
       "\n",
       "                        })\n",
       "                };\n",
       "                });\n",
       "            </script>\n",
       "        </div>"
      ]
     },
     "metadata": {},
     "output_type": "display_data"
    }
   ],
   "source": [
    "df2.iplot(kind='bar',x='Category',y='Values')"
   ]
  },
  {
   "cell_type": "code",
   "execution_count": 12,
   "metadata": {},
   "outputs": [
    {
     "data": {
      "application/vnd.plotly.v1+json": {
       "config": {
        "linkText": "Export to plot.ly",
        "plotlyServerURL": "https://plot.ly",
        "showLink": true
       },
       "data": [
        {
         "marker": {
          "color": "rgba(255, 153, 51, 0.6)",
          "line": {
           "color": "rgba(255, 153, 51, 1.0)",
           "width": 1
          }
         },
         "name": "None",
         "orientation": "v",
         "text": "",
         "type": "bar",
         "x": [
          "A",
          "B",
          "C",
          "D"
         ],
         "y": [
          100,
          100,
          100,
          100
         ]
        }
       ],
       "layout": {
        "legend": {
         "bgcolor": "#F5F6F9",
         "font": {
          "color": "#4D5663"
         }
        },
        "paper_bgcolor": "#F5F6F9",
        "plot_bgcolor": "#F5F6F9",
        "template": {
         "data": {
          "bar": [
           {
            "error_x": {
             "color": "#2a3f5f"
            },
            "error_y": {
             "color": "#2a3f5f"
            },
            "marker": {
             "line": {
              "color": "#E5ECF6",
              "width": 0.5
             }
            },
            "type": "bar"
           }
          ],
          "barpolar": [
           {
            "marker": {
             "line": {
              "color": "#E5ECF6",
              "width": 0.5
             }
            },
            "type": "barpolar"
           }
          ],
          "carpet": [
           {
            "aaxis": {
             "endlinecolor": "#2a3f5f",
             "gridcolor": "white",
             "linecolor": "white",
             "minorgridcolor": "white",
             "startlinecolor": "#2a3f5f"
            },
            "baxis": {
             "endlinecolor": "#2a3f5f",
             "gridcolor": "white",
             "linecolor": "white",
             "minorgridcolor": "white",
             "startlinecolor": "#2a3f5f"
            },
            "type": "carpet"
           }
          ],
          "choropleth": [
           {
            "colorbar": {
             "outlinewidth": 0,
             "ticks": ""
            },
            "type": "choropleth"
           }
          ],
          "contour": [
           {
            "colorbar": {
             "outlinewidth": 0,
             "ticks": ""
            },
            "colorscale": [
             [
              0,
              "#0d0887"
             ],
             [
              0.1111111111111111,
              "#46039f"
             ],
             [
              0.2222222222222222,
              "#7201a8"
             ],
             [
              0.3333333333333333,
              "#9c179e"
             ],
             [
              0.4444444444444444,
              "#bd3786"
             ],
             [
              0.5555555555555556,
              "#d8576b"
             ],
             [
              0.6666666666666666,
              "#ed7953"
             ],
             [
              0.7777777777777778,
              "#fb9f3a"
             ],
             [
              0.8888888888888888,
              "#fdca26"
             ],
             [
              1,
              "#f0f921"
             ]
            ],
            "type": "contour"
           }
          ],
          "contourcarpet": [
           {
            "colorbar": {
             "outlinewidth": 0,
             "ticks": ""
            },
            "type": "contourcarpet"
           }
          ],
          "heatmap": [
           {
            "colorbar": {
             "outlinewidth": 0,
             "ticks": ""
            },
            "colorscale": [
             [
              0,
              "#0d0887"
             ],
             [
              0.1111111111111111,
              "#46039f"
             ],
             [
              0.2222222222222222,
              "#7201a8"
             ],
             [
              0.3333333333333333,
              "#9c179e"
             ],
             [
              0.4444444444444444,
              "#bd3786"
             ],
             [
              0.5555555555555556,
              "#d8576b"
             ],
             [
              0.6666666666666666,
              "#ed7953"
             ],
             [
              0.7777777777777778,
              "#fb9f3a"
             ],
             [
              0.8888888888888888,
              "#fdca26"
             ],
             [
              1,
              "#f0f921"
             ]
            ],
            "type": "heatmap"
           }
          ],
          "heatmapgl": [
           {
            "colorbar": {
             "outlinewidth": 0,
             "ticks": ""
            },
            "colorscale": [
             [
              0,
              "#0d0887"
             ],
             [
              0.1111111111111111,
              "#46039f"
             ],
             [
              0.2222222222222222,
              "#7201a8"
             ],
             [
              0.3333333333333333,
              "#9c179e"
             ],
             [
              0.4444444444444444,
              "#bd3786"
             ],
             [
              0.5555555555555556,
              "#d8576b"
             ],
             [
              0.6666666666666666,
              "#ed7953"
             ],
             [
              0.7777777777777778,
              "#fb9f3a"
             ],
             [
              0.8888888888888888,
              "#fdca26"
             ],
             [
              1,
              "#f0f921"
             ]
            ],
            "type": "heatmapgl"
           }
          ],
          "histogram": [
           {
            "marker": {
             "colorbar": {
              "outlinewidth": 0,
              "ticks": ""
             }
            },
            "type": "histogram"
           }
          ],
          "histogram2d": [
           {
            "colorbar": {
             "outlinewidth": 0,
             "ticks": ""
            },
            "colorscale": [
             [
              0,
              "#0d0887"
             ],
             [
              0.1111111111111111,
              "#46039f"
             ],
             [
              0.2222222222222222,
              "#7201a8"
             ],
             [
              0.3333333333333333,
              "#9c179e"
             ],
             [
              0.4444444444444444,
              "#bd3786"
             ],
             [
              0.5555555555555556,
              "#d8576b"
             ],
             [
              0.6666666666666666,
              "#ed7953"
             ],
             [
              0.7777777777777778,
              "#fb9f3a"
             ],
             [
              0.8888888888888888,
              "#fdca26"
             ],
             [
              1,
              "#f0f921"
             ]
            ],
            "type": "histogram2d"
           }
          ],
          "histogram2dcontour": [
           {
            "colorbar": {
             "outlinewidth": 0,
             "ticks": ""
            },
            "colorscale": [
             [
              0,
              "#0d0887"
             ],
             [
              0.1111111111111111,
              "#46039f"
             ],
             [
              0.2222222222222222,
              "#7201a8"
             ],
             [
              0.3333333333333333,
              "#9c179e"
             ],
             [
              0.4444444444444444,
              "#bd3786"
             ],
             [
              0.5555555555555556,
              "#d8576b"
             ],
             [
              0.6666666666666666,
              "#ed7953"
             ],
             [
              0.7777777777777778,
              "#fb9f3a"
             ],
             [
              0.8888888888888888,
              "#fdca26"
             ],
             [
              1,
              "#f0f921"
             ]
            ],
            "type": "histogram2dcontour"
           }
          ],
          "mesh3d": [
           {
            "colorbar": {
             "outlinewidth": 0,
             "ticks": ""
            },
            "type": "mesh3d"
           }
          ],
          "parcoords": [
           {
            "line": {
             "colorbar": {
              "outlinewidth": 0,
              "ticks": ""
             }
            },
            "type": "parcoords"
           }
          ],
          "pie": [
           {
            "automargin": true,
            "type": "pie"
           }
          ],
          "scatter": [
           {
            "marker": {
             "colorbar": {
              "outlinewidth": 0,
              "ticks": ""
             }
            },
            "type": "scatter"
           }
          ],
          "scatter3d": [
           {
            "line": {
             "colorbar": {
              "outlinewidth": 0,
              "ticks": ""
             }
            },
            "marker": {
             "colorbar": {
              "outlinewidth": 0,
              "ticks": ""
             }
            },
            "type": "scatter3d"
           }
          ],
          "scattercarpet": [
           {
            "marker": {
             "colorbar": {
              "outlinewidth": 0,
              "ticks": ""
             }
            },
            "type": "scattercarpet"
           }
          ],
          "scattergeo": [
           {
            "marker": {
             "colorbar": {
              "outlinewidth": 0,
              "ticks": ""
             }
            },
            "type": "scattergeo"
           }
          ],
          "scattergl": [
           {
            "marker": {
             "colorbar": {
              "outlinewidth": 0,
              "ticks": ""
             }
            },
            "type": "scattergl"
           }
          ],
          "scattermapbox": [
           {
            "marker": {
             "colorbar": {
              "outlinewidth": 0,
              "ticks": ""
             }
            },
            "type": "scattermapbox"
           }
          ],
          "scatterpolar": [
           {
            "marker": {
             "colorbar": {
              "outlinewidth": 0,
              "ticks": ""
             }
            },
            "type": "scatterpolar"
           }
          ],
          "scatterpolargl": [
           {
            "marker": {
             "colorbar": {
              "outlinewidth": 0,
              "ticks": ""
             }
            },
            "type": "scatterpolargl"
           }
          ],
          "scatterternary": [
           {
            "marker": {
             "colorbar": {
              "outlinewidth": 0,
              "ticks": ""
             }
            },
            "type": "scatterternary"
           }
          ],
          "surface": [
           {
            "colorbar": {
             "outlinewidth": 0,
             "ticks": ""
            },
            "colorscale": [
             [
              0,
              "#0d0887"
             ],
             [
              0.1111111111111111,
              "#46039f"
             ],
             [
              0.2222222222222222,
              "#7201a8"
             ],
             [
              0.3333333333333333,
              "#9c179e"
             ],
             [
              0.4444444444444444,
              "#bd3786"
             ],
             [
              0.5555555555555556,
              "#d8576b"
             ],
             [
              0.6666666666666666,
              "#ed7953"
             ],
             [
              0.7777777777777778,
              "#fb9f3a"
             ],
             [
              0.8888888888888888,
              "#fdca26"
             ],
             [
              1,
              "#f0f921"
             ]
            ],
            "type": "surface"
           }
          ],
          "table": [
           {
            "cells": {
             "fill": {
              "color": "#EBF0F8"
             },
             "line": {
              "color": "white"
             }
            },
            "header": {
             "fill": {
              "color": "#C8D4E3"
             },
             "line": {
              "color": "white"
             }
            },
            "type": "table"
           }
          ]
         },
         "layout": {
          "annotationdefaults": {
           "arrowcolor": "#2a3f5f",
           "arrowhead": 0,
           "arrowwidth": 1
          },
          "coloraxis": {
           "colorbar": {
            "outlinewidth": 0,
            "ticks": ""
           }
          },
          "colorscale": {
           "diverging": [
            [
             0,
             "#8e0152"
            ],
            [
             0.1,
             "#c51b7d"
            ],
            [
             0.2,
             "#de77ae"
            ],
            [
             0.3,
             "#f1b6da"
            ],
            [
             0.4,
             "#fde0ef"
            ],
            [
             0.5,
             "#f7f7f7"
            ],
            [
             0.6,
             "#e6f5d0"
            ],
            [
             0.7,
             "#b8e186"
            ],
            [
             0.8,
             "#7fbc41"
            ],
            [
             0.9,
             "#4d9221"
            ],
            [
             1,
             "#276419"
            ]
           ],
           "sequential": [
            [
             0,
             "#0d0887"
            ],
            [
             0.1111111111111111,
             "#46039f"
            ],
            [
             0.2222222222222222,
             "#7201a8"
            ],
            [
             0.3333333333333333,
             "#9c179e"
            ],
            [
             0.4444444444444444,
             "#bd3786"
            ],
            [
             0.5555555555555556,
             "#d8576b"
            ],
            [
             0.6666666666666666,
             "#ed7953"
            ],
            [
             0.7777777777777778,
             "#fb9f3a"
            ],
            [
             0.8888888888888888,
             "#fdca26"
            ],
            [
             1,
             "#f0f921"
            ]
           ],
           "sequentialminus": [
            [
             0,
             "#0d0887"
            ],
            [
             0.1111111111111111,
             "#46039f"
            ],
            [
             0.2222222222222222,
             "#7201a8"
            ],
            [
             0.3333333333333333,
             "#9c179e"
            ],
            [
             0.4444444444444444,
             "#bd3786"
            ],
            [
             0.5555555555555556,
             "#d8576b"
            ],
            [
             0.6666666666666666,
             "#ed7953"
            ],
            [
             0.7777777777777778,
             "#fb9f3a"
            ],
            [
             0.8888888888888888,
             "#fdca26"
            ],
            [
             1,
             "#f0f921"
            ]
           ]
          },
          "colorway": [
           "#636efa",
           "#EF553B",
           "#00cc96",
           "#ab63fa",
           "#FFA15A",
           "#19d3f3",
           "#FF6692",
           "#B6E880",
           "#FF97FF",
           "#FECB52"
          ],
          "font": {
           "color": "#2a3f5f"
          },
          "geo": {
           "bgcolor": "white",
           "lakecolor": "white",
           "landcolor": "#E5ECF6",
           "showlakes": true,
           "showland": true,
           "subunitcolor": "white"
          },
          "hoverlabel": {
           "align": "left"
          },
          "hovermode": "closest",
          "mapbox": {
           "style": "light"
          },
          "paper_bgcolor": "white",
          "plot_bgcolor": "#E5ECF6",
          "polar": {
           "angularaxis": {
            "gridcolor": "white",
            "linecolor": "white",
            "ticks": ""
           },
           "bgcolor": "#E5ECF6",
           "radialaxis": {
            "gridcolor": "white",
            "linecolor": "white",
            "ticks": ""
           }
          },
          "scene": {
           "xaxis": {
            "backgroundcolor": "#E5ECF6",
            "gridcolor": "white",
            "gridwidth": 2,
            "linecolor": "white",
            "showbackground": true,
            "ticks": "",
            "zerolinecolor": "white"
           },
           "yaxis": {
            "backgroundcolor": "#E5ECF6",
            "gridcolor": "white",
            "gridwidth": 2,
            "linecolor": "white",
            "showbackground": true,
            "ticks": "",
            "zerolinecolor": "white"
           },
           "zaxis": {
            "backgroundcolor": "#E5ECF6",
            "gridcolor": "white",
            "gridwidth": 2,
            "linecolor": "white",
            "showbackground": true,
            "ticks": "",
            "zerolinecolor": "white"
           }
          },
          "shapedefaults": {
           "line": {
            "color": "#2a3f5f"
           }
          },
          "ternary": {
           "aaxis": {
            "gridcolor": "white",
            "linecolor": "white",
            "ticks": ""
           },
           "baxis": {
            "gridcolor": "white",
            "linecolor": "white",
            "ticks": ""
           },
           "bgcolor": "#E5ECF6",
           "caxis": {
            "gridcolor": "white",
            "linecolor": "white",
            "ticks": ""
           }
          },
          "title": {
           "x": 0.05
          },
          "xaxis": {
           "automargin": true,
           "gridcolor": "white",
           "linecolor": "white",
           "ticks": "",
           "title": {
            "standoff": 15
           },
           "zerolinecolor": "white",
           "zerolinewidth": 2
          },
          "yaxis": {
           "automargin": true,
           "gridcolor": "white",
           "linecolor": "white",
           "ticks": "",
           "title": {
            "standoff": 15
           },
           "zerolinecolor": "white",
           "zerolinewidth": 2
          }
         }
        },
        "title": {
         "font": {
          "color": "#4D5663"
         }
        },
        "xaxis": {
         "gridcolor": "#E1E5ED",
         "showgrid": true,
         "tickfont": {
          "color": "#4D5663"
         },
         "title": {
          "font": {
           "color": "#4D5663"
          },
          "text": ""
         },
         "zerolinecolor": "#E1E5ED"
        },
        "yaxis": {
         "gridcolor": "#E1E5ED",
         "showgrid": true,
         "tickfont": {
          "color": "#4D5663"
         },
         "title": {
          "font": {
           "color": "#4D5663"
          },
          "text": ""
         },
         "zerolinecolor": "#E1E5ED"
        }
       }
      },
      "text/html": [
       "<div>\n",
       "        \n",
       "        \n",
       "            <div id=\"eea50c13-5412-440a-81cd-5a154420b8a0\" class=\"plotly-graph-div\" style=\"height:525px; width:100%;\"></div>\n",
       "            <script type=\"text/javascript\">\n",
       "                require([\"plotly\"], function(Plotly) {\n",
       "                    window.PLOTLYENV=window.PLOTLYENV || {};\n",
       "                    window.PLOTLYENV.BASE_URL='https://plot.ly';\n",
       "                    \n",
       "                if (document.getElementById(\"eea50c13-5412-440a-81cd-5a154420b8a0\")) {\n",
       "                    Plotly.newPlot(\n",
       "                        'eea50c13-5412-440a-81cd-5a154420b8a0',\n",
       "                        [{\"marker\": {\"color\": \"rgba(255, 153, 51, 0.6)\", \"line\": {\"color\": \"rgba(255, 153, 51, 1.0)\", \"width\": 1}}, \"name\": \"None\", \"orientation\": \"v\", \"text\": \"\", \"type\": \"bar\", \"x\": [\"A\", \"B\", \"C\", \"D\"], \"y\": [100, 100, 100, 100]}],\n",
       "                        {\"legend\": {\"bgcolor\": \"#F5F6F9\", \"font\": {\"color\": \"#4D5663\"}}, \"paper_bgcolor\": \"#F5F6F9\", \"plot_bgcolor\": \"#F5F6F9\", \"template\": {\"data\": {\"bar\": [{\"error_x\": {\"color\": \"#2a3f5f\"}, \"error_y\": {\"color\": \"#2a3f5f\"}, \"marker\": {\"line\": {\"color\": \"#E5ECF6\", \"width\": 0.5}}, \"type\": \"bar\"}], \"barpolar\": [{\"marker\": {\"line\": {\"color\": \"#E5ECF6\", \"width\": 0.5}}, \"type\": \"barpolar\"}], \"carpet\": [{\"aaxis\": {\"endlinecolor\": \"#2a3f5f\", \"gridcolor\": \"white\", \"linecolor\": \"white\", \"minorgridcolor\": \"white\", \"startlinecolor\": \"#2a3f5f\"}, \"baxis\": {\"endlinecolor\": \"#2a3f5f\", \"gridcolor\": \"white\", \"linecolor\": \"white\", \"minorgridcolor\": \"white\", \"startlinecolor\": \"#2a3f5f\"}, \"type\": \"carpet\"}], \"choropleth\": [{\"colorbar\": {\"outlinewidth\": 0, \"ticks\": \"\"}, \"type\": \"choropleth\"}], \"contour\": [{\"colorbar\": {\"outlinewidth\": 0, \"ticks\": \"\"}, \"colorscale\": [[0.0, \"#0d0887\"], [0.1111111111111111, \"#46039f\"], [0.2222222222222222, \"#7201a8\"], [0.3333333333333333, \"#9c179e\"], [0.4444444444444444, \"#bd3786\"], [0.5555555555555556, \"#d8576b\"], [0.6666666666666666, \"#ed7953\"], [0.7777777777777778, \"#fb9f3a\"], [0.8888888888888888, \"#fdca26\"], [1.0, \"#f0f921\"]], \"type\": \"contour\"}], \"contourcarpet\": [{\"colorbar\": {\"outlinewidth\": 0, \"ticks\": \"\"}, \"type\": \"contourcarpet\"}], \"heatmap\": [{\"colorbar\": {\"outlinewidth\": 0, \"ticks\": \"\"}, \"colorscale\": [[0.0, \"#0d0887\"], [0.1111111111111111, \"#46039f\"], [0.2222222222222222, \"#7201a8\"], [0.3333333333333333, \"#9c179e\"], [0.4444444444444444, \"#bd3786\"], [0.5555555555555556, \"#d8576b\"], [0.6666666666666666, \"#ed7953\"], [0.7777777777777778, \"#fb9f3a\"], [0.8888888888888888, \"#fdca26\"], [1.0, \"#f0f921\"]], \"type\": \"heatmap\"}], \"heatmapgl\": [{\"colorbar\": {\"outlinewidth\": 0, \"ticks\": \"\"}, \"colorscale\": [[0.0, \"#0d0887\"], [0.1111111111111111, \"#46039f\"], [0.2222222222222222, \"#7201a8\"], [0.3333333333333333, \"#9c179e\"], [0.4444444444444444, \"#bd3786\"], [0.5555555555555556, \"#d8576b\"], [0.6666666666666666, \"#ed7953\"], [0.7777777777777778, \"#fb9f3a\"], [0.8888888888888888, \"#fdca26\"], [1.0, \"#f0f921\"]], \"type\": \"heatmapgl\"}], \"histogram\": [{\"marker\": {\"colorbar\": {\"outlinewidth\": 0, \"ticks\": \"\"}}, \"type\": \"histogram\"}], \"histogram2d\": [{\"colorbar\": {\"outlinewidth\": 0, \"ticks\": \"\"}, \"colorscale\": [[0.0, \"#0d0887\"], [0.1111111111111111, \"#46039f\"], [0.2222222222222222, \"#7201a8\"], [0.3333333333333333, \"#9c179e\"], [0.4444444444444444, \"#bd3786\"], [0.5555555555555556, \"#d8576b\"], [0.6666666666666666, \"#ed7953\"], [0.7777777777777778, \"#fb9f3a\"], [0.8888888888888888, \"#fdca26\"], [1.0, \"#f0f921\"]], \"type\": \"histogram2d\"}], \"histogram2dcontour\": [{\"colorbar\": {\"outlinewidth\": 0, \"ticks\": \"\"}, \"colorscale\": [[0.0, \"#0d0887\"], [0.1111111111111111, \"#46039f\"], [0.2222222222222222, \"#7201a8\"], [0.3333333333333333, \"#9c179e\"], [0.4444444444444444, \"#bd3786\"], [0.5555555555555556, \"#d8576b\"], [0.6666666666666666, \"#ed7953\"], [0.7777777777777778, \"#fb9f3a\"], [0.8888888888888888, \"#fdca26\"], [1.0, \"#f0f921\"]], \"type\": \"histogram2dcontour\"}], \"mesh3d\": [{\"colorbar\": {\"outlinewidth\": 0, \"ticks\": \"\"}, \"type\": \"mesh3d\"}], \"parcoords\": [{\"line\": {\"colorbar\": {\"outlinewidth\": 0, \"ticks\": \"\"}}, \"type\": \"parcoords\"}], \"pie\": [{\"automargin\": true, \"type\": \"pie\"}], \"scatter\": [{\"marker\": {\"colorbar\": {\"outlinewidth\": 0, \"ticks\": \"\"}}, \"type\": \"scatter\"}], \"scatter3d\": [{\"line\": {\"colorbar\": {\"outlinewidth\": 0, \"ticks\": \"\"}}, \"marker\": {\"colorbar\": {\"outlinewidth\": 0, \"ticks\": \"\"}}, \"type\": \"scatter3d\"}], \"scattercarpet\": [{\"marker\": {\"colorbar\": {\"outlinewidth\": 0, \"ticks\": \"\"}}, \"type\": \"scattercarpet\"}], \"scattergeo\": [{\"marker\": {\"colorbar\": {\"outlinewidth\": 0, \"ticks\": \"\"}}, \"type\": \"scattergeo\"}], \"scattergl\": [{\"marker\": {\"colorbar\": {\"outlinewidth\": 0, \"ticks\": \"\"}}, \"type\": \"scattergl\"}], \"scattermapbox\": [{\"marker\": {\"colorbar\": {\"outlinewidth\": 0, \"ticks\": \"\"}}, \"type\": \"scattermapbox\"}], \"scatterpolar\": [{\"marker\": {\"colorbar\": {\"outlinewidth\": 0, \"ticks\": \"\"}}, \"type\": \"scatterpolar\"}], \"scatterpolargl\": [{\"marker\": {\"colorbar\": {\"outlinewidth\": 0, \"ticks\": \"\"}}, \"type\": \"scatterpolargl\"}], \"scatterternary\": [{\"marker\": {\"colorbar\": {\"outlinewidth\": 0, \"ticks\": \"\"}}, \"type\": \"scatterternary\"}], \"surface\": [{\"colorbar\": {\"outlinewidth\": 0, \"ticks\": \"\"}, \"colorscale\": [[0.0, \"#0d0887\"], [0.1111111111111111, \"#46039f\"], [0.2222222222222222, \"#7201a8\"], [0.3333333333333333, \"#9c179e\"], [0.4444444444444444, \"#bd3786\"], [0.5555555555555556, \"#d8576b\"], [0.6666666666666666, \"#ed7953\"], [0.7777777777777778, \"#fb9f3a\"], [0.8888888888888888, \"#fdca26\"], [1.0, \"#f0f921\"]], \"type\": \"surface\"}], \"table\": [{\"cells\": {\"fill\": {\"color\": \"#EBF0F8\"}, \"line\": {\"color\": \"white\"}}, \"header\": {\"fill\": {\"color\": \"#C8D4E3\"}, \"line\": {\"color\": \"white\"}}, \"type\": \"table\"}]}, \"layout\": {\"annotationdefaults\": {\"arrowcolor\": \"#2a3f5f\", \"arrowhead\": 0, \"arrowwidth\": 1}, \"coloraxis\": {\"colorbar\": {\"outlinewidth\": 0, \"ticks\": \"\"}}, \"colorscale\": {\"diverging\": [[0, \"#8e0152\"], [0.1, \"#c51b7d\"], [0.2, \"#de77ae\"], [0.3, \"#f1b6da\"], [0.4, \"#fde0ef\"], [0.5, \"#f7f7f7\"], [0.6, \"#e6f5d0\"], [0.7, \"#b8e186\"], [0.8, \"#7fbc41\"], [0.9, \"#4d9221\"], [1, \"#276419\"]], \"sequential\": [[0.0, \"#0d0887\"], [0.1111111111111111, \"#46039f\"], [0.2222222222222222, \"#7201a8\"], [0.3333333333333333, \"#9c179e\"], [0.4444444444444444, \"#bd3786\"], [0.5555555555555556, \"#d8576b\"], [0.6666666666666666, \"#ed7953\"], [0.7777777777777778, \"#fb9f3a\"], [0.8888888888888888, \"#fdca26\"], [1.0, \"#f0f921\"]], \"sequentialminus\": [[0.0, \"#0d0887\"], [0.1111111111111111, \"#46039f\"], [0.2222222222222222, \"#7201a8\"], [0.3333333333333333, \"#9c179e\"], [0.4444444444444444, \"#bd3786\"], [0.5555555555555556, \"#d8576b\"], [0.6666666666666666, \"#ed7953\"], [0.7777777777777778, \"#fb9f3a\"], [0.8888888888888888, \"#fdca26\"], [1.0, \"#f0f921\"]]}, \"colorway\": [\"#636efa\", \"#EF553B\", \"#00cc96\", \"#ab63fa\", \"#FFA15A\", \"#19d3f3\", \"#FF6692\", \"#B6E880\", \"#FF97FF\", \"#FECB52\"], \"font\": {\"color\": \"#2a3f5f\"}, \"geo\": {\"bgcolor\": \"white\", \"lakecolor\": \"white\", \"landcolor\": \"#E5ECF6\", \"showlakes\": true, \"showland\": true, \"subunitcolor\": \"white\"}, \"hoverlabel\": {\"align\": \"left\"}, \"hovermode\": \"closest\", \"mapbox\": {\"style\": \"light\"}, \"paper_bgcolor\": \"white\", \"plot_bgcolor\": \"#E5ECF6\", \"polar\": {\"angularaxis\": {\"gridcolor\": \"white\", \"linecolor\": \"white\", \"ticks\": \"\"}, \"bgcolor\": \"#E5ECF6\", \"radialaxis\": {\"gridcolor\": \"white\", \"linecolor\": \"white\", \"ticks\": \"\"}}, \"scene\": {\"xaxis\": {\"backgroundcolor\": \"#E5ECF6\", \"gridcolor\": \"white\", \"gridwidth\": 2, \"linecolor\": \"white\", \"showbackground\": true, \"ticks\": \"\", \"zerolinecolor\": \"white\"}, \"yaxis\": {\"backgroundcolor\": \"#E5ECF6\", \"gridcolor\": \"white\", \"gridwidth\": 2, \"linecolor\": \"white\", \"showbackground\": true, \"ticks\": \"\", \"zerolinecolor\": \"white\"}, \"zaxis\": {\"backgroundcolor\": \"#E5ECF6\", \"gridcolor\": \"white\", \"gridwidth\": 2, \"linecolor\": \"white\", \"showbackground\": true, \"ticks\": \"\", \"zerolinecolor\": \"white\"}}, \"shapedefaults\": {\"line\": {\"color\": \"#2a3f5f\"}}, \"ternary\": {\"aaxis\": {\"gridcolor\": \"white\", \"linecolor\": \"white\", \"ticks\": \"\"}, \"baxis\": {\"gridcolor\": \"white\", \"linecolor\": \"white\", \"ticks\": \"\"}, \"bgcolor\": \"#E5ECF6\", \"caxis\": {\"gridcolor\": \"white\", \"linecolor\": \"white\", \"ticks\": \"\"}}, \"title\": {\"x\": 0.05}, \"xaxis\": {\"automargin\": true, \"gridcolor\": \"white\", \"linecolor\": \"white\", \"ticks\": \"\", \"title\": {\"standoff\": 15}, \"zerolinecolor\": \"white\", \"zerolinewidth\": 2}, \"yaxis\": {\"automargin\": true, \"gridcolor\": \"white\", \"linecolor\": \"white\", \"ticks\": \"\", \"title\": {\"standoff\": 15}, \"zerolinecolor\": \"white\", \"zerolinewidth\": 2}}}, \"title\": {\"font\": {\"color\": \"#4D5663\"}}, \"xaxis\": {\"gridcolor\": \"#E1E5ED\", \"showgrid\": true, \"tickfont\": {\"color\": \"#4D5663\"}, \"title\": {\"font\": {\"color\": \"#4D5663\"}, \"text\": \"\"}, \"zerolinecolor\": \"#E1E5ED\"}, \"yaxis\": {\"gridcolor\": \"#E1E5ED\", \"showgrid\": true, \"tickfont\": {\"color\": \"#4D5663\"}, \"title\": {\"font\": {\"color\": \"#4D5663\"}, \"text\": \"\"}, \"zerolinecolor\": \"#E1E5ED\"}},\n",
       "                        {\"showLink\": true, \"linkText\": \"Export to plot.ly\", \"plotlyServerURL\": \"https://plot.ly\", \"responsive\": true}\n",
       "                    ).then(function(){\n",
       "                            \n",
       "var gd = document.getElementById('eea50c13-5412-440a-81cd-5a154420b8a0');\n",
       "var x = new MutationObserver(function (mutations, observer) {{\n",
       "        var display = window.getComputedStyle(gd).display;\n",
       "        if (!display || display === 'none') {{\n",
       "            console.log([gd, 'removed!']);\n",
       "            Plotly.purge(gd);\n",
       "            observer.disconnect();\n",
       "        }}\n",
       "}});\n",
       "\n",
       "// Listen for the removal of the full notebook cells\n",
       "var notebookContainer = gd.closest('#notebook-container');\n",
       "if (notebookContainer) {{\n",
       "    x.observe(notebookContainer, {childList: true});\n",
       "}}\n",
       "\n",
       "// Listen for the clearing of the current output cell\n",
       "var outputEl = gd.closest('.output');\n",
       "if (outputEl) {{\n",
       "    x.observe(outputEl, {childList: true});\n",
       "}}\n",
       "\n",
       "                        })\n",
       "                };\n",
       "                });\n",
       "            </script>\n",
       "        </div>"
      ]
     },
     "metadata": {},
     "output_type": "display_data"
    }
   ],
   "source": [
    "df.count().iplot(kind='bar')"
   ]
  },
  {
   "cell_type": "markdown",
   "metadata": {},
   "source": [
    "## Boxplots"
   ]
  },
  {
   "cell_type": "code",
   "execution_count": 13,
   "metadata": {},
   "outputs": [
    {
     "data": {
      "application/vnd.plotly.v1+json": {
       "config": {
        "linkText": "Export to plot.ly",
        "plotlyServerURL": "https://plot.ly",
        "showLink": true
       },
       "data": [
        {
         "boxpoints": false,
         "line": {
          "width": 1.3
         },
         "marker": {
          "color": "rgba(255, 153, 51, 1.0)"
         },
         "name": "A",
         "orientation": "v",
         "type": "box",
         "y": [
          1.565884337167468,
          -0.45771390855734573,
          -0.6294981356484306,
          -0.31632596935640805,
          -0.8415387236765782,
          -1.0011109686364592,
          -1.4848300297289672,
          -0.4341971001119396,
          0.20559798897040746,
          -1.0093491072636154,
          -0.6933918467635506,
          -1.4134648098598488,
          -0.006558075223548637,
          0.42339501837302906,
          1.0536102304279946,
          -0.22135839802994153,
          -0.5588442239783614,
          0.8011714238548048,
          -0.8954504814497545,
          -0.8702490790991079,
          -0.08548128885203164,
          -1.7781641352509694,
          2.614932210947218,
          -0.1040436359440887,
          -1.6474994438719635,
          0.1131359207721515,
          -0.08796528933397242,
          2.5258333098386765,
          -0.4163684847370185,
          0.278459211531101,
          1.348134060287212,
          -1.0270330164094006,
          -0.3082720877712286,
          1.0975241245551837,
          -1.955871071034986,
          -0.6521508448632184,
          -0.8038019598913686,
          -1.501894043694504,
          0.24333768279152238,
          1.592031644168021,
          0.949301075242087,
          -0.023481831597560853,
          -1.367738140808775,
          -0.08686752700857645,
          -0.1638917532126145,
          -1.272210803236027,
          -1.0741244297077253,
          -3.4659277855100084,
          -0.9738316689582084,
          0.34373991219368616,
          -1.3290005300039058,
          2.2827711463244196,
          -0.6194094358815374,
          0.37335682630177425,
          1.7163568406020657,
          0.6634845573251583,
          0.13750158166138593,
          0.8869606796560566,
          -0.36898132575109505,
          -0.027969059779097097,
          0.5651141298181905,
          -0.998635320715629,
          -0.520446310714804,
          0.5994623035040102,
          0.708852267700245,
          -0.8136227015450364,
          -1.5764748894413487,
          -0.8977669402845133,
          0.06760506819494855,
          1.8214441598957745,
          -0.858597184257929,
          0.018599761851139936,
          1.0615074581619262,
          -0.5945356040381385,
          1.063628108280927,
          -0.026343395611301456,
          1.6160843357286385,
          -2.039300163490272,
          0.29197227096395584,
          1.2773432038890091,
          1.397931871420511,
          -0.19011073602518447,
          -0.5616139272987423,
          -0.33365921974022533,
          0.25498039368357694,
          -0.5045169854402038,
          -0.6823106757278841,
          -1.0524270888935459,
          1.297890380840405,
          0.37222308458826087,
          -0.1858497690901246,
          -0.5969749215773195,
          1.750369944761348,
          1.05428825034664,
          -0.9561301036271894,
          -1.0575419797300827,
          -1.0516778401677838,
          0.8456087654973249,
          0.41348484173507144,
          -2.0351669878108525
         ]
        },
        {
         "boxpoints": false,
         "line": {
          "width": 1.3
         },
         "marker": {
          "color": "rgba(55, 128, 191, 1.0)"
         },
         "name": "B",
         "orientation": "v",
         "type": "box",
         "y": [
          -0.6967737301029128,
          0.3955923153588364,
          0.9304509208325568,
          -0.0744586522642926,
          0.1211984333652385,
          0.022291349587955523,
          0.3887385590763829,
          -2.197471675736836,
          -0.18263329127329966,
          -0.8441573294832997,
          0.25438217466521695,
          -0.4665323161144188,
          -0.28094950723014095,
          -0.9019303972034435,
          -0.8564555377646561,
          0.4945430468649379,
          -1.76258208763336,
          -0.4918490163755658,
          1.2494042369031118,
          0.031181800975316205,
          -0.1083735743325583,
          1.2884576364371843,
          -1.6037547525042675,
          -1.1462001137263944,
          0.9548645539803001,
          -1.3886683835731528,
          0.7532489553467764,
          -0.010822797014181502,
          -0.3577884303405244,
          -0.9600572198594697,
          -0.8487481571361674,
          -0.1886567268766113,
          0.7651822612089191,
          -0.154652529142487,
          0.25439107341567063,
          -2.8948776168564954,
          -0.03072124986333935,
          0.22591470261515573,
          1.5029917208158639,
          0.15340207199391692,
          -0.06341970644899546,
          -0.778625105227336,
          -0.3739662082593961,
          0.5826781894263957,
          1.3352886097452983,
          0.45955618854761954,
          -1.2509126022463022,
          -0.23781710320954533,
          0.6511060012132226,
          1.0599773131525834,
          1.455408403447102,
          -0.8892299822485499,
          1.6720953701987729,
          0.7586822821240174,
          -1.1029657978608838,
          -0.42074668557719874,
          0.4373370016959473,
          1.6674354351089624,
          -0.5014138119319443,
          0.8901371658728653,
          0.5450316271810358,
          -0.2979814489174735,
          0.00746766129420241,
          0.48805137821334166,
          -0.15750421727680192,
          0.5135060773499763,
          -0.6679765559004219,
          0.6234621029683176,
          0.6687995341297776,
          0.44948993111897134,
          0.22050423567227825,
          -0.7373287858654547,
          -0.024554045318524825,
          1.3946803315640273,
          0.5892612669063987,
          0.6474314037463123,
          -1.3016713140423926,
          1.263933201091441,
          -2.062701337755691,
          2.525763242001359,
          0.7361501938603366,
          -0.07660514326388362,
          0.054162809365627486,
          -1.6422968996712803,
          -0.7101847406077325,
          1.079380624362349,
          -0.602693260182104,
          -1.598310885910521,
          0.7222361259546951,
          0.87395586159824,
          0.44038898813091215,
          -0.3631094213080669,
          1.644230309460639,
          1.0507482071374046,
          0.9512076062512657,
          -0.894214278654392,
          1.9233660832168906,
          -1.268145238676145,
          0.18883957711582006,
          0.851423150446762
         ]
        },
        {
         "boxpoints": false,
         "line": {
          "width": 1.3
         },
         "marker": {
          "color": "rgba(50, 171, 96, 1.0)"
         },
         "name": "C",
         "orientation": "v",
         "type": "box",
         "y": [
          -0.7301352317282106,
          0.08779556201931825,
          -0.524709251031356,
          -0.21593021511776864,
          1.3250904965255268,
          -1.3364697728077088,
          -1.469261874221005,
          0.07339431139103271,
          -1.1098237572465623,
          -0.0635405043182496,
          0.15544483959009103,
          0.5150962954286789,
          0.5002093153624056,
          -0.7362811308263522,
          -0.4381493328406711,
          2.0900514328682105,
          1.5894679443431854,
          2.574006507457789,
          -0.8567000712841061,
          0.3700038521859714,
          -0.455657509521665,
          0.32023432876899793,
          -0.8408124542854524,
          1.5300045654723207,
          1.428512779986509,
          0.530396350375161,
          1.2519206100951428,
          0.6663292387288364,
          -0.7730012234696285,
          -0.7814861900476605,
          0.15539685558857158,
          1.0136265203289576,
          1.5342875479575093,
          0.5353385807618619,
          -0.6404571235699517,
          1.96804384588998,
          -1.7164176764969905,
          0.10698173480426748,
          0.4517264381169476,
          0.36588106653529856,
          -0.3082592879308524,
          -0.4305870864675882,
          -0.751991013941709,
          -1.0458828762609829,
          -0.15386690845757842,
          -0.061784434498645506,
          0.25301461745526455,
          0.050810391451398144,
          -1.130049106084122,
          -0.36721191428312094,
          -1.3425255150576543,
          1.332769166021427,
          -0.5499855518754465,
          -1.6416207551974187,
          0.5478581555199442,
          0.7754992829442867,
          0.05228088917803463,
          0.9268097942485304,
          0.045646819658006446,
          -1.7391340994184767,
          -0.7053086718910987,
          -0.5692892996671876,
          0.02510544648360247,
          0.5067679358623244,
          0.3195885391018388,
          1.7224598614546238,
          1.147959696652209,
          0.004588975576922581,
          -0.9671271227639321,
          0.5740234635784761,
          -0.8980901246671379,
          -1.5930458910826608,
          0.15802777930569248,
          -0.9254381374688119,
          -0.04161554143363617,
          -1.8691436551710514,
          -1.0971553281117405,
          -1.2299202652865213,
          -1.8524050796872709,
          -1.230260810808082,
          1.439920507932906,
          -0.8888478054575822,
          -1.9231932754945789,
          -0.4895990739239892,
          -1.870962483925207,
          0.3673464736837565,
          0.10697930603923508,
          -1.5209617058013976,
          -1.2832638676076424,
          -0.16622121795532996,
          -0.23890348896172903,
          0.5063012008978391,
          -1.7923206805183614,
          -0.08092462174465116,
          -2.3094418477242318,
          -0.5426532984047878,
          0.8189498229715165,
          -0.7238095388860954,
          0.11732881297747685,
          0.30789135902706505
         ]
        },
        {
         "boxpoints": false,
         "line": {
          "width": 1.3
         },
         "marker": {
          "color": "rgba(128, 0, 128, 1.0)"
         },
         "name": "D",
         "orientation": "v",
         "type": "box",
         "y": [
          -1.7216172312988307,
          1.8046858648116653,
          -1.4647291390348893,
          -1.5147331241316506,
          1.6825890547486828,
          1.8145266255975043,
          1.3973500850895426,
          0.12926806224259768,
          1.0512562312534692,
          -1.089012260383378,
          0.13849113722266734,
          -1.0165849482167328,
          1.8608447935012344,
          0.6146829773835975,
          -0.5623266638223187,
          -0.38879792913416616,
          2.147157541766009,
          2.089580369789075,
          -0.6849070270113347,
          2.2814129932357226,
          0.18349546900263083,
          0.8947645448819614,
          1.268409819667111,
          0.8414386517865439,
          1.4694813141284722,
          -0.9175515368153877,
          1.4990926921005339,
          0.8942504300601379,
          -0.04440976514025778,
          0.4393172691963984,
          -0.6500106279702698,
          1.3994018921447586,
          2.50578036606172,
          -0.29954702938157635,
          0.22487923849090152,
          1.05805800360803,
          1.2355699642843032,
          1.2685503173303463,
          0.5628284654241276,
          -0.38372302612685594,
          -1.184551643972065,
          -1.1651111349147578,
          -0.2161468874285778,
          -0.8481230977944765,
          -0.7149885633430976,
          -1.2431141346192784,
          -0.21244970998497795,
          0.7192602729860825,
          1.6646071028834495,
          1.4378441469571286,
          1.1527586806687484,
          -1.7059803294554596,
          0.7118290987712215,
          -0.301389165741736,
          0.5191048378964799,
          0.2325799221827256,
          -0.18388027155761488,
          0.4287281044896644,
          0.5775018103708022,
          0.007842996834937116,
          -0.1349810771475766,
          1.0957690666341457,
          -1.658083265471898,
          0.16011036262935488,
          0.093626295000747,
          0.48080651549150766,
          1.2978612597856227,
          1.2208179294634713,
          -0.4334630855456557,
          -0.34121310493691415,
          -0.5860177924410135,
          1.5073536831169771,
          -0.1428257546349099,
          0.37195007032908595,
          -0.4683382228777139,
          -0.2669611259903742,
          1.4480344684104847,
          -2.0932530674252625,
          -0.8153365944967327,
          0.016606208207461743,
          0.3268468909876187,
          -0.5959794030657887,
          1.4839483445597128,
          -0.1610153983089623,
          -0.7565042264746906,
          -0.5673293379584862,
          1.0546566945183387,
          1.0698727219541548,
          -0.11271713921465255,
          0.5693381244323878,
          0.4135236437601984,
          -0.6802629079893298,
          0.5648510393775303,
          -0.4493682009586909,
          -0.46879536556519275,
          -0.37126296043418505,
          0.9588349430886267,
          0.9541772804025027,
          -1.2110212934479987,
          -0.33580654072256205
         ]
        }
       ],
       "layout": {
        "legend": {
         "bgcolor": "#F5F6F9",
         "font": {
          "color": "#4D5663"
         }
        },
        "paper_bgcolor": "#F5F6F9",
        "plot_bgcolor": "#F5F6F9",
        "template": {
         "data": {
          "bar": [
           {
            "error_x": {
             "color": "#2a3f5f"
            },
            "error_y": {
             "color": "#2a3f5f"
            },
            "marker": {
             "line": {
              "color": "#E5ECF6",
              "width": 0.5
             }
            },
            "type": "bar"
           }
          ],
          "barpolar": [
           {
            "marker": {
             "line": {
              "color": "#E5ECF6",
              "width": 0.5
             }
            },
            "type": "barpolar"
           }
          ],
          "carpet": [
           {
            "aaxis": {
             "endlinecolor": "#2a3f5f",
             "gridcolor": "white",
             "linecolor": "white",
             "minorgridcolor": "white",
             "startlinecolor": "#2a3f5f"
            },
            "baxis": {
             "endlinecolor": "#2a3f5f",
             "gridcolor": "white",
             "linecolor": "white",
             "minorgridcolor": "white",
             "startlinecolor": "#2a3f5f"
            },
            "type": "carpet"
           }
          ],
          "choropleth": [
           {
            "colorbar": {
             "outlinewidth": 0,
             "ticks": ""
            },
            "type": "choropleth"
           }
          ],
          "contour": [
           {
            "colorbar": {
             "outlinewidth": 0,
             "ticks": ""
            },
            "colorscale": [
             [
              0,
              "#0d0887"
             ],
             [
              0.1111111111111111,
              "#46039f"
             ],
             [
              0.2222222222222222,
              "#7201a8"
             ],
             [
              0.3333333333333333,
              "#9c179e"
             ],
             [
              0.4444444444444444,
              "#bd3786"
             ],
             [
              0.5555555555555556,
              "#d8576b"
             ],
             [
              0.6666666666666666,
              "#ed7953"
             ],
             [
              0.7777777777777778,
              "#fb9f3a"
             ],
             [
              0.8888888888888888,
              "#fdca26"
             ],
             [
              1,
              "#f0f921"
             ]
            ],
            "type": "contour"
           }
          ],
          "contourcarpet": [
           {
            "colorbar": {
             "outlinewidth": 0,
             "ticks": ""
            },
            "type": "contourcarpet"
           }
          ],
          "heatmap": [
           {
            "colorbar": {
             "outlinewidth": 0,
             "ticks": ""
            },
            "colorscale": [
             [
              0,
              "#0d0887"
             ],
             [
              0.1111111111111111,
              "#46039f"
             ],
             [
              0.2222222222222222,
              "#7201a8"
             ],
             [
              0.3333333333333333,
              "#9c179e"
             ],
             [
              0.4444444444444444,
              "#bd3786"
             ],
             [
              0.5555555555555556,
              "#d8576b"
             ],
             [
              0.6666666666666666,
              "#ed7953"
             ],
             [
              0.7777777777777778,
              "#fb9f3a"
             ],
             [
              0.8888888888888888,
              "#fdca26"
             ],
             [
              1,
              "#f0f921"
             ]
            ],
            "type": "heatmap"
           }
          ],
          "heatmapgl": [
           {
            "colorbar": {
             "outlinewidth": 0,
             "ticks": ""
            },
            "colorscale": [
             [
              0,
              "#0d0887"
             ],
             [
              0.1111111111111111,
              "#46039f"
             ],
             [
              0.2222222222222222,
              "#7201a8"
             ],
             [
              0.3333333333333333,
              "#9c179e"
             ],
             [
              0.4444444444444444,
              "#bd3786"
             ],
             [
              0.5555555555555556,
              "#d8576b"
             ],
             [
              0.6666666666666666,
              "#ed7953"
             ],
             [
              0.7777777777777778,
              "#fb9f3a"
             ],
             [
              0.8888888888888888,
              "#fdca26"
             ],
             [
              1,
              "#f0f921"
             ]
            ],
            "type": "heatmapgl"
           }
          ],
          "histogram": [
           {
            "marker": {
             "colorbar": {
              "outlinewidth": 0,
              "ticks": ""
             }
            },
            "type": "histogram"
           }
          ],
          "histogram2d": [
           {
            "colorbar": {
             "outlinewidth": 0,
             "ticks": ""
            },
            "colorscale": [
             [
              0,
              "#0d0887"
             ],
             [
              0.1111111111111111,
              "#46039f"
             ],
             [
              0.2222222222222222,
              "#7201a8"
             ],
             [
              0.3333333333333333,
              "#9c179e"
             ],
             [
              0.4444444444444444,
              "#bd3786"
             ],
             [
              0.5555555555555556,
              "#d8576b"
             ],
             [
              0.6666666666666666,
              "#ed7953"
             ],
             [
              0.7777777777777778,
              "#fb9f3a"
             ],
             [
              0.8888888888888888,
              "#fdca26"
             ],
             [
              1,
              "#f0f921"
             ]
            ],
            "type": "histogram2d"
           }
          ],
          "histogram2dcontour": [
           {
            "colorbar": {
             "outlinewidth": 0,
             "ticks": ""
            },
            "colorscale": [
             [
              0,
              "#0d0887"
             ],
             [
              0.1111111111111111,
              "#46039f"
             ],
             [
              0.2222222222222222,
              "#7201a8"
             ],
             [
              0.3333333333333333,
              "#9c179e"
             ],
             [
              0.4444444444444444,
              "#bd3786"
             ],
             [
              0.5555555555555556,
              "#d8576b"
             ],
             [
              0.6666666666666666,
              "#ed7953"
             ],
             [
              0.7777777777777778,
              "#fb9f3a"
             ],
             [
              0.8888888888888888,
              "#fdca26"
             ],
             [
              1,
              "#f0f921"
             ]
            ],
            "type": "histogram2dcontour"
           }
          ],
          "mesh3d": [
           {
            "colorbar": {
             "outlinewidth": 0,
             "ticks": ""
            },
            "type": "mesh3d"
           }
          ],
          "parcoords": [
           {
            "line": {
             "colorbar": {
              "outlinewidth": 0,
              "ticks": ""
             }
            },
            "type": "parcoords"
           }
          ],
          "pie": [
           {
            "automargin": true,
            "type": "pie"
           }
          ],
          "scatter": [
           {
            "marker": {
             "colorbar": {
              "outlinewidth": 0,
              "ticks": ""
             }
            },
            "type": "scatter"
           }
          ],
          "scatter3d": [
           {
            "line": {
             "colorbar": {
              "outlinewidth": 0,
              "ticks": ""
             }
            },
            "marker": {
             "colorbar": {
              "outlinewidth": 0,
              "ticks": ""
             }
            },
            "type": "scatter3d"
           }
          ],
          "scattercarpet": [
           {
            "marker": {
             "colorbar": {
              "outlinewidth": 0,
              "ticks": ""
             }
            },
            "type": "scattercarpet"
           }
          ],
          "scattergeo": [
           {
            "marker": {
             "colorbar": {
              "outlinewidth": 0,
              "ticks": ""
             }
            },
            "type": "scattergeo"
           }
          ],
          "scattergl": [
           {
            "marker": {
             "colorbar": {
              "outlinewidth": 0,
              "ticks": ""
             }
            },
            "type": "scattergl"
           }
          ],
          "scattermapbox": [
           {
            "marker": {
             "colorbar": {
              "outlinewidth": 0,
              "ticks": ""
             }
            },
            "type": "scattermapbox"
           }
          ],
          "scatterpolar": [
           {
            "marker": {
             "colorbar": {
              "outlinewidth": 0,
              "ticks": ""
             }
            },
            "type": "scatterpolar"
           }
          ],
          "scatterpolargl": [
           {
            "marker": {
             "colorbar": {
              "outlinewidth": 0,
              "ticks": ""
             }
            },
            "type": "scatterpolargl"
           }
          ],
          "scatterternary": [
           {
            "marker": {
             "colorbar": {
              "outlinewidth": 0,
              "ticks": ""
             }
            },
            "type": "scatterternary"
           }
          ],
          "surface": [
           {
            "colorbar": {
             "outlinewidth": 0,
             "ticks": ""
            },
            "colorscale": [
             [
              0,
              "#0d0887"
             ],
             [
              0.1111111111111111,
              "#46039f"
             ],
             [
              0.2222222222222222,
              "#7201a8"
             ],
             [
              0.3333333333333333,
              "#9c179e"
             ],
             [
              0.4444444444444444,
              "#bd3786"
             ],
             [
              0.5555555555555556,
              "#d8576b"
             ],
             [
              0.6666666666666666,
              "#ed7953"
             ],
             [
              0.7777777777777778,
              "#fb9f3a"
             ],
             [
              0.8888888888888888,
              "#fdca26"
             ],
             [
              1,
              "#f0f921"
             ]
            ],
            "type": "surface"
           }
          ],
          "table": [
           {
            "cells": {
             "fill": {
              "color": "#EBF0F8"
             },
             "line": {
              "color": "white"
             }
            },
            "header": {
             "fill": {
              "color": "#C8D4E3"
             },
             "line": {
              "color": "white"
             }
            },
            "type": "table"
           }
          ]
         },
         "layout": {
          "annotationdefaults": {
           "arrowcolor": "#2a3f5f",
           "arrowhead": 0,
           "arrowwidth": 1
          },
          "coloraxis": {
           "colorbar": {
            "outlinewidth": 0,
            "ticks": ""
           }
          },
          "colorscale": {
           "diverging": [
            [
             0,
             "#8e0152"
            ],
            [
             0.1,
             "#c51b7d"
            ],
            [
             0.2,
             "#de77ae"
            ],
            [
             0.3,
             "#f1b6da"
            ],
            [
             0.4,
             "#fde0ef"
            ],
            [
             0.5,
             "#f7f7f7"
            ],
            [
             0.6,
             "#e6f5d0"
            ],
            [
             0.7,
             "#b8e186"
            ],
            [
             0.8,
             "#7fbc41"
            ],
            [
             0.9,
             "#4d9221"
            ],
            [
             1,
             "#276419"
            ]
           ],
           "sequential": [
            [
             0,
             "#0d0887"
            ],
            [
             0.1111111111111111,
             "#46039f"
            ],
            [
             0.2222222222222222,
             "#7201a8"
            ],
            [
             0.3333333333333333,
             "#9c179e"
            ],
            [
             0.4444444444444444,
             "#bd3786"
            ],
            [
             0.5555555555555556,
             "#d8576b"
            ],
            [
             0.6666666666666666,
             "#ed7953"
            ],
            [
             0.7777777777777778,
             "#fb9f3a"
            ],
            [
             0.8888888888888888,
             "#fdca26"
            ],
            [
             1,
             "#f0f921"
            ]
           ],
           "sequentialminus": [
            [
             0,
             "#0d0887"
            ],
            [
             0.1111111111111111,
             "#46039f"
            ],
            [
             0.2222222222222222,
             "#7201a8"
            ],
            [
             0.3333333333333333,
             "#9c179e"
            ],
            [
             0.4444444444444444,
             "#bd3786"
            ],
            [
             0.5555555555555556,
             "#d8576b"
            ],
            [
             0.6666666666666666,
             "#ed7953"
            ],
            [
             0.7777777777777778,
             "#fb9f3a"
            ],
            [
             0.8888888888888888,
             "#fdca26"
            ],
            [
             1,
             "#f0f921"
            ]
           ]
          },
          "colorway": [
           "#636efa",
           "#EF553B",
           "#00cc96",
           "#ab63fa",
           "#FFA15A",
           "#19d3f3",
           "#FF6692",
           "#B6E880",
           "#FF97FF",
           "#FECB52"
          ],
          "font": {
           "color": "#2a3f5f"
          },
          "geo": {
           "bgcolor": "white",
           "lakecolor": "white",
           "landcolor": "#E5ECF6",
           "showlakes": true,
           "showland": true,
           "subunitcolor": "white"
          },
          "hoverlabel": {
           "align": "left"
          },
          "hovermode": "closest",
          "mapbox": {
           "style": "light"
          },
          "paper_bgcolor": "white",
          "plot_bgcolor": "#E5ECF6",
          "polar": {
           "angularaxis": {
            "gridcolor": "white",
            "linecolor": "white",
            "ticks": ""
           },
           "bgcolor": "#E5ECF6",
           "radialaxis": {
            "gridcolor": "white",
            "linecolor": "white",
            "ticks": ""
           }
          },
          "scene": {
           "xaxis": {
            "backgroundcolor": "#E5ECF6",
            "gridcolor": "white",
            "gridwidth": 2,
            "linecolor": "white",
            "showbackground": true,
            "ticks": "",
            "zerolinecolor": "white"
           },
           "yaxis": {
            "backgroundcolor": "#E5ECF6",
            "gridcolor": "white",
            "gridwidth": 2,
            "linecolor": "white",
            "showbackground": true,
            "ticks": "",
            "zerolinecolor": "white"
           },
           "zaxis": {
            "backgroundcolor": "#E5ECF6",
            "gridcolor": "white",
            "gridwidth": 2,
            "linecolor": "white",
            "showbackground": true,
            "ticks": "",
            "zerolinecolor": "white"
           }
          },
          "shapedefaults": {
           "line": {
            "color": "#2a3f5f"
           }
          },
          "ternary": {
           "aaxis": {
            "gridcolor": "white",
            "linecolor": "white",
            "ticks": ""
           },
           "baxis": {
            "gridcolor": "white",
            "linecolor": "white",
            "ticks": ""
           },
           "bgcolor": "#E5ECF6",
           "caxis": {
            "gridcolor": "white",
            "linecolor": "white",
            "ticks": ""
           }
          },
          "title": {
           "x": 0.05
          },
          "xaxis": {
           "automargin": true,
           "gridcolor": "white",
           "linecolor": "white",
           "ticks": "",
           "title": {
            "standoff": 15
           },
           "zerolinecolor": "white",
           "zerolinewidth": 2
          },
          "yaxis": {
           "automargin": true,
           "gridcolor": "white",
           "linecolor": "white",
           "ticks": "",
           "title": {
            "standoff": 15
           },
           "zerolinecolor": "white",
           "zerolinewidth": 2
          }
         }
        },
        "title": {
         "font": {
          "color": "#4D5663"
         }
        },
        "xaxis": {
         "gridcolor": "#E1E5ED",
         "showgrid": true,
         "tickfont": {
          "color": "#4D5663"
         },
         "title": {
          "font": {
           "color": "#4D5663"
          },
          "text": ""
         },
         "zerolinecolor": "#E1E5ED"
        },
        "yaxis": {
         "gridcolor": "#E1E5ED",
         "showgrid": true,
         "tickfont": {
          "color": "#4D5663"
         },
         "title": {
          "font": {
           "color": "#4D5663"
          },
          "text": ""
         },
         "zerolinecolor": "#E1E5ED"
        }
       }
      },
      "text/html": [
       "<div>\n",
       "        \n",
       "        \n",
       "            <div id=\"b472612c-5df9-4910-8520-4c0f86c5486c\" class=\"plotly-graph-div\" style=\"height:525px; width:100%;\"></div>\n",
       "            <script type=\"text/javascript\">\n",
       "                require([\"plotly\"], function(Plotly) {\n",
       "                    window.PLOTLYENV=window.PLOTLYENV || {};\n",
       "                    window.PLOTLYENV.BASE_URL='https://plot.ly';\n",
       "                    \n",
       "                if (document.getElementById(\"b472612c-5df9-4910-8520-4c0f86c5486c\")) {\n",
       "                    Plotly.newPlot(\n",
       "                        'b472612c-5df9-4910-8520-4c0f86c5486c',\n",
       "                        [{\"boxpoints\": false, \"line\": {\"width\": 1.3}, \"marker\": {\"color\": \"rgba(255, 153, 51, 1.0)\"}, \"name\": \"A\", \"orientation\": \"v\", \"type\": \"box\", \"y\": [1.565884337167468, -0.45771390855734573, -0.6294981356484306, -0.31632596935640805, -0.8415387236765782, -1.0011109686364592, -1.4848300297289672, -0.4341971001119396, 0.20559798897040746, -1.0093491072636154, -0.6933918467635506, -1.4134648098598488, -0.006558075223548637, 0.42339501837302906, 1.0536102304279946, -0.22135839802994153, -0.5588442239783614, 0.8011714238548048, -0.8954504814497545, -0.8702490790991079, -0.08548128885203164, -1.7781641352509694, 2.614932210947218, -0.1040436359440887, -1.6474994438719635, 0.1131359207721515, -0.08796528933397242, 2.5258333098386765, -0.4163684847370185, 0.278459211531101, 1.348134060287212, -1.0270330164094006, -0.3082720877712286, 1.0975241245551837, -1.955871071034986, -0.6521508448632184, -0.8038019598913686, -1.501894043694504, 0.24333768279152238, 1.592031644168021, 0.949301075242087, -0.023481831597560853, -1.367738140808775, -0.08686752700857645, -0.1638917532126145, -1.272210803236027, -1.0741244297077253, -3.4659277855100084, -0.9738316689582084, 0.34373991219368616, -1.3290005300039058, 2.2827711463244196, -0.6194094358815374, 0.37335682630177425, 1.7163568406020657, 0.6634845573251583, 0.13750158166138593, 0.8869606796560566, -0.36898132575109505, -0.027969059779097097, 0.5651141298181905, -0.998635320715629, -0.520446310714804, 0.5994623035040102, 0.708852267700245, -0.8136227015450364, -1.5764748894413487, -0.8977669402845133, 0.06760506819494855, 1.8214441598957745, -0.858597184257929, 0.018599761851139936, 1.0615074581619262, -0.5945356040381385, 1.063628108280927, -0.026343395611301456, 1.6160843357286385, -2.039300163490272, 0.29197227096395584, 1.2773432038890091, 1.397931871420511, -0.19011073602518447, -0.5616139272987423, -0.33365921974022533, 0.25498039368357694, -0.5045169854402038, -0.6823106757278841, -1.0524270888935459, 1.297890380840405, 0.37222308458826087, -0.1858497690901246, -0.5969749215773195, 1.750369944761348, 1.05428825034664, -0.9561301036271894, -1.0575419797300827, -1.0516778401677838, 0.8456087654973249, 0.41348484173507144, -2.0351669878108525]}, {\"boxpoints\": false, \"line\": {\"width\": 1.3}, \"marker\": {\"color\": \"rgba(55, 128, 191, 1.0)\"}, \"name\": \"B\", \"orientation\": \"v\", \"type\": \"box\", \"y\": [-0.6967737301029128, 0.3955923153588364, 0.9304509208325568, -0.0744586522642926, 0.1211984333652385, 0.022291349587955523, 0.3887385590763829, -2.197471675736836, -0.18263329127329966, -0.8441573294832997, 0.25438217466521695, -0.4665323161144188, -0.28094950723014095, -0.9019303972034435, -0.8564555377646561, 0.4945430468649379, -1.76258208763336, -0.4918490163755658, 1.2494042369031118, 0.031181800975316205, -0.1083735743325583, 1.2884576364371843, -1.6037547525042675, -1.1462001137263944, 0.9548645539803001, -1.3886683835731528, 0.7532489553467764, -0.010822797014181502, -0.3577884303405244, -0.9600572198594697, -0.8487481571361674, -0.1886567268766113, 0.7651822612089191, -0.154652529142487, 0.25439107341567063, -2.8948776168564954, -0.03072124986333935, 0.22591470261515573, 1.5029917208158639, 0.15340207199391692, -0.06341970644899546, -0.778625105227336, -0.3739662082593961, 0.5826781894263957, 1.3352886097452983, 0.45955618854761954, -1.2509126022463022, -0.23781710320954533, 0.6511060012132226, 1.0599773131525834, 1.455408403447102, -0.8892299822485499, 1.6720953701987729, 0.7586822821240174, -1.1029657978608838, -0.42074668557719874, 0.4373370016959473, 1.6674354351089624, -0.5014138119319443, 0.8901371658728653, 0.5450316271810358, -0.2979814489174735, 0.00746766129420241, 0.48805137821334166, -0.15750421727680192, 0.5135060773499763, -0.6679765559004219, 0.6234621029683176, 0.6687995341297776, 0.44948993111897134, 0.22050423567227825, -0.7373287858654547, -0.024554045318524825, 1.3946803315640273, 0.5892612669063987, 0.6474314037463123, -1.3016713140423926, 1.263933201091441, -2.062701337755691, 2.525763242001359, 0.7361501938603366, -0.07660514326388362, 0.054162809365627486, -1.6422968996712803, -0.7101847406077325, 1.079380624362349, -0.602693260182104, -1.598310885910521, 0.7222361259546951, 0.87395586159824, 0.44038898813091215, -0.3631094213080669, 1.644230309460639, 1.0507482071374046, 0.9512076062512657, -0.894214278654392, 1.9233660832168906, -1.268145238676145, 0.18883957711582006, 0.851423150446762]}, {\"boxpoints\": false, \"line\": {\"width\": 1.3}, \"marker\": {\"color\": \"rgba(50, 171, 96, 1.0)\"}, \"name\": \"C\", \"orientation\": \"v\", \"type\": \"box\", \"y\": [-0.7301352317282106, 0.08779556201931825, -0.524709251031356, -0.21593021511776864, 1.3250904965255268, -1.3364697728077088, -1.469261874221005, 0.07339431139103271, -1.1098237572465623, -0.0635405043182496, 0.15544483959009103, 0.5150962954286789, 0.5002093153624056, -0.7362811308263522, -0.4381493328406711, 2.0900514328682105, 1.5894679443431854, 2.574006507457789, -0.8567000712841061, 0.3700038521859714, -0.455657509521665, 0.32023432876899793, -0.8408124542854524, 1.5300045654723207, 1.428512779986509, 0.530396350375161, 1.2519206100951428, 0.6663292387288364, -0.7730012234696285, -0.7814861900476605, 0.15539685558857158, 1.0136265203289576, 1.5342875479575093, 0.5353385807618619, -0.6404571235699517, 1.96804384588998, -1.7164176764969905, 0.10698173480426748, 0.4517264381169476, 0.36588106653529856, -0.3082592879308524, -0.4305870864675882, -0.751991013941709, -1.0458828762609829, -0.15386690845757842, -0.061784434498645506, 0.25301461745526455, 0.050810391451398144, -1.130049106084122, -0.36721191428312094, -1.3425255150576543, 1.332769166021427, -0.5499855518754465, -1.6416207551974187, 0.5478581555199442, 0.7754992829442867, 0.05228088917803463, 0.9268097942485304, 0.045646819658006446, -1.7391340994184767, -0.7053086718910987, -0.5692892996671876, 0.02510544648360247, 0.5067679358623244, 0.3195885391018388, 1.7224598614546238, 1.147959696652209, 0.004588975576922581, -0.9671271227639321, 0.5740234635784761, -0.8980901246671379, -1.5930458910826608, 0.15802777930569248, -0.9254381374688119, -0.04161554143363617, -1.8691436551710514, -1.0971553281117405, -1.2299202652865213, -1.8524050796872709, -1.230260810808082, 1.439920507932906, -0.8888478054575822, -1.9231932754945789, -0.4895990739239892, -1.870962483925207, 0.3673464736837565, 0.10697930603923508, -1.5209617058013976, -1.2832638676076424, -0.16622121795532996, -0.23890348896172903, 0.5063012008978391, -1.7923206805183614, -0.08092462174465116, -2.3094418477242318, -0.5426532984047878, 0.8189498229715165, -0.7238095388860954, 0.11732881297747685, 0.30789135902706505]}, {\"boxpoints\": false, \"line\": {\"width\": 1.3}, \"marker\": {\"color\": \"rgba(128, 0, 128, 1.0)\"}, \"name\": \"D\", \"orientation\": \"v\", \"type\": \"box\", \"y\": [-1.7216172312988307, 1.8046858648116653, -1.4647291390348893, -1.5147331241316506, 1.6825890547486828, 1.8145266255975043, 1.3973500850895426, 0.12926806224259768, 1.0512562312534692, -1.089012260383378, 0.13849113722266734, -1.0165849482167328, 1.8608447935012344, 0.6146829773835975, -0.5623266638223187, -0.38879792913416616, 2.147157541766009, 2.089580369789075, -0.6849070270113347, 2.2814129932357226, 0.18349546900263083, 0.8947645448819614, 1.268409819667111, 0.8414386517865439, 1.4694813141284722, -0.9175515368153877, 1.4990926921005339, 0.8942504300601379, -0.04440976514025778, 0.4393172691963984, -0.6500106279702698, 1.3994018921447586, 2.50578036606172, -0.29954702938157635, 0.22487923849090152, 1.05805800360803, 1.2355699642843032, 1.2685503173303463, 0.5628284654241276, -0.38372302612685594, -1.184551643972065, -1.1651111349147578, -0.2161468874285778, -0.8481230977944765, -0.7149885633430976, -1.2431141346192784, -0.21244970998497795, 0.7192602729860825, 1.6646071028834495, 1.4378441469571286, 1.1527586806687484, -1.7059803294554596, 0.7118290987712215, -0.301389165741736, 0.5191048378964799, 0.2325799221827256, -0.18388027155761488, 0.4287281044896644, 0.5775018103708022, 0.007842996834937116, -0.1349810771475766, 1.0957690666341457, -1.658083265471898, 0.16011036262935488, 0.093626295000747, 0.48080651549150766, 1.2978612597856227, 1.2208179294634713, -0.4334630855456557, -0.34121310493691415, -0.5860177924410135, 1.5073536831169771, -0.1428257546349099, 0.37195007032908595, -0.4683382228777139, -0.2669611259903742, 1.4480344684104847, -2.0932530674252625, -0.8153365944967327, 0.016606208207461743, 0.3268468909876187, -0.5959794030657887, 1.4839483445597128, -0.1610153983089623, -0.7565042264746906, -0.5673293379584862, 1.0546566945183387, 1.0698727219541548, -0.11271713921465255, 0.5693381244323878, 0.4135236437601984, -0.6802629079893298, 0.5648510393775303, -0.4493682009586909, -0.46879536556519275, -0.37126296043418505, 0.9588349430886267, 0.9541772804025027, -1.2110212934479987, -0.33580654072256205]}],\n",
       "                        {\"legend\": {\"bgcolor\": \"#F5F6F9\", \"font\": {\"color\": \"#4D5663\"}}, \"paper_bgcolor\": \"#F5F6F9\", \"plot_bgcolor\": \"#F5F6F9\", \"template\": {\"data\": {\"bar\": [{\"error_x\": {\"color\": \"#2a3f5f\"}, \"error_y\": {\"color\": \"#2a3f5f\"}, \"marker\": {\"line\": {\"color\": \"#E5ECF6\", \"width\": 0.5}}, \"type\": \"bar\"}], \"barpolar\": [{\"marker\": {\"line\": {\"color\": \"#E5ECF6\", \"width\": 0.5}}, \"type\": \"barpolar\"}], \"carpet\": [{\"aaxis\": {\"endlinecolor\": \"#2a3f5f\", \"gridcolor\": \"white\", \"linecolor\": \"white\", \"minorgridcolor\": \"white\", \"startlinecolor\": \"#2a3f5f\"}, \"baxis\": {\"endlinecolor\": \"#2a3f5f\", \"gridcolor\": \"white\", \"linecolor\": \"white\", \"minorgridcolor\": \"white\", \"startlinecolor\": \"#2a3f5f\"}, \"type\": \"carpet\"}], \"choropleth\": [{\"colorbar\": {\"outlinewidth\": 0, \"ticks\": \"\"}, \"type\": \"choropleth\"}], \"contour\": [{\"colorbar\": {\"outlinewidth\": 0, \"ticks\": \"\"}, \"colorscale\": [[0.0, \"#0d0887\"], [0.1111111111111111, \"#46039f\"], [0.2222222222222222, \"#7201a8\"], [0.3333333333333333, \"#9c179e\"], [0.4444444444444444, \"#bd3786\"], [0.5555555555555556, \"#d8576b\"], [0.6666666666666666, \"#ed7953\"], [0.7777777777777778, \"#fb9f3a\"], [0.8888888888888888, \"#fdca26\"], [1.0, \"#f0f921\"]], \"type\": \"contour\"}], \"contourcarpet\": [{\"colorbar\": {\"outlinewidth\": 0, \"ticks\": \"\"}, \"type\": \"contourcarpet\"}], \"heatmap\": [{\"colorbar\": {\"outlinewidth\": 0, \"ticks\": \"\"}, \"colorscale\": [[0.0, \"#0d0887\"], [0.1111111111111111, \"#46039f\"], [0.2222222222222222, \"#7201a8\"], [0.3333333333333333, \"#9c179e\"], [0.4444444444444444, \"#bd3786\"], [0.5555555555555556, \"#d8576b\"], [0.6666666666666666, \"#ed7953\"], [0.7777777777777778, \"#fb9f3a\"], [0.8888888888888888, \"#fdca26\"], [1.0, \"#f0f921\"]], \"type\": \"heatmap\"}], \"heatmapgl\": [{\"colorbar\": {\"outlinewidth\": 0, \"ticks\": \"\"}, \"colorscale\": [[0.0, \"#0d0887\"], [0.1111111111111111, \"#46039f\"], [0.2222222222222222, \"#7201a8\"], [0.3333333333333333, \"#9c179e\"], [0.4444444444444444, \"#bd3786\"], [0.5555555555555556, \"#d8576b\"], [0.6666666666666666, \"#ed7953\"], [0.7777777777777778, \"#fb9f3a\"], [0.8888888888888888, \"#fdca26\"], [1.0, \"#f0f921\"]], \"type\": \"heatmapgl\"}], \"histogram\": [{\"marker\": {\"colorbar\": {\"outlinewidth\": 0, \"ticks\": \"\"}}, \"type\": \"histogram\"}], \"histogram2d\": [{\"colorbar\": {\"outlinewidth\": 0, \"ticks\": \"\"}, \"colorscale\": [[0.0, \"#0d0887\"], [0.1111111111111111, \"#46039f\"], [0.2222222222222222, \"#7201a8\"], [0.3333333333333333, \"#9c179e\"], [0.4444444444444444, \"#bd3786\"], [0.5555555555555556, \"#d8576b\"], [0.6666666666666666, \"#ed7953\"], [0.7777777777777778, \"#fb9f3a\"], [0.8888888888888888, \"#fdca26\"], [1.0, \"#f0f921\"]], \"type\": \"histogram2d\"}], \"histogram2dcontour\": [{\"colorbar\": {\"outlinewidth\": 0, \"ticks\": \"\"}, \"colorscale\": [[0.0, \"#0d0887\"], [0.1111111111111111, \"#46039f\"], [0.2222222222222222, \"#7201a8\"], [0.3333333333333333, \"#9c179e\"], [0.4444444444444444, \"#bd3786\"], [0.5555555555555556, \"#d8576b\"], [0.6666666666666666, \"#ed7953\"], [0.7777777777777778, \"#fb9f3a\"], [0.8888888888888888, \"#fdca26\"], [1.0, \"#f0f921\"]], \"type\": \"histogram2dcontour\"}], \"mesh3d\": [{\"colorbar\": {\"outlinewidth\": 0, \"ticks\": \"\"}, \"type\": \"mesh3d\"}], \"parcoords\": [{\"line\": {\"colorbar\": {\"outlinewidth\": 0, \"ticks\": \"\"}}, \"type\": \"parcoords\"}], \"pie\": [{\"automargin\": true, \"type\": \"pie\"}], \"scatter\": [{\"marker\": {\"colorbar\": {\"outlinewidth\": 0, \"ticks\": \"\"}}, \"type\": \"scatter\"}], \"scatter3d\": [{\"line\": {\"colorbar\": {\"outlinewidth\": 0, \"ticks\": \"\"}}, \"marker\": {\"colorbar\": {\"outlinewidth\": 0, \"ticks\": \"\"}}, \"type\": \"scatter3d\"}], \"scattercarpet\": [{\"marker\": {\"colorbar\": {\"outlinewidth\": 0, \"ticks\": \"\"}}, \"type\": \"scattercarpet\"}], \"scattergeo\": [{\"marker\": {\"colorbar\": {\"outlinewidth\": 0, \"ticks\": \"\"}}, \"type\": \"scattergeo\"}], \"scattergl\": [{\"marker\": {\"colorbar\": {\"outlinewidth\": 0, \"ticks\": \"\"}}, \"type\": \"scattergl\"}], \"scattermapbox\": [{\"marker\": {\"colorbar\": {\"outlinewidth\": 0, \"ticks\": \"\"}}, \"type\": \"scattermapbox\"}], \"scatterpolar\": [{\"marker\": {\"colorbar\": {\"outlinewidth\": 0, \"ticks\": \"\"}}, \"type\": \"scatterpolar\"}], \"scatterpolargl\": [{\"marker\": {\"colorbar\": {\"outlinewidth\": 0, \"ticks\": \"\"}}, \"type\": \"scatterpolargl\"}], \"scatterternary\": [{\"marker\": {\"colorbar\": {\"outlinewidth\": 0, \"ticks\": \"\"}}, \"type\": \"scatterternary\"}], \"surface\": [{\"colorbar\": {\"outlinewidth\": 0, \"ticks\": \"\"}, \"colorscale\": [[0.0, \"#0d0887\"], [0.1111111111111111, \"#46039f\"], [0.2222222222222222, \"#7201a8\"], [0.3333333333333333, \"#9c179e\"], [0.4444444444444444, \"#bd3786\"], [0.5555555555555556, \"#d8576b\"], [0.6666666666666666, \"#ed7953\"], [0.7777777777777778, \"#fb9f3a\"], [0.8888888888888888, \"#fdca26\"], [1.0, \"#f0f921\"]], \"type\": \"surface\"}], \"table\": [{\"cells\": {\"fill\": {\"color\": \"#EBF0F8\"}, \"line\": {\"color\": \"white\"}}, \"header\": {\"fill\": {\"color\": \"#C8D4E3\"}, \"line\": {\"color\": \"white\"}}, \"type\": \"table\"}]}, \"layout\": {\"annotationdefaults\": {\"arrowcolor\": \"#2a3f5f\", \"arrowhead\": 0, \"arrowwidth\": 1}, \"coloraxis\": {\"colorbar\": {\"outlinewidth\": 0, \"ticks\": \"\"}}, \"colorscale\": {\"diverging\": [[0, \"#8e0152\"], [0.1, \"#c51b7d\"], [0.2, \"#de77ae\"], [0.3, \"#f1b6da\"], [0.4, \"#fde0ef\"], [0.5, \"#f7f7f7\"], [0.6, \"#e6f5d0\"], [0.7, \"#b8e186\"], [0.8, \"#7fbc41\"], [0.9, \"#4d9221\"], [1, \"#276419\"]], \"sequential\": [[0.0, \"#0d0887\"], [0.1111111111111111, \"#46039f\"], [0.2222222222222222, \"#7201a8\"], [0.3333333333333333, \"#9c179e\"], [0.4444444444444444, \"#bd3786\"], [0.5555555555555556, \"#d8576b\"], [0.6666666666666666, \"#ed7953\"], [0.7777777777777778, \"#fb9f3a\"], [0.8888888888888888, \"#fdca26\"], [1.0, \"#f0f921\"]], \"sequentialminus\": [[0.0, \"#0d0887\"], [0.1111111111111111, \"#46039f\"], [0.2222222222222222, \"#7201a8\"], [0.3333333333333333, \"#9c179e\"], [0.4444444444444444, \"#bd3786\"], [0.5555555555555556, \"#d8576b\"], [0.6666666666666666, \"#ed7953\"], [0.7777777777777778, \"#fb9f3a\"], [0.8888888888888888, \"#fdca26\"], [1.0, \"#f0f921\"]]}, \"colorway\": [\"#636efa\", \"#EF553B\", \"#00cc96\", \"#ab63fa\", \"#FFA15A\", \"#19d3f3\", \"#FF6692\", \"#B6E880\", \"#FF97FF\", \"#FECB52\"], \"font\": {\"color\": \"#2a3f5f\"}, \"geo\": {\"bgcolor\": \"white\", \"lakecolor\": \"white\", \"landcolor\": \"#E5ECF6\", \"showlakes\": true, \"showland\": true, \"subunitcolor\": \"white\"}, \"hoverlabel\": {\"align\": \"left\"}, \"hovermode\": \"closest\", \"mapbox\": {\"style\": \"light\"}, \"paper_bgcolor\": \"white\", \"plot_bgcolor\": \"#E5ECF6\", \"polar\": {\"angularaxis\": {\"gridcolor\": \"white\", \"linecolor\": \"white\", \"ticks\": \"\"}, \"bgcolor\": \"#E5ECF6\", \"radialaxis\": {\"gridcolor\": \"white\", \"linecolor\": \"white\", \"ticks\": \"\"}}, \"scene\": {\"xaxis\": {\"backgroundcolor\": \"#E5ECF6\", \"gridcolor\": \"white\", \"gridwidth\": 2, \"linecolor\": \"white\", \"showbackground\": true, \"ticks\": \"\", \"zerolinecolor\": \"white\"}, \"yaxis\": {\"backgroundcolor\": \"#E5ECF6\", \"gridcolor\": \"white\", \"gridwidth\": 2, \"linecolor\": \"white\", \"showbackground\": true, \"ticks\": \"\", \"zerolinecolor\": \"white\"}, \"zaxis\": {\"backgroundcolor\": \"#E5ECF6\", \"gridcolor\": \"white\", \"gridwidth\": 2, \"linecolor\": \"white\", \"showbackground\": true, \"ticks\": \"\", \"zerolinecolor\": \"white\"}}, \"shapedefaults\": {\"line\": {\"color\": \"#2a3f5f\"}}, \"ternary\": {\"aaxis\": {\"gridcolor\": \"white\", \"linecolor\": \"white\", \"ticks\": \"\"}, \"baxis\": {\"gridcolor\": \"white\", \"linecolor\": \"white\", \"ticks\": \"\"}, \"bgcolor\": \"#E5ECF6\", \"caxis\": {\"gridcolor\": \"white\", \"linecolor\": \"white\", \"ticks\": \"\"}}, \"title\": {\"x\": 0.05}, \"xaxis\": {\"automargin\": true, \"gridcolor\": \"white\", \"linecolor\": \"white\", \"ticks\": \"\", \"title\": {\"standoff\": 15}, \"zerolinecolor\": \"white\", \"zerolinewidth\": 2}, \"yaxis\": {\"automargin\": true, \"gridcolor\": \"white\", \"linecolor\": \"white\", \"ticks\": \"\", \"title\": {\"standoff\": 15}, \"zerolinecolor\": \"white\", \"zerolinewidth\": 2}}}, \"title\": {\"font\": {\"color\": \"#4D5663\"}}, \"xaxis\": {\"gridcolor\": \"#E1E5ED\", \"showgrid\": true, \"tickfont\": {\"color\": \"#4D5663\"}, \"title\": {\"font\": {\"color\": \"#4D5663\"}, \"text\": \"\"}, \"zerolinecolor\": \"#E1E5ED\"}, \"yaxis\": {\"gridcolor\": \"#E1E5ED\", \"showgrid\": true, \"tickfont\": {\"color\": \"#4D5663\"}, \"title\": {\"font\": {\"color\": \"#4D5663\"}, \"text\": \"\"}, \"zerolinecolor\": \"#E1E5ED\"}},\n",
       "                        {\"showLink\": true, \"linkText\": \"Export to plot.ly\", \"plotlyServerURL\": \"https://plot.ly\", \"responsive\": true}\n",
       "                    ).then(function(){\n",
       "                            \n",
       "var gd = document.getElementById('b472612c-5df9-4910-8520-4c0f86c5486c');\n",
       "var x = new MutationObserver(function (mutations, observer) {{\n",
       "        var display = window.getComputedStyle(gd).display;\n",
       "        if (!display || display === 'none') {{\n",
       "            console.log([gd, 'removed!']);\n",
       "            Plotly.purge(gd);\n",
       "            observer.disconnect();\n",
       "        }}\n",
       "}});\n",
       "\n",
       "// Listen for the removal of the full notebook cells\n",
       "var notebookContainer = gd.closest('#notebook-container');\n",
       "if (notebookContainer) {{\n",
       "    x.observe(notebookContainer, {childList: true});\n",
       "}}\n",
       "\n",
       "// Listen for the clearing of the current output cell\n",
       "var outputEl = gd.closest('.output');\n",
       "if (outputEl) {{\n",
       "    x.observe(outputEl, {childList: true});\n",
       "}}\n",
       "\n",
       "                        })\n",
       "                };\n",
       "                });\n",
       "            </script>\n",
       "        </div>"
      ]
     },
     "metadata": {},
     "output_type": "display_data"
    }
   ],
   "source": [
    "df.iplot(kind='box')"
   ]
  },
  {
   "cell_type": "markdown",
   "metadata": {},
   "source": [
    "## 3d Surface"
   ]
  },
  {
   "cell_type": "code",
   "execution_count": 14,
   "metadata": {},
   "outputs": [
    {
     "data": {
      "application/vnd.plotly.v1+json": {
       "config": {
        "linkText": "Export to plot.ly",
        "plotlyServerURL": "https://plot.ly",
        "showLink": true
       },
       "data": [
        {
         "colorscale": [
          [
           0,
           "rgb(165,0,38)"
          ],
          [
           0.1,
           "rgb(215,48,39)"
          ],
          [
           0.2,
           "rgb(244,109,67)"
          ],
          [
           0.3,
           "rgb(253,174,97)"
          ],
          [
           0.4,
           "rgb(254,224,144)"
          ],
          [
           0.5,
           "rgb(255,255,191)"
          ],
          [
           0.6,
           "rgb(224,243,248)"
          ],
          [
           0.7,
           "rgb(171,217,233)"
          ],
          [
           0.8,
           "rgb(116,173,209)"
          ],
          [
           0.9,
           "rgb(69,117,180)"
          ],
          [
           1,
           "rgb(49,54,149)"
          ]
         ],
         "type": "surface",
         "x": [
          0,
          1,
          2,
          3,
          4
         ],
         "y": [
          "x",
          "y",
          "z"
         ],
         "z": [
          [
           1,
           2,
           3,
           4,
           5
          ],
          [
           10,
           20,
           30,
           20,
           10
          ],
          [
           5,
           4,
           3,
           2,
           1
          ]
         ]
        }
       ],
       "layout": {
        "legend": {
         "bgcolor": "#F5F6F9",
         "font": {
          "color": "#4D5663"
         }
        },
        "paper_bgcolor": "#F5F6F9",
        "plot_bgcolor": "#F5F6F9",
        "template": {
         "data": {
          "bar": [
           {
            "error_x": {
             "color": "#2a3f5f"
            },
            "error_y": {
             "color": "#2a3f5f"
            },
            "marker": {
             "line": {
              "color": "#E5ECF6",
              "width": 0.5
             }
            },
            "type": "bar"
           }
          ],
          "barpolar": [
           {
            "marker": {
             "line": {
              "color": "#E5ECF6",
              "width": 0.5
             }
            },
            "type": "barpolar"
           }
          ],
          "carpet": [
           {
            "aaxis": {
             "endlinecolor": "#2a3f5f",
             "gridcolor": "white",
             "linecolor": "white",
             "minorgridcolor": "white",
             "startlinecolor": "#2a3f5f"
            },
            "baxis": {
             "endlinecolor": "#2a3f5f",
             "gridcolor": "white",
             "linecolor": "white",
             "minorgridcolor": "white",
             "startlinecolor": "#2a3f5f"
            },
            "type": "carpet"
           }
          ],
          "choropleth": [
           {
            "colorbar": {
             "outlinewidth": 0,
             "ticks": ""
            },
            "type": "choropleth"
           }
          ],
          "contour": [
           {
            "colorbar": {
             "outlinewidth": 0,
             "ticks": ""
            },
            "colorscale": [
             [
              0,
              "#0d0887"
             ],
             [
              0.1111111111111111,
              "#46039f"
             ],
             [
              0.2222222222222222,
              "#7201a8"
             ],
             [
              0.3333333333333333,
              "#9c179e"
             ],
             [
              0.4444444444444444,
              "#bd3786"
             ],
             [
              0.5555555555555556,
              "#d8576b"
             ],
             [
              0.6666666666666666,
              "#ed7953"
             ],
             [
              0.7777777777777778,
              "#fb9f3a"
             ],
             [
              0.8888888888888888,
              "#fdca26"
             ],
             [
              1,
              "#f0f921"
             ]
            ],
            "type": "contour"
           }
          ],
          "contourcarpet": [
           {
            "colorbar": {
             "outlinewidth": 0,
             "ticks": ""
            },
            "type": "contourcarpet"
           }
          ],
          "heatmap": [
           {
            "colorbar": {
             "outlinewidth": 0,
             "ticks": ""
            },
            "colorscale": [
             [
              0,
              "#0d0887"
             ],
             [
              0.1111111111111111,
              "#46039f"
             ],
             [
              0.2222222222222222,
              "#7201a8"
             ],
             [
              0.3333333333333333,
              "#9c179e"
             ],
             [
              0.4444444444444444,
              "#bd3786"
             ],
             [
              0.5555555555555556,
              "#d8576b"
             ],
             [
              0.6666666666666666,
              "#ed7953"
             ],
             [
              0.7777777777777778,
              "#fb9f3a"
             ],
             [
              0.8888888888888888,
              "#fdca26"
             ],
             [
              1,
              "#f0f921"
             ]
            ],
            "type": "heatmap"
           }
          ],
          "heatmapgl": [
           {
            "colorbar": {
             "outlinewidth": 0,
             "ticks": ""
            },
            "colorscale": [
             [
              0,
              "#0d0887"
             ],
             [
              0.1111111111111111,
              "#46039f"
             ],
             [
              0.2222222222222222,
              "#7201a8"
             ],
             [
              0.3333333333333333,
              "#9c179e"
             ],
             [
              0.4444444444444444,
              "#bd3786"
             ],
             [
              0.5555555555555556,
              "#d8576b"
             ],
             [
              0.6666666666666666,
              "#ed7953"
             ],
             [
              0.7777777777777778,
              "#fb9f3a"
             ],
             [
              0.8888888888888888,
              "#fdca26"
             ],
             [
              1,
              "#f0f921"
             ]
            ],
            "type": "heatmapgl"
           }
          ],
          "histogram": [
           {
            "marker": {
             "colorbar": {
              "outlinewidth": 0,
              "ticks": ""
             }
            },
            "type": "histogram"
           }
          ],
          "histogram2d": [
           {
            "colorbar": {
             "outlinewidth": 0,
             "ticks": ""
            },
            "colorscale": [
             [
              0,
              "#0d0887"
             ],
             [
              0.1111111111111111,
              "#46039f"
             ],
             [
              0.2222222222222222,
              "#7201a8"
             ],
             [
              0.3333333333333333,
              "#9c179e"
             ],
             [
              0.4444444444444444,
              "#bd3786"
             ],
             [
              0.5555555555555556,
              "#d8576b"
             ],
             [
              0.6666666666666666,
              "#ed7953"
             ],
             [
              0.7777777777777778,
              "#fb9f3a"
             ],
             [
              0.8888888888888888,
              "#fdca26"
             ],
             [
              1,
              "#f0f921"
             ]
            ],
            "type": "histogram2d"
           }
          ],
          "histogram2dcontour": [
           {
            "colorbar": {
             "outlinewidth": 0,
             "ticks": ""
            },
            "colorscale": [
             [
              0,
              "#0d0887"
             ],
             [
              0.1111111111111111,
              "#46039f"
             ],
             [
              0.2222222222222222,
              "#7201a8"
             ],
             [
              0.3333333333333333,
              "#9c179e"
             ],
             [
              0.4444444444444444,
              "#bd3786"
             ],
             [
              0.5555555555555556,
              "#d8576b"
             ],
             [
              0.6666666666666666,
              "#ed7953"
             ],
             [
              0.7777777777777778,
              "#fb9f3a"
             ],
             [
              0.8888888888888888,
              "#fdca26"
             ],
             [
              1,
              "#f0f921"
             ]
            ],
            "type": "histogram2dcontour"
           }
          ],
          "mesh3d": [
           {
            "colorbar": {
             "outlinewidth": 0,
             "ticks": ""
            },
            "type": "mesh3d"
           }
          ],
          "parcoords": [
           {
            "line": {
             "colorbar": {
              "outlinewidth": 0,
              "ticks": ""
             }
            },
            "type": "parcoords"
           }
          ],
          "pie": [
           {
            "automargin": true,
            "type": "pie"
           }
          ],
          "scatter": [
           {
            "marker": {
             "colorbar": {
              "outlinewidth": 0,
              "ticks": ""
             }
            },
            "type": "scatter"
           }
          ],
          "scatter3d": [
           {
            "line": {
             "colorbar": {
              "outlinewidth": 0,
              "ticks": ""
             }
            },
            "marker": {
             "colorbar": {
              "outlinewidth": 0,
              "ticks": ""
             }
            },
            "type": "scatter3d"
           }
          ],
          "scattercarpet": [
           {
            "marker": {
             "colorbar": {
              "outlinewidth": 0,
              "ticks": ""
             }
            },
            "type": "scattercarpet"
           }
          ],
          "scattergeo": [
           {
            "marker": {
             "colorbar": {
              "outlinewidth": 0,
              "ticks": ""
             }
            },
            "type": "scattergeo"
           }
          ],
          "scattergl": [
           {
            "marker": {
             "colorbar": {
              "outlinewidth": 0,
              "ticks": ""
             }
            },
            "type": "scattergl"
           }
          ],
          "scattermapbox": [
           {
            "marker": {
             "colorbar": {
              "outlinewidth": 0,
              "ticks": ""
             }
            },
            "type": "scattermapbox"
           }
          ],
          "scatterpolar": [
           {
            "marker": {
             "colorbar": {
              "outlinewidth": 0,
              "ticks": ""
             }
            },
            "type": "scatterpolar"
           }
          ],
          "scatterpolargl": [
           {
            "marker": {
             "colorbar": {
              "outlinewidth": 0,
              "ticks": ""
             }
            },
            "type": "scatterpolargl"
           }
          ],
          "scatterternary": [
           {
            "marker": {
             "colorbar": {
              "outlinewidth": 0,
              "ticks": ""
             }
            },
            "type": "scatterternary"
           }
          ],
          "surface": [
           {
            "colorbar": {
             "outlinewidth": 0,
             "ticks": ""
            },
            "colorscale": [
             [
              0,
              "#0d0887"
             ],
             [
              0.1111111111111111,
              "#46039f"
             ],
             [
              0.2222222222222222,
              "#7201a8"
             ],
             [
              0.3333333333333333,
              "#9c179e"
             ],
             [
              0.4444444444444444,
              "#bd3786"
             ],
             [
              0.5555555555555556,
              "#d8576b"
             ],
             [
              0.6666666666666666,
              "#ed7953"
             ],
             [
              0.7777777777777778,
              "#fb9f3a"
             ],
             [
              0.8888888888888888,
              "#fdca26"
             ],
             [
              1,
              "#f0f921"
             ]
            ],
            "type": "surface"
           }
          ],
          "table": [
           {
            "cells": {
             "fill": {
              "color": "#EBF0F8"
             },
             "line": {
              "color": "white"
             }
            },
            "header": {
             "fill": {
              "color": "#C8D4E3"
             },
             "line": {
              "color": "white"
             }
            },
            "type": "table"
           }
          ]
         },
         "layout": {
          "annotationdefaults": {
           "arrowcolor": "#2a3f5f",
           "arrowhead": 0,
           "arrowwidth": 1
          },
          "coloraxis": {
           "colorbar": {
            "outlinewidth": 0,
            "ticks": ""
           }
          },
          "colorscale": {
           "diverging": [
            [
             0,
             "#8e0152"
            ],
            [
             0.1,
             "#c51b7d"
            ],
            [
             0.2,
             "#de77ae"
            ],
            [
             0.3,
             "#f1b6da"
            ],
            [
             0.4,
             "#fde0ef"
            ],
            [
             0.5,
             "#f7f7f7"
            ],
            [
             0.6,
             "#e6f5d0"
            ],
            [
             0.7,
             "#b8e186"
            ],
            [
             0.8,
             "#7fbc41"
            ],
            [
             0.9,
             "#4d9221"
            ],
            [
             1,
             "#276419"
            ]
           ],
           "sequential": [
            [
             0,
             "#0d0887"
            ],
            [
             0.1111111111111111,
             "#46039f"
            ],
            [
             0.2222222222222222,
             "#7201a8"
            ],
            [
             0.3333333333333333,
             "#9c179e"
            ],
            [
             0.4444444444444444,
             "#bd3786"
            ],
            [
             0.5555555555555556,
             "#d8576b"
            ],
            [
             0.6666666666666666,
             "#ed7953"
            ],
            [
             0.7777777777777778,
             "#fb9f3a"
            ],
            [
             0.8888888888888888,
             "#fdca26"
            ],
            [
             1,
             "#f0f921"
            ]
           ],
           "sequentialminus": [
            [
             0,
             "#0d0887"
            ],
            [
             0.1111111111111111,
             "#46039f"
            ],
            [
             0.2222222222222222,
             "#7201a8"
            ],
            [
             0.3333333333333333,
             "#9c179e"
            ],
            [
             0.4444444444444444,
             "#bd3786"
            ],
            [
             0.5555555555555556,
             "#d8576b"
            ],
            [
             0.6666666666666666,
             "#ed7953"
            ],
            [
             0.7777777777777778,
             "#fb9f3a"
            ],
            [
             0.8888888888888888,
             "#fdca26"
            ],
            [
             1,
             "#f0f921"
            ]
           ]
          },
          "colorway": [
           "#636efa",
           "#EF553B",
           "#00cc96",
           "#ab63fa",
           "#FFA15A",
           "#19d3f3",
           "#FF6692",
           "#B6E880",
           "#FF97FF",
           "#FECB52"
          ],
          "font": {
           "color": "#2a3f5f"
          },
          "geo": {
           "bgcolor": "white",
           "lakecolor": "white",
           "landcolor": "#E5ECF6",
           "showlakes": true,
           "showland": true,
           "subunitcolor": "white"
          },
          "hoverlabel": {
           "align": "left"
          },
          "hovermode": "closest",
          "mapbox": {
           "style": "light"
          },
          "paper_bgcolor": "white",
          "plot_bgcolor": "#E5ECF6",
          "polar": {
           "angularaxis": {
            "gridcolor": "white",
            "linecolor": "white",
            "ticks": ""
           },
           "bgcolor": "#E5ECF6",
           "radialaxis": {
            "gridcolor": "white",
            "linecolor": "white",
            "ticks": ""
           }
          },
          "scene": {
           "xaxis": {
            "backgroundcolor": "#E5ECF6",
            "gridcolor": "white",
            "gridwidth": 2,
            "linecolor": "white",
            "showbackground": true,
            "ticks": "",
            "zerolinecolor": "white"
           },
           "yaxis": {
            "backgroundcolor": "#E5ECF6",
            "gridcolor": "white",
            "gridwidth": 2,
            "linecolor": "white",
            "showbackground": true,
            "ticks": "",
            "zerolinecolor": "white"
           },
           "zaxis": {
            "backgroundcolor": "#E5ECF6",
            "gridcolor": "white",
            "gridwidth": 2,
            "linecolor": "white",
            "showbackground": true,
            "ticks": "",
            "zerolinecolor": "white"
           }
          },
          "shapedefaults": {
           "line": {
            "color": "#2a3f5f"
           }
          },
          "ternary": {
           "aaxis": {
            "gridcolor": "white",
            "linecolor": "white",
            "ticks": ""
           },
           "baxis": {
            "gridcolor": "white",
            "linecolor": "white",
            "ticks": ""
           },
           "bgcolor": "#E5ECF6",
           "caxis": {
            "gridcolor": "white",
            "linecolor": "white",
            "ticks": ""
           }
          },
          "title": {
           "x": 0.05
          },
          "xaxis": {
           "automargin": true,
           "gridcolor": "white",
           "linecolor": "white",
           "ticks": "",
           "title": {
            "standoff": 15
           },
           "zerolinecolor": "white",
           "zerolinewidth": 2
          },
          "yaxis": {
           "automargin": true,
           "gridcolor": "white",
           "linecolor": "white",
           "ticks": "",
           "title": {
            "standoff": 15
           },
           "zerolinecolor": "white",
           "zerolinewidth": 2
          }
         }
        },
        "title": {
         "font": {
          "color": "#4D5663"
         }
        },
        "xaxis": {
         "gridcolor": "#E1E5ED",
         "showgrid": true,
         "tickfont": {
          "color": "#4D5663"
         },
         "title": {
          "font": {
           "color": "#4D5663"
          },
          "text": ""
         },
         "zerolinecolor": "#E1E5ED"
        },
        "yaxis": {
         "gridcolor": "#E1E5ED",
         "showgrid": true,
         "tickfont": {
          "color": "#4D5663"
         },
         "title": {
          "font": {
           "color": "#4D5663"
          },
          "text": ""
         },
         "zerolinecolor": "#E1E5ED"
        }
       }
      },
      "text/html": [
       "<div>\n",
       "        \n",
       "        \n",
       "            <div id=\"f0baff82-e2ce-4edc-b2f8-8eab5bbdab18\" class=\"plotly-graph-div\" style=\"height:525px; width:100%;\"></div>\n",
       "            <script type=\"text/javascript\">\n",
       "                require([\"plotly\"], function(Plotly) {\n",
       "                    window.PLOTLYENV=window.PLOTLYENV || {};\n",
       "                    window.PLOTLYENV.BASE_URL='https://plot.ly';\n",
       "                    \n",
       "                if (document.getElementById(\"f0baff82-e2ce-4edc-b2f8-8eab5bbdab18\")) {\n",
       "                    Plotly.newPlot(\n",
       "                        'f0baff82-e2ce-4edc-b2f8-8eab5bbdab18',\n",
       "                        [{\"colorscale\": [[0.0, \"rgb(165,0,38)\"], [0.1, \"rgb(215,48,39)\"], [0.2, \"rgb(244,109,67)\"], [0.3, \"rgb(253,174,97)\"], [0.4, \"rgb(254,224,144)\"], [0.5, \"rgb(255,255,191)\"], [0.6, \"rgb(224,243,248)\"], [0.7, \"rgb(171,217,233)\"], [0.8, \"rgb(116,173,209)\"], [0.9, \"rgb(69,117,180)\"], [1.0, \"rgb(49,54,149)\"]], \"type\": \"surface\", \"x\": [0, 1, 2, 3, 4], \"y\": [\"x\", \"y\", \"z\"], \"z\": [[1, 2, 3, 4, 5], [10, 20, 30, 20, 10], [5, 4, 3, 2, 1]]}],\n",
       "                        {\"legend\": {\"bgcolor\": \"#F5F6F9\", \"font\": {\"color\": \"#4D5663\"}}, \"paper_bgcolor\": \"#F5F6F9\", \"plot_bgcolor\": \"#F5F6F9\", \"template\": {\"data\": {\"bar\": [{\"error_x\": {\"color\": \"#2a3f5f\"}, \"error_y\": {\"color\": \"#2a3f5f\"}, \"marker\": {\"line\": {\"color\": \"#E5ECF6\", \"width\": 0.5}}, \"type\": \"bar\"}], \"barpolar\": [{\"marker\": {\"line\": {\"color\": \"#E5ECF6\", \"width\": 0.5}}, \"type\": \"barpolar\"}], \"carpet\": [{\"aaxis\": {\"endlinecolor\": \"#2a3f5f\", \"gridcolor\": \"white\", \"linecolor\": \"white\", \"minorgridcolor\": \"white\", \"startlinecolor\": \"#2a3f5f\"}, \"baxis\": {\"endlinecolor\": \"#2a3f5f\", \"gridcolor\": \"white\", \"linecolor\": \"white\", \"minorgridcolor\": \"white\", \"startlinecolor\": \"#2a3f5f\"}, \"type\": \"carpet\"}], \"choropleth\": [{\"colorbar\": {\"outlinewidth\": 0, \"ticks\": \"\"}, \"type\": \"choropleth\"}], \"contour\": [{\"colorbar\": {\"outlinewidth\": 0, \"ticks\": \"\"}, \"colorscale\": [[0.0, \"#0d0887\"], [0.1111111111111111, \"#46039f\"], [0.2222222222222222, \"#7201a8\"], [0.3333333333333333, \"#9c179e\"], [0.4444444444444444, \"#bd3786\"], [0.5555555555555556, \"#d8576b\"], [0.6666666666666666, \"#ed7953\"], [0.7777777777777778, \"#fb9f3a\"], [0.8888888888888888, \"#fdca26\"], [1.0, \"#f0f921\"]], \"type\": \"contour\"}], \"contourcarpet\": [{\"colorbar\": {\"outlinewidth\": 0, \"ticks\": \"\"}, \"type\": \"contourcarpet\"}], \"heatmap\": [{\"colorbar\": {\"outlinewidth\": 0, \"ticks\": \"\"}, \"colorscale\": [[0.0, \"#0d0887\"], [0.1111111111111111, \"#46039f\"], [0.2222222222222222, \"#7201a8\"], [0.3333333333333333, \"#9c179e\"], [0.4444444444444444, \"#bd3786\"], [0.5555555555555556, \"#d8576b\"], [0.6666666666666666, \"#ed7953\"], [0.7777777777777778, \"#fb9f3a\"], [0.8888888888888888, \"#fdca26\"], [1.0, \"#f0f921\"]], \"type\": \"heatmap\"}], \"heatmapgl\": [{\"colorbar\": {\"outlinewidth\": 0, \"ticks\": \"\"}, \"colorscale\": [[0.0, \"#0d0887\"], [0.1111111111111111, \"#46039f\"], [0.2222222222222222, \"#7201a8\"], [0.3333333333333333, \"#9c179e\"], [0.4444444444444444, \"#bd3786\"], [0.5555555555555556, \"#d8576b\"], [0.6666666666666666, \"#ed7953\"], [0.7777777777777778, \"#fb9f3a\"], [0.8888888888888888, \"#fdca26\"], [1.0, \"#f0f921\"]], \"type\": \"heatmapgl\"}], \"histogram\": [{\"marker\": {\"colorbar\": {\"outlinewidth\": 0, \"ticks\": \"\"}}, \"type\": \"histogram\"}], \"histogram2d\": [{\"colorbar\": {\"outlinewidth\": 0, \"ticks\": \"\"}, \"colorscale\": [[0.0, \"#0d0887\"], [0.1111111111111111, \"#46039f\"], [0.2222222222222222, \"#7201a8\"], [0.3333333333333333, \"#9c179e\"], [0.4444444444444444, \"#bd3786\"], [0.5555555555555556, \"#d8576b\"], [0.6666666666666666, \"#ed7953\"], [0.7777777777777778, \"#fb9f3a\"], [0.8888888888888888, \"#fdca26\"], [1.0, \"#f0f921\"]], \"type\": \"histogram2d\"}], \"histogram2dcontour\": [{\"colorbar\": {\"outlinewidth\": 0, \"ticks\": \"\"}, \"colorscale\": [[0.0, \"#0d0887\"], [0.1111111111111111, \"#46039f\"], [0.2222222222222222, \"#7201a8\"], [0.3333333333333333, \"#9c179e\"], [0.4444444444444444, \"#bd3786\"], [0.5555555555555556, \"#d8576b\"], [0.6666666666666666, \"#ed7953\"], [0.7777777777777778, \"#fb9f3a\"], [0.8888888888888888, \"#fdca26\"], [1.0, \"#f0f921\"]], \"type\": \"histogram2dcontour\"}], \"mesh3d\": [{\"colorbar\": {\"outlinewidth\": 0, \"ticks\": \"\"}, \"type\": \"mesh3d\"}], \"parcoords\": [{\"line\": {\"colorbar\": {\"outlinewidth\": 0, \"ticks\": \"\"}}, \"type\": \"parcoords\"}], \"pie\": [{\"automargin\": true, \"type\": \"pie\"}], \"scatter\": [{\"marker\": {\"colorbar\": {\"outlinewidth\": 0, \"ticks\": \"\"}}, \"type\": \"scatter\"}], \"scatter3d\": [{\"line\": {\"colorbar\": {\"outlinewidth\": 0, \"ticks\": \"\"}}, \"marker\": {\"colorbar\": {\"outlinewidth\": 0, \"ticks\": \"\"}}, \"type\": \"scatter3d\"}], \"scattercarpet\": [{\"marker\": {\"colorbar\": {\"outlinewidth\": 0, \"ticks\": \"\"}}, \"type\": \"scattercarpet\"}], \"scattergeo\": [{\"marker\": {\"colorbar\": {\"outlinewidth\": 0, \"ticks\": \"\"}}, \"type\": \"scattergeo\"}], \"scattergl\": [{\"marker\": {\"colorbar\": {\"outlinewidth\": 0, \"ticks\": \"\"}}, \"type\": \"scattergl\"}], \"scattermapbox\": [{\"marker\": {\"colorbar\": {\"outlinewidth\": 0, \"ticks\": \"\"}}, \"type\": \"scattermapbox\"}], \"scatterpolar\": [{\"marker\": {\"colorbar\": {\"outlinewidth\": 0, \"ticks\": \"\"}}, \"type\": \"scatterpolar\"}], \"scatterpolargl\": [{\"marker\": {\"colorbar\": {\"outlinewidth\": 0, \"ticks\": \"\"}}, \"type\": \"scatterpolargl\"}], \"scatterternary\": [{\"marker\": {\"colorbar\": {\"outlinewidth\": 0, \"ticks\": \"\"}}, \"type\": \"scatterternary\"}], \"surface\": [{\"colorbar\": {\"outlinewidth\": 0, \"ticks\": \"\"}, \"colorscale\": [[0.0, \"#0d0887\"], [0.1111111111111111, \"#46039f\"], [0.2222222222222222, \"#7201a8\"], [0.3333333333333333, \"#9c179e\"], [0.4444444444444444, \"#bd3786\"], [0.5555555555555556, \"#d8576b\"], [0.6666666666666666, \"#ed7953\"], [0.7777777777777778, \"#fb9f3a\"], [0.8888888888888888, \"#fdca26\"], [1.0, \"#f0f921\"]], \"type\": \"surface\"}], \"table\": [{\"cells\": {\"fill\": {\"color\": \"#EBF0F8\"}, \"line\": {\"color\": \"white\"}}, \"header\": {\"fill\": {\"color\": \"#C8D4E3\"}, \"line\": {\"color\": \"white\"}}, \"type\": \"table\"}]}, \"layout\": {\"annotationdefaults\": {\"arrowcolor\": \"#2a3f5f\", \"arrowhead\": 0, \"arrowwidth\": 1}, \"coloraxis\": {\"colorbar\": {\"outlinewidth\": 0, \"ticks\": \"\"}}, \"colorscale\": {\"diverging\": [[0, \"#8e0152\"], [0.1, \"#c51b7d\"], [0.2, \"#de77ae\"], [0.3, \"#f1b6da\"], [0.4, \"#fde0ef\"], [0.5, \"#f7f7f7\"], [0.6, \"#e6f5d0\"], [0.7, \"#b8e186\"], [0.8, \"#7fbc41\"], [0.9, \"#4d9221\"], [1, \"#276419\"]], \"sequential\": [[0.0, \"#0d0887\"], [0.1111111111111111, \"#46039f\"], [0.2222222222222222, \"#7201a8\"], [0.3333333333333333, \"#9c179e\"], [0.4444444444444444, \"#bd3786\"], [0.5555555555555556, \"#d8576b\"], [0.6666666666666666, \"#ed7953\"], [0.7777777777777778, \"#fb9f3a\"], [0.8888888888888888, \"#fdca26\"], [1.0, \"#f0f921\"]], \"sequentialminus\": [[0.0, \"#0d0887\"], [0.1111111111111111, \"#46039f\"], [0.2222222222222222, \"#7201a8\"], [0.3333333333333333, \"#9c179e\"], [0.4444444444444444, \"#bd3786\"], [0.5555555555555556, \"#d8576b\"], [0.6666666666666666, \"#ed7953\"], [0.7777777777777778, \"#fb9f3a\"], [0.8888888888888888, \"#fdca26\"], [1.0, \"#f0f921\"]]}, \"colorway\": [\"#636efa\", \"#EF553B\", \"#00cc96\", \"#ab63fa\", \"#FFA15A\", \"#19d3f3\", \"#FF6692\", \"#B6E880\", \"#FF97FF\", \"#FECB52\"], \"font\": {\"color\": \"#2a3f5f\"}, \"geo\": {\"bgcolor\": \"white\", \"lakecolor\": \"white\", \"landcolor\": \"#E5ECF6\", \"showlakes\": true, \"showland\": true, \"subunitcolor\": \"white\"}, \"hoverlabel\": {\"align\": \"left\"}, \"hovermode\": \"closest\", \"mapbox\": {\"style\": \"light\"}, \"paper_bgcolor\": \"white\", \"plot_bgcolor\": \"#E5ECF6\", \"polar\": {\"angularaxis\": {\"gridcolor\": \"white\", \"linecolor\": \"white\", \"ticks\": \"\"}, \"bgcolor\": \"#E5ECF6\", \"radialaxis\": {\"gridcolor\": \"white\", \"linecolor\": \"white\", \"ticks\": \"\"}}, \"scene\": {\"xaxis\": {\"backgroundcolor\": \"#E5ECF6\", \"gridcolor\": \"white\", \"gridwidth\": 2, \"linecolor\": \"white\", \"showbackground\": true, \"ticks\": \"\", \"zerolinecolor\": \"white\"}, \"yaxis\": {\"backgroundcolor\": \"#E5ECF6\", \"gridcolor\": \"white\", \"gridwidth\": 2, \"linecolor\": \"white\", \"showbackground\": true, \"ticks\": \"\", \"zerolinecolor\": \"white\"}, \"zaxis\": {\"backgroundcolor\": \"#E5ECF6\", \"gridcolor\": \"white\", \"gridwidth\": 2, \"linecolor\": \"white\", \"showbackground\": true, \"ticks\": \"\", \"zerolinecolor\": \"white\"}}, \"shapedefaults\": {\"line\": {\"color\": \"#2a3f5f\"}}, \"ternary\": {\"aaxis\": {\"gridcolor\": \"white\", \"linecolor\": \"white\", \"ticks\": \"\"}, \"baxis\": {\"gridcolor\": \"white\", \"linecolor\": \"white\", \"ticks\": \"\"}, \"bgcolor\": \"#E5ECF6\", \"caxis\": {\"gridcolor\": \"white\", \"linecolor\": \"white\", \"ticks\": \"\"}}, \"title\": {\"x\": 0.05}, \"xaxis\": {\"automargin\": true, \"gridcolor\": \"white\", \"linecolor\": \"white\", \"ticks\": \"\", \"title\": {\"standoff\": 15}, \"zerolinecolor\": \"white\", \"zerolinewidth\": 2}, \"yaxis\": {\"automargin\": true, \"gridcolor\": \"white\", \"linecolor\": \"white\", \"ticks\": \"\", \"title\": {\"standoff\": 15}, \"zerolinecolor\": \"white\", \"zerolinewidth\": 2}}}, \"title\": {\"font\": {\"color\": \"#4D5663\"}}, \"xaxis\": {\"gridcolor\": \"#E1E5ED\", \"showgrid\": true, \"tickfont\": {\"color\": \"#4D5663\"}, \"title\": {\"font\": {\"color\": \"#4D5663\"}, \"text\": \"\"}, \"zerolinecolor\": \"#E1E5ED\"}, \"yaxis\": {\"gridcolor\": \"#E1E5ED\", \"showgrid\": true, \"tickfont\": {\"color\": \"#4D5663\"}, \"title\": {\"font\": {\"color\": \"#4D5663\"}, \"text\": \"\"}, \"zerolinecolor\": \"#E1E5ED\"}},\n",
       "                        {\"showLink\": true, \"linkText\": \"Export to plot.ly\", \"plotlyServerURL\": \"https://plot.ly\", \"responsive\": true}\n",
       "                    ).then(function(){\n",
       "                            \n",
       "var gd = document.getElementById('f0baff82-e2ce-4edc-b2f8-8eab5bbdab18');\n",
       "var x = new MutationObserver(function (mutations, observer) {{\n",
       "        var display = window.getComputedStyle(gd).display;\n",
       "        if (!display || display === 'none') {{\n",
       "            console.log([gd, 'removed!']);\n",
       "            Plotly.purge(gd);\n",
       "            observer.disconnect();\n",
       "        }}\n",
       "}});\n",
       "\n",
       "// Listen for the removal of the full notebook cells\n",
       "var notebookContainer = gd.closest('#notebook-container');\n",
       "if (notebookContainer) {{\n",
       "    x.observe(notebookContainer, {childList: true});\n",
       "}}\n",
       "\n",
       "// Listen for the clearing of the current output cell\n",
       "var outputEl = gd.closest('.output');\n",
       "if (outputEl) {{\n",
       "    x.observe(outputEl, {childList: true});\n",
       "}}\n",
       "\n",
       "                        })\n",
       "                };\n",
       "                });\n",
       "            </script>\n",
       "        </div>"
      ]
     },
     "metadata": {},
     "output_type": "display_data"
    }
   ],
   "source": [
    "df3 = pd.DataFrame({'x':[1,2,3,4,5],'y':[10,20,30,20,10],'z':[5,4,3,2,1]})\n",
    "df3.iplot(kind='surface',colorscale='rdylbu')"
   ]
  },
  {
   "cell_type": "markdown",
   "metadata": {},
   "source": [
    "## Spread"
   ]
  },
  {
   "cell_type": "code",
   "execution_count": 15,
   "metadata": {},
   "outputs": [
    {
     "name": "stderr",
     "output_type": "stream",
     "text": [
      "/Users/haraatsushi/.anyenv/envs/pyenv/versions/anaconda3-2020.02/lib/python3.7/site-packages/cufflinks/plotlytools.py:849: FutureWarning:\n",
      "\n",
      "The pandas.np module is deprecated and will be removed from pandas in a future version. Import numpy directly instead\n",
      "\n",
      "/Users/haraatsushi/.anyenv/envs/pyenv/versions/anaconda3-2020.02/lib/python3.7/site-packages/cufflinks/plotlytools.py:850: FutureWarning:\n",
      "\n",
      "The pandas.np module is deprecated and will be removed from pandas in a future version. Import numpy directly instead\n",
      "\n"
     ]
    },
    {
     "data": {
      "application/vnd.plotly.v1+json": {
       "config": {
        "linkText": "Export to plot.ly",
        "plotlyServerURL": "https://plot.ly",
        "showLink": true
       },
       "data": [
        {
         "line": {
          "color": "rgba(255, 153, 51, 1.0)",
          "dash": "solid",
          "shape": "linear",
          "width": 1.3
         },
         "mode": "lines",
         "name": "A",
         "text": "",
         "type": "scatter",
         "x": [
          0,
          1,
          2,
          3,
          4,
          5,
          6,
          7,
          8,
          9,
          10,
          11,
          12,
          13,
          14,
          15,
          16,
          17,
          18,
          19,
          20,
          21,
          22,
          23,
          24,
          25,
          26,
          27,
          28,
          29,
          30,
          31,
          32,
          33,
          34,
          35,
          36,
          37,
          38,
          39,
          40,
          41,
          42,
          43,
          44,
          45,
          46,
          47,
          48,
          49,
          50,
          51,
          52,
          53,
          54,
          55,
          56,
          57,
          58,
          59,
          60,
          61,
          62,
          63,
          64,
          65,
          66,
          67,
          68,
          69,
          70,
          71,
          72,
          73,
          74,
          75,
          76,
          77,
          78,
          79,
          80,
          81,
          82,
          83,
          84,
          85,
          86,
          87,
          88,
          89,
          90,
          91,
          92,
          93,
          94,
          95,
          96,
          97,
          98,
          99
         ],
         "y": [
          1.565884337167468,
          -0.45771390855734573,
          -0.6294981356484306,
          -0.31632596935640805,
          -0.8415387236765782,
          -1.0011109686364592,
          -1.4848300297289672,
          -0.4341971001119396,
          0.20559798897040746,
          -1.0093491072636154,
          -0.6933918467635506,
          -1.4134648098598488,
          -0.006558075223548637,
          0.42339501837302906,
          1.0536102304279946,
          -0.22135839802994153,
          -0.5588442239783614,
          0.8011714238548048,
          -0.8954504814497545,
          -0.8702490790991079,
          -0.08548128885203164,
          -1.7781641352509694,
          2.614932210947218,
          -0.1040436359440887,
          -1.6474994438719635,
          0.1131359207721515,
          -0.08796528933397242,
          2.5258333098386765,
          -0.4163684847370185,
          0.278459211531101,
          1.348134060287212,
          -1.0270330164094006,
          -0.3082720877712286,
          1.0975241245551837,
          -1.955871071034986,
          -0.6521508448632184,
          -0.8038019598913686,
          -1.501894043694504,
          0.24333768279152238,
          1.592031644168021,
          0.949301075242087,
          -0.023481831597560853,
          -1.367738140808775,
          -0.08686752700857645,
          -0.1638917532126145,
          -1.272210803236027,
          -1.0741244297077253,
          -3.4659277855100084,
          -0.9738316689582084,
          0.34373991219368616,
          -1.3290005300039058,
          2.2827711463244196,
          -0.6194094358815374,
          0.37335682630177425,
          1.7163568406020657,
          0.6634845573251583,
          0.13750158166138593,
          0.8869606796560566,
          -0.36898132575109505,
          -0.027969059779097097,
          0.5651141298181905,
          -0.998635320715629,
          -0.520446310714804,
          0.5994623035040102,
          0.708852267700245,
          -0.8136227015450364,
          -1.5764748894413487,
          -0.8977669402845133,
          0.06760506819494855,
          1.8214441598957745,
          -0.858597184257929,
          0.018599761851139936,
          1.0615074581619262,
          -0.5945356040381385,
          1.063628108280927,
          -0.026343395611301456,
          1.6160843357286385,
          -2.039300163490272,
          0.29197227096395584,
          1.2773432038890091,
          1.397931871420511,
          -0.19011073602518447,
          -0.5616139272987423,
          -0.33365921974022533,
          0.25498039368357694,
          -0.5045169854402038,
          -0.6823106757278841,
          -1.0524270888935459,
          1.297890380840405,
          0.37222308458826087,
          -0.1858497690901246,
          -0.5969749215773195,
          1.750369944761348,
          1.05428825034664,
          -0.9561301036271894,
          -1.0575419797300827,
          -1.0516778401677838,
          0.8456087654973249,
          0.41348484173507144,
          -2.0351669878108525
         ]
        },
        {
         "line": {
          "color": "rgba(55, 128, 191, 1.0)",
          "dash": "solid",
          "shape": "linear",
          "width": 1.3
         },
         "mode": "lines",
         "name": "B",
         "text": "",
         "type": "scatter",
         "x": [
          0,
          1,
          2,
          3,
          4,
          5,
          6,
          7,
          8,
          9,
          10,
          11,
          12,
          13,
          14,
          15,
          16,
          17,
          18,
          19,
          20,
          21,
          22,
          23,
          24,
          25,
          26,
          27,
          28,
          29,
          30,
          31,
          32,
          33,
          34,
          35,
          36,
          37,
          38,
          39,
          40,
          41,
          42,
          43,
          44,
          45,
          46,
          47,
          48,
          49,
          50,
          51,
          52,
          53,
          54,
          55,
          56,
          57,
          58,
          59,
          60,
          61,
          62,
          63,
          64,
          65,
          66,
          67,
          68,
          69,
          70,
          71,
          72,
          73,
          74,
          75,
          76,
          77,
          78,
          79,
          80,
          81,
          82,
          83,
          84,
          85,
          86,
          87,
          88,
          89,
          90,
          91,
          92,
          93,
          94,
          95,
          96,
          97,
          98,
          99
         ],
         "y": [
          -0.6967737301029128,
          0.3955923153588364,
          0.9304509208325568,
          -0.0744586522642926,
          0.1211984333652385,
          0.022291349587955523,
          0.3887385590763829,
          -2.197471675736836,
          -0.18263329127329966,
          -0.8441573294832997,
          0.25438217466521695,
          -0.4665323161144188,
          -0.28094950723014095,
          -0.9019303972034435,
          -0.8564555377646561,
          0.4945430468649379,
          -1.76258208763336,
          -0.4918490163755658,
          1.2494042369031118,
          0.031181800975316205,
          -0.1083735743325583,
          1.2884576364371843,
          -1.6037547525042675,
          -1.1462001137263944,
          0.9548645539803001,
          -1.3886683835731528,
          0.7532489553467764,
          -0.010822797014181502,
          -0.3577884303405244,
          -0.9600572198594697,
          -0.8487481571361674,
          -0.1886567268766113,
          0.7651822612089191,
          -0.154652529142487,
          0.25439107341567063,
          -2.8948776168564954,
          -0.03072124986333935,
          0.22591470261515573,
          1.5029917208158639,
          0.15340207199391692,
          -0.06341970644899546,
          -0.778625105227336,
          -0.3739662082593961,
          0.5826781894263957,
          1.3352886097452983,
          0.45955618854761954,
          -1.2509126022463022,
          -0.23781710320954533,
          0.6511060012132226,
          1.0599773131525834,
          1.455408403447102,
          -0.8892299822485499,
          1.6720953701987729,
          0.7586822821240174,
          -1.1029657978608838,
          -0.42074668557719874,
          0.4373370016959473,
          1.6674354351089624,
          -0.5014138119319443,
          0.8901371658728653,
          0.5450316271810358,
          -0.2979814489174735,
          0.00746766129420241,
          0.48805137821334166,
          -0.15750421727680192,
          0.5135060773499763,
          -0.6679765559004219,
          0.6234621029683176,
          0.6687995341297776,
          0.44948993111897134,
          0.22050423567227825,
          -0.7373287858654547,
          -0.024554045318524825,
          1.3946803315640273,
          0.5892612669063987,
          0.6474314037463123,
          -1.3016713140423926,
          1.263933201091441,
          -2.062701337755691,
          2.525763242001359,
          0.7361501938603366,
          -0.07660514326388362,
          0.054162809365627486,
          -1.6422968996712803,
          -0.7101847406077325,
          1.079380624362349,
          -0.602693260182104,
          -1.598310885910521,
          0.7222361259546951,
          0.87395586159824,
          0.44038898813091215,
          -0.3631094213080669,
          1.644230309460639,
          1.0507482071374046,
          0.9512076062512657,
          -0.894214278654392,
          1.9233660832168906,
          -1.268145238676145,
          0.18883957711582006,
          0.851423150446762
         ]
        },
        {
         "connectgaps": false,
         "fill": "tozeroy",
         "line": {
          "color": "green",
          "dash": "solid",
          "shape": "linear",
          "width": 0.5
         },
         "mode": "lines",
         "name": "Spread",
         "showlegend": false,
         "type": "scatter",
         "x": [
          0,
          1,
          2,
          3,
          4,
          5,
          6,
          7,
          8,
          9,
          10,
          11,
          12,
          13,
          14,
          15,
          16,
          17,
          18,
          19,
          20,
          21,
          22,
          23,
          24,
          25,
          26,
          27,
          28,
          29,
          30,
          31,
          32,
          33,
          34,
          35,
          36,
          37,
          38,
          39,
          40,
          41,
          42,
          43,
          44,
          45,
          46,
          47,
          48,
          49,
          50,
          51,
          52,
          53,
          54,
          55,
          56,
          57,
          58,
          59,
          60,
          61,
          62,
          63,
          64,
          65,
          66,
          67,
          68,
          69,
          70,
          71,
          72,
          73,
          74,
          75,
          76,
          77,
          78,
          79,
          80,
          81,
          82,
          83,
          84,
          85,
          86,
          87,
          88,
          89,
          90,
          91,
          92,
          93,
          94,
          95,
          96,
          97,
          98,
          99
         ],
         "xaxis": "x2",
         "y": [
          2.262658067270381,
          "",
          "",
          "",
          "",
          "",
          "",
          1.7632745756248964,
          0.3882312802437071,
          "",
          "",
          "",
          0.27439143200659233,
          1.3253254155764727,
          1.9100657681926507,
          "",
          1.2037378636549985,
          1.2930204402303707,
          "",
          "",
          0.02289228548052666,
          "",
          4.218686963451486,
          1.0421564777823058,
          "",
          1.5018043043453042,
          "",
          2.536656106852858,
          "",
          1.2385164313905705,
          2.1968822174233793,
          "",
          "",
          1.2521766536976706,
          "",
          2.242726771993277,
          "",
          "",
          "",
          1.438629572174104,
          1.0127207816910824,
          0.7551432736297751,
          "",
          "",
          "",
          "",
          0.17678817253857693,
          "",
          "",
          "",
          "",
          3.1720011285729695,
          "",
          "",
          2.8193226384629497,
          1.084231242902357,
          "",
          "",
          0.1324324861808493,
          "",
          0.02008250263715472,
          "",
          "",
          0.11141092529066854,
          0.8663564849770469,
          "",
          "",
          "",
          "",
          1.3719542287768032,
          "",
          0.7559285477165947,
          1.086061503480451,
          "",
          0.4743668413745282,
          "",
          2.9177556497710313,
          "",
          2.354673608719647,
          "",
          0.6617816775601743,
          "",
          "",
          1.308637679931055,
          0.9651651342913095,
          "",
          "",
          0.5458837970169752,
          0.5756542548857099,
          "",
          "",
          "",
          0.10613963530070913,
          0.0035400432092353995,
          "",
          "",
          "",
          2.1137540041734697,
          0.22464526461925138,
          ""
         ],
         "yaxis": "y2"
        },
        {
         "connectgaps": false,
         "fill": "tozeroy",
         "line": {
          "color": "red",
          "dash": "solid",
          "shape": "linear",
          "width": 0.5
         },
         "mode": "lines",
         "name": "Spread",
         "showlegend": false,
         "type": "scatter",
         "x": [
          0,
          1,
          2,
          3,
          4,
          5,
          6,
          7,
          8,
          9,
          10,
          11,
          12,
          13,
          14,
          15,
          16,
          17,
          18,
          19,
          20,
          21,
          22,
          23,
          24,
          25,
          26,
          27,
          28,
          29,
          30,
          31,
          32,
          33,
          34,
          35,
          36,
          37,
          38,
          39,
          40,
          41,
          42,
          43,
          44,
          45,
          46,
          47,
          48,
          49,
          50,
          51,
          52,
          53,
          54,
          55,
          56,
          57,
          58,
          59,
          60,
          61,
          62,
          63,
          64,
          65,
          66,
          67,
          68,
          69,
          70,
          71,
          72,
          73,
          74,
          75,
          76,
          77,
          78,
          79,
          80,
          81,
          82,
          83,
          84,
          85,
          86,
          87,
          88,
          89,
          90,
          91,
          92,
          93,
          94,
          95,
          96,
          97,
          98,
          99
         ],
         "xaxis": "x2",
         "y": [
          "",
          -0.8533062239161822,
          -1.5599490564809875,
          -0.24186731709211545,
          -0.9627371570418167,
          -1.0234023182244147,
          -1.87356858880535,
          "",
          "",
          -0.16519177778031569,
          -0.9477740214287675,
          -0.94693249374543,
          "",
          "",
          "",
          -0.7159014448948794,
          "",
          "",
          -2.144854718352866,
          -0.9014308800744241,
          "",
          -3.066621771688154,
          "",
          "",
          -2.6023639978522635,
          "",
          -0.8412142446807488,
          "",
          -0.05858005439649411,
          "",
          "",
          -0.8383762895327893,
          -1.0734543489801478,
          "",
          -2.2102621444506565,
          "",
          -0.7730807100280292,
          -1.7278087463096599,
          -1.2596540380243415,
          "",
          "",
          "",
          -0.9937719325493789,
          -0.6695457164349722,
          -1.4991803629579128,
          -1.7317669917836467,
          "",
          -3.228110682300463,
          -1.6249376701714309,
          -0.7162374009588972,
          -2.784408933451008,
          "",
          -2.2915048060803103,
          -0.3853254558222432,
          "",
          "",
          -0.2998354200345614,
          -0.7804747554529058,
          "",
          -0.9181062256519624,
          "",
          -0.7006538717981554,
          -0.5279139720090064,
          "",
          "",
          -1.3271287788950126,
          -0.9084983335409268,
          -1.521229043252831,
          -0.601194465934829,
          "",
          -1.0791014199302071,
          "",
          "",
          -1.9892159356021657,
          "",
          -0.6737747993576138,
          "",
          -3.303233364581713,
          "",
          -1.2484200381123498,
          "",
          -0.11350559276130084,
          -0.6157767366643697,
          "",
          "",
          -1.5838976098025528,
          -0.07961741554578006,
          "",
          "",
          -0.5017327770099791,
          -0.6262387572210367,
          -0.23386550026925257,
          "",
          "",
          -1.9073377098784552,
          -0.16332770107569072,
          -2.9750439233846744,
          "",
          "",
          -2.8865901382576142
         ],
         "yaxis": "y2"
        }
       ],
       "layout": {
        "hovermode": "x",
        "legend": {
         "bgcolor": "#F5F6F9",
         "font": {
          "color": "#4D5663"
         }
        },
        "paper_bgcolor": "#F5F6F9",
        "plot_bgcolor": "#F5F6F9",
        "template": {
         "data": {
          "bar": [
           {
            "error_x": {
             "color": "#2a3f5f"
            },
            "error_y": {
             "color": "#2a3f5f"
            },
            "marker": {
             "line": {
              "color": "#E5ECF6",
              "width": 0.5
             }
            },
            "type": "bar"
           }
          ],
          "barpolar": [
           {
            "marker": {
             "line": {
              "color": "#E5ECF6",
              "width": 0.5
             }
            },
            "type": "barpolar"
           }
          ],
          "carpet": [
           {
            "aaxis": {
             "endlinecolor": "#2a3f5f",
             "gridcolor": "white",
             "linecolor": "white",
             "minorgridcolor": "white",
             "startlinecolor": "#2a3f5f"
            },
            "baxis": {
             "endlinecolor": "#2a3f5f",
             "gridcolor": "white",
             "linecolor": "white",
             "minorgridcolor": "white",
             "startlinecolor": "#2a3f5f"
            },
            "type": "carpet"
           }
          ],
          "choropleth": [
           {
            "colorbar": {
             "outlinewidth": 0,
             "ticks": ""
            },
            "type": "choropleth"
           }
          ],
          "contour": [
           {
            "colorbar": {
             "outlinewidth": 0,
             "ticks": ""
            },
            "colorscale": [
             [
              0,
              "#0d0887"
             ],
             [
              0.1111111111111111,
              "#46039f"
             ],
             [
              0.2222222222222222,
              "#7201a8"
             ],
             [
              0.3333333333333333,
              "#9c179e"
             ],
             [
              0.4444444444444444,
              "#bd3786"
             ],
             [
              0.5555555555555556,
              "#d8576b"
             ],
             [
              0.6666666666666666,
              "#ed7953"
             ],
             [
              0.7777777777777778,
              "#fb9f3a"
             ],
             [
              0.8888888888888888,
              "#fdca26"
             ],
             [
              1,
              "#f0f921"
             ]
            ],
            "type": "contour"
           }
          ],
          "contourcarpet": [
           {
            "colorbar": {
             "outlinewidth": 0,
             "ticks": ""
            },
            "type": "contourcarpet"
           }
          ],
          "heatmap": [
           {
            "colorbar": {
             "outlinewidth": 0,
             "ticks": ""
            },
            "colorscale": [
             [
              0,
              "#0d0887"
             ],
             [
              0.1111111111111111,
              "#46039f"
             ],
             [
              0.2222222222222222,
              "#7201a8"
             ],
             [
              0.3333333333333333,
              "#9c179e"
             ],
             [
              0.4444444444444444,
              "#bd3786"
             ],
             [
              0.5555555555555556,
              "#d8576b"
             ],
             [
              0.6666666666666666,
              "#ed7953"
             ],
             [
              0.7777777777777778,
              "#fb9f3a"
             ],
             [
              0.8888888888888888,
              "#fdca26"
             ],
             [
              1,
              "#f0f921"
             ]
            ],
            "type": "heatmap"
           }
          ],
          "heatmapgl": [
           {
            "colorbar": {
             "outlinewidth": 0,
             "ticks": ""
            },
            "colorscale": [
             [
              0,
              "#0d0887"
             ],
             [
              0.1111111111111111,
              "#46039f"
             ],
             [
              0.2222222222222222,
              "#7201a8"
             ],
             [
              0.3333333333333333,
              "#9c179e"
             ],
             [
              0.4444444444444444,
              "#bd3786"
             ],
             [
              0.5555555555555556,
              "#d8576b"
             ],
             [
              0.6666666666666666,
              "#ed7953"
             ],
             [
              0.7777777777777778,
              "#fb9f3a"
             ],
             [
              0.8888888888888888,
              "#fdca26"
             ],
             [
              1,
              "#f0f921"
             ]
            ],
            "type": "heatmapgl"
           }
          ],
          "histogram": [
           {
            "marker": {
             "colorbar": {
              "outlinewidth": 0,
              "ticks": ""
             }
            },
            "type": "histogram"
           }
          ],
          "histogram2d": [
           {
            "colorbar": {
             "outlinewidth": 0,
             "ticks": ""
            },
            "colorscale": [
             [
              0,
              "#0d0887"
             ],
             [
              0.1111111111111111,
              "#46039f"
             ],
             [
              0.2222222222222222,
              "#7201a8"
             ],
             [
              0.3333333333333333,
              "#9c179e"
             ],
             [
              0.4444444444444444,
              "#bd3786"
             ],
             [
              0.5555555555555556,
              "#d8576b"
             ],
             [
              0.6666666666666666,
              "#ed7953"
             ],
             [
              0.7777777777777778,
              "#fb9f3a"
             ],
             [
              0.8888888888888888,
              "#fdca26"
             ],
             [
              1,
              "#f0f921"
             ]
            ],
            "type": "histogram2d"
           }
          ],
          "histogram2dcontour": [
           {
            "colorbar": {
             "outlinewidth": 0,
             "ticks": ""
            },
            "colorscale": [
             [
              0,
              "#0d0887"
             ],
             [
              0.1111111111111111,
              "#46039f"
             ],
             [
              0.2222222222222222,
              "#7201a8"
             ],
             [
              0.3333333333333333,
              "#9c179e"
             ],
             [
              0.4444444444444444,
              "#bd3786"
             ],
             [
              0.5555555555555556,
              "#d8576b"
             ],
             [
              0.6666666666666666,
              "#ed7953"
             ],
             [
              0.7777777777777778,
              "#fb9f3a"
             ],
             [
              0.8888888888888888,
              "#fdca26"
             ],
             [
              1,
              "#f0f921"
             ]
            ],
            "type": "histogram2dcontour"
           }
          ],
          "mesh3d": [
           {
            "colorbar": {
             "outlinewidth": 0,
             "ticks": ""
            },
            "type": "mesh3d"
           }
          ],
          "parcoords": [
           {
            "line": {
             "colorbar": {
              "outlinewidth": 0,
              "ticks": ""
             }
            },
            "type": "parcoords"
           }
          ],
          "pie": [
           {
            "automargin": true,
            "type": "pie"
           }
          ],
          "scatter": [
           {
            "marker": {
             "colorbar": {
              "outlinewidth": 0,
              "ticks": ""
             }
            },
            "type": "scatter"
           }
          ],
          "scatter3d": [
           {
            "line": {
             "colorbar": {
              "outlinewidth": 0,
              "ticks": ""
             }
            },
            "marker": {
             "colorbar": {
              "outlinewidth": 0,
              "ticks": ""
             }
            },
            "type": "scatter3d"
           }
          ],
          "scattercarpet": [
           {
            "marker": {
             "colorbar": {
              "outlinewidth": 0,
              "ticks": ""
             }
            },
            "type": "scattercarpet"
           }
          ],
          "scattergeo": [
           {
            "marker": {
             "colorbar": {
              "outlinewidth": 0,
              "ticks": ""
             }
            },
            "type": "scattergeo"
           }
          ],
          "scattergl": [
           {
            "marker": {
             "colorbar": {
              "outlinewidth": 0,
              "ticks": ""
             }
            },
            "type": "scattergl"
           }
          ],
          "scattermapbox": [
           {
            "marker": {
             "colorbar": {
              "outlinewidth": 0,
              "ticks": ""
             }
            },
            "type": "scattermapbox"
           }
          ],
          "scatterpolar": [
           {
            "marker": {
             "colorbar": {
              "outlinewidth": 0,
              "ticks": ""
             }
            },
            "type": "scatterpolar"
           }
          ],
          "scatterpolargl": [
           {
            "marker": {
             "colorbar": {
              "outlinewidth": 0,
              "ticks": ""
             }
            },
            "type": "scatterpolargl"
           }
          ],
          "scatterternary": [
           {
            "marker": {
             "colorbar": {
              "outlinewidth": 0,
              "ticks": ""
             }
            },
            "type": "scatterternary"
           }
          ],
          "surface": [
           {
            "colorbar": {
             "outlinewidth": 0,
             "ticks": ""
            },
            "colorscale": [
             [
              0,
              "#0d0887"
             ],
             [
              0.1111111111111111,
              "#46039f"
             ],
             [
              0.2222222222222222,
              "#7201a8"
             ],
             [
              0.3333333333333333,
              "#9c179e"
             ],
             [
              0.4444444444444444,
              "#bd3786"
             ],
             [
              0.5555555555555556,
              "#d8576b"
             ],
             [
              0.6666666666666666,
              "#ed7953"
             ],
             [
              0.7777777777777778,
              "#fb9f3a"
             ],
             [
              0.8888888888888888,
              "#fdca26"
             ],
             [
              1,
              "#f0f921"
             ]
            ],
            "type": "surface"
           }
          ],
          "table": [
           {
            "cells": {
             "fill": {
              "color": "#EBF0F8"
             },
             "line": {
              "color": "white"
             }
            },
            "header": {
             "fill": {
              "color": "#C8D4E3"
             },
             "line": {
              "color": "white"
             }
            },
            "type": "table"
           }
          ]
         },
         "layout": {
          "annotationdefaults": {
           "arrowcolor": "#2a3f5f",
           "arrowhead": 0,
           "arrowwidth": 1
          },
          "coloraxis": {
           "colorbar": {
            "outlinewidth": 0,
            "ticks": ""
           }
          },
          "colorscale": {
           "diverging": [
            [
             0,
             "#8e0152"
            ],
            [
             0.1,
             "#c51b7d"
            ],
            [
             0.2,
             "#de77ae"
            ],
            [
             0.3,
             "#f1b6da"
            ],
            [
             0.4,
             "#fde0ef"
            ],
            [
             0.5,
             "#f7f7f7"
            ],
            [
             0.6,
             "#e6f5d0"
            ],
            [
             0.7,
             "#b8e186"
            ],
            [
             0.8,
             "#7fbc41"
            ],
            [
             0.9,
             "#4d9221"
            ],
            [
             1,
             "#276419"
            ]
           ],
           "sequential": [
            [
             0,
             "#0d0887"
            ],
            [
             0.1111111111111111,
             "#46039f"
            ],
            [
             0.2222222222222222,
             "#7201a8"
            ],
            [
             0.3333333333333333,
             "#9c179e"
            ],
            [
             0.4444444444444444,
             "#bd3786"
            ],
            [
             0.5555555555555556,
             "#d8576b"
            ],
            [
             0.6666666666666666,
             "#ed7953"
            ],
            [
             0.7777777777777778,
             "#fb9f3a"
            ],
            [
             0.8888888888888888,
             "#fdca26"
            ],
            [
             1,
             "#f0f921"
            ]
           ],
           "sequentialminus": [
            [
             0,
             "#0d0887"
            ],
            [
             0.1111111111111111,
             "#46039f"
            ],
            [
             0.2222222222222222,
             "#7201a8"
            ],
            [
             0.3333333333333333,
             "#9c179e"
            ],
            [
             0.4444444444444444,
             "#bd3786"
            ],
            [
             0.5555555555555556,
             "#d8576b"
            ],
            [
             0.6666666666666666,
             "#ed7953"
            ],
            [
             0.7777777777777778,
             "#fb9f3a"
            ],
            [
             0.8888888888888888,
             "#fdca26"
            ],
            [
             1,
             "#f0f921"
            ]
           ]
          },
          "colorway": [
           "#636efa",
           "#EF553B",
           "#00cc96",
           "#ab63fa",
           "#FFA15A",
           "#19d3f3",
           "#FF6692",
           "#B6E880",
           "#FF97FF",
           "#FECB52"
          ],
          "font": {
           "color": "#2a3f5f"
          },
          "geo": {
           "bgcolor": "white",
           "lakecolor": "white",
           "landcolor": "#E5ECF6",
           "showlakes": true,
           "showland": true,
           "subunitcolor": "white"
          },
          "hoverlabel": {
           "align": "left"
          },
          "hovermode": "closest",
          "mapbox": {
           "style": "light"
          },
          "paper_bgcolor": "white",
          "plot_bgcolor": "#E5ECF6",
          "polar": {
           "angularaxis": {
            "gridcolor": "white",
            "linecolor": "white",
            "ticks": ""
           },
           "bgcolor": "#E5ECF6",
           "radialaxis": {
            "gridcolor": "white",
            "linecolor": "white",
            "ticks": ""
           }
          },
          "scene": {
           "xaxis": {
            "backgroundcolor": "#E5ECF6",
            "gridcolor": "white",
            "gridwidth": 2,
            "linecolor": "white",
            "showbackground": true,
            "ticks": "",
            "zerolinecolor": "white"
           },
           "yaxis": {
            "backgroundcolor": "#E5ECF6",
            "gridcolor": "white",
            "gridwidth": 2,
            "linecolor": "white",
            "showbackground": true,
            "ticks": "",
            "zerolinecolor": "white"
           },
           "zaxis": {
            "backgroundcolor": "#E5ECF6",
            "gridcolor": "white",
            "gridwidth": 2,
            "linecolor": "white",
            "showbackground": true,
            "ticks": "",
            "zerolinecolor": "white"
           }
          },
          "shapedefaults": {
           "line": {
            "color": "#2a3f5f"
           }
          },
          "ternary": {
           "aaxis": {
            "gridcolor": "white",
            "linecolor": "white",
            "ticks": ""
           },
           "baxis": {
            "gridcolor": "white",
            "linecolor": "white",
            "ticks": ""
           },
           "bgcolor": "#E5ECF6",
           "caxis": {
            "gridcolor": "white",
            "linecolor": "white",
            "ticks": ""
           }
          },
          "title": {
           "x": 0.05
          },
          "xaxis": {
           "automargin": true,
           "gridcolor": "white",
           "linecolor": "white",
           "ticks": "",
           "title": {
            "standoff": 15
           },
           "zerolinecolor": "white",
           "zerolinewidth": 2
          },
          "yaxis": {
           "automargin": true,
           "gridcolor": "white",
           "linecolor": "white",
           "ticks": "",
           "title": {
            "standoff": 15
           },
           "zerolinecolor": "white",
           "zerolinewidth": 2
          }
         }
        },
        "title": {
         "font": {
          "color": "#4D5663"
         }
        },
        "xaxis": {
         "gridcolor": "#E1E5ED",
         "showgrid": true,
         "tickfont": {
          "color": "#4D5663"
         },
         "title": {
          "font": {
           "color": "#4D5663"
          },
          "text": ""
         },
         "zerolinecolor": "#E1E5ED"
        },
        "xaxis2": {
         "anchor": "y2",
         "gridcolor": "#E1E5ED",
         "showgrid": true,
         "showticklabels": false,
         "tickfont": {
          "color": "#4D5663"
         },
         "title": {
          "font": {
           "color": "#4D5663"
          },
          "text": ""
         },
         "zerolinecolor": "#E1E5ED"
        },
        "yaxis": {
         "domain": [
          0.3,
          1
         ],
         "gridcolor": "#E1E5ED",
         "showgrid": true,
         "tickfont": {
          "color": "#4D5663"
         },
         "title": {
          "font": {
           "color": "#4D5663"
          },
          "text": ""
         },
         "zerolinecolor": "#E1E5ED"
        },
        "yaxis2": {
         "domain": [
          0,
          0.25
         ],
         "gridcolor": "#E1E5ED",
         "showgrid": true,
         "tickfont": {
          "color": "#4D5663"
         },
         "title": {
          "font": {
           "color": "#4D5663"
          },
          "text": "Spread"
         },
         "zerolinecolor": "#E1E5ED"
        }
       }
      },
      "text/html": [
       "<div>\n",
       "        \n",
       "        \n",
       "            <div id=\"8d00111c-ed93-486a-b8b1-4cc1bcc14675\" class=\"plotly-graph-div\" style=\"height:525px; width:100%;\"></div>\n",
       "            <script type=\"text/javascript\">\n",
       "                require([\"plotly\"], function(Plotly) {\n",
       "                    window.PLOTLYENV=window.PLOTLYENV || {};\n",
       "                    window.PLOTLYENV.BASE_URL='https://plot.ly';\n",
       "                    \n",
       "                if (document.getElementById(\"8d00111c-ed93-486a-b8b1-4cc1bcc14675\")) {\n",
       "                    Plotly.newPlot(\n",
       "                        '8d00111c-ed93-486a-b8b1-4cc1bcc14675',\n",
       "                        [{\"line\": {\"color\": \"rgba(255, 153, 51, 1.0)\", \"dash\": \"solid\", \"shape\": \"linear\", \"width\": 1.3}, \"mode\": \"lines\", \"name\": \"A\", \"text\": \"\", \"type\": \"scatter\", \"x\": [0, 1, 2, 3, 4, 5, 6, 7, 8, 9, 10, 11, 12, 13, 14, 15, 16, 17, 18, 19, 20, 21, 22, 23, 24, 25, 26, 27, 28, 29, 30, 31, 32, 33, 34, 35, 36, 37, 38, 39, 40, 41, 42, 43, 44, 45, 46, 47, 48, 49, 50, 51, 52, 53, 54, 55, 56, 57, 58, 59, 60, 61, 62, 63, 64, 65, 66, 67, 68, 69, 70, 71, 72, 73, 74, 75, 76, 77, 78, 79, 80, 81, 82, 83, 84, 85, 86, 87, 88, 89, 90, 91, 92, 93, 94, 95, 96, 97, 98, 99], \"y\": [1.565884337167468, -0.45771390855734573, -0.6294981356484306, -0.31632596935640805, -0.8415387236765782, -1.0011109686364592, -1.4848300297289672, -0.4341971001119396, 0.20559798897040746, -1.0093491072636154, -0.6933918467635506, -1.4134648098598488, -0.006558075223548637, 0.42339501837302906, 1.0536102304279946, -0.22135839802994153, -0.5588442239783614, 0.8011714238548048, -0.8954504814497545, -0.8702490790991079, -0.08548128885203164, -1.7781641352509694, 2.614932210947218, -0.1040436359440887, -1.6474994438719635, 0.1131359207721515, -0.08796528933397242, 2.5258333098386765, -0.4163684847370185, 0.278459211531101, 1.348134060287212, -1.0270330164094006, -0.3082720877712286, 1.0975241245551837, -1.955871071034986, -0.6521508448632184, -0.8038019598913686, -1.501894043694504, 0.24333768279152238, 1.592031644168021, 0.949301075242087, -0.023481831597560853, -1.367738140808775, -0.08686752700857645, -0.1638917532126145, -1.272210803236027, -1.0741244297077253, -3.4659277855100084, -0.9738316689582084, 0.34373991219368616, -1.3290005300039058, 2.2827711463244196, -0.6194094358815374, 0.37335682630177425, 1.7163568406020657, 0.6634845573251583, 0.13750158166138593, 0.8869606796560566, -0.36898132575109505, -0.027969059779097097, 0.5651141298181905, -0.998635320715629, -0.520446310714804, 0.5994623035040102, 0.708852267700245, -0.8136227015450364, -1.5764748894413487, -0.8977669402845133, 0.06760506819494855, 1.8214441598957745, -0.858597184257929, 0.018599761851139936, 1.0615074581619262, -0.5945356040381385, 1.063628108280927, -0.026343395611301456, 1.6160843357286385, -2.039300163490272, 0.29197227096395584, 1.2773432038890091, 1.397931871420511, -0.19011073602518447, -0.5616139272987423, -0.33365921974022533, 0.25498039368357694, -0.5045169854402038, -0.6823106757278841, -1.0524270888935459, 1.297890380840405, 0.37222308458826087, -0.1858497690901246, -0.5969749215773195, 1.750369944761348, 1.05428825034664, -0.9561301036271894, -1.0575419797300827, -1.0516778401677838, 0.8456087654973249, 0.41348484173507144, -2.0351669878108525]}, {\"line\": {\"color\": \"rgba(55, 128, 191, 1.0)\", \"dash\": \"solid\", \"shape\": \"linear\", \"width\": 1.3}, \"mode\": \"lines\", \"name\": \"B\", \"text\": \"\", \"type\": \"scatter\", \"x\": [0, 1, 2, 3, 4, 5, 6, 7, 8, 9, 10, 11, 12, 13, 14, 15, 16, 17, 18, 19, 20, 21, 22, 23, 24, 25, 26, 27, 28, 29, 30, 31, 32, 33, 34, 35, 36, 37, 38, 39, 40, 41, 42, 43, 44, 45, 46, 47, 48, 49, 50, 51, 52, 53, 54, 55, 56, 57, 58, 59, 60, 61, 62, 63, 64, 65, 66, 67, 68, 69, 70, 71, 72, 73, 74, 75, 76, 77, 78, 79, 80, 81, 82, 83, 84, 85, 86, 87, 88, 89, 90, 91, 92, 93, 94, 95, 96, 97, 98, 99], \"y\": [-0.6967737301029128, 0.3955923153588364, 0.9304509208325568, -0.0744586522642926, 0.1211984333652385, 0.022291349587955523, 0.3887385590763829, -2.197471675736836, -0.18263329127329966, -0.8441573294832997, 0.25438217466521695, -0.4665323161144188, -0.28094950723014095, -0.9019303972034435, -0.8564555377646561, 0.4945430468649379, -1.76258208763336, -0.4918490163755658, 1.2494042369031118, 0.031181800975316205, -0.1083735743325583, 1.2884576364371843, -1.6037547525042675, -1.1462001137263944, 0.9548645539803001, -1.3886683835731528, 0.7532489553467764, -0.010822797014181502, -0.3577884303405244, -0.9600572198594697, -0.8487481571361674, -0.1886567268766113, 0.7651822612089191, -0.154652529142487, 0.25439107341567063, -2.8948776168564954, -0.03072124986333935, 0.22591470261515573, 1.5029917208158639, 0.15340207199391692, -0.06341970644899546, -0.778625105227336, -0.3739662082593961, 0.5826781894263957, 1.3352886097452983, 0.45955618854761954, -1.2509126022463022, -0.23781710320954533, 0.6511060012132226, 1.0599773131525834, 1.455408403447102, -0.8892299822485499, 1.6720953701987729, 0.7586822821240174, -1.1029657978608838, -0.42074668557719874, 0.4373370016959473, 1.6674354351089624, -0.5014138119319443, 0.8901371658728653, 0.5450316271810358, -0.2979814489174735, 0.00746766129420241, 0.48805137821334166, -0.15750421727680192, 0.5135060773499763, -0.6679765559004219, 0.6234621029683176, 0.6687995341297776, 0.44948993111897134, 0.22050423567227825, -0.7373287858654547, -0.024554045318524825, 1.3946803315640273, 0.5892612669063987, 0.6474314037463123, -1.3016713140423926, 1.263933201091441, -2.062701337755691, 2.525763242001359, 0.7361501938603366, -0.07660514326388362, 0.054162809365627486, -1.6422968996712803, -0.7101847406077325, 1.079380624362349, -0.602693260182104, -1.598310885910521, 0.7222361259546951, 0.87395586159824, 0.44038898813091215, -0.3631094213080669, 1.644230309460639, 1.0507482071374046, 0.9512076062512657, -0.894214278654392, 1.9233660832168906, -1.268145238676145, 0.18883957711582006, 0.851423150446762]}, {\"connectgaps\": false, \"fill\": \"tozeroy\", \"line\": {\"color\": \"green\", \"dash\": \"solid\", \"shape\": \"linear\", \"width\": 0.5}, \"mode\": \"lines\", \"name\": \"Spread\", \"showlegend\": false, \"type\": \"scatter\", \"x\": [0, 1, 2, 3, 4, 5, 6, 7, 8, 9, 10, 11, 12, 13, 14, 15, 16, 17, 18, 19, 20, 21, 22, 23, 24, 25, 26, 27, 28, 29, 30, 31, 32, 33, 34, 35, 36, 37, 38, 39, 40, 41, 42, 43, 44, 45, 46, 47, 48, 49, 50, 51, 52, 53, 54, 55, 56, 57, 58, 59, 60, 61, 62, 63, 64, 65, 66, 67, 68, 69, 70, 71, 72, 73, 74, 75, 76, 77, 78, 79, 80, 81, 82, 83, 84, 85, 86, 87, 88, 89, 90, 91, 92, 93, 94, 95, 96, 97, 98, 99], \"xaxis\": \"x2\", \"y\": [2.262658067270381, \"\", \"\", \"\", \"\", \"\", \"\", 1.7632745756248964, 0.3882312802437071, \"\", \"\", \"\", 0.27439143200659233, 1.3253254155764727, 1.9100657681926507, \"\", 1.2037378636549985, 1.2930204402303707, \"\", \"\", 0.02289228548052666, \"\", 4.218686963451486, 1.0421564777823058, \"\", 1.5018043043453042, \"\", 2.536656106852858, \"\", 1.2385164313905705, 2.1968822174233793, \"\", \"\", 1.2521766536976706, \"\", 2.242726771993277, \"\", \"\", \"\", 1.438629572174104, 1.0127207816910824, 0.7551432736297751, \"\", \"\", \"\", \"\", 0.17678817253857693, \"\", \"\", \"\", \"\", 3.1720011285729695, \"\", \"\", 2.8193226384629497, 1.084231242902357, \"\", \"\", 0.1324324861808493, \"\", 0.02008250263715472, \"\", \"\", 0.11141092529066854, 0.8663564849770469, \"\", \"\", \"\", \"\", 1.3719542287768032, \"\", 0.7559285477165947, 1.086061503480451, \"\", 0.4743668413745282, \"\", 2.9177556497710313, \"\", 2.354673608719647, \"\", 0.6617816775601743, \"\", \"\", 1.308637679931055, 0.9651651342913095, \"\", \"\", 0.5458837970169752, 0.5756542548857099, \"\", \"\", \"\", 0.10613963530070913, 0.0035400432092353995, \"\", \"\", \"\", 2.1137540041734697, 0.22464526461925138, \"\"], \"yaxis\": \"y2\"}, {\"connectgaps\": false, \"fill\": \"tozeroy\", \"line\": {\"color\": \"red\", \"dash\": \"solid\", \"shape\": \"linear\", \"width\": 0.5}, \"mode\": \"lines\", \"name\": \"Spread\", \"showlegend\": false, \"type\": \"scatter\", \"x\": [0, 1, 2, 3, 4, 5, 6, 7, 8, 9, 10, 11, 12, 13, 14, 15, 16, 17, 18, 19, 20, 21, 22, 23, 24, 25, 26, 27, 28, 29, 30, 31, 32, 33, 34, 35, 36, 37, 38, 39, 40, 41, 42, 43, 44, 45, 46, 47, 48, 49, 50, 51, 52, 53, 54, 55, 56, 57, 58, 59, 60, 61, 62, 63, 64, 65, 66, 67, 68, 69, 70, 71, 72, 73, 74, 75, 76, 77, 78, 79, 80, 81, 82, 83, 84, 85, 86, 87, 88, 89, 90, 91, 92, 93, 94, 95, 96, 97, 98, 99], \"xaxis\": \"x2\", \"y\": [\"\", -0.8533062239161822, -1.5599490564809875, -0.24186731709211545, -0.9627371570418167, -1.0234023182244147, -1.87356858880535, \"\", \"\", -0.16519177778031569, -0.9477740214287675, -0.94693249374543, \"\", \"\", \"\", -0.7159014448948794, \"\", \"\", -2.144854718352866, -0.9014308800744241, \"\", -3.066621771688154, \"\", \"\", -2.6023639978522635, \"\", -0.8412142446807488, \"\", -0.05858005439649411, \"\", \"\", -0.8383762895327893, -1.0734543489801478, \"\", -2.2102621444506565, \"\", -0.7730807100280292, -1.7278087463096599, -1.2596540380243415, \"\", \"\", \"\", -0.9937719325493789, -0.6695457164349722, -1.4991803629579128, -1.7317669917836467, \"\", -3.228110682300463, -1.6249376701714309, -0.7162374009588972, -2.784408933451008, \"\", -2.2915048060803103, -0.3853254558222432, \"\", \"\", -0.2998354200345614, -0.7804747554529058, \"\", -0.9181062256519624, \"\", -0.7006538717981554, -0.5279139720090064, \"\", \"\", -1.3271287788950126, -0.9084983335409268, -1.521229043252831, -0.601194465934829, \"\", -1.0791014199302071, \"\", \"\", -1.9892159356021657, \"\", -0.6737747993576138, \"\", -3.303233364581713, \"\", -1.2484200381123498, \"\", -0.11350559276130084, -0.6157767366643697, \"\", \"\", -1.5838976098025528, -0.07961741554578006, \"\", \"\", -0.5017327770099791, -0.6262387572210367, -0.23386550026925257, \"\", \"\", -1.9073377098784552, -0.16332770107569072, -2.9750439233846744, \"\", \"\", -2.8865901382576142], \"yaxis\": \"y2\"}],\n",
       "                        {\"hovermode\": \"x\", \"legend\": {\"bgcolor\": \"#F5F6F9\", \"font\": {\"color\": \"#4D5663\"}}, \"paper_bgcolor\": \"#F5F6F9\", \"plot_bgcolor\": \"#F5F6F9\", \"template\": {\"data\": {\"bar\": [{\"error_x\": {\"color\": \"#2a3f5f\"}, \"error_y\": {\"color\": \"#2a3f5f\"}, \"marker\": {\"line\": {\"color\": \"#E5ECF6\", \"width\": 0.5}}, \"type\": \"bar\"}], \"barpolar\": [{\"marker\": {\"line\": {\"color\": \"#E5ECF6\", \"width\": 0.5}}, \"type\": \"barpolar\"}], \"carpet\": [{\"aaxis\": {\"endlinecolor\": \"#2a3f5f\", \"gridcolor\": \"white\", \"linecolor\": \"white\", \"minorgridcolor\": \"white\", \"startlinecolor\": \"#2a3f5f\"}, \"baxis\": {\"endlinecolor\": \"#2a3f5f\", \"gridcolor\": \"white\", \"linecolor\": \"white\", \"minorgridcolor\": \"white\", \"startlinecolor\": \"#2a3f5f\"}, \"type\": \"carpet\"}], \"choropleth\": [{\"colorbar\": {\"outlinewidth\": 0, \"ticks\": \"\"}, \"type\": \"choropleth\"}], \"contour\": [{\"colorbar\": {\"outlinewidth\": 0, \"ticks\": \"\"}, \"colorscale\": [[0.0, \"#0d0887\"], [0.1111111111111111, \"#46039f\"], [0.2222222222222222, \"#7201a8\"], [0.3333333333333333, \"#9c179e\"], [0.4444444444444444, \"#bd3786\"], [0.5555555555555556, \"#d8576b\"], [0.6666666666666666, \"#ed7953\"], [0.7777777777777778, \"#fb9f3a\"], [0.8888888888888888, \"#fdca26\"], [1.0, \"#f0f921\"]], \"type\": \"contour\"}], \"contourcarpet\": [{\"colorbar\": {\"outlinewidth\": 0, \"ticks\": \"\"}, \"type\": \"contourcarpet\"}], \"heatmap\": [{\"colorbar\": {\"outlinewidth\": 0, \"ticks\": \"\"}, \"colorscale\": [[0.0, \"#0d0887\"], [0.1111111111111111, \"#46039f\"], [0.2222222222222222, \"#7201a8\"], [0.3333333333333333, \"#9c179e\"], [0.4444444444444444, \"#bd3786\"], [0.5555555555555556, \"#d8576b\"], [0.6666666666666666, \"#ed7953\"], [0.7777777777777778, \"#fb9f3a\"], [0.8888888888888888, \"#fdca26\"], [1.0, \"#f0f921\"]], \"type\": \"heatmap\"}], \"heatmapgl\": [{\"colorbar\": {\"outlinewidth\": 0, \"ticks\": \"\"}, \"colorscale\": [[0.0, \"#0d0887\"], [0.1111111111111111, \"#46039f\"], [0.2222222222222222, \"#7201a8\"], [0.3333333333333333, \"#9c179e\"], [0.4444444444444444, \"#bd3786\"], [0.5555555555555556, \"#d8576b\"], [0.6666666666666666, \"#ed7953\"], [0.7777777777777778, \"#fb9f3a\"], [0.8888888888888888, \"#fdca26\"], [1.0, \"#f0f921\"]], \"type\": \"heatmapgl\"}], \"histogram\": [{\"marker\": {\"colorbar\": {\"outlinewidth\": 0, \"ticks\": \"\"}}, \"type\": \"histogram\"}], \"histogram2d\": [{\"colorbar\": {\"outlinewidth\": 0, \"ticks\": \"\"}, \"colorscale\": [[0.0, \"#0d0887\"], [0.1111111111111111, \"#46039f\"], [0.2222222222222222, \"#7201a8\"], [0.3333333333333333, \"#9c179e\"], [0.4444444444444444, \"#bd3786\"], [0.5555555555555556, \"#d8576b\"], [0.6666666666666666, \"#ed7953\"], [0.7777777777777778, \"#fb9f3a\"], [0.8888888888888888, \"#fdca26\"], [1.0, \"#f0f921\"]], \"type\": \"histogram2d\"}], \"histogram2dcontour\": [{\"colorbar\": {\"outlinewidth\": 0, \"ticks\": \"\"}, \"colorscale\": [[0.0, \"#0d0887\"], [0.1111111111111111, \"#46039f\"], [0.2222222222222222, \"#7201a8\"], [0.3333333333333333, \"#9c179e\"], [0.4444444444444444, \"#bd3786\"], [0.5555555555555556, \"#d8576b\"], [0.6666666666666666, \"#ed7953\"], [0.7777777777777778, \"#fb9f3a\"], [0.8888888888888888, \"#fdca26\"], [1.0, \"#f0f921\"]], \"type\": \"histogram2dcontour\"}], \"mesh3d\": [{\"colorbar\": {\"outlinewidth\": 0, \"ticks\": \"\"}, \"type\": \"mesh3d\"}], \"parcoords\": [{\"line\": {\"colorbar\": {\"outlinewidth\": 0, \"ticks\": \"\"}}, \"type\": \"parcoords\"}], \"pie\": [{\"automargin\": true, \"type\": \"pie\"}], \"scatter\": [{\"marker\": {\"colorbar\": {\"outlinewidth\": 0, \"ticks\": \"\"}}, \"type\": \"scatter\"}], \"scatter3d\": [{\"line\": {\"colorbar\": {\"outlinewidth\": 0, \"ticks\": \"\"}}, \"marker\": {\"colorbar\": {\"outlinewidth\": 0, \"ticks\": \"\"}}, \"type\": \"scatter3d\"}], \"scattercarpet\": [{\"marker\": {\"colorbar\": {\"outlinewidth\": 0, \"ticks\": \"\"}}, \"type\": \"scattercarpet\"}], \"scattergeo\": [{\"marker\": {\"colorbar\": {\"outlinewidth\": 0, \"ticks\": \"\"}}, \"type\": \"scattergeo\"}], \"scattergl\": [{\"marker\": {\"colorbar\": {\"outlinewidth\": 0, \"ticks\": \"\"}}, \"type\": \"scattergl\"}], \"scattermapbox\": [{\"marker\": {\"colorbar\": {\"outlinewidth\": 0, \"ticks\": \"\"}}, \"type\": \"scattermapbox\"}], \"scatterpolar\": [{\"marker\": {\"colorbar\": {\"outlinewidth\": 0, \"ticks\": \"\"}}, \"type\": \"scatterpolar\"}], \"scatterpolargl\": [{\"marker\": {\"colorbar\": {\"outlinewidth\": 0, \"ticks\": \"\"}}, \"type\": \"scatterpolargl\"}], \"scatterternary\": [{\"marker\": {\"colorbar\": {\"outlinewidth\": 0, \"ticks\": \"\"}}, \"type\": \"scatterternary\"}], \"surface\": [{\"colorbar\": {\"outlinewidth\": 0, \"ticks\": \"\"}, \"colorscale\": [[0.0, \"#0d0887\"], [0.1111111111111111, \"#46039f\"], [0.2222222222222222, \"#7201a8\"], [0.3333333333333333, \"#9c179e\"], [0.4444444444444444, \"#bd3786\"], [0.5555555555555556, \"#d8576b\"], [0.6666666666666666, \"#ed7953\"], [0.7777777777777778, \"#fb9f3a\"], [0.8888888888888888, \"#fdca26\"], [1.0, \"#f0f921\"]], \"type\": \"surface\"}], \"table\": [{\"cells\": {\"fill\": {\"color\": \"#EBF0F8\"}, \"line\": {\"color\": \"white\"}}, \"header\": {\"fill\": {\"color\": \"#C8D4E3\"}, \"line\": {\"color\": \"white\"}}, \"type\": \"table\"}]}, \"layout\": {\"annotationdefaults\": {\"arrowcolor\": \"#2a3f5f\", \"arrowhead\": 0, \"arrowwidth\": 1}, \"coloraxis\": {\"colorbar\": {\"outlinewidth\": 0, \"ticks\": \"\"}}, \"colorscale\": {\"diverging\": [[0, \"#8e0152\"], [0.1, \"#c51b7d\"], [0.2, \"#de77ae\"], [0.3, \"#f1b6da\"], [0.4, \"#fde0ef\"], [0.5, \"#f7f7f7\"], [0.6, \"#e6f5d0\"], [0.7, \"#b8e186\"], [0.8, \"#7fbc41\"], [0.9, \"#4d9221\"], [1, \"#276419\"]], \"sequential\": [[0.0, \"#0d0887\"], [0.1111111111111111, \"#46039f\"], [0.2222222222222222, \"#7201a8\"], [0.3333333333333333, \"#9c179e\"], [0.4444444444444444, \"#bd3786\"], [0.5555555555555556, \"#d8576b\"], [0.6666666666666666, \"#ed7953\"], [0.7777777777777778, \"#fb9f3a\"], [0.8888888888888888, \"#fdca26\"], [1.0, \"#f0f921\"]], \"sequentialminus\": [[0.0, \"#0d0887\"], [0.1111111111111111, \"#46039f\"], [0.2222222222222222, \"#7201a8\"], [0.3333333333333333, \"#9c179e\"], [0.4444444444444444, \"#bd3786\"], [0.5555555555555556, \"#d8576b\"], [0.6666666666666666, \"#ed7953\"], [0.7777777777777778, \"#fb9f3a\"], [0.8888888888888888, \"#fdca26\"], [1.0, \"#f0f921\"]]}, \"colorway\": [\"#636efa\", \"#EF553B\", \"#00cc96\", \"#ab63fa\", \"#FFA15A\", \"#19d3f3\", \"#FF6692\", \"#B6E880\", \"#FF97FF\", \"#FECB52\"], \"font\": {\"color\": \"#2a3f5f\"}, \"geo\": {\"bgcolor\": \"white\", \"lakecolor\": \"white\", \"landcolor\": \"#E5ECF6\", \"showlakes\": true, \"showland\": true, \"subunitcolor\": \"white\"}, \"hoverlabel\": {\"align\": \"left\"}, \"hovermode\": \"closest\", \"mapbox\": {\"style\": \"light\"}, \"paper_bgcolor\": \"white\", \"plot_bgcolor\": \"#E5ECF6\", \"polar\": {\"angularaxis\": {\"gridcolor\": \"white\", \"linecolor\": \"white\", \"ticks\": \"\"}, \"bgcolor\": \"#E5ECF6\", \"radialaxis\": {\"gridcolor\": \"white\", \"linecolor\": \"white\", \"ticks\": \"\"}}, \"scene\": {\"xaxis\": {\"backgroundcolor\": \"#E5ECF6\", \"gridcolor\": \"white\", \"gridwidth\": 2, \"linecolor\": \"white\", \"showbackground\": true, \"ticks\": \"\", \"zerolinecolor\": \"white\"}, \"yaxis\": {\"backgroundcolor\": \"#E5ECF6\", \"gridcolor\": \"white\", \"gridwidth\": 2, \"linecolor\": \"white\", \"showbackground\": true, \"ticks\": \"\", \"zerolinecolor\": \"white\"}, \"zaxis\": {\"backgroundcolor\": \"#E5ECF6\", \"gridcolor\": \"white\", \"gridwidth\": 2, \"linecolor\": \"white\", \"showbackground\": true, \"ticks\": \"\", \"zerolinecolor\": \"white\"}}, \"shapedefaults\": {\"line\": {\"color\": \"#2a3f5f\"}}, \"ternary\": {\"aaxis\": {\"gridcolor\": \"white\", \"linecolor\": \"white\", \"ticks\": \"\"}, \"baxis\": {\"gridcolor\": \"white\", \"linecolor\": \"white\", \"ticks\": \"\"}, \"bgcolor\": \"#E5ECF6\", \"caxis\": {\"gridcolor\": \"white\", \"linecolor\": \"white\", \"ticks\": \"\"}}, \"title\": {\"x\": 0.05}, \"xaxis\": {\"automargin\": true, \"gridcolor\": \"white\", \"linecolor\": \"white\", \"ticks\": \"\", \"title\": {\"standoff\": 15}, \"zerolinecolor\": \"white\", \"zerolinewidth\": 2}, \"yaxis\": {\"automargin\": true, \"gridcolor\": \"white\", \"linecolor\": \"white\", \"ticks\": \"\", \"title\": {\"standoff\": 15}, \"zerolinecolor\": \"white\", \"zerolinewidth\": 2}}}, \"title\": {\"font\": {\"color\": \"#4D5663\"}}, \"xaxis\": {\"gridcolor\": \"#E1E5ED\", \"showgrid\": true, \"tickfont\": {\"color\": \"#4D5663\"}, \"title\": {\"font\": {\"color\": \"#4D5663\"}, \"text\": \"\"}, \"zerolinecolor\": \"#E1E5ED\"}, \"xaxis2\": {\"anchor\": \"y2\", \"gridcolor\": \"#E1E5ED\", \"showgrid\": true, \"showticklabels\": false, \"tickfont\": {\"color\": \"#4D5663\"}, \"title\": {\"font\": {\"color\": \"#4D5663\"}, \"text\": \"\"}, \"zerolinecolor\": \"#E1E5ED\"}, \"yaxis\": {\"domain\": [0.3, 1], \"gridcolor\": \"#E1E5ED\", \"showgrid\": true, \"tickfont\": {\"color\": \"#4D5663\"}, \"title\": {\"font\": {\"color\": \"#4D5663\"}, \"text\": \"\"}, \"zerolinecolor\": \"#E1E5ED\"}, \"yaxis2\": {\"domain\": [0, 0.25], \"gridcolor\": \"#E1E5ED\", \"showgrid\": true, \"tickfont\": {\"color\": \"#4D5663\"}, \"title\": {\"font\": {\"color\": \"#4D5663\"}, \"text\": \"Spread\"}, \"zerolinecolor\": \"#E1E5ED\"}},\n",
       "                        {\"showLink\": true, \"linkText\": \"Export to plot.ly\", \"plotlyServerURL\": \"https://plot.ly\", \"responsive\": true}\n",
       "                    ).then(function(){\n",
       "                            \n",
       "var gd = document.getElementById('8d00111c-ed93-486a-b8b1-4cc1bcc14675');\n",
       "var x = new MutationObserver(function (mutations, observer) {{\n",
       "        var display = window.getComputedStyle(gd).display;\n",
       "        if (!display || display === 'none') {{\n",
       "            console.log([gd, 'removed!']);\n",
       "            Plotly.purge(gd);\n",
       "            observer.disconnect();\n",
       "        }}\n",
       "}});\n",
       "\n",
       "// Listen for the removal of the full notebook cells\n",
       "var notebookContainer = gd.closest('#notebook-container');\n",
       "if (notebookContainer) {{\n",
       "    x.observe(notebookContainer, {childList: true});\n",
       "}}\n",
       "\n",
       "// Listen for the clearing of the current output cell\n",
       "var outputEl = gd.closest('.output');\n",
       "if (outputEl) {{\n",
       "    x.observe(outputEl, {childList: true});\n",
       "}}\n",
       "\n",
       "                        })\n",
       "                };\n",
       "                });\n",
       "            </script>\n",
       "        </div>"
      ]
     },
     "metadata": {},
     "output_type": "display_data"
    }
   ],
   "source": [
    "df[['A','B']].iplot(kind='spread')"
   ]
  },
  {
   "cell_type": "markdown",
   "metadata": {},
   "source": [
    "## histogram"
   ]
  },
  {
   "cell_type": "code",
   "execution_count": 16,
   "metadata": {},
   "outputs": [
    {
     "data": {
      "application/vnd.plotly.v1+json": {
       "config": {
        "linkText": "Export to plot.ly",
        "plotlyServerURL": "https://plot.ly",
        "showLink": true
       },
       "data": [
        {
         "histfunc": "count",
         "histnorm": "",
         "marker": {
          "color": "rgba(255, 153, 51, 1.0)",
          "line": {
           "color": "#4D5663",
           "width": 1.3
          }
         },
         "name": "A",
         "nbinsx": 25,
         "opacity": 0.8,
         "orientation": "v",
         "type": "histogram",
         "x": [
          1.565884337167468,
          -0.45771390855734573,
          -0.6294981356484306,
          -0.31632596935640805,
          -0.8415387236765782,
          -1.0011109686364592,
          -1.4848300297289672,
          -0.4341971001119396,
          0.20559798897040746,
          -1.0093491072636154,
          -0.6933918467635506,
          -1.4134648098598488,
          -0.006558075223548637,
          0.42339501837302906,
          1.0536102304279946,
          -0.22135839802994153,
          -0.5588442239783614,
          0.8011714238548048,
          -0.8954504814497545,
          -0.8702490790991079,
          -0.08548128885203164,
          -1.7781641352509694,
          2.614932210947218,
          -0.1040436359440887,
          -1.6474994438719635,
          0.1131359207721515,
          -0.08796528933397242,
          2.5258333098386765,
          -0.4163684847370185,
          0.278459211531101,
          1.348134060287212,
          -1.0270330164094006,
          -0.3082720877712286,
          1.0975241245551837,
          -1.955871071034986,
          -0.6521508448632184,
          -0.8038019598913686,
          -1.501894043694504,
          0.24333768279152238,
          1.592031644168021,
          0.949301075242087,
          -0.023481831597560853,
          -1.367738140808775,
          -0.08686752700857645,
          -0.1638917532126145,
          -1.272210803236027,
          -1.0741244297077253,
          -3.4659277855100084,
          -0.9738316689582084,
          0.34373991219368616,
          -1.3290005300039058,
          2.2827711463244196,
          -0.6194094358815374,
          0.37335682630177425,
          1.7163568406020657,
          0.6634845573251583,
          0.13750158166138593,
          0.8869606796560566,
          -0.36898132575109505,
          -0.027969059779097097,
          0.5651141298181905,
          -0.998635320715629,
          -0.520446310714804,
          0.5994623035040102,
          0.708852267700245,
          -0.8136227015450364,
          -1.5764748894413487,
          -0.8977669402845133,
          0.06760506819494855,
          1.8214441598957745,
          -0.858597184257929,
          0.018599761851139936,
          1.0615074581619262,
          -0.5945356040381385,
          1.063628108280927,
          -0.026343395611301456,
          1.6160843357286385,
          -2.039300163490272,
          0.29197227096395584,
          1.2773432038890091,
          1.397931871420511,
          -0.19011073602518447,
          -0.5616139272987423,
          -0.33365921974022533,
          0.25498039368357694,
          -0.5045169854402038,
          -0.6823106757278841,
          -1.0524270888935459,
          1.297890380840405,
          0.37222308458826087,
          -0.1858497690901246,
          -0.5969749215773195,
          1.750369944761348,
          1.05428825034664,
          -0.9561301036271894,
          -1.0575419797300827,
          -1.0516778401677838,
          0.8456087654973249,
          0.41348484173507144,
          -2.0351669878108525
         ]
        }
       ],
       "layout": {
        "barmode": "overlay",
        "legend": {
         "bgcolor": "#F5F6F9",
         "font": {
          "color": "#4D5663"
         }
        },
        "paper_bgcolor": "#F5F6F9",
        "plot_bgcolor": "#F5F6F9",
        "template": {
         "data": {
          "bar": [
           {
            "error_x": {
             "color": "#2a3f5f"
            },
            "error_y": {
             "color": "#2a3f5f"
            },
            "marker": {
             "line": {
              "color": "#E5ECF6",
              "width": 0.5
             }
            },
            "type": "bar"
           }
          ],
          "barpolar": [
           {
            "marker": {
             "line": {
              "color": "#E5ECF6",
              "width": 0.5
             }
            },
            "type": "barpolar"
           }
          ],
          "carpet": [
           {
            "aaxis": {
             "endlinecolor": "#2a3f5f",
             "gridcolor": "white",
             "linecolor": "white",
             "minorgridcolor": "white",
             "startlinecolor": "#2a3f5f"
            },
            "baxis": {
             "endlinecolor": "#2a3f5f",
             "gridcolor": "white",
             "linecolor": "white",
             "minorgridcolor": "white",
             "startlinecolor": "#2a3f5f"
            },
            "type": "carpet"
           }
          ],
          "choropleth": [
           {
            "colorbar": {
             "outlinewidth": 0,
             "ticks": ""
            },
            "type": "choropleth"
           }
          ],
          "contour": [
           {
            "colorbar": {
             "outlinewidth": 0,
             "ticks": ""
            },
            "colorscale": [
             [
              0,
              "#0d0887"
             ],
             [
              0.1111111111111111,
              "#46039f"
             ],
             [
              0.2222222222222222,
              "#7201a8"
             ],
             [
              0.3333333333333333,
              "#9c179e"
             ],
             [
              0.4444444444444444,
              "#bd3786"
             ],
             [
              0.5555555555555556,
              "#d8576b"
             ],
             [
              0.6666666666666666,
              "#ed7953"
             ],
             [
              0.7777777777777778,
              "#fb9f3a"
             ],
             [
              0.8888888888888888,
              "#fdca26"
             ],
             [
              1,
              "#f0f921"
             ]
            ],
            "type": "contour"
           }
          ],
          "contourcarpet": [
           {
            "colorbar": {
             "outlinewidth": 0,
             "ticks": ""
            },
            "type": "contourcarpet"
           }
          ],
          "heatmap": [
           {
            "colorbar": {
             "outlinewidth": 0,
             "ticks": ""
            },
            "colorscale": [
             [
              0,
              "#0d0887"
             ],
             [
              0.1111111111111111,
              "#46039f"
             ],
             [
              0.2222222222222222,
              "#7201a8"
             ],
             [
              0.3333333333333333,
              "#9c179e"
             ],
             [
              0.4444444444444444,
              "#bd3786"
             ],
             [
              0.5555555555555556,
              "#d8576b"
             ],
             [
              0.6666666666666666,
              "#ed7953"
             ],
             [
              0.7777777777777778,
              "#fb9f3a"
             ],
             [
              0.8888888888888888,
              "#fdca26"
             ],
             [
              1,
              "#f0f921"
             ]
            ],
            "type": "heatmap"
           }
          ],
          "heatmapgl": [
           {
            "colorbar": {
             "outlinewidth": 0,
             "ticks": ""
            },
            "colorscale": [
             [
              0,
              "#0d0887"
             ],
             [
              0.1111111111111111,
              "#46039f"
             ],
             [
              0.2222222222222222,
              "#7201a8"
             ],
             [
              0.3333333333333333,
              "#9c179e"
             ],
             [
              0.4444444444444444,
              "#bd3786"
             ],
             [
              0.5555555555555556,
              "#d8576b"
             ],
             [
              0.6666666666666666,
              "#ed7953"
             ],
             [
              0.7777777777777778,
              "#fb9f3a"
             ],
             [
              0.8888888888888888,
              "#fdca26"
             ],
             [
              1,
              "#f0f921"
             ]
            ],
            "type": "heatmapgl"
           }
          ],
          "histogram": [
           {
            "marker": {
             "colorbar": {
              "outlinewidth": 0,
              "ticks": ""
             }
            },
            "type": "histogram"
           }
          ],
          "histogram2d": [
           {
            "colorbar": {
             "outlinewidth": 0,
             "ticks": ""
            },
            "colorscale": [
             [
              0,
              "#0d0887"
             ],
             [
              0.1111111111111111,
              "#46039f"
             ],
             [
              0.2222222222222222,
              "#7201a8"
             ],
             [
              0.3333333333333333,
              "#9c179e"
             ],
             [
              0.4444444444444444,
              "#bd3786"
             ],
             [
              0.5555555555555556,
              "#d8576b"
             ],
             [
              0.6666666666666666,
              "#ed7953"
             ],
             [
              0.7777777777777778,
              "#fb9f3a"
             ],
             [
              0.8888888888888888,
              "#fdca26"
             ],
             [
              1,
              "#f0f921"
             ]
            ],
            "type": "histogram2d"
           }
          ],
          "histogram2dcontour": [
           {
            "colorbar": {
             "outlinewidth": 0,
             "ticks": ""
            },
            "colorscale": [
             [
              0,
              "#0d0887"
             ],
             [
              0.1111111111111111,
              "#46039f"
             ],
             [
              0.2222222222222222,
              "#7201a8"
             ],
             [
              0.3333333333333333,
              "#9c179e"
             ],
             [
              0.4444444444444444,
              "#bd3786"
             ],
             [
              0.5555555555555556,
              "#d8576b"
             ],
             [
              0.6666666666666666,
              "#ed7953"
             ],
             [
              0.7777777777777778,
              "#fb9f3a"
             ],
             [
              0.8888888888888888,
              "#fdca26"
             ],
             [
              1,
              "#f0f921"
             ]
            ],
            "type": "histogram2dcontour"
           }
          ],
          "mesh3d": [
           {
            "colorbar": {
             "outlinewidth": 0,
             "ticks": ""
            },
            "type": "mesh3d"
           }
          ],
          "parcoords": [
           {
            "line": {
             "colorbar": {
              "outlinewidth": 0,
              "ticks": ""
             }
            },
            "type": "parcoords"
           }
          ],
          "pie": [
           {
            "automargin": true,
            "type": "pie"
           }
          ],
          "scatter": [
           {
            "marker": {
             "colorbar": {
              "outlinewidth": 0,
              "ticks": ""
             }
            },
            "type": "scatter"
           }
          ],
          "scatter3d": [
           {
            "line": {
             "colorbar": {
              "outlinewidth": 0,
              "ticks": ""
             }
            },
            "marker": {
             "colorbar": {
              "outlinewidth": 0,
              "ticks": ""
             }
            },
            "type": "scatter3d"
           }
          ],
          "scattercarpet": [
           {
            "marker": {
             "colorbar": {
              "outlinewidth": 0,
              "ticks": ""
             }
            },
            "type": "scattercarpet"
           }
          ],
          "scattergeo": [
           {
            "marker": {
             "colorbar": {
              "outlinewidth": 0,
              "ticks": ""
             }
            },
            "type": "scattergeo"
           }
          ],
          "scattergl": [
           {
            "marker": {
             "colorbar": {
              "outlinewidth": 0,
              "ticks": ""
             }
            },
            "type": "scattergl"
           }
          ],
          "scattermapbox": [
           {
            "marker": {
             "colorbar": {
              "outlinewidth": 0,
              "ticks": ""
             }
            },
            "type": "scattermapbox"
           }
          ],
          "scatterpolar": [
           {
            "marker": {
             "colorbar": {
              "outlinewidth": 0,
              "ticks": ""
             }
            },
            "type": "scatterpolar"
           }
          ],
          "scatterpolargl": [
           {
            "marker": {
             "colorbar": {
              "outlinewidth": 0,
              "ticks": ""
             }
            },
            "type": "scatterpolargl"
           }
          ],
          "scatterternary": [
           {
            "marker": {
             "colorbar": {
              "outlinewidth": 0,
              "ticks": ""
             }
            },
            "type": "scatterternary"
           }
          ],
          "surface": [
           {
            "colorbar": {
             "outlinewidth": 0,
             "ticks": ""
            },
            "colorscale": [
             [
              0,
              "#0d0887"
             ],
             [
              0.1111111111111111,
              "#46039f"
             ],
             [
              0.2222222222222222,
              "#7201a8"
             ],
             [
              0.3333333333333333,
              "#9c179e"
             ],
             [
              0.4444444444444444,
              "#bd3786"
             ],
             [
              0.5555555555555556,
              "#d8576b"
             ],
             [
              0.6666666666666666,
              "#ed7953"
             ],
             [
              0.7777777777777778,
              "#fb9f3a"
             ],
             [
              0.8888888888888888,
              "#fdca26"
             ],
             [
              1,
              "#f0f921"
             ]
            ],
            "type": "surface"
           }
          ],
          "table": [
           {
            "cells": {
             "fill": {
              "color": "#EBF0F8"
             },
             "line": {
              "color": "white"
             }
            },
            "header": {
             "fill": {
              "color": "#C8D4E3"
             },
             "line": {
              "color": "white"
             }
            },
            "type": "table"
           }
          ]
         },
         "layout": {
          "annotationdefaults": {
           "arrowcolor": "#2a3f5f",
           "arrowhead": 0,
           "arrowwidth": 1
          },
          "coloraxis": {
           "colorbar": {
            "outlinewidth": 0,
            "ticks": ""
           }
          },
          "colorscale": {
           "diverging": [
            [
             0,
             "#8e0152"
            ],
            [
             0.1,
             "#c51b7d"
            ],
            [
             0.2,
             "#de77ae"
            ],
            [
             0.3,
             "#f1b6da"
            ],
            [
             0.4,
             "#fde0ef"
            ],
            [
             0.5,
             "#f7f7f7"
            ],
            [
             0.6,
             "#e6f5d0"
            ],
            [
             0.7,
             "#b8e186"
            ],
            [
             0.8,
             "#7fbc41"
            ],
            [
             0.9,
             "#4d9221"
            ],
            [
             1,
             "#276419"
            ]
           ],
           "sequential": [
            [
             0,
             "#0d0887"
            ],
            [
             0.1111111111111111,
             "#46039f"
            ],
            [
             0.2222222222222222,
             "#7201a8"
            ],
            [
             0.3333333333333333,
             "#9c179e"
            ],
            [
             0.4444444444444444,
             "#bd3786"
            ],
            [
             0.5555555555555556,
             "#d8576b"
            ],
            [
             0.6666666666666666,
             "#ed7953"
            ],
            [
             0.7777777777777778,
             "#fb9f3a"
            ],
            [
             0.8888888888888888,
             "#fdca26"
            ],
            [
             1,
             "#f0f921"
            ]
           ],
           "sequentialminus": [
            [
             0,
             "#0d0887"
            ],
            [
             0.1111111111111111,
             "#46039f"
            ],
            [
             0.2222222222222222,
             "#7201a8"
            ],
            [
             0.3333333333333333,
             "#9c179e"
            ],
            [
             0.4444444444444444,
             "#bd3786"
            ],
            [
             0.5555555555555556,
             "#d8576b"
            ],
            [
             0.6666666666666666,
             "#ed7953"
            ],
            [
             0.7777777777777778,
             "#fb9f3a"
            ],
            [
             0.8888888888888888,
             "#fdca26"
            ],
            [
             1,
             "#f0f921"
            ]
           ]
          },
          "colorway": [
           "#636efa",
           "#EF553B",
           "#00cc96",
           "#ab63fa",
           "#FFA15A",
           "#19d3f3",
           "#FF6692",
           "#B6E880",
           "#FF97FF",
           "#FECB52"
          ],
          "font": {
           "color": "#2a3f5f"
          },
          "geo": {
           "bgcolor": "white",
           "lakecolor": "white",
           "landcolor": "#E5ECF6",
           "showlakes": true,
           "showland": true,
           "subunitcolor": "white"
          },
          "hoverlabel": {
           "align": "left"
          },
          "hovermode": "closest",
          "mapbox": {
           "style": "light"
          },
          "paper_bgcolor": "white",
          "plot_bgcolor": "#E5ECF6",
          "polar": {
           "angularaxis": {
            "gridcolor": "white",
            "linecolor": "white",
            "ticks": ""
           },
           "bgcolor": "#E5ECF6",
           "radialaxis": {
            "gridcolor": "white",
            "linecolor": "white",
            "ticks": ""
           }
          },
          "scene": {
           "xaxis": {
            "backgroundcolor": "#E5ECF6",
            "gridcolor": "white",
            "gridwidth": 2,
            "linecolor": "white",
            "showbackground": true,
            "ticks": "",
            "zerolinecolor": "white"
           },
           "yaxis": {
            "backgroundcolor": "#E5ECF6",
            "gridcolor": "white",
            "gridwidth": 2,
            "linecolor": "white",
            "showbackground": true,
            "ticks": "",
            "zerolinecolor": "white"
           },
           "zaxis": {
            "backgroundcolor": "#E5ECF6",
            "gridcolor": "white",
            "gridwidth": 2,
            "linecolor": "white",
            "showbackground": true,
            "ticks": "",
            "zerolinecolor": "white"
           }
          },
          "shapedefaults": {
           "line": {
            "color": "#2a3f5f"
           }
          },
          "ternary": {
           "aaxis": {
            "gridcolor": "white",
            "linecolor": "white",
            "ticks": ""
           },
           "baxis": {
            "gridcolor": "white",
            "linecolor": "white",
            "ticks": ""
           },
           "bgcolor": "#E5ECF6",
           "caxis": {
            "gridcolor": "white",
            "linecolor": "white",
            "ticks": ""
           }
          },
          "title": {
           "x": 0.05
          },
          "xaxis": {
           "automargin": true,
           "gridcolor": "white",
           "linecolor": "white",
           "ticks": "",
           "title": {
            "standoff": 15
           },
           "zerolinecolor": "white",
           "zerolinewidth": 2
          },
          "yaxis": {
           "automargin": true,
           "gridcolor": "white",
           "linecolor": "white",
           "ticks": "",
           "title": {
            "standoff": 15
           },
           "zerolinecolor": "white",
           "zerolinewidth": 2
          }
         }
        },
        "title": {
         "font": {
          "color": "#4D5663"
         }
        },
        "xaxis": {
         "gridcolor": "#E1E5ED",
         "showgrid": true,
         "tickfont": {
          "color": "#4D5663"
         },
         "title": {
          "font": {
           "color": "#4D5663"
          },
          "text": ""
         },
         "zerolinecolor": "#E1E5ED"
        },
        "yaxis": {
         "gridcolor": "#E1E5ED",
         "showgrid": true,
         "tickfont": {
          "color": "#4D5663"
         },
         "title": {
          "font": {
           "color": "#4D5663"
          },
          "text": ""
         },
         "zerolinecolor": "#E1E5ED"
        }
       }
      },
      "text/html": [
       "<div>\n",
       "        \n",
       "        \n",
       "            <div id=\"75df2eb5-153b-4dfa-baaa-bafa18c74ea7\" class=\"plotly-graph-div\" style=\"height:525px; width:100%;\"></div>\n",
       "            <script type=\"text/javascript\">\n",
       "                require([\"plotly\"], function(Plotly) {\n",
       "                    window.PLOTLYENV=window.PLOTLYENV || {};\n",
       "                    window.PLOTLYENV.BASE_URL='https://plot.ly';\n",
       "                    \n",
       "                if (document.getElementById(\"75df2eb5-153b-4dfa-baaa-bafa18c74ea7\")) {\n",
       "                    Plotly.newPlot(\n",
       "                        '75df2eb5-153b-4dfa-baaa-bafa18c74ea7',\n",
       "                        [{\"histfunc\": \"count\", \"histnorm\": \"\", \"marker\": {\"color\": \"rgba(255, 153, 51, 1.0)\", \"line\": {\"color\": \"#4D5663\", \"width\": 1.3}}, \"name\": \"A\", \"nbinsx\": 25, \"opacity\": 0.8, \"orientation\": \"v\", \"type\": \"histogram\", \"x\": [1.565884337167468, -0.45771390855734573, -0.6294981356484306, -0.31632596935640805, -0.8415387236765782, -1.0011109686364592, -1.4848300297289672, -0.4341971001119396, 0.20559798897040746, -1.0093491072636154, -0.6933918467635506, -1.4134648098598488, -0.006558075223548637, 0.42339501837302906, 1.0536102304279946, -0.22135839802994153, -0.5588442239783614, 0.8011714238548048, -0.8954504814497545, -0.8702490790991079, -0.08548128885203164, -1.7781641352509694, 2.614932210947218, -0.1040436359440887, -1.6474994438719635, 0.1131359207721515, -0.08796528933397242, 2.5258333098386765, -0.4163684847370185, 0.278459211531101, 1.348134060287212, -1.0270330164094006, -0.3082720877712286, 1.0975241245551837, -1.955871071034986, -0.6521508448632184, -0.8038019598913686, -1.501894043694504, 0.24333768279152238, 1.592031644168021, 0.949301075242087, -0.023481831597560853, -1.367738140808775, -0.08686752700857645, -0.1638917532126145, -1.272210803236027, -1.0741244297077253, -3.4659277855100084, -0.9738316689582084, 0.34373991219368616, -1.3290005300039058, 2.2827711463244196, -0.6194094358815374, 0.37335682630177425, 1.7163568406020657, 0.6634845573251583, 0.13750158166138593, 0.8869606796560566, -0.36898132575109505, -0.027969059779097097, 0.5651141298181905, -0.998635320715629, -0.520446310714804, 0.5994623035040102, 0.708852267700245, -0.8136227015450364, -1.5764748894413487, -0.8977669402845133, 0.06760506819494855, 1.8214441598957745, -0.858597184257929, 0.018599761851139936, 1.0615074581619262, -0.5945356040381385, 1.063628108280927, -0.026343395611301456, 1.6160843357286385, -2.039300163490272, 0.29197227096395584, 1.2773432038890091, 1.397931871420511, -0.19011073602518447, -0.5616139272987423, -0.33365921974022533, 0.25498039368357694, -0.5045169854402038, -0.6823106757278841, -1.0524270888935459, 1.297890380840405, 0.37222308458826087, -0.1858497690901246, -0.5969749215773195, 1.750369944761348, 1.05428825034664, -0.9561301036271894, -1.0575419797300827, -1.0516778401677838, 0.8456087654973249, 0.41348484173507144, -2.0351669878108525]}],\n",
       "                        {\"barmode\": \"overlay\", \"legend\": {\"bgcolor\": \"#F5F6F9\", \"font\": {\"color\": \"#4D5663\"}}, \"paper_bgcolor\": \"#F5F6F9\", \"plot_bgcolor\": \"#F5F6F9\", \"template\": {\"data\": {\"bar\": [{\"error_x\": {\"color\": \"#2a3f5f\"}, \"error_y\": {\"color\": \"#2a3f5f\"}, \"marker\": {\"line\": {\"color\": \"#E5ECF6\", \"width\": 0.5}}, \"type\": \"bar\"}], \"barpolar\": [{\"marker\": {\"line\": {\"color\": \"#E5ECF6\", \"width\": 0.5}}, \"type\": \"barpolar\"}], \"carpet\": [{\"aaxis\": {\"endlinecolor\": \"#2a3f5f\", \"gridcolor\": \"white\", \"linecolor\": \"white\", \"minorgridcolor\": \"white\", \"startlinecolor\": \"#2a3f5f\"}, \"baxis\": {\"endlinecolor\": \"#2a3f5f\", \"gridcolor\": \"white\", \"linecolor\": \"white\", \"minorgridcolor\": \"white\", \"startlinecolor\": \"#2a3f5f\"}, \"type\": \"carpet\"}], \"choropleth\": [{\"colorbar\": {\"outlinewidth\": 0, \"ticks\": \"\"}, \"type\": \"choropleth\"}], \"contour\": [{\"colorbar\": {\"outlinewidth\": 0, \"ticks\": \"\"}, \"colorscale\": [[0.0, \"#0d0887\"], [0.1111111111111111, \"#46039f\"], [0.2222222222222222, \"#7201a8\"], [0.3333333333333333, \"#9c179e\"], [0.4444444444444444, \"#bd3786\"], [0.5555555555555556, \"#d8576b\"], [0.6666666666666666, \"#ed7953\"], [0.7777777777777778, \"#fb9f3a\"], [0.8888888888888888, \"#fdca26\"], [1.0, \"#f0f921\"]], \"type\": \"contour\"}], \"contourcarpet\": [{\"colorbar\": {\"outlinewidth\": 0, \"ticks\": \"\"}, \"type\": \"contourcarpet\"}], \"heatmap\": [{\"colorbar\": {\"outlinewidth\": 0, \"ticks\": \"\"}, \"colorscale\": [[0.0, \"#0d0887\"], [0.1111111111111111, \"#46039f\"], [0.2222222222222222, \"#7201a8\"], [0.3333333333333333, \"#9c179e\"], [0.4444444444444444, \"#bd3786\"], [0.5555555555555556, \"#d8576b\"], [0.6666666666666666, \"#ed7953\"], [0.7777777777777778, \"#fb9f3a\"], [0.8888888888888888, \"#fdca26\"], [1.0, \"#f0f921\"]], \"type\": \"heatmap\"}], \"heatmapgl\": [{\"colorbar\": {\"outlinewidth\": 0, \"ticks\": \"\"}, \"colorscale\": [[0.0, \"#0d0887\"], [0.1111111111111111, \"#46039f\"], [0.2222222222222222, \"#7201a8\"], [0.3333333333333333, \"#9c179e\"], [0.4444444444444444, \"#bd3786\"], [0.5555555555555556, \"#d8576b\"], [0.6666666666666666, \"#ed7953\"], [0.7777777777777778, \"#fb9f3a\"], [0.8888888888888888, \"#fdca26\"], [1.0, \"#f0f921\"]], \"type\": \"heatmapgl\"}], \"histogram\": [{\"marker\": {\"colorbar\": {\"outlinewidth\": 0, \"ticks\": \"\"}}, \"type\": \"histogram\"}], \"histogram2d\": [{\"colorbar\": {\"outlinewidth\": 0, \"ticks\": \"\"}, \"colorscale\": [[0.0, \"#0d0887\"], [0.1111111111111111, \"#46039f\"], [0.2222222222222222, \"#7201a8\"], [0.3333333333333333, \"#9c179e\"], [0.4444444444444444, \"#bd3786\"], [0.5555555555555556, \"#d8576b\"], [0.6666666666666666, \"#ed7953\"], [0.7777777777777778, \"#fb9f3a\"], [0.8888888888888888, \"#fdca26\"], [1.0, \"#f0f921\"]], \"type\": \"histogram2d\"}], \"histogram2dcontour\": [{\"colorbar\": {\"outlinewidth\": 0, \"ticks\": \"\"}, \"colorscale\": [[0.0, \"#0d0887\"], [0.1111111111111111, \"#46039f\"], [0.2222222222222222, \"#7201a8\"], [0.3333333333333333, \"#9c179e\"], [0.4444444444444444, \"#bd3786\"], [0.5555555555555556, \"#d8576b\"], [0.6666666666666666, \"#ed7953\"], [0.7777777777777778, \"#fb9f3a\"], [0.8888888888888888, \"#fdca26\"], [1.0, \"#f0f921\"]], \"type\": \"histogram2dcontour\"}], \"mesh3d\": [{\"colorbar\": {\"outlinewidth\": 0, \"ticks\": \"\"}, \"type\": \"mesh3d\"}], \"parcoords\": [{\"line\": {\"colorbar\": {\"outlinewidth\": 0, \"ticks\": \"\"}}, \"type\": \"parcoords\"}], \"pie\": [{\"automargin\": true, \"type\": \"pie\"}], \"scatter\": [{\"marker\": {\"colorbar\": {\"outlinewidth\": 0, \"ticks\": \"\"}}, \"type\": \"scatter\"}], \"scatter3d\": [{\"line\": {\"colorbar\": {\"outlinewidth\": 0, \"ticks\": \"\"}}, \"marker\": {\"colorbar\": {\"outlinewidth\": 0, \"ticks\": \"\"}}, \"type\": \"scatter3d\"}], \"scattercarpet\": [{\"marker\": {\"colorbar\": {\"outlinewidth\": 0, \"ticks\": \"\"}}, \"type\": \"scattercarpet\"}], \"scattergeo\": [{\"marker\": {\"colorbar\": {\"outlinewidth\": 0, \"ticks\": \"\"}}, \"type\": \"scattergeo\"}], \"scattergl\": [{\"marker\": {\"colorbar\": {\"outlinewidth\": 0, \"ticks\": \"\"}}, \"type\": \"scattergl\"}], \"scattermapbox\": [{\"marker\": {\"colorbar\": {\"outlinewidth\": 0, \"ticks\": \"\"}}, \"type\": \"scattermapbox\"}], \"scatterpolar\": [{\"marker\": {\"colorbar\": {\"outlinewidth\": 0, \"ticks\": \"\"}}, \"type\": \"scatterpolar\"}], \"scatterpolargl\": [{\"marker\": {\"colorbar\": {\"outlinewidth\": 0, \"ticks\": \"\"}}, \"type\": \"scatterpolargl\"}], \"scatterternary\": [{\"marker\": {\"colorbar\": {\"outlinewidth\": 0, \"ticks\": \"\"}}, \"type\": \"scatterternary\"}], \"surface\": [{\"colorbar\": {\"outlinewidth\": 0, \"ticks\": \"\"}, \"colorscale\": [[0.0, \"#0d0887\"], [0.1111111111111111, \"#46039f\"], [0.2222222222222222, \"#7201a8\"], [0.3333333333333333, \"#9c179e\"], [0.4444444444444444, \"#bd3786\"], [0.5555555555555556, \"#d8576b\"], [0.6666666666666666, \"#ed7953\"], [0.7777777777777778, \"#fb9f3a\"], [0.8888888888888888, \"#fdca26\"], [1.0, \"#f0f921\"]], \"type\": \"surface\"}], \"table\": [{\"cells\": {\"fill\": {\"color\": \"#EBF0F8\"}, \"line\": {\"color\": \"white\"}}, \"header\": {\"fill\": {\"color\": \"#C8D4E3\"}, \"line\": {\"color\": \"white\"}}, \"type\": \"table\"}]}, \"layout\": {\"annotationdefaults\": {\"arrowcolor\": \"#2a3f5f\", \"arrowhead\": 0, \"arrowwidth\": 1}, \"coloraxis\": {\"colorbar\": {\"outlinewidth\": 0, \"ticks\": \"\"}}, \"colorscale\": {\"diverging\": [[0, \"#8e0152\"], [0.1, \"#c51b7d\"], [0.2, \"#de77ae\"], [0.3, \"#f1b6da\"], [0.4, \"#fde0ef\"], [0.5, \"#f7f7f7\"], [0.6, \"#e6f5d0\"], [0.7, \"#b8e186\"], [0.8, \"#7fbc41\"], [0.9, \"#4d9221\"], [1, \"#276419\"]], \"sequential\": [[0.0, \"#0d0887\"], [0.1111111111111111, \"#46039f\"], [0.2222222222222222, \"#7201a8\"], [0.3333333333333333, \"#9c179e\"], [0.4444444444444444, \"#bd3786\"], [0.5555555555555556, \"#d8576b\"], [0.6666666666666666, \"#ed7953\"], [0.7777777777777778, \"#fb9f3a\"], [0.8888888888888888, \"#fdca26\"], [1.0, \"#f0f921\"]], \"sequentialminus\": [[0.0, \"#0d0887\"], [0.1111111111111111, \"#46039f\"], [0.2222222222222222, \"#7201a8\"], [0.3333333333333333, \"#9c179e\"], [0.4444444444444444, \"#bd3786\"], [0.5555555555555556, \"#d8576b\"], [0.6666666666666666, \"#ed7953\"], [0.7777777777777778, \"#fb9f3a\"], [0.8888888888888888, \"#fdca26\"], [1.0, \"#f0f921\"]]}, \"colorway\": [\"#636efa\", \"#EF553B\", \"#00cc96\", \"#ab63fa\", \"#FFA15A\", \"#19d3f3\", \"#FF6692\", \"#B6E880\", \"#FF97FF\", \"#FECB52\"], \"font\": {\"color\": \"#2a3f5f\"}, \"geo\": {\"bgcolor\": \"white\", \"lakecolor\": \"white\", \"landcolor\": \"#E5ECF6\", \"showlakes\": true, \"showland\": true, \"subunitcolor\": \"white\"}, \"hoverlabel\": {\"align\": \"left\"}, \"hovermode\": \"closest\", \"mapbox\": {\"style\": \"light\"}, \"paper_bgcolor\": \"white\", \"plot_bgcolor\": \"#E5ECF6\", \"polar\": {\"angularaxis\": {\"gridcolor\": \"white\", \"linecolor\": \"white\", \"ticks\": \"\"}, \"bgcolor\": \"#E5ECF6\", \"radialaxis\": {\"gridcolor\": \"white\", \"linecolor\": \"white\", \"ticks\": \"\"}}, \"scene\": {\"xaxis\": {\"backgroundcolor\": \"#E5ECF6\", \"gridcolor\": \"white\", \"gridwidth\": 2, \"linecolor\": \"white\", \"showbackground\": true, \"ticks\": \"\", \"zerolinecolor\": \"white\"}, \"yaxis\": {\"backgroundcolor\": \"#E5ECF6\", \"gridcolor\": \"white\", \"gridwidth\": 2, \"linecolor\": \"white\", \"showbackground\": true, \"ticks\": \"\", \"zerolinecolor\": \"white\"}, \"zaxis\": {\"backgroundcolor\": \"#E5ECF6\", \"gridcolor\": \"white\", \"gridwidth\": 2, \"linecolor\": \"white\", \"showbackground\": true, \"ticks\": \"\", \"zerolinecolor\": \"white\"}}, \"shapedefaults\": {\"line\": {\"color\": \"#2a3f5f\"}}, \"ternary\": {\"aaxis\": {\"gridcolor\": \"white\", \"linecolor\": \"white\", \"ticks\": \"\"}, \"baxis\": {\"gridcolor\": \"white\", \"linecolor\": \"white\", \"ticks\": \"\"}, \"bgcolor\": \"#E5ECF6\", \"caxis\": {\"gridcolor\": \"white\", \"linecolor\": \"white\", \"ticks\": \"\"}}, \"title\": {\"x\": 0.05}, \"xaxis\": {\"automargin\": true, \"gridcolor\": \"white\", \"linecolor\": \"white\", \"ticks\": \"\", \"title\": {\"standoff\": 15}, \"zerolinecolor\": \"white\", \"zerolinewidth\": 2}, \"yaxis\": {\"automargin\": true, \"gridcolor\": \"white\", \"linecolor\": \"white\", \"ticks\": \"\", \"title\": {\"standoff\": 15}, \"zerolinecolor\": \"white\", \"zerolinewidth\": 2}}}, \"title\": {\"font\": {\"color\": \"#4D5663\"}}, \"xaxis\": {\"gridcolor\": \"#E1E5ED\", \"showgrid\": true, \"tickfont\": {\"color\": \"#4D5663\"}, \"title\": {\"font\": {\"color\": \"#4D5663\"}, \"text\": \"\"}, \"zerolinecolor\": \"#E1E5ED\"}, \"yaxis\": {\"gridcolor\": \"#E1E5ED\", \"showgrid\": true, \"tickfont\": {\"color\": \"#4D5663\"}, \"title\": {\"font\": {\"color\": \"#4D5663\"}, \"text\": \"\"}, \"zerolinecolor\": \"#E1E5ED\"}},\n",
       "                        {\"showLink\": true, \"linkText\": \"Export to plot.ly\", \"plotlyServerURL\": \"https://plot.ly\", \"responsive\": true}\n",
       "                    ).then(function(){\n",
       "                            \n",
       "var gd = document.getElementById('75df2eb5-153b-4dfa-baaa-bafa18c74ea7');\n",
       "var x = new MutationObserver(function (mutations, observer) {{\n",
       "        var display = window.getComputedStyle(gd).display;\n",
       "        if (!display || display === 'none') {{\n",
       "            console.log([gd, 'removed!']);\n",
       "            Plotly.purge(gd);\n",
       "            observer.disconnect();\n",
       "        }}\n",
       "}});\n",
       "\n",
       "// Listen for the removal of the full notebook cells\n",
       "var notebookContainer = gd.closest('#notebook-container');\n",
       "if (notebookContainer) {{\n",
       "    x.observe(notebookContainer, {childList: true});\n",
       "}}\n",
       "\n",
       "// Listen for the clearing of the current output cell\n",
       "var outputEl = gd.closest('.output');\n",
       "if (outputEl) {{\n",
       "    x.observe(outputEl, {childList: true});\n",
       "}}\n",
       "\n",
       "                        })\n",
       "                };\n",
       "                });\n",
       "            </script>\n",
       "        </div>"
      ]
     },
     "metadata": {},
     "output_type": "display_data"
    }
   ],
   "source": [
    "df['A'].iplot(kind='hist',bins=25)"
   ]
  },
  {
   "cell_type": "code",
   "execution_count": 17,
   "metadata": {},
   "outputs": [
    {
     "data": {
      "application/vnd.plotly.v1+json": {
       "config": {
        "linkText": "Export to plot.ly",
        "plotlyServerURL": "https://plot.ly",
        "showLink": true
       },
       "data": [
        {
         "marker": {
          "color": [
           "rgb(255, 153, 51)",
           "rgb(55, 128, 191)",
           "rgb(50, 171, 96)",
           "rgb(128, 0, 128)",
           "rgb(219, 64, 82)",
           "rgb(0, 128, 128)",
           "rgb(255, 255, 51)",
           "rgb(128, 128, 0)",
           "rgb(251, 128, 114)",
           "rgb(128, 177, 211)"
          ],
          "line": {
           "width": 1.3
          },
          "size": [
           44,
           61,
           48,
           54,
           86,
           31,
           29,
           60,
           36,
           57,
           62,
           69,
           69,
           44,
           50,
           102,
           91,
           112,
           41,
           66,
           49,
           65,
           42,
           90,
           88,
           70,
           84,
           72,
           43,
           43,
           62,
           80,
           90,
           70,
           46,
           99,
           24,
           61,
           68,
           66,
           52,
           50,
           43,
           37,
           56,
           58,
           64,
           60,
           36,
           51,
           31,
           86,
           48,
           25,
           70,
           75,
           60,
           78,
           60,
           23,
           44,
           47,
           59,
           69,
           65,
           94,
           82,
           59,
           39,
           71,
           40,
           26,
           62,
           40,
           58,
           21,
           36,
           34,
           21,
           34,
           88,
           41,
           19,
           49,
           20,
           66,
           61,
           28,
           33,
           55,
           54,
           69,
           22,
           57,
           12,
           48,
           76,
           44,
           61,
           65
          ],
          "symbol": "circle"
         },
         "mode": "markers",
         "text": "",
         "type": "scatter",
         "x": [
          1.565884337167468,
          -0.45771390855734573,
          -0.6294981356484306,
          -0.31632596935640805,
          -0.8415387236765782,
          -1.0011109686364592,
          -1.4848300297289672,
          -0.4341971001119396,
          0.20559798897040746,
          -1.0093491072636154,
          -0.6933918467635506,
          -1.4134648098598488,
          -0.006558075223548637,
          0.42339501837302906,
          1.0536102304279946,
          -0.22135839802994153,
          -0.5588442239783614,
          0.8011714238548048,
          -0.8954504814497545,
          -0.8702490790991079,
          -0.08548128885203164,
          -1.7781641352509694,
          2.614932210947218,
          -0.1040436359440887,
          -1.6474994438719635,
          0.1131359207721515,
          -0.08796528933397242,
          2.5258333098386765,
          -0.4163684847370185,
          0.278459211531101,
          1.348134060287212,
          -1.0270330164094006,
          -0.3082720877712286,
          1.0975241245551837,
          -1.955871071034986,
          -0.6521508448632184,
          -0.8038019598913686,
          -1.501894043694504,
          0.24333768279152238,
          1.592031644168021,
          0.949301075242087,
          -0.023481831597560853,
          -1.367738140808775,
          -0.08686752700857645,
          -0.1638917532126145,
          -1.272210803236027,
          -1.0741244297077253,
          -3.4659277855100084,
          -0.9738316689582084,
          0.34373991219368616,
          -1.3290005300039058,
          2.2827711463244196,
          -0.6194094358815374,
          0.37335682630177425,
          1.7163568406020657,
          0.6634845573251583,
          0.13750158166138593,
          0.8869606796560566,
          -0.36898132575109505,
          -0.027969059779097097,
          0.5651141298181905,
          -0.998635320715629,
          -0.520446310714804,
          0.5994623035040102,
          0.708852267700245,
          -0.8136227015450364,
          -1.5764748894413487,
          -0.8977669402845133,
          0.06760506819494855,
          1.8214441598957745,
          -0.858597184257929,
          0.018599761851139936,
          1.0615074581619262,
          -0.5945356040381385,
          1.063628108280927,
          -0.026343395611301456,
          1.6160843357286385,
          -2.039300163490272,
          0.29197227096395584,
          1.2773432038890091,
          1.397931871420511,
          -0.19011073602518447,
          -0.5616139272987423,
          -0.33365921974022533,
          0.25498039368357694,
          -0.5045169854402038,
          -0.6823106757278841,
          -1.0524270888935459,
          1.297890380840405,
          0.37222308458826087,
          -0.1858497690901246,
          -0.5969749215773195,
          1.750369944761348,
          1.05428825034664,
          -0.9561301036271894,
          -1.0575419797300827,
          -1.0516778401677838,
          0.8456087654973249,
          0.41348484173507144,
          -2.0351669878108525
         ],
         "y": [
          -0.6967737301029128,
          0.3955923153588364,
          0.9304509208325568,
          -0.0744586522642926,
          0.1211984333652385,
          0.022291349587955523,
          0.3887385590763829,
          -2.197471675736836,
          -0.18263329127329966,
          -0.8441573294832997,
          0.25438217466521695,
          -0.4665323161144188,
          -0.28094950723014095,
          -0.9019303972034435,
          -0.8564555377646561,
          0.4945430468649379,
          -1.76258208763336,
          -0.4918490163755658,
          1.2494042369031118,
          0.031181800975316205,
          -0.1083735743325583,
          1.2884576364371843,
          -1.6037547525042675,
          -1.1462001137263944,
          0.9548645539803001,
          -1.3886683835731528,
          0.7532489553467764,
          -0.010822797014181502,
          -0.3577884303405244,
          -0.9600572198594697,
          -0.8487481571361674,
          -0.1886567268766113,
          0.7651822612089191,
          -0.154652529142487,
          0.25439107341567063,
          -2.8948776168564954,
          -0.03072124986333935,
          0.22591470261515573,
          1.5029917208158639,
          0.15340207199391692,
          -0.06341970644899546,
          -0.778625105227336,
          -0.3739662082593961,
          0.5826781894263957,
          1.3352886097452983,
          0.45955618854761954,
          -1.2509126022463022,
          -0.23781710320954533,
          0.6511060012132226,
          1.0599773131525834,
          1.455408403447102,
          -0.8892299822485499,
          1.6720953701987729,
          0.7586822821240174,
          -1.1029657978608838,
          -0.42074668557719874,
          0.4373370016959473,
          1.6674354351089624,
          -0.5014138119319443,
          0.8901371658728653,
          0.5450316271810358,
          -0.2979814489174735,
          0.00746766129420241,
          0.48805137821334166,
          -0.15750421727680192,
          0.5135060773499763,
          -0.6679765559004219,
          0.6234621029683176,
          0.6687995341297776,
          0.44948993111897134,
          0.22050423567227825,
          -0.7373287858654547,
          -0.024554045318524825,
          1.3946803315640273,
          0.5892612669063987,
          0.6474314037463123,
          -1.3016713140423926,
          1.263933201091441,
          -2.062701337755691,
          2.525763242001359,
          0.7361501938603366,
          -0.07660514326388362,
          0.054162809365627486,
          -1.6422968996712803,
          -0.7101847406077325,
          1.079380624362349,
          -0.602693260182104,
          -1.598310885910521,
          0.7222361259546951,
          0.87395586159824,
          0.44038898813091215,
          -0.3631094213080669,
          1.644230309460639,
          1.0507482071374046,
          0.9512076062512657,
          -0.894214278654392,
          1.9233660832168906,
          -1.268145238676145,
          0.18883957711582006,
          0.851423150446762
         ]
        }
       ],
       "layout": {
        "legend": {
         "bgcolor": "#F5F6F9",
         "font": {
          "color": "#4D5663"
         }
        },
        "paper_bgcolor": "#F5F6F9",
        "plot_bgcolor": "#F5F6F9",
        "template": {
         "data": {
          "bar": [
           {
            "error_x": {
             "color": "#2a3f5f"
            },
            "error_y": {
             "color": "#2a3f5f"
            },
            "marker": {
             "line": {
              "color": "#E5ECF6",
              "width": 0.5
             }
            },
            "type": "bar"
           }
          ],
          "barpolar": [
           {
            "marker": {
             "line": {
              "color": "#E5ECF6",
              "width": 0.5
             }
            },
            "type": "barpolar"
           }
          ],
          "carpet": [
           {
            "aaxis": {
             "endlinecolor": "#2a3f5f",
             "gridcolor": "white",
             "linecolor": "white",
             "minorgridcolor": "white",
             "startlinecolor": "#2a3f5f"
            },
            "baxis": {
             "endlinecolor": "#2a3f5f",
             "gridcolor": "white",
             "linecolor": "white",
             "minorgridcolor": "white",
             "startlinecolor": "#2a3f5f"
            },
            "type": "carpet"
           }
          ],
          "choropleth": [
           {
            "colorbar": {
             "outlinewidth": 0,
             "ticks": ""
            },
            "type": "choropleth"
           }
          ],
          "contour": [
           {
            "colorbar": {
             "outlinewidth": 0,
             "ticks": ""
            },
            "colorscale": [
             [
              0,
              "#0d0887"
             ],
             [
              0.1111111111111111,
              "#46039f"
             ],
             [
              0.2222222222222222,
              "#7201a8"
             ],
             [
              0.3333333333333333,
              "#9c179e"
             ],
             [
              0.4444444444444444,
              "#bd3786"
             ],
             [
              0.5555555555555556,
              "#d8576b"
             ],
             [
              0.6666666666666666,
              "#ed7953"
             ],
             [
              0.7777777777777778,
              "#fb9f3a"
             ],
             [
              0.8888888888888888,
              "#fdca26"
             ],
             [
              1,
              "#f0f921"
             ]
            ],
            "type": "contour"
           }
          ],
          "contourcarpet": [
           {
            "colorbar": {
             "outlinewidth": 0,
             "ticks": ""
            },
            "type": "contourcarpet"
           }
          ],
          "heatmap": [
           {
            "colorbar": {
             "outlinewidth": 0,
             "ticks": ""
            },
            "colorscale": [
             [
              0,
              "#0d0887"
             ],
             [
              0.1111111111111111,
              "#46039f"
             ],
             [
              0.2222222222222222,
              "#7201a8"
             ],
             [
              0.3333333333333333,
              "#9c179e"
             ],
             [
              0.4444444444444444,
              "#bd3786"
             ],
             [
              0.5555555555555556,
              "#d8576b"
             ],
             [
              0.6666666666666666,
              "#ed7953"
             ],
             [
              0.7777777777777778,
              "#fb9f3a"
             ],
             [
              0.8888888888888888,
              "#fdca26"
             ],
             [
              1,
              "#f0f921"
             ]
            ],
            "type": "heatmap"
           }
          ],
          "heatmapgl": [
           {
            "colorbar": {
             "outlinewidth": 0,
             "ticks": ""
            },
            "colorscale": [
             [
              0,
              "#0d0887"
             ],
             [
              0.1111111111111111,
              "#46039f"
             ],
             [
              0.2222222222222222,
              "#7201a8"
             ],
             [
              0.3333333333333333,
              "#9c179e"
             ],
             [
              0.4444444444444444,
              "#bd3786"
             ],
             [
              0.5555555555555556,
              "#d8576b"
             ],
             [
              0.6666666666666666,
              "#ed7953"
             ],
             [
              0.7777777777777778,
              "#fb9f3a"
             ],
             [
              0.8888888888888888,
              "#fdca26"
             ],
             [
              1,
              "#f0f921"
             ]
            ],
            "type": "heatmapgl"
           }
          ],
          "histogram": [
           {
            "marker": {
             "colorbar": {
              "outlinewidth": 0,
              "ticks": ""
             }
            },
            "type": "histogram"
           }
          ],
          "histogram2d": [
           {
            "colorbar": {
             "outlinewidth": 0,
             "ticks": ""
            },
            "colorscale": [
             [
              0,
              "#0d0887"
             ],
             [
              0.1111111111111111,
              "#46039f"
             ],
             [
              0.2222222222222222,
              "#7201a8"
             ],
             [
              0.3333333333333333,
              "#9c179e"
             ],
             [
              0.4444444444444444,
              "#bd3786"
             ],
             [
              0.5555555555555556,
              "#d8576b"
             ],
             [
              0.6666666666666666,
              "#ed7953"
             ],
             [
              0.7777777777777778,
              "#fb9f3a"
             ],
             [
              0.8888888888888888,
              "#fdca26"
             ],
             [
              1,
              "#f0f921"
             ]
            ],
            "type": "histogram2d"
           }
          ],
          "histogram2dcontour": [
           {
            "colorbar": {
             "outlinewidth": 0,
             "ticks": ""
            },
            "colorscale": [
             [
              0,
              "#0d0887"
             ],
             [
              0.1111111111111111,
              "#46039f"
             ],
             [
              0.2222222222222222,
              "#7201a8"
             ],
             [
              0.3333333333333333,
              "#9c179e"
             ],
             [
              0.4444444444444444,
              "#bd3786"
             ],
             [
              0.5555555555555556,
              "#d8576b"
             ],
             [
              0.6666666666666666,
              "#ed7953"
             ],
             [
              0.7777777777777778,
              "#fb9f3a"
             ],
             [
              0.8888888888888888,
              "#fdca26"
             ],
             [
              1,
              "#f0f921"
             ]
            ],
            "type": "histogram2dcontour"
           }
          ],
          "mesh3d": [
           {
            "colorbar": {
             "outlinewidth": 0,
             "ticks": ""
            },
            "type": "mesh3d"
           }
          ],
          "parcoords": [
           {
            "line": {
             "colorbar": {
              "outlinewidth": 0,
              "ticks": ""
             }
            },
            "type": "parcoords"
           }
          ],
          "pie": [
           {
            "automargin": true,
            "type": "pie"
           }
          ],
          "scatter": [
           {
            "marker": {
             "colorbar": {
              "outlinewidth": 0,
              "ticks": ""
             }
            },
            "type": "scatter"
           }
          ],
          "scatter3d": [
           {
            "line": {
             "colorbar": {
              "outlinewidth": 0,
              "ticks": ""
             }
            },
            "marker": {
             "colorbar": {
              "outlinewidth": 0,
              "ticks": ""
             }
            },
            "type": "scatter3d"
           }
          ],
          "scattercarpet": [
           {
            "marker": {
             "colorbar": {
              "outlinewidth": 0,
              "ticks": ""
             }
            },
            "type": "scattercarpet"
           }
          ],
          "scattergeo": [
           {
            "marker": {
             "colorbar": {
              "outlinewidth": 0,
              "ticks": ""
             }
            },
            "type": "scattergeo"
           }
          ],
          "scattergl": [
           {
            "marker": {
             "colorbar": {
              "outlinewidth": 0,
              "ticks": ""
             }
            },
            "type": "scattergl"
           }
          ],
          "scattermapbox": [
           {
            "marker": {
             "colorbar": {
              "outlinewidth": 0,
              "ticks": ""
             }
            },
            "type": "scattermapbox"
           }
          ],
          "scatterpolar": [
           {
            "marker": {
             "colorbar": {
              "outlinewidth": 0,
              "ticks": ""
             }
            },
            "type": "scatterpolar"
           }
          ],
          "scatterpolargl": [
           {
            "marker": {
             "colorbar": {
              "outlinewidth": 0,
              "ticks": ""
             }
            },
            "type": "scatterpolargl"
           }
          ],
          "scatterternary": [
           {
            "marker": {
             "colorbar": {
              "outlinewidth": 0,
              "ticks": ""
             }
            },
            "type": "scatterternary"
           }
          ],
          "surface": [
           {
            "colorbar": {
             "outlinewidth": 0,
             "ticks": ""
            },
            "colorscale": [
             [
              0,
              "#0d0887"
             ],
             [
              0.1111111111111111,
              "#46039f"
             ],
             [
              0.2222222222222222,
              "#7201a8"
             ],
             [
              0.3333333333333333,
              "#9c179e"
             ],
             [
              0.4444444444444444,
              "#bd3786"
             ],
             [
              0.5555555555555556,
              "#d8576b"
             ],
             [
              0.6666666666666666,
              "#ed7953"
             ],
             [
              0.7777777777777778,
              "#fb9f3a"
             ],
             [
              0.8888888888888888,
              "#fdca26"
             ],
             [
              1,
              "#f0f921"
             ]
            ],
            "type": "surface"
           }
          ],
          "table": [
           {
            "cells": {
             "fill": {
              "color": "#EBF0F8"
             },
             "line": {
              "color": "white"
             }
            },
            "header": {
             "fill": {
              "color": "#C8D4E3"
             },
             "line": {
              "color": "white"
             }
            },
            "type": "table"
           }
          ]
         },
         "layout": {
          "annotationdefaults": {
           "arrowcolor": "#2a3f5f",
           "arrowhead": 0,
           "arrowwidth": 1
          },
          "coloraxis": {
           "colorbar": {
            "outlinewidth": 0,
            "ticks": ""
           }
          },
          "colorscale": {
           "diverging": [
            [
             0,
             "#8e0152"
            ],
            [
             0.1,
             "#c51b7d"
            ],
            [
             0.2,
             "#de77ae"
            ],
            [
             0.3,
             "#f1b6da"
            ],
            [
             0.4,
             "#fde0ef"
            ],
            [
             0.5,
             "#f7f7f7"
            ],
            [
             0.6,
             "#e6f5d0"
            ],
            [
             0.7,
             "#b8e186"
            ],
            [
             0.8,
             "#7fbc41"
            ],
            [
             0.9,
             "#4d9221"
            ],
            [
             1,
             "#276419"
            ]
           ],
           "sequential": [
            [
             0,
             "#0d0887"
            ],
            [
             0.1111111111111111,
             "#46039f"
            ],
            [
             0.2222222222222222,
             "#7201a8"
            ],
            [
             0.3333333333333333,
             "#9c179e"
            ],
            [
             0.4444444444444444,
             "#bd3786"
            ],
            [
             0.5555555555555556,
             "#d8576b"
            ],
            [
             0.6666666666666666,
             "#ed7953"
            ],
            [
             0.7777777777777778,
             "#fb9f3a"
            ],
            [
             0.8888888888888888,
             "#fdca26"
            ],
            [
             1,
             "#f0f921"
            ]
           ],
           "sequentialminus": [
            [
             0,
             "#0d0887"
            ],
            [
             0.1111111111111111,
             "#46039f"
            ],
            [
             0.2222222222222222,
             "#7201a8"
            ],
            [
             0.3333333333333333,
             "#9c179e"
            ],
            [
             0.4444444444444444,
             "#bd3786"
            ],
            [
             0.5555555555555556,
             "#d8576b"
            ],
            [
             0.6666666666666666,
             "#ed7953"
            ],
            [
             0.7777777777777778,
             "#fb9f3a"
            ],
            [
             0.8888888888888888,
             "#fdca26"
            ],
            [
             1,
             "#f0f921"
            ]
           ]
          },
          "colorway": [
           "#636efa",
           "#EF553B",
           "#00cc96",
           "#ab63fa",
           "#FFA15A",
           "#19d3f3",
           "#FF6692",
           "#B6E880",
           "#FF97FF",
           "#FECB52"
          ],
          "font": {
           "color": "#2a3f5f"
          },
          "geo": {
           "bgcolor": "white",
           "lakecolor": "white",
           "landcolor": "#E5ECF6",
           "showlakes": true,
           "showland": true,
           "subunitcolor": "white"
          },
          "hoverlabel": {
           "align": "left"
          },
          "hovermode": "closest",
          "mapbox": {
           "style": "light"
          },
          "paper_bgcolor": "white",
          "plot_bgcolor": "#E5ECF6",
          "polar": {
           "angularaxis": {
            "gridcolor": "white",
            "linecolor": "white",
            "ticks": ""
           },
           "bgcolor": "#E5ECF6",
           "radialaxis": {
            "gridcolor": "white",
            "linecolor": "white",
            "ticks": ""
           }
          },
          "scene": {
           "xaxis": {
            "backgroundcolor": "#E5ECF6",
            "gridcolor": "white",
            "gridwidth": 2,
            "linecolor": "white",
            "showbackground": true,
            "ticks": "",
            "zerolinecolor": "white"
           },
           "yaxis": {
            "backgroundcolor": "#E5ECF6",
            "gridcolor": "white",
            "gridwidth": 2,
            "linecolor": "white",
            "showbackground": true,
            "ticks": "",
            "zerolinecolor": "white"
           },
           "zaxis": {
            "backgroundcolor": "#E5ECF6",
            "gridcolor": "white",
            "gridwidth": 2,
            "linecolor": "white",
            "showbackground": true,
            "ticks": "",
            "zerolinecolor": "white"
           }
          },
          "shapedefaults": {
           "line": {
            "color": "#2a3f5f"
           }
          },
          "ternary": {
           "aaxis": {
            "gridcolor": "white",
            "linecolor": "white",
            "ticks": ""
           },
           "baxis": {
            "gridcolor": "white",
            "linecolor": "white",
            "ticks": ""
           },
           "bgcolor": "#E5ECF6",
           "caxis": {
            "gridcolor": "white",
            "linecolor": "white",
            "ticks": ""
           }
          },
          "title": {
           "x": 0.05
          },
          "xaxis": {
           "automargin": true,
           "gridcolor": "white",
           "linecolor": "white",
           "ticks": "",
           "title": {
            "standoff": 15
           },
           "zerolinecolor": "white",
           "zerolinewidth": 2
          },
          "yaxis": {
           "automargin": true,
           "gridcolor": "white",
           "linecolor": "white",
           "ticks": "",
           "title": {
            "standoff": 15
           },
           "zerolinecolor": "white",
           "zerolinewidth": 2
          }
         }
        },
        "title": {
         "font": {
          "color": "#4D5663"
         }
        },
        "xaxis": {
         "gridcolor": "#E1E5ED",
         "showgrid": true,
         "tickfont": {
          "color": "#4D5663"
         },
         "title": {
          "font": {
           "color": "#4D5663"
          },
          "text": ""
         },
         "zerolinecolor": "#E1E5ED"
        },
        "yaxis": {
         "gridcolor": "#E1E5ED",
         "showgrid": true,
         "tickfont": {
          "color": "#4D5663"
         },
         "title": {
          "font": {
           "color": "#4D5663"
          },
          "text": ""
         },
         "zerolinecolor": "#E1E5ED"
        }
       }
      },
      "text/html": [
       "<div>\n",
       "        \n",
       "        \n",
       "            <div id=\"b2f87e75-7a89-4fe6-a578-e697ded5d0dd\" class=\"plotly-graph-div\" style=\"height:525px; width:100%;\"></div>\n",
       "            <script type=\"text/javascript\">\n",
       "                require([\"plotly\"], function(Plotly) {\n",
       "                    window.PLOTLYENV=window.PLOTLYENV || {};\n",
       "                    window.PLOTLYENV.BASE_URL='https://plot.ly';\n",
       "                    \n",
       "                if (document.getElementById(\"b2f87e75-7a89-4fe6-a578-e697ded5d0dd\")) {\n",
       "                    Plotly.newPlot(\n",
       "                        'b2f87e75-7a89-4fe6-a578-e697ded5d0dd',\n",
       "                        [{\"marker\": {\"color\": [\"rgb(255, 153, 51)\", \"rgb(55, 128, 191)\", \"rgb(50, 171, 96)\", \"rgb(128, 0, 128)\", \"rgb(219, 64, 82)\", \"rgb(0, 128, 128)\", \"rgb(255, 255, 51)\", \"rgb(128, 128, 0)\", \"rgb(251, 128, 114)\", \"rgb(128, 177, 211)\"], \"line\": {\"width\": 1.3}, \"size\": [44, 61, 48, 54, 86, 31, 29, 60, 36, 57, 62, 69, 69, 44, 50, 102, 91, 112, 41, 66, 49, 65, 42, 90, 88, 70, 84, 72, 43, 43, 62, 80, 90, 70, 46, 99, 24, 61, 68, 66, 52, 50, 43, 37, 56, 58, 64, 60, 36, 51, 31, 86, 48, 25, 70, 75, 60, 78, 60, 23, 44, 47, 59, 69, 65, 94, 82, 59, 39, 71, 40, 26, 62, 40, 58, 21, 36, 34, 21, 34, 88, 41, 19, 49, 20, 66, 61, 28, 33, 55, 54, 69, 22, 57, 12, 48, 76, 44, 61, 65], \"symbol\": \"circle\"}, \"mode\": \"markers\", \"text\": \"\", \"type\": \"scatter\", \"x\": [1.565884337167468, -0.45771390855734573, -0.6294981356484306, -0.31632596935640805, -0.8415387236765782, -1.0011109686364592, -1.4848300297289672, -0.4341971001119396, 0.20559798897040746, -1.0093491072636154, -0.6933918467635506, -1.4134648098598488, -0.006558075223548637, 0.42339501837302906, 1.0536102304279946, -0.22135839802994153, -0.5588442239783614, 0.8011714238548048, -0.8954504814497545, -0.8702490790991079, -0.08548128885203164, -1.7781641352509694, 2.614932210947218, -0.1040436359440887, -1.6474994438719635, 0.1131359207721515, -0.08796528933397242, 2.5258333098386765, -0.4163684847370185, 0.278459211531101, 1.348134060287212, -1.0270330164094006, -0.3082720877712286, 1.0975241245551837, -1.955871071034986, -0.6521508448632184, -0.8038019598913686, -1.501894043694504, 0.24333768279152238, 1.592031644168021, 0.949301075242087, -0.023481831597560853, -1.367738140808775, -0.08686752700857645, -0.1638917532126145, -1.272210803236027, -1.0741244297077253, -3.4659277855100084, -0.9738316689582084, 0.34373991219368616, -1.3290005300039058, 2.2827711463244196, -0.6194094358815374, 0.37335682630177425, 1.7163568406020657, 0.6634845573251583, 0.13750158166138593, 0.8869606796560566, -0.36898132575109505, -0.027969059779097097, 0.5651141298181905, -0.998635320715629, -0.520446310714804, 0.5994623035040102, 0.708852267700245, -0.8136227015450364, -1.5764748894413487, -0.8977669402845133, 0.06760506819494855, 1.8214441598957745, -0.858597184257929, 0.018599761851139936, 1.0615074581619262, -0.5945356040381385, 1.063628108280927, -0.026343395611301456, 1.6160843357286385, -2.039300163490272, 0.29197227096395584, 1.2773432038890091, 1.397931871420511, -0.19011073602518447, -0.5616139272987423, -0.33365921974022533, 0.25498039368357694, -0.5045169854402038, -0.6823106757278841, -1.0524270888935459, 1.297890380840405, 0.37222308458826087, -0.1858497690901246, -0.5969749215773195, 1.750369944761348, 1.05428825034664, -0.9561301036271894, -1.0575419797300827, -1.0516778401677838, 0.8456087654973249, 0.41348484173507144, -2.0351669878108525], \"y\": [-0.6967737301029128, 0.3955923153588364, 0.9304509208325568, -0.0744586522642926, 0.1211984333652385, 0.022291349587955523, 0.3887385590763829, -2.197471675736836, -0.18263329127329966, -0.8441573294832997, 0.25438217466521695, -0.4665323161144188, -0.28094950723014095, -0.9019303972034435, -0.8564555377646561, 0.4945430468649379, -1.76258208763336, -0.4918490163755658, 1.2494042369031118, 0.031181800975316205, -0.1083735743325583, 1.2884576364371843, -1.6037547525042675, -1.1462001137263944, 0.9548645539803001, -1.3886683835731528, 0.7532489553467764, -0.010822797014181502, -0.3577884303405244, -0.9600572198594697, -0.8487481571361674, -0.1886567268766113, 0.7651822612089191, -0.154652529142487, 0.25439107341567063, -2.8948776168564954, -0.03072124986333935, 0.22591470261515573, 1.5029917208158639, 0.15340207199391692, -0.06341970644899546, -0.778625105227336, -0.3739662082593961, 0.5826781894263957, 1.3352886097452983, 0.45955618854761954, -1.2509126022463022, -0.23781710320954533, 0.6511060012132226, 1.0599773131525834, 1.455408403447102, -0.8892299822485499, 1.6720953701987729, 0.7586822821240174, -1.1029657978608838, -0.42074668557719874, 0.4373370016959473, 1.6674354351089624, -0.5014138119319443, 0.8901371658728653, 0.5450316271810358, -0.2979814489174735, 0.00746766129420241, 0.48805137821334166, -0.15750421727680192, 0.5135060773499763, -0.6679765559004219, 0.6234621029683176, 0.6687995341297776, 0.44948993111897134, 0.22050423567227825, -0.7373287858654547, -0.024554045318524825, 1.3946803315640273, 0.5892612669063987, 0.6474314037463123, -1.3016713140423926, 1.263933201091441, -2.062701337755691, 2.525763242001359, 0.7361501938603366, -0.07660514326388362, 0.054162809365627486, -1.6422968996712803, -0.7101847406077325, 1.079380624362349, -0.602693260182104, -1.598310885910521, 0.7222361259546951, 0.87395586159824, 0.44038898813091215, -0.3631094213080669, 1.644230309460639, 1.0507482071374046, 0.9512076062512657, -0.894214278654392, 1.9233660832168906, -1.268145238676145, 0.18883957711582006, 0.851423150446762]}],\n",
       "                        {\"legend\": {\"bgcolor\": \"#F5F6F9\", \"font\": {\"color\": \"#4D5663\"}}, \"paper_bgcolor\": \"#F5F6F9\", \"plot_bgcolor\": \"#F5F6F9\", \"template\": {\"data\": {\"bar\": [{\"error_x\": {\"color\": \"#2a3f5f\"}, \"error_y\": {\"color\": \"#2a3f5f\"}, \"marker\": {\"line\": {\"color\": \"#E5ECF6\", \"width\": 0.5}}, \"type\": \"bar\"}], \"barpolar\": [{\"marker\": {\"line\": {\"color\": \"#E5ECF6\", \"width\": 0.5}}, \"type\": \"barpolar\"}], \"carpet\": [{\"aaxis\": {\"endlinecolor\": \"#2a3f5f\", \"gridcolor\": \"white\", \"linecolor\": \"white\", \"minorgridcolor\": \"white\", \"startlinecolor\": \"#2a3f5f\"}, \"baxis\": {\"endlinecolor\": \"#2a3f5f\", \"gridcolor\": \"white\", \"linecolor\": \"white\", \"minorgridcolor\": \"white\", \"startlinecolor\": \"#2a3f5f\"}, \"type\": \"carpet\"}], \"choropleth\": [{\"colorbar\": {\"outlinewidth\": 0, \"ticks\": \"\"}, \"type\": \"choropleth\"}], \"contour\": [{\"colorbar\": {\"outlinewidth\": 0, \"ticks\": \"\"}, \"colorscale\": [[0.0, \"#0d0887\"], [0.1111111111111111, \"#46039f\"], [0.2222222222222222, \"#7201a8\"], [0.3333333333333333, \"#9c179e\"], [0.4444444444444444, \"#bd3786\"], [0.5555555555555556, \"#d8576b\"], [0.6666666666666666, \"#ed7953\"], [0.7777777777777778, \"#fb9f3a\"], [0.8888888888888888, \"#fdca26\"], [1.0, \"#f0f921\"]], \"type\": \"contour\"}], \"contourcarpet\": [{\"colorbar\": {\"outlinewidth\": 0, \"ticks\": \"\"}, \"type\": \"contourcarpet\"}], \"heatmap\": [{\"colorbar\": {\"outlinewidth\": 0, \"ticks\": \"\"}, \"colorscale\": [[0.0, \"#0d0887\"], [0.1111111111111111, \"#46039f\"], [0.2222222222222222, \"#7201a8\"], [0.3333333333333333, \"#9c179e\"], [0.4444444444444444, \"#bd3786\"], [0.5555555555555556, \"#d8576b\"], [0.6666666666666666, \"#ed7953\"], [0.7777777777777778, \"#fb9f3a\"], [0.8888888888888888, \"#fdca26\"], [1.0, \"#f0f921\"]], \"type\": \"heatmap\"}], \"heatmapgl\": [{\"colorbar\": {\"outlinewidth\": 0, \"ticks\": \"\"}, \"colorscale\": [[0.0, \"#0d0887\"], [0.1111111111111111, \"#46039f\"], [0.2222222222222222, \"#7201a8\"], [0.3333333333333333, \"#9c179e\"], [0.4444444444444444, \"#bd3786\"], [0.5555555555555556, \"#d8576b\"], [0.6666666666666666, \"#ed7953\"], [0.7777777777777778, \"#fb9f3a\"], [0.8888888888888888, \"#fdca26\"], [1.0, \"#f0f921\"]], \"type\": \"heatmapgl\"}], \"histogram\": [{\"marker\": {\"colorbar\": {\"outlinewidth\": 0, \"ticks\": \"\"}}, \"type\": \"histogram\"}], \"histogram2d\": [{\"colorbar\": {\"outlinewidth\": 0, \"ticks\": \"\"}, \"colorscale\": [[0.0, \"#0d0887\"], [0.1111111111111111, \"#46039f\"], [0.2222222222222222, \"#7201a8\"], [0.3333333333333333, \"#9c179e\"], [0.4444444444444444, \"#bd3786\"], [0.5555555555555556, \"#d8576b\"], [0.6666666666666666, \"#ed7953\"], [0.7777777777777778, \"#fb9f3a\"], [0.8888888888888888, \"#fdca26\"], [1.0, \"#f0f921\"]], \"type\": \"histogram2d\"}], \"histogram2dcontour\": [{\"colorbar\": {\"outlinewidth\": 0, \"ticks\": \"\"}, \"colorscale\": [[0.0, \"#0d0887\"], [0.1111111111111111, \"#46039f\"], [0.2222222222222222, \"#7201a8\"], [0.3333333333333333, \"#9c179e\"], [0.4444444444444444, \"#bd3786\"], [0.5555555555555556, \"#d8576b\"], [0.6666666666666666, \"#ed7953\"], [0.7777777777777778, \"#fb9f3a\"], [0.8888888888888888, \"#fdca26\"], [1.0, \"#f0f921\"]], \"type\": \"histogram2dcontour\"}], \"mesh3d\": [{\"colorbar\": {\"outlinewidth\": 0, \"ticks\": \"\"}, \"type\": \"mesh3d\"}], \"parcoords\": [{\"line\": {\"colorbar\": {\"outlinewidth\": 0, \"ticks\": \"\"}}, \"type\": \"parcoords\"}], \"pie\": [{\"automargin\": true, \"type\": \"pie\"}], \"scatter\": [{\"marker\": {\"colorbar\": {\"outlinewidth\": 0, \"ticks\": \"\"}}, \"type\": \"scatter\"}], \"scatter3d\": [{\"line\": {\"colorbar\": {\"outlinewidth\": 0, \"ticks\": \"\"}}, \"marker\": {\"colorbar\": {\"outlinewidth\": 0, \"ticks\": \"\"}}, \"type\": \"scatter3d\"}], \"scattercarpet\": [{\"marker\": {\"colorbar\": {\"outlinewidth\": 0, \"ticks\": \"\"}}, \"type\": \"scattercarpet\"}], \"scattergeo\": [{\"marker\": {\"colorbar\": {\"outlinewidth\": 0, \"ticks\": \"\"}}, \"type\": \"scattergeo\"}], \"scattergl\": [{\"marker\": {\"colorbar\": {\"outlinewidth\": 0, \"ticks\": \"\"}}, \"type\": \"scattergl\"}], \"scattermapbox\": [{\"marker\": {\"colorbar\": {\"outlinewidth\": 0, \"ticks\": \"\"}}, \"type\": \"scattermapbox\"}], \"scatterpolar\": [{\"marker\": {\"colorbar\": {\"outlinewidth\": 0, \"ticks\": \"\"}}, \"type\": \"scatterpolar\"}], \"scatterpolargl\": [{\"marker\": {\"colorbar\": {\"outlinewidth\": 0, \"ticks\": \"\"}}, \"type\": \"scatterpolargl\"}], \"scatterternary\": [{\"marker\": {\"colorbar\": {\"outlinewidth\": 0, \"ticks\": \"\"}}, \"type\": \"scatterternary\"}], \"surface\": [{\"colorbar\": {\"outlinewidth\": 0, \"ticks\": \"\"}, \"colorscale\": [[0.0, \"#0d0887\"], [0.1111111111111111, \"#46039f\"], [0.2222222222222222, \"#7201a8\"], [0.3333333333333333, \"#9c179e\"], [0.4444444444444444, \"#bd3786\"], [0.5555555555555556, \"#d8576b\"], [0.6666666666666666, \"#ed7953\"], [0.7777777777777778, \"#fb9f3a\"], [0.8888888888888888, \"#fdca26\"], [1.0, \"#f0f921\"]], \"type\": \"surface\"}], \"table\": [{\"cells\": {\"fill\": {\"color\": \"#EBF0F8\"}, \"line\": {\"color\": \"white\"}}, \"header\": {\"fill\": {\"color\": \"#C8D4E3\"}, \"line\": {\"color\": \"white\"}}, \"type\": \"table\"}]}, \"layout\": {\"annotationdefaults\": {\"arrowcolor\": \"#2a3f5f\", \"arrowhead\": 0, \"arrowwidth\": 1}, \"coloraxis\": {\"colorbar\": {\"outlinewidth\": 0, \"ticks\": \"\"}}, \"colorscale\": {\"diverging\": [[0, \"#8e0152\"], [0.1, \"#c51b7d\"], [0.2, \"#de77ae\"], [0.3, \"#f1b6da\"], [0.4, \"#fde0ef\"], [0.5, \"#f7f7f7\"], [0.6, \"#e6f5d0\"], [0.7, \"#b8e186\"], [0.8, \"#7fbc41\"], [0.9, \"#4d9221\"], [1, \"#276419\"]], \"sequential\": [[0.0, \"#0d0887\"], [0.1111111111111111, \"#46039f\"], [0.2222222222222222, \"#7201a8\"], [0.3333333333333333, \"#9c179e\"], [0.4444444444444444, \"#bd3786\"], [0.5555555555555556, \"#d8576b\"], [0.6666666666666666, \"#ed7953\"], [0.7777777777777778, \"#fb9f3a\"], [0.8888888888888888, \"#fdca26\"], [1.0, \"#f0f921\"]], \"sequentialminus\": [[0.0, \"#0d0887\"], [0.1111111111111111, \"#46039f\"], [0.2222222222222222, \"#7201a8\"], [0.3333333333333333, \"#9c179e\"], [0.4444444444444444, \"#bd3786\"], [0.5555555555555556, \"#d8576b\"], [0.6666666666666666, \"#ed7953\"], [0.7777777777777778, \"#fb9f3a\"], [0.8888888888888888, \"#fdca26\"], [1.0, \"#f0f921\"]]}, \"colorway\": [\"#636efa\", \"#EF553B\", \"#00cc96\", \"#ab63fa\", \"#FFA15A\", \"#19d3f3\", \"#FF6692\", \"#B6E880\", \"#FF97FF\", \"#FECB52\"], \"font\": {\"color\": \"#2a3f5f\"}, \"geo\": {\"bgcolor\": \"white\", \"lakecolor\": \"white\", \"landcolor\": \"#E5ECF6\", \"showlakes\": true, \"showland\": true, \"subunitcolor\": \"white\"}, \"hoverlabel\": {\"align\": \"left\"}, \"hovermode\": \"closest\", \"mapbox\": {\"style\": \"light\"}, \"paper_bgcolor\": \"white\", \"plot_bgcolor\": \"#E5ECF6\", \"polar\": {\"angularaxis\": {\"gridcolor\": \"white\", \"linecolor\": \"white\", \"ticks\": \"\"}, \"bgcolor\": \"#E5ECF6\", \"radialaxis\": {\"gridcolor\": \"white\", \"linecolor\": \"white\", \"ticks\": \"\"}}, \"scene\": {\"xaxis\": {\"backgroundcolor\": \"#E5ECF6\", \"gridcolor\": \"white\", \"gridwidth\": 2, \"linecolor\": \"white\", \"showbackground\": true, \"ticks\": \"\", \"zerolinecolor\": \"white\"}, \"yaxis\": {\"backgroundcolor\": \"#E5ECF6\", \"gridcolor\": \"white\", \"gridwidth\": 2, \"linecolor\": \"white\", \"showbackground\": true, \"ticks\": \"\", \"zerolinecolor\": \"white\"}, \"zaxis\": {\"backgroundcolor\": \"#E5ECF6\", \"gridcolor\": \"white\", \"gridwidth\": 2, \"linecolor\": \"white\", \"showbackground\": true, \"ticks\": \"\", \"zerolinecolor\": \"white\"}}, \"shapedefaults\": {\"line\": {\"color\": \"#2a3f5f\"}}, \"ternary\": {\"aaxis\": {\"gridcolor\": \"white\", \"linecolor\": \"white\", \"ticks\": \"\"}, \"baxis\": {\"gridcolor\": \"white\", \"linecolor\": \"white\", \"ticks\": \"\"}, \"bgcolor\": \"#E5ECF6\", \"caxis\": {\"gridcolor\": \"white\", \"linecolor\": \"white\", \"ticks\": \"\"}}, \"title\": {\"x\": 0.05}, \"xaxis\": {\"automargin\": true, \"gridcolor\": \"white\", \"linecolor\": \"white\", \"ticks\": \"\", \"title\": {\"standoff\": 15}, \"zerolinecolor\": \"white\", \"zerolinewidth\": 2}, \"yaxis\": {\"automargin\": true, \"gridcolor\": \"white\", \"linecolor\": \"white\", \"ticks\": \"\", \"title\": {\"standoff\": 15}, \"zerolinecolor\": \"white\", \"zerolinewidth\": 2}}}, \"title\": {\"font\": {\"color\": \"#4D5663\"}}, \"xaxis\": {\"gridcolor\": \"#E1E5ED\", \"showgrid\": true, \"tickfont\": {\"color\": \"#4D5663\"}, \"title\": {\"font\": {\"color\": \"#4D5663\"}, \"text\": \"\"}, \"zerolinecolor\": \"#E1E5ED\"}, \"yaxis\": {\"gridcolor\": \"#E1E5ED\", \"showgrid\": true, \"tickfont\": {\"color\": \"#4D5663\"}, \"title\": {\"font\": {\"color\": \"#4D5663\"}, \"text\": \"\"}, \"zerolinecolor\": \"#E1E5ED\"}},\n",
       "                        {\"showLink\": true, \"linkText\": \"Export to plot.ly\", \"plotlyServerURL\": \"https://plot.ly\", \"responsive\": true}\n",
       "                    ).then(function(){\n",
       "                            \n",
       "var gd = document.getElementById('b2f87e75-7a89-4fe6-a578-e697ded5d0dd');\n",
       "var x = new MutationObserver(function (mutations, observer) {{\n",
       "        var display = window.getComputedStyle(gd).display;\n",
       "        if (!display || display === 'none') {{\n",
       "            console.log([gd, 'removed!']);\n",
       "            Plotly.purge(gd);\n",
       "            observer.disconnect();\n",
       "        }}\n",
       "}});\n",
       "\n",
       "// Listen for the removal of the full notebook cells\n",
       "var notebookContainer = gd.closest('#notebook-container');\n",
       "if (notebookContainer) {{\n",
       "    x.observe(notebookContainer, {childList: true});\n",
       "}}\n",
       "\n",
       "// Listen for the clearing of the current output cell\n",
       "var outputEl = gd.closest('.output');\n",
       "if (outputEl) {{\n",
       "    x.observe(outputEl, {childList: true});\n",
       "}}\n",
       "\n",
       "                        })\n",
       "                };\n",
       "                });\n",
       "            </script>\n",
       "        </div>"
      ]
     },
     "metadata": {},
     "output_type": "display_data"
    }
   ],
   "source": [
    "df.iplot(kind='bubble',x='A',y='B',size='C')"
   ]
  },
  {
   "cell_type": "markdown",
   "metadata": {},
   "source": [
    "## scatter_matrix()\n",
    "\n",
    "Similar to sns.pairplot()"
   ]
  },
  {
   "cell_type": "code",
   "execution_count": 18,
   "metadata": {},
   "outputs": [
    {
     "data": {
      "application/vnd.plotly.v1+json": {
       "config": {
        "linkText": "Export to plot.ly",
        "plotlyServerURL": "https://plot.ly",
        "showLink": true
       },
       "data": [
        {
         "histfunc": "count",
         "histnorm": "",
         "marker": {
          "color": "rgba(255, 153, 51, 1.0)",
          "line": {
           "color": "#4D5663",
           "width": 1.3
          }
         },
         "name": "A",
         "nbinsx": 10,
         "opacity": 0.8,
         "orientation": "v",
         "type": "histogram",
         "x": [
          1.565884337167468,
          -0.45771390855734573,
          -0.6294981356484306,
          -0.31632596935640805,
          -0.8415387236765782,
          -1.0011109686364592,
          -1.4848300297289672,
          -0.4341971001119396,
          0.20559798897040746,
          -1.0093491072636154,
          -0.6933918467635506,
          -1.4134648098598488,
          -0.006558075223548637,
          0.42339501837302906,
          1.0536102304279946,
          -0.22135839802994153,
          -0.5588442239783614,
          0.8011714238548048,
          -0.8954504814497545,
          -0.8702490790991079,
          -0.08548128885203164,
          -1.7781641352509694,
          2.614932210947218,
          -0.1040436359440887,
          -1.6474994438719635,
          0.1131359207721515,
          -0.08796528933397242,
          2.5258333098386765,
          -0.4163684847370185,
          0.278459211531101,
          1.348134060287212,
          -1.0270330164094006,
          -0.3082720877712286,
          1.0975241245551837,
          -1.955871071034986,
          -0.6521508448632184,
          -0.8038019598913686,
          -1.501894043694504,
          0.24333768279152238,
          1.592031644168021,
          0.949301075242087,
          -0.023481831597560853,
          -1.367738140808775,
          -0.08686752700857645,
          -0.1638917532126145,
          -1.272210803236027,
          -1.0741244297077253,
          -3.4659277855100084,
          -0.9738316689582084,
          0.34373991219368616,
          -1.3290005300039058,
          2.2827711463244196,
          -0.6194094358815374,
          0.37335682630177425,
          1.7163568406020657,
          0.6634845573251583,
          0.13750158166138593,
          0.8869606796560566,
          -0.36898132575109505,
          -0.027969059779097097,
          0.5651141298181905,
          -0.998635320715629,
          -0.520446310714804,
          0.5994623035040102,
          0.708852267700245,
          -0.8136227015450364,
          -1.5764748894413487,
          -0.8977669402845133,
          0.06760506819494855,
          1.8214441598957745,
          -0.858597184257929,
          0.018599761851139936,
          1.0615074581619262,
          -0.5945356040381385,
          1.063628108280927,
          -0.026343395611301456,
          1.6160843357286385,
          -2.039300163490272,
          0.29197227096395584,
          1.2773432038890091,
          1.397931871420511,
          -0.19011073602518447,
          -0.5616139272987423,
          -0.33365921974022533,
          0.25498039368357694,
          -0.5045169854402038,
          -0.6823106757278841,
          -1.0524270888935459,
          1.297890380840405,
          0.37222308458826087,
          -0.1858497690901246,
          -0.5969749215773195,
          1.750369944761348,
          1.05428825034664,
          -0.9561301036271894,
          -1.0575419797300827,
          -1.0516778401677838,
          0.8456087654973249,
          0.41348484173507144,
          -2.0351669878108525
         ],
         "xaxis": "x",
         "yaxis": "y"
        },
        {
         "line": {
          "color": "rgba(128, 128, 128, 1.0)",
          "dash": "solid",
          "shape": "linear",
          "width": 1.3
         },
         "marker": {
          "size": 2,
          "symbol": "circle"
         },
         "mode": "markers",
         "name": "A",
         "text": "",
         "type": "scatter",
         "x": [
          -0.6967737301029128,
          0.3955923153588364,
          0.9304509208325568,
          -0.0744586522642926,
          0.1211984333652385,
          0.022291349587955523,
          0.3887385590763829,
          -2.197471675736836,
          -0.18263329127329966,
          -0.8441573294832997,
          0.25438217466521695,
          -0.4665323161144188,
          -0.28094950723014095,
          -0.9019303972034435,
          -0.8564555377646561,
          0.4945430468649379,
          -1.76258208763336,
          -0.4918490163755658,
          1.2494042369031118,
          0.031181800975316205,
          -0.1083735743325583,
          1.2884576364371843,
          -1.6037547525042675,
          -1.1462001137263944,
          0.9548645539803001,
          -1.3886683835731528,
          0.7532489553467764,
          -0.010822797014181502,
          -0.3577884303405244,
          -0.9600572198594697,
          -0.8487481571361674,
          -0.1886567268766113,
          0.7651822612089191,
          -0.154652529142487,
          0.25439107341567063,
          -2.8948776168564954,
          -0.03072124986333935,
          0.22591470261515573,
          1.5029917208158639,
          0.15340207199391692,
          -0.06341970644899546,
          -0.778625105227336,
          -0.3739662082593961,
          0.5826781894263957,
          1.3352886097452983,
          0.45955618854761954,
          -1.2509126022463022,
          -0.23781710320954533,
          0.6511060012132226,
          1.0599773131525834,
          1.455408403447102,
          -0.8892299822485499,
          1.6720953701987729,
          0.7586822821240174,
          -1.1029657978608838,
          -0.42074668557719874,
          0.4373370016959473,
          1.6674354351089624,
          -0.5014138119319443,
          0.8901371658728653,
          0.5450316271810358,
          -0.2979814489174735,
          0.00746766129420241,
          0.48805137821334166,
          -0.15750421727680192,
          0.5135060773499763,
          -0.6679765559004219,
          0.6234621029683176,
          0.6687995341297776,
          0.44948993111897134,
          0.22050423567227825,
          -0.7373287858654547,
          -0.024554045318524825,
          1.3946803315640273,
          0.5892612669063987,
          0.6474314037463123,
          -1.3016713140423926,
          1.263933201091441,
          -2.062701337755691,
          2.525763242001359,
          0.7361501938603366,
          -0.07660514326388362,
          0.054162809365627486,
          -1.6422968996712803,
          -0.7101847406077325,
          1.079380624362349,
          -0.602693260182104,
          -1.598310885910521,
          0.7222361259546951,
          0.87395586159824,
          0.44038898813091215,
          -0.3631094213080669,
          1.644230309460639,
          1.0507482071374046,
          0.9512076062512657,
          -0.894214278654392,
          1.9233660832168906,
          -1.268145238676145,
          0.18883957711582006,
          0.851423150446762
         ],
         "xaxis": "x2",
         "y": [
          1.565884337167468,
          -0.45771390855734573,
          -0.6294981356484306,
          -0.31632596935640805,
          -0.8415387236765782,
          -1.0011109686364592,
          -1.4848300297289672,
          -0.4341971001119396,
          0.20559798897040746,
          -1.0093491072636154,
          -0.6933918467635506,
          -1.4134648098598488,
          -0.006558075223548637,
          0.42339501837302906,
          1.0536102304279946,
          -0.22135839802994153,
          -0.5588442239783614,
          0.8011714238548048,
          -0.8954504814497545,
          -0.8702490790991079,
          -0.08548128885203164,
          -1.7781641352509694,
          2.614932210947218,
          -0.1040436359440887,
          -1.6474994438719635,
          0.1131359207721515,
          -0.08796528933397242,
          2.5258333098386765,
          -0.4163684847370185,
          0.278459211531101,
          1.348134060287212,
          -1.0270330164094006,
          -0.3082720877712286,
          1.0975241245551837,
          -1.955871071034986,
          -0.6521508448632184,
          -0.8038019598913686,
          -1.501894043694504,
          0.24333768279152238,
          1.592031644168021,
          0.949301075242087,
          -0.023481831597560853,
          -1.367738140808775,
          -0.08686752700857645,
          -0.1638917532126145,
          -1.272210803236027,
          -1.0741244297077253,
          -3.4659277855100084,
          -0.9738316689582084,
          0.34373991219368616,
          -1.3290005300039058,
          2.2827711463244196,
          -0.6194094358815374,
          0.37335682630177425,
          1.7163568406020657,
          0.6634845573251583,
          0.13750158166138593,
          0.8869606796560566,
          -0.36898132575109505,
          -0.027969059779097097,
          0.5651141298181905,
          -0.998635320715629,
          -0.520446310714804,
          0.5994623035040102,
          0.708852267700245,
          -0.8136227015450364,
          -1.5764748894413487,
          -0.8977669402845133,
          0.06760506819494855,
          1.8214441598957745,
          -0.858597184257929,
          0.018599761851139936,
          1.0615074581619262,
          -0.5945356040381385,
          1.063628108280927,
          -0.026343395611301456,
          1.6160843357286385,
          -2.039300163490272,
          0.29197227096395584,
          1.2773432038890091,
          1.397931871420511,
          -0.19011073602518447,
          -0.5616139272987423,
          -0.33365921974022533,
          0.25498039368357694,
          -0.5045169854402038,
          -0.6823106757278841,
          -1.0524270888935459,
          1.297890380840405,
          0.37222308458826087,
          -0.1858497690901246,
          -0.5969749215773195,
          1.750369944761348,
          1.05428825034664,
          -0.9561301036271894,
          -1.0575419797300827,
          -1.0516778401677838,
          0.8456087654973249,
          0.41348484173507144,
          -2.0351669878108525
         ],
         "yaxis": "y2"
        },
        {
         "line": {
          "color": "rgba(128, 128, 128, 1.0)",
          "dash": "solid",
          "shape": "linear",
          "width": 1.3
         },
         "marker": {
          "size": 2,
          "symbol": "circle"
         },
         "mode": "markers",
         "name": "A",
         "text": "",
         "type": "scatter",
         "x": [
          -0.7301352317282106,
          0.08779556201931825,
          -0.524709251031356,
          -0.21593021511776864,
          1.3250904965255268,
          -1.3364697728077088,
          -1.469261874221005,
          0.07339431139103271,
          -1.1098237572465623,
          -0.0635405043182496,
          0.15544483959009103,
          0.5150962954286789,
          0.5002093153624056,
          -0.7362811308263522,
          -0.4381493328406711,
          2.0900514328682105,
          1.5894679443431854,
          2.574006507457789,
          -0.8567000712841061,
          0.3700038521859714,
          -0.455657509521665,
          0.32023432876899793,
          -0.8408124542854524,
          1.5300045654723207,
          1.428512779986509,
          0.530396350375161,
          1.2519206100951428,
          0.6663292387288364,
          -0.7730012234696285,
          -0.7814861900476605,
          0.15539685558857158,
          1.0136265203289576,
          1.5342875479575093,
          0.5353385807618619,
          -0.6404571235699517,
          1.96804384588998,
          -1.7164176764969905,
          0.10698173480426748,
          0.4517264381169476,
          0.36588106653529856,
          -0.3082592879308524,
          -0.4305870864675882,
          -0.751991013941709,
          -1.0458828762609829,
          -0.15386690845757842,
          -0.061784434498645506,
          0.25301461745526455,
          0.050810391451398144,
          -1.130049106084122,
          -0.36721191428312094,
          -1.3425255150576543,
          1.332769166021427,
          -0.5499855518754465,
          -1.6416207551974187,
          0.5478581555199442,
          0.7754992829442867,
          0.05228088917803463,
          0.9268097942485304,
          0.045646819658006446,
          -1.7391340994184767,
          -0.7053086718910987,
          -0.5692892996671876,
          0.02510544648360247,
          0.5067679358623244,
          0.3195885391018388,
          1.7224598614546238,
          1.147959696652209,
          0.004588975576922581,
          -0.9671271227639321,
          0.5740234635784761,
          -0.8980901246671379,
          -1.5930458910826608,
          0.15802777930569248,
          -0.9254381374688119,
          -0.04161554143363617,
          -1.8691436551710514,
          -1.0971553281117405,
          -1.2299202652865213,
          -1.8524050796872709,
          -1.230260810808082,
          1.439920507932906,
          -0.8888478054575822,
          -1.9231932754945789,
          -0.4895990739239892,
          -1.870962483925207,
          0.3673464736837565,
          0.10697930603923508,
          -1.5209617058013976,
          -1.2832638676076424,
          -0.16622121795532996,
          -0.23890348896172903,
          0.5063012008978391,
          -1.7923206805183614,
          -0.08092462174465116,
          -2.3094418477242318,
          -0.5426532984047878,
          0.8189498229715165,
          -0.7238095388860954,
          0.11732881297747685,
          0.30789135902706505
         ],
         "xaxis": "x3",
         "y": [
          1.565884337167468,
          -0.45771390855734573,
          -0.6294981356484306,
          -0.31632596935640805,
          -0.8415387236765782,
          -1.0011109686364592,
          -1.4848300297289672,
          -0.4341971001119396,
          0.20559798897040746,
          -1.0093491072636154,
          -0.6933918467635506,
          -1.4134648098598488,
          -0.006558075223548637,
          0.42339501837302906,
          1.0536102304279946,
          -0.22135839802994153,
          -0.5588442239783614,
          0.8011714238548048,
          -0.8954504814497545,
          -0.8702490790991079,
          -0.08548128885203164,
          -1.7781641352509694,
          2.614932210947218,
          -0.1040436359440887,
          -1.6474994438719635,
          0.1131359207721515,
          -0.08796528933397242,
          2.5258333098386765,
          -0.4163684847370185,
          0.278459211531101,
          1.348134060287212,
          -1.0270330164094006,
          -0.3082720877712286,
          1.0975241245551837,
          -1.955871071034986,
          -0.6521508448632184,
          -0.8038019598913686,
          -1.501894043694504,
          0.24333768279152238,
          1.592031644168021,
          0.949301075242087,
          -0.023481831597560853,
          -1.367738140808775,
          -0.08686752700857645,
          -0.1638917532126145,
          -1.272210803236027,
          -1.0741244297077253,
          -3.4659277855100084,
          -0.9738316689582084,
          0.34373991219368616,
          -1.3290005300039058,
          2.2827711463244196,
          -0.6194094358815374,
          0.37335682630177425,
          1.7163568406020657,
          0.6634845573251583,
          0.13750158166138593,
          0.8869606796560566,
          -0.36898132575109505,
          -0.027969059779097097,
          0.5651141298181905,
          -0.998635320715629,
          -0.520446310714804,
          0.5994623035040102,
          0.708852267700245,
          -0.8136227015450364,
          -1.5764748894413487,
          -0.8977669402845133,
          0.06760506819494855,
          1.8214441598957745,
          -0.858597184257929,
          0.018599761851139936,
          1.0615074581619262,
          -0.5945356040381385,
          1.063628108280927,
          -0.026343395611301456,
          1.6160843357286385,
          -2.039300163490272,
          0.29197227096395584,
          1.2773432038890091,
          1.397931871420511,
          -0.19011073602518447,
          -0.5616139272987423,
          -0.33365921974022533,
          0.25498039368357694,
          -0.5045169854402038,
          -0.6823106757278841,
          -1.0524270888935459,
          1.297890380840405,
          0.37222308458826087,
          -0.1858497690901246,
          -0.5969749215773195,
          1.750369944761348,
          1.05428825034664,
          -0.9561301036271894,
          -1.0575419797300827,
          -1.0516778401677838,
          0.8456087654973249,
          0.41348484173507144,
          -2.0351669878108525
         ],
         "yaxis": "y3"
        },
        {
         "line": {
          "color": "rgba(128, 128, 128, 1.0)",
          "dash": "solid",
          "shape": "linear",
          "width": 1.3
         },
         "marker": {
          "size": 2,
          "symbol": "circle"
         },
         "mode": "markers",
         "name": "A",
         "text": "",
         "type": "scatter",
         "x": [
          -1.7216172312988307,
          1.8046858648116653,
          -1.4647291390348893,
          -1.5147331241316506,
          1.6825890547486828,
          1.8145266255975043,
          1.3973500850895426,
          0.12926806224259768,
          1.0512562312534692,
          -1.089012260383378,
          0.13849113722266734,
          -1.0165849482167328,
          1.8608447935012344,
          0.6146829773835975,
          -0.5623266638223187,
          -0.38879792913416616,
          2.147157541766009,
          2.089580369789075,
          -0.6849070270113347,
          2.2814129932357226,
          0.18349546900263083,
          0.8947645448819614,
          1.268409819667111,
          0.8414386517865439,
          1.4694813141284722,
          -0.9175515368153877,
          1.4990926921005339,
          0.8942504300601379,
          -0.04440976514025778,
          0.4393172691963984,
          -0.6500106279702698,
          1.3994018921447586,
          2.50578036606172,
          -0.29954702938157635,
          0.22487923849090152,
          1.05805800360803,
          1.2355699642843032,
          1.2685503173303463,
          0.5628284654241276,
          -0.38372302612685594,
          -1.184551643972065,
          -1.1651111349147578,
          -0.2161468874285778,
          -0.8481230977944765,
          -0.7149885633430976,
          -1.2431141346192784,
          -0.21244970998497795,
          0.7192602729860825,
          1.6646071028834495,
          1.4378441469571286,
          1.1527586806687484,
          -1.7059803294554596,
          0.7118290987712215,
          -0.301389165741736,
          0.5191048378964799,
          0.2325799221827256,
          -0.18388027155761488,
          0.4287281044896644,
          0.5775018103708022,
          0.007842996834937116,
          -0.1349810771475766,
          1.0957690666341457,
          -1.658083265471898,
          0.16011036262935488,
          0.093626295000747,
          0.48080651549150766,
          1.2978612597856227,
          1.2208179294634713,
          -0.4334630855456557,
          -0.34121310493691415,
          -0.5860177924410135,
          1.5073536831169771,
          -0.1428257546349099,
          0.37195007032908595,
          -0.4683382228777139,
          -0.2669611259903742,
          1.4480344684104847,
          -2.0932530674252625,
          -0.8153365944967327,
          0.016606208207461743,
          0.3268468909876187,
          -0.5959794030657887,
          1.4839483445597128,
          -0.1610153983089623,
          -0.7565042264746906,
          -0.5673293379584862,
          1.0546566945183387,
          1.0698727219541548,
          -0.11271713921465255,
          0.5693381244323878,
          0.4135236437601984,
          -0.6802629079893298,
          0.5648510393775303,
          -0.4493682009586909,
          -0.46879536556519275,
          -0.37126296043418505,
          0.9588349430886267,
          0.9541772804025027,
          -1.2110212934479987,
          -0.33580654072256205
         ],
         "xaxis": "x4",
         "y": [
          1.565884337167468,
          -0.45771390855734573,
          -0.6294981356484306,
          -0.31632596935640805,
          -0.8415387236765782,
          -1.0011109686364592,
          -1.4848300297289672,
          -0.4341971001119396,
          0.20559798897040746,
          -1.0093491072636154,
          -0.6933918467635506,
          -1.4134648098598488,
          -0.006558075223548637,
          0.42339501837302906,
          1.0536102304279946,
          -0.22135839802994153,
          -0.5588442239783614,
          0.8011714238548048,
          -0.8954504814497545,
          -0.8702490790991079,
          -0.08548128885203164,
          -1.7781641352509694,
          2.614932210947218,
          -0.1040436359440887,
          -1.6474994438719635,
          0.1131359207721515,
          -0.08796528933397242,
          2.5258333098386765,
          -0.4163684847370185,
          0.278459211531101,
          1.348134060287212,
          -1.0270330164094006,
          -0.3082720877712286,
          1.0975241245551837,
          -1.955871071034986,
          -0.6521508448632184,
          -0.8038019598913686,
          -1.501894043694504,
          0.24333768279152238,
          1.592031644168021,
          0.949301075242087,
          -0.023481831597560853,
          -1.367738140808775,
          -0.08686752700857645,
          -0.1638917532126145,
          -1.272210803236027,
          -1.0741244297077253,
          -3.4659277855100084,
          -0.9738316689582084,
          0.34373991219368616,
          -1.3290005300039058,
          2.2827711463244196,
          -0.6194094358815374,
          0.37335682630177425,
          1.7163568406020657,
          0.6634845573251583,
          0.13750158166138593,
          0.8869606796560566,
          -0.36898132575109505,
          -0.027969059779097097,
          0.5651141298181905,
          -0.998635320715629,
          -0.520446310714804,
          0.5994623035040102,
          0.708852267700245,
          -0.8136227015450364,
          -1.5764748894413487,
          -0.8977669402845133,
          0.06760506819494855,
          1.8214441598957745,
          -0.858597184257929,
          0.018599761851139936,
          1.0615074581619262,
          -0.5945356040381385,
          1.063628108280927,
          -0.026343395611301456,
          1.6160843357286385,
          -2.039300163490272,
          0.29197227096395584,
          1.2773432038890091,
          1.397931871420511,
          -0.19011073602518447,
          -0.5616139272987423,
          -0.33365921974022533,
          0.25498039368357694,
          -0.5045169854402038,
          -0.6823106757278841,
          -1.0524270888935459,
          1.297890380840405,
          0.37222308458826087,
          -0.1858497690901246,
          -0.5969749215773195,
          1.750369944761348,
          1.05428825034664,
          -0.9561301036271894,
          -1.0575419797300827,
          -1.0516778401677838,
          0.8456087654973249,
          0.41348484173507144,
          -2.0351669878108525
         ],
         "yaxis": "y4"
        },
        {
         "line": {
          "color": "rgba(128, 128, 128, 1.0)",
          "dash": "solid",
          "shape": "linear",
          "width": 1.3
         },
         "marker": {
          "size": 2,
          "symbol": "circle"
         },
         "mode": "markers",
         "name": "B",
         "text": "",
         "type": "scatter",
         "x": [
          1.565884337167468,
          -0.45771390855734573,
          -0.6294981356484306,
          -0.31632596935640805,
          -0.8415387236765782,
          -1.0011109686364592,
          -1.4848300297289672,
          -0.4341971001119396,
          0.20559798897040746,
          -1.0093491072636154,
          -0.6933918467635506,
          -1.4134648098598488,
          -0.006558075223548637,
          0.42339501837302906,
          1.0536102304279946,
          -0.22135839802994153,
          -0.5588442239783614,
          0.8011714238548048,
          -0.8954504814497545,
          -0.8702490790991079,
          -0.08548128885203164,
          -1.7781641352509694,
          2.614932210947218,
          -0.1040436359440887,
          -1.6474994438719635,
          0.1131359207721515,
          -0.08796528933397242,
          2.5258333098386765,
          -0.4163684847370185,
          0.278459211531101,
          1.348134060287212,
          -1.0270330164094006,
          -0.3082720877712286,
          1.0975241245551837,
          -1.955871071034986,
          -0.6521508448632184,
          -0.8038019598913686,
          -1.501894043694504,
          0.24333768279152238,
          1.592031644168021,
          0.949301075242087,
          -0.023481831597560853,
          -1.367738140808775,
          -0.08686752700857645,
          -0.1638917532126145,
          -1.272210803236027,
          -1.0741244297077253,
          -3.4659277855100084,
          -0.9738316689582084,
          0.34373991219368616,
          -1.3290005300039058,
          2.2827711463244196,
          -0.6194094358815374,
          0.37335682630177425,
          1.7163568406020657,
          0.6634845573251583,
          0.13750158166138593,
          0.8869606796560566,
          -0.36898132575109505,
          -0.027969059779097097,
          0.5651141298181905,
          -0.998635320715629,
          -0.520446310714804,
          0.5994623035040102,
          0.708852267700245,
          -0.8136227015450364,
          -1.5764748894413487,
          -0.8977669402845133,
          0.06760506819494855,
          1.8214441598957745,
          -0.858597184257929,
          0.018599761851139936,
          1.0615074581619262,
          -0.5945356040381385,
          1.063628108280927,
          -0.026343395611301456,
          1.6160843357286385,
          -2.039300163490272,
          0.29197227096395584,
          1.2773432038890091,
          1.397931871420511,
          -0.19011073602518447,
          -0.5616139272987423,
          -0.33365921974022533,
          0.25498039368357694,
          -0.5045169854402038,
          -0.6823106757278841,
          -1.0524270888935459,
          1.297890380840405,
          0.37222308458826087,
          -0.1858497690901246,
          -0.5969749215773195,
          1.750369944761348,
          1.05428825034664,
          -0.9561301036271894,
          -1.0575419797300827,
          -1.0516778401677838,
          0.8456087654973249,
          0.41348484173507144,
          -2.0351669878108525
         ],
         "xaxis": "x5",
         "y": [
          -0.6967737301029128,
          0.3955923153588364,
          0.9304509208325568,
          -0.0744586522642926,
          0.1211984333652385,
          0.022291349587955523,
          0.3887385590763829,
          -2.197471675736836,
          -0.18263329127329966,
          -0.8441573294832997,
          0.25438217466521695,
          -0.4665323161144188,
          -0.28094950723014095,
          -0.9019303972034435,
          -0.8564555377646561,
          0.4945430468649379,
          -1.76258208763336,
          -0.4918490163755658,
          1.2494042369031118,
          0.031181800975316205,
          -0.1083735743325583,
          1.2884576364371843,
          -1.6037547525042675,
          -1.1462001137263944,
          0.9548645539803001,
          -1.3886683835731528,
          0.7532489553467764,
          -0.010822797014181502,
          -0.3577884303405244,
          -0.9600572198594697,
          -0.8487481571361674,
          -0.1886567268766113,
          0.7651822612089191,
          -0.154652529142487,
          0.25439107341567063,
          -2.8948776168564954,
          -0.03072124986333935,
          0.22591470261515573,
          1.5029917208158639,
          0.15340207199391692,
          -0.06341970644899546,
          -0.778625105227336,
          -0.3739662082593961,
          0.5826781894263957,
          1.3352886097452983,
          0.45955618854761954,
          -1.2509126022463022,
          -0.23781710320954533,
          0.6511060012132226,
          1.0599773131525834,
          1.455408403447102,
          -0.8892299822485499,
          1.6720953701987729,
          0.7586822821240174,
          -1.1029657978608838,
          -0.42074668557719874,
          0.4373370016959473,
          1.6674354351089624,
          -0.5014138119319443,
          0.8901371658728653,
          0.5450316271810358,
          -0.2979814489174735,
          0.00746766129420241,
          0.48805137821334166,
          -0.15750421727680192,
          0.5135060773499763,
          -0.6679765559004219,
          0.6234621029683176,
          0.6687995341297776,
          0.44948993111897134,
          0.22050423567227825,
          -0.7373287858654547,
          -0.024554045318524825,
          1.3946803315640273,
          0.5892612669063987,
          0.6474314037463123,
          -1.3016713140423926,
          1.263933201091441,
          -2.062701337755691,
          2.525763242001359,
          0.7361501938603366,
          -0.07660514326388362,
          0.054162809365627486,
          -1.6422968996712803,
          -0.7101847406077325,
          1.079380624362349,
          -0.602693260182104,
          -1.598310885910521,
          0.7222361259546951,
          0.87395586159824,
          0.44038898813091215,
          -0.3631094213080669,
          1.644230309460639,
          1.0507482071374046,
          0.9512076062512657,
          -0.894214278654392,
          1.9233660832168906,
          -1.268145238676145,
          0.18883957711582006,
          0.851423150446762
         ],
         "yaxis": "y5"
        },
        {
         "histfunc": "count",
         "histnorm": "",
         "marker": {
          "color": "rgba(55, 128, 191, 1.0)",
          "line": {
           "color": "#4D5663",
           "width": 1.3
          }
         },
         "name": "B",
         "nbinsx": 10,
         "opacity": 0.8,
         "orientation": "v",
         "type": "histogram",
         "x": [
          -0.6967737301029128,
          0.3955923153588364,
          0.9304509208325568,
          -0.0744586522642926,
          0.1211984333652385,
          0.022291349587955523,
          0.3887385590763829,
          -2.197471675736836,
          -0.18263329127329966,
          -0.8441573294832997,
          0.25438217466521695,
          -0.4665323161144188,
          -0.28094950723014095,
          -0.9019303972034435,
          -0.8564555377646561,
          0.4945430468649379,
          -1.76258208763336,
          -0.4918490163755658,
          1.2494042369031118,
          0.031181800975316205,
          -0.1083735743325583,
          1.2884576364371843,
          -1.6037547525042675,
          -1.1462001137263944,
          0.9548645539803001,
          -1.3886683835731528,
          0.7532489553467764,
          -0.010822797014181502,
          -0.3577884303405244,
          -0.9600572198594697,
          -0.8487481571361674,
          -0.1886567268766113,
          0.7651822612089191,
          -0.154652529142487,
          0.25439107341567063,
          -2.8948776168564954,
          -0.03072124986333935,
          0.22591470261515573,
          1.5029917208158639,
          0.15340207199391692,
          -0.06341970644899546,
          -0.778625105227336,
          -0.3739662082593961,
          0.5826781894263957,
          1.3352886097452983,
          0.45955618854761954,
          -1.2509126022463022,
          -0.23781710320954533,
          0.6511060012132226,
          1.0599773131525834,
          1.455408403447102,
          -0.8892299822485499,
          1.6720953701987729,
          0.7586822821240174,
          -1.1029657978608838,
          -0.42074668557719874,
          0.4373370016959473,
          1.6674354351089624,
          -0.5014138119319443,
          0.8901371658728653,
          0.5450316271810358,
          -0.2979814489174735,
          0.00746766129420241,
          0.48805137821334166,
          -0.15750421727680192,
          0.5135060773499763,
          -0.6679765559004219,
          0.6234621029683176,
          0.6687995341297776,
          0.44948993111897134,
          0.22050423567227825,
          -0.7373287858654547,
          -0.024554045318524825,
          1.3946803315640273,
          0.5892612669063987,
          0.6474314037463123,
          -1.3016713140423926,
          1.263933201091441,
          -2.062701337755691,
          2.525763242001359,
          0.7361501938603366,
          -0.07660514326388362,
          0.054162809365627486,
          -1.6422968996712803,
          -0.7101847406077325,
          1.079380624362349,
          -0.602693260182104,
          -1.598310885910521,
          0.7222361259546951,
          0.87395586159824,
          0.44038898813091215,
          -0.3631094213080669,
          1.644230309460639,
          1.0507482071374046,
          0.9512076062512657,
          -0.894214278654392,
          1.9233660832168906,
          -1.268145238676145,
          0.18883957711582006,
          0.851423150446762
         ],
         "xaxis": "x6",
         "yaxis": "y6"
        },
        {
         "line": {
          "color": "rgba(128, 128, 128, 1.0)",
          "dash": "solid",
          "shape": "linear",
          "width": 1.3
         },
         "marker": {
          "size": 2,
          "symbol": "circle"
         },
         "mode": "markers",
         "name": "B",
         "text": "",
         "type": "scatter",
         "x": [
          -0.7301352317282106,
          0.08779556201931825,
          -0.524709251031356,
          -0.21593021511776864,
          1.3250904965255268,
          -1.3364697728077088,
          -1.469261874221005,
          0.07339431139103271,
          -1.1098237572465623,
          -0.0635405043182496,
          0.15544483959009103,
          0.5150962954286789,
          0.5002093153624056,
          -0.7362811308263522,
          -0.4381493328406711,
          2.0900514328682105,
          1.5894679443431854,
          2.574006507457789,
          -0.8567000712841061,
          0.3700038521859714,
          -0.455657509521665,
          0.32023432876899793,
          -0.8408124542854524,
          1.5300045654723207,
          1.428512779986509,
          0.530396350375161,
          1.2519206100951428,
          0.6663292387288364,
          -0.7730012234696285,
          -0.7814861900476605,
          0.15539685558857158,
          1.0136265203289576,
          1.5342875479575093,
          0.5353385807618619,
          -0.6404571235699517,
          1.96804384588998,
          -1.7164176764969905,
          0.10698173480426748,
          0.4517264381169476,
          0.36588106653529856,
          -0.3082592879308524,
          -0.4305870864675882,
          -0.751991013941709,
          -1.0458828762609829,
          -0.15386690845757842,
          -0.061784434498645506,
          0.25301461745526455,
          0.050810391451398144,
          -1.130049106084122,
          -0.36721191428312094,
          -1.3425255150576543,
          1.332769166021427,
          -0.5499855518754465,
          -1.6416207551974187,
          0.5478581555199442,
          0.7754992829442867,
          0.05228088917803463,
          0.9268097942485304,
          0.045646819658006446,
          -1.7391340994184767,
          -0.7053086718910987,
          -0.5692892996671876,
          0.02510544648360247,
          0.5067679358623244,
          0.3195885391018388,
          1.7224598614546238,
          1.147959696652209,
          0.004588975576922581,
          -0.9671271227639321,
          0.5740234635784761,
          -0.8980901246671379,
          -1.5930458910826608,
          0.15802777930569248,
          -0.9254381374688119,
          -0.04161554143363617,
          -1.8691436551710514,
          -1.0971553281117405,
          -1.2299202652865213,
          -1.8524050796872709,
          -1.230260810808082,
          1.439920507932906,
          -0.8888478054575822,
          -1.9231932754945789,
          -0.4895990739239892,
          -1.870962483925207,
          0.3673464736837565,
          0.10697930603923508,
          -1.5209617058013976,
          -1.2832638676076424,
          -0.16622121795532996,
          -0.23890348896172903,
          0.5063012008978391,
          -1.7923206805183614,
          -0.08092462174465116,
          -2.3094418477242318,
          -0.5426532984047878,
          0.8189498229715165,
          -0.7238095388860954,
          0.11732881297747685,
          0.30789135902706505
         ],
         "xaxis": "x7",
         "y": [
          -0.6967737301029128,
          0.3955923153588364,
          0.9304509208325568,
          -0.0744586522642926,
          0.1211984333652385,
          0.022291349587955523,
          0.3887385590763829,
          -2.197471675736836,
          -0.18263329127329966,
          -0.8441573294832997,
          0.25438217466521695,
          -0.4665323161144188,
          -0.28094950723014095,
          -0.9019303972034435,
          -0.8564555377646561,
          0.4945430468649379,
          -1.76258208763336,
          -0.4918490163755658,
          1.2494042369031118,
          0.031181800975316205,
          -0.1083735743325583,
          1.2884576364371843,
          -1.6037547525042675,
          -1.1462001137263944,
          0.9548645539803001,
          -1.3886683835731528,
          0.7532489553467764,
          -0.010822797014181502,
          -0.3577884303405244,
          -0.9600572198594697,
          -0.8487481571361674,
          -0.1886567268766113,
          0.7651822612089191,
          -0.154652529142487,
          0.25439107341567063,
          -2.8948776168564954,
          -0.03072124986333935,
          0.22591470261515573,
          1.5029917208158639,
          0.15340207199391692,
          -0.06341970644899546,
          -0.778625105227336,
          -0.3739662082593961,
          0.5826781894263957,
          1.3352886097452983,
          0.45955618854761954,
          -1.2509126022463022,
          -0.23781710320954533,
          0.6511060012132226,
          1.0599773131525834,
          1.455408403447102,
          -0.8892299822485499,
          1.6720953701987729,
          0.7586822821240174,
          -1.1029657978608838,
          -0.42074668557719874,
          0.4373370016959473,
          1.6674354351089624,
          -0.5014138119319443,
          0.8901371658728653,
          0.5450316271810358,
          -0.2979814489174735,
          0.00746766129420241,
          0.48805137821334166,
          -0.15750421727680192,
          0.5135060773499763,
          -0.6679765559004219,
          0.6234621029683176,
          0.6687995341297776,
          0.44948993111897134,
          0.22050423567227825,
          -0.7373287858654547,
          -0.024554045318524825,
          1.3946803315640273,
          0.5892612669063987,
          0.6474314037463123,
          -1.3016713140423926,
          1.263933201091441,
          -2.062701337755691,
          2.525763242001359,
          0.7361501938603366,
          -0.07660514326388362,
          0.054162809365627486,
          -1.6422968996712803,
          -0.7101847406077325,
          1.079380624362349,
          -0.602693260182104,
          -1.598310885910521,
          0.7222361259546951,
          0.87395586159824,
          0.44038898813091215,
          -0.3631094213080669,
          1.644230309460639,
          1.0507482071374046,
          0.9512076062512657,
          -0.894214278654392,
          1.9233660832168906,
          -1.268145238676145,
          0.18883957711582006,
          0.851423150446762
         ],
         "yaxis": "y7"
        },
        {
         "line": {
          "color": "rgba(128, 128, 128, 1.0)",
          "dash": "solid",
          "shape": "linear",
          "width": 1.3
         },
         "marker": {
          "size": 2,
          "symbol": "circle"
         },
         "mode": "markers",
         "name": "B",
         "text": "",
         "type": "scatter",
         "x": [
          -1.7216172312988307,
          1.8046858648116653,
          -1.4647291390348893,
          -1.5147331241316506,
          1.6825890547486828,
          1.8145266255975043,
          1.3973500850895426,
          0.12926806224259768,
          1.0512562312534692,
          -1.089012260383378,
          0.13849113722266734,
          -1.0165849482167328,
          1.8608447935012344,
          0.6146829773835975,
          -0.5623266638223187,
          -0.38879792913416616,
          2.147157541766009,
          2.089580369789075,
          -0.6849070270113347,
          2.2814129932357226,
          0.18349546900263083,
          0.8947645448819614,
          1.268409819667111,
          0.8414386517865439,
          1.4694813141284722,
          -0.9175515368153877,
          1.4990926921005339,
          0.8942504300601379,
          -0.04440976514025778,
          0.4393172691963984,
          -0.6500106279702698,
          1.3994018921447586,
          2.50578036606172,
          -0.29954702938157635,
          0.22487923849090152,
          1.05805800360803,
          1.2355699642843032,
          1.2685503173303463,
          0.5628284654241276,
          -0.38372302612685594,
          -1.184551643972065,
          -1.1651111349147578,
          -0.2161468874285778,
          -0.8481230977944765,
          -0.7149885633430976,
          -1.2431141346192784,
          -0.21244970998497795,
          0.7192602729860825,
          1.6646071028834495,
          1.4378441469571286,
          1.1527586806687484,
          -1.7059803294554596,
          0.7118290987712215,
          -0.301389165741736,
          0.5191048378964799,
          0.2325799221827256,
          -0.18388027155761488,
          0.4287281044896644,
          0.5775018103708022,
          0.007842996834937116,
          -0.1349810771475766,
          1.0957690666341457,
          -1.658083265471898,
          0.16011036262935488,
          0.093626295000747,
          0.48080651549150766,
          1.2978612597856227,
          1.2208179294634713,
          -0.4334630855456557,
          -0.34121310493691415,
          -0.5860177924410135,
          1.5073536831169771,
          -0.1428257546349099,
          0.37195007032908595,
          -0.4683382228777139,
          -0.2669611259903742,
          1.4480344684104847,
          -2.0932530674252625,
          -0.8153365944967327,
          0.016606208207461743,
          0.3268468909876187,
          -0.5959794030657887,
          1.4839483445597128,
          -0.1610153983089623,
          -0.7565042264746906,
          -0.5673293379584862,
          1.0546566945183387,
          1.0698727219541548,
          -0.11271713921465255,
          0.5693381244323878,
          0.4135236437601984,
          -0.6802629079893298,
          0.5648510393775303,
          -0.4493682009586909,
          -0.46879536556519275,
          -0.37126296043418505,
          0.9588349430886267,
          0.9541772804025027,
          -1.2110212934479987,
          -0.33580654072256205
         ],
         "xaxis": "x8",
         "y": [
          -0.6967737301029128,
          0.3955923153588364,
          0.9304509208325568,
          -0.0744586522642926,
          0.1211984333652385,
          0.022291349587955523,
          0.3887385590763829,
          -2.197471675736836,
          -0.18263329127329966,
          -0.8441573294832997,
          0.25438217466521695,
          -0.4665323161144188,
          -0.28094950723014095,
          -0.9019303972034435,
          -0.8564555377646561,
          0.4945430468649379,
          -1.76258208763336,
          -0.4918490163755658,
          1.2494042369031118,
          0.031181800975316205,
          -0.1083735743325583,
          1.2884576364371843,
          -1.6037547525042675,
          -1.1462001137263944,
          0.9548645539803001,
          -1.3886683835731528,
          0.7532489553467764,
          -0.010822797014181502,
          -0.3577884303405244,
          -0.9600572198594697,
          -0.8487481571361674,
          -0.1886567268766113,
          0.7651822612089191,
          -0.154652529142487,
          0.25439107341567063,
          -2.8948776168564954,
          -0.03072124986333935,
          0.22591470261515573,
          1.5029917208158639,
          0.15340207199391692,
          -0.06341970644899546,
          -0.778625105227336,
          -0.3739662082593961,
          0.5826781894263957,
          1.3352886097452983,
          0.45955618854761954,
          -1.2509126022463022,
          -0.23781710320954533,
          0.6511060012132226,
          1.0599773131525834,
          1.455408403447102,
          -0.8892299822485499,
          1.6720953701987729,
          0.7586822821240174,
          -1.1029657978608838,
          -0.42074668557719874,
          0.4373370016959473,
          1.6674354351089624,
          -0.5014138119319443,
          0.8901371658728653,
          0.5450316271810358,
          -0.2979814489174735,
          0.00746766129420241,
          0.48805137821334166,
          -0.15750421727680192,
          0.5135060773499763,
          -0.6679765559004219,
          0.6234621029683176,
          0.6687995341297776,
          0.44948993111897134,
          0.22050423567227825,
          -0.7373287858654547,
          -0.024554045318524825,
          1.3946803315640273,
          0.5892612669063987,
          0.6474314037463123,
          -1.3016713140423926,
          1.263933201091441,
          -2.062701337755691,
          2.525763242001359,
          0.7361501938603366,
          -0.07660514326388362,
          0.054162809365627486,
          -1.6422968996712803,
          -0.7101847406077325,
          1.079380624362349,
          -0.602693260182104,
          -1.598310885910521,
          0.7222361259546951,
          0.87395586159824,
          0.44038898813091215,
          -0.3631094213080669,
          1.644230309460639,
          1.0507482071374046,
          0.9512076062512657,
          -0.894214278654392,
          1.9233660832168906,
          -1.268145238676145,
          0.18883957711582006,
          0.851423150446762
         ],
         "yaxis": "y8"
        },
        {
         "line": {
          "color": "rgba(128, 128, 128, 1.0)",
          "dash": "solid",
          "shape": "linear",
          "width": 1.3
         },
         "marker": {
          "size": 2,
          "symbol": "circle"
         },
         "mode": "markers",
         "name": "C",
         "text": "",
         "type": "scatter",
         "x": [
          1.565884337167468,
          -0.45771390855734573,
          -0.6294981356484306,
          -0.31632596935640805,
          -0.8415387236765782,
          -1.0011109686364592,
          -1.4848300297289672,
          -0.4341971001119396,
          0.20559798897040746,
          -1.0093491072636154,
          -0.6933918467635506,
          -1.4134648098598488,
          -0.006558075223548637,
          0.42339501837302906,
          1.0536102304279946,
          -0.22135839802994153,
          -0.5588442239783614,
          0.8011714238548048,
          -0.8954504814497545,
          -0.8702490790991079,
          -0.08548128885203164,
          -1.7781641352509694,
          2.614932210947218,
          -0.1040436359440887,
          -1.6474994438719635,
          0.1131359207721515,
          -0.08796528933397242,
          2.5258333098386765,
          -0.4163684847370185,
          0.278459211531101,
          1.348134060287212,
          -1.0270330164094006,
          -0.3082720877712286,
          1.0975241245551837,
          -1.955871071034986,
          -0.6521508448632184,
          -0.8038019598913686,
          -1.501894043694504,
          0.24333768279152238,
          1.592031644168021,
          0.949301075242087,
          -0.023481831597560853,
          -1.367738140808775,
          -0.08686752700857645,
          -0.1638917532126145,
          -1.272210803236027,
          -1.0741244297077253,
          -3.4659277855100084,
          -0.9738316689582084,
          0.34373991219368616,
          -1.3290005300039058,
          2.2827711463244196,
          -0.6194094358815374,
          0.37335682630177425,
          1.7163568406020657,
          0.6634845573251583,
          0.13750158166138593,
          0.8869606796560566,
          -0.36898132575109505,
          -0.027969059779097097,
          0.5651141298181905,
          -0.998635320715629,
          -0.520446310714804,
          0.5994623035040102,
          0.708852267700245,
          -0.8136227015450364,
          -1.5764748894413487,
          -0.8977669402845133,
          0.06760506819494855,
          1.8214441598957745,
          -0.858597184257929,
          0.018599761851139936,
          1.0615074581619262,
          -0.5945356040381385,
          1.063628108280927,
          -0.026343395611301456,
          1.6160843357286385,
          -2.039300163490272,
          0.29197227096395584,
          1.2773432038890091,
          1.397931871420511,
          -0.19011073602518447,
          -0.5616139272987423,
          -0.33365921974022533,
          0.25498039368357694,
          -0.5045169854402038,
          -0.6823106757278841,
          -1.0524270888935459,
          1.297890380840405,
          0.37222308458826087,
          -0.1858497690901246,
          -0.5969749215773195,
          1.750369944761348,
          1.05428825034664,
          -0.9561301036271894,
          -1.0575419797300827,
          -1.0516778401677838,
          0.8456087654973249,
          0.41348484173507144,
          -2.0351669878108525
         ],
         "xaxis": "x9",
         "y": [
          -0.7301352317282106,
          0.08779556201931825,
          -0.524709251031356,
          -0.21593021511776864,
          1.3250904965255268,
          -1.3364697728077088,
          -1.469261874221005,
          0.07339431139103271,
          -1.1098237572465623,
          -0.0635405043182496,
          0.15544483959009103,
          0.5150962954286789,
          0.5002093153624056,
          -0.7362811308263522,
          -0.4381493328406711,
          2.0900514328682105,
          1.5894679443431854,
          2.574006507457789,
          -0.8567000712841061,
          0.3700038521859714,
          -0.455657509521665,
          0.32023432876899793,
          -0.8408124542854524,
          1.5300045654723207,
          1.428512779986509,
          0.530396350375161,
          1.2519206100951428,
          0.6663292387288364,
          -0.7730012234696285,
          -0.7814861900476605,
          0.15539685558857158,
          1.0136265203289576,
          1.5342875479575093,
          0.5353385807618619,
          -0.6404571235699517,
          1.96804384588998,
          -1.7164176764969905,
          0.10698173480426748,
          0.4517264381169476,
          0.36588106653529856,
          -0.3082592879308524,
          -0.4305870864675882,
          -0.751991013941709,
          -1.0458828762609829,
          -0.15386690845757842,
          -0.061784434498645506,
          0.25301461745526455,
          0.050810391451398144,
          -1.130049106084122,
          -0.36721191428312094,
          -1.3425255150576543,
          1.332769166021427,
          -0.5499855518754465,
          -1.6416207551974187,
          0.5478581555199442,
          0.7754992829442867,
          0.05228088917803463,
          0.9268097942485304,
          0.045646819658006446,
          -1.7391340994184767,
          -0.7053086718910987,
          -0.5692892996671876,
          0.02510544648360247,
          0.5067679358623244,
          0.3195885391018388,
          1.7224598614546238,
          1.147959696652209,
          0.004588975576922581,
          -0.9671271227639321,
          0.5740234635784761,
          -0.8980901246671379,
          -1.5930458910826608,
          0.15802777930569248,
          -0.9254381374688119,
          -0.04161554143363617,
          -1.8691436551710514,
          -1.0971553281117405,
          -1.2299202652865213,
          -1.8524050796872709,
          -1.230260810808082,
          1.439920507932906,
          -0.8888478054575822,
          -1.9231932754945789,
          -0.4895990739239892,
          -1.870962483925207,
          0.3673464736837565,
          0.10697930603923508,
          -1.5209617058013976,
          -1.2832638676076424,
          -0.16622121795532996,
          -0.23890348896172903,
          0.5063012008978391,
          -1.7923206805183614,
          -0.08092462174465116,
          -2.3094418477242318,
          -0.5426532984047878,
          0.8189498229715165,
          -0.7238095388860954,
          0.11732881297747685,
          0.30789135902706505
         ],
         "yaxis": "y9"
        },
        {
         "line": {
          "color": "rgba(128, 128, 128, 1.0)",
          "dash": "solid",
          "shape": "linear",
          "width": 1.3
         },
         "marker": {
          "size": 2,
          "symbol": "circle"
         },
         "mode": "markers",
         "name": "C",
         "text": "",
         "type": "scatter",
         "x": [
          -0.6967737301029128,
          0.3955923153588364,
          0.9304509208325568,
          -0.0744586522642926,
          0.1211984333652385,
          0.022291349587955523,
          0.3887385590763829,
          -2.197471675736836,
          -0.18263329127329966,
          -0.8441573294832997,
          0.25438217466521695,
          -0.4665323161144188,
          -0.28094950723014095,
          -0.9019303972034435,
          -0.8564555377646561,
          0.4945430468649379,
          -1.76258208763336,
          -0.4918490163755658,
          1.2494042369031118,
          0.031181800975316205,
          -0.1083735743325583,
          1.2884576364371843,
          -1.6037547525042675,
          -1.1462001137263944,
          0.9548645539803001,
          -1.3886683835731528,
          0.7532489553467764,
          -0.010822797014181502,
          -0.3577884303405244,
          -0.9600572198594697,
          -0.8487481571361674,
          -0.1886567268766113,
          0.7651822612089191,
          -0.154652529142487,
          0.25439107341567063,
          -2.8948776168564954,
          -0.03072124986333935,
          0.22591470261515573,
          1.5029917208158639,
          0.15340207199391692,
          -0.06341970644899546,
          -0.778625105227336,
          -0.3739662082593961,
          0.5826781894263957,
          1.3352886097452983,
          0.45955618854761954,
          -1.2509126022463022,
          -0.23781710320954533,
          0.6511060012132226,
          1.0599773131525834,
          1.455408403447102,
          -0.8892299822485499,
          1.6720953701987729,
          0.7586822821240174,
          -1.1029657978608838,
          -0.42074668557719874,
          0.4373370016959473,
          1.6674354351089624,
          -0.5014138119319443,
          0.8901371658728653,
          0.5450316271810358,
          -0.2979814489174735,
          0.00746766129420241,
          0.48805137821334166,
          -0.15750421727680192,
          0.5135060773499763,
          -0.6679765559004219,
          0.6234621029683176,
          0.6687995341297776,
          0.44948993111897134,
          0.22050423567227825,
          -0.7373287858654547,
          -0.024554045318524825,
          1.3946803315640273,
          0.5892612669063987,
          0.6474314037463123,
          -1.3016713140423926,
          1.263933201091441,
          -2.062701337755691,
          2.525763242001359,
          0.7361501938603366,
          -0.07660514326388362,
          0.054162809365627486,
          -1.6422968996712803,
          -0.7101847406077325,
          1.079380624362349,
          -0.602693260182104,
          -1.598310885910521,
          0.7222361259546951,
          0.87395586159824,
          0.44038898813091215,
          -0.3631094213080669,
          1.644230309460639,
          1.0507482071374046,
          0.9512076062512657,
          -0.894214278654392,
          1.9233660832168906,
          -1.268145238676145,
          0.18883957711582006,
          0.851423150446762
         ],
         "xaxis": "x10",
         "y": [
          -0.7301352317282106,
          0.08779556201931825,
          -0.524709251031356,
          -0.21593021511776864,
          1.3250904965255268,
          -1.3364697728077088,
          -1.469261874221005,
          0.07339431139103271,
          -1.1098237572465623,
          -0.0635405043182496,
          0.15544483959009103,
          0.5150962954286789,
          0.5002093153624056,
          -0.7362811308263522,
          -0.4381493328406711,
          2.0900514328682105,
          1.5894679443431854,
          2.574006507457789,
          -0.8567000712841061,
          0.3700038521859714,
          -0.455657509521665,
          0.32023432876899793,
          -0.8408124542854524,
          1.5300045654723207,
          1.428512779986509,
          0.530396350375161,
          1.2519206100951428,
          0.6663292387288364,
          -0.7730012234696285,
          -0.7814861900476605,
          0.15539685558857158,
          1.0136265203289576,
          1.5342875479575093,
          0.5353385807618619,
          -0.6404571235699517,
          1.96804384588998,
          -1.7164176764969905,
          0.10698173480426748,
          0.4517264381169476,
          0.36588106653529856,
          -0.3082592879308524,
          -0.4305870864675882,
          -0.751991013941709,
          -1.0458828762609829,
          -0.15386690845757842,
          -0.061784434498645506,
          0.25301461745526455,
          0.050810391451398144,
          -1.130049106084122,
          -0.36721191428312094,
          -1.3425255150576543,
          1.332769166021427,
          -0.5499855518754465,
          -1.6416207551974187,
          0.5478581555199442,
          0.7754992829442867,
          0.05228088917803463,
          0.9268097942485304,
          0.045646819658006446,
          -1.7391340994184767,
          -0.7053086718910987,
          -0.5692892996671876,
          0.02510544648360247,
          0.5067679358623244,
          0.3195885391018388,
          1.7224598614546238,
          1.147959696652209,
          0.004588975576922581,
          -0.9671271227639321,
          0.5740234635784761,
          -0.8980901246671379,
          -1.5930458910826608,
          0.15802777930569248,
          -0.9254381374688119,
          -0.04161554143363617,
          -1.8691436551710514,
          -1.0971553281117405,
          -1.2299202652865213,
          -1.8524050796872709,
          -1.230260810808082,
          1.439920507932906,
          -0.8888478054575822,
          -1.9231932754945789,
          -0.4895990739239892,
          -1.870962483925207,
          0.3673464736837565,
          0.10697930603923508,
          -1.5209617058013976,
          -1.2832638676076424,
          -0.16622121795532996,
          -0.23890348896172903,
          0.5063012008978391,
          -1.7923206805183614,
          -0.08092462174465116,
          -2.3094418477242318,
          -0.5426532984047878,
          0.8189498229715165,
          -0.7238095388860954,
          0.11732881297747685,
          0.30789135902706505
         ],
         "yaxis": "y10"
        },
        {
         "histfunc": "count",
         "histnorm": "",
         "marker": {
          "color": "rgba(50, 171, 96, 1.0)",
          "line": {
           "color": "#4D5663",
           "width": 1.3
          }
         },
         "name": "C",
         "nbinsx": 10,
         "opacity": 0.8,
         "orientation": "v",
         "type": "histogram",
         "x": [
          -0.7301352317282106,
          0.08779556201931825,
          -0.524709251031356,
          -0.21593021511776864,
          1.3250904965255268,
          -1.3364697728077088,
          -1.469261874221005,
          0.07339431139103271,
          -1.1098237572465623,
          -0.0635405043182496,
          0.15544483959009103,
          0.5150962954286789,
          0.5002093153624056,
          -0.7362811308263522,
          -0.4381493328406711,
          2.0900514328682105,
          1.5894679443431854,
          2.574006507457789,
          -0.8567000712841061,
          0.3700038521859714,
          -0.455657509521665,
          0.32023432876899793,
          -0.8408124542854524,
          1.5300045654723207,
          1.428512779986509,
          0.530396350375161,
          1.2519206100951428,
          0.6663292387288364,
          -0.7730012234696285,
          -0.7814861900476605,
          0.15539685558857158,
          1.0136265203289576,
          1.5342875479575093,
          0.5353385807618619,
          -0.6404571235699517,
          1.96804384588998,
          -1.7164176764969905,
          0.10698173480426748,
          0.4517264381169476,
          0.36588106653529856,
          -0.3082592879308524,
          -0.4305870864675882,
          -0.751991013941709,
          -1.0458828762609829,
          -0.15386690845757842,
          -0.061784434498645506,
          0.25301461745526455,
          0.050810391451398144,
          -1.130049106084122,
          -0.36721191428312094,
          -1.3425255150576543,
          1.332769166021427,
          -0.5499855518754465,
          -1.6416207551974187,
          0.5478581555199442,
          0.7754992829442867,
          0.05228088917803463,
          0.9268097942485304,
          0.045646819658006446,
          -1.7391340994184767,
          -0.7053086718910987,
          -0.5692892996671876,
          0.02510544648360247,
          0.5067679358623244,
          0.3195885391018388,
          1.7224598614546238,
          1.147959696652209,
          0.004588975576922581,
          -0.9671271227639321,
          0.5740234635784761,
          -0.8980901246671379,
          -1.5930458910826608,
          0.15802777930569248,
          -0.9254381374688119,
          -0.04161554143363617,
          -1.8691436551710514,
          -1.0971553281117405,
          -1.2299202652865213,
          -1.8524050796872709,
          -1.230260810808082,
          1.439920507932906,
          -0.8888478054575822,
          -1.9231932754945789,
          -0.4895990739239892,
          -1.870962483925207,
          0.3673464736837565,
          0.10697930603923508,
          -1.5209617058013976,
          -1.2832638676076424,
          -0.16622121795532996,
          -0.23890348896172903,
          0.5063012008978391,
          -1.7923206805183614,
          -0.08092462174465116,
          -2.3094418477242318,
          -0.5426532984047878,
          0.8189498229715165,
          -0.7238095388860954,
          0.11732881297747685,
          0.30789135902706505
         ],
         "xaxis": "x11",
         "yaxis": "y11"
        },
        {
         "line": {
          "color": "rgba(128, 128, 128, 1.0)",
          "dash": "solid",
          "shape": "linear",
          "width": 1.3
         },
         "marker": {
          "size": 2,
          "symbol": "circle"
         },
         "mode": "markers",
         "name": "C",
         "text": "",
         "type": "scatter",
         "x": [
          -1.7216172312988307,
          1.8046858648116653,
          -1.4647291390348893,
          -1.5147331241316506,
          1.6825890547486828,
          1.8145266255975043,
          1.3973500850895426,
          0.12926806224259768,
          1.0512562312534692,
          -1.089012260383378,
          0.13849113722266734,
          -1.0165849482167328,
          1.8608447935012344,
          0.6146829773835975,
          -0.5623266638223187,
          -0.38879792913416616,
          2.147157541766009,
          2.089580369789075,
          -0.6849070270113347,
          2.2814129932357226,
          0.18349546900263083,
          0.8947645448819614,
          1.268409819667111,
          0.8414386517865439,
          1.4694813141284722,
          -0.9175515368153877,
          1.4990926921005339,
          0.8942504300601379,
          -0.04440976514025778,
          0.4393172691963984,
          -0.6500106279702698,
          1.3994018921447586,
          2.50578036606172,
          -0.29954702938157635,
          0.22487923849090152,
          1.05805800360803,
          1.2355699642843032,
          1.2685503173303463,
          0.5628284654241276,
          -0.38372302612685594,
          -1.184551643972065,
          -1.1651111349147578,
          -0.2161468874285778,
          -0.8481230977944765,
          -0.7149885633430976,
          -1.2431141346192784,
          -0.21244970998497795,
          0.7192602729860825,
          1.6646071028834495,
          1.4378441469571286,
          1.1527586806687484,
          -1.7059803294554596,
          0.7118290987712215,
          -0.301389165741736,
          0.5191048378964799,
          0.2325799221827256,
          -0.18388027155761488,
          0.4287281044896644,
          0.5775018103708022,
          0.007842996834937116,
          -0.1349810771475766,
          1.0957690666341457,
          -1.658083265471898,
          0.16011036262935488,
          0.093626295000747,
          0.48080651549150766,
          1.2978612597856227,
          1.2208179294634713,
          -0.4334630855456557,
          -0.34121310493691415,
          -0.5860177924410135,
          1.5073536831169771,
          -0.1428257546349099,
          0.37195007032908595,
          -0.4683382228777139,
          -0.2669611259903742,
          1.4480344684104847,
          -2.0932530674252625,
          -0.8153365944967327,
          0.016606208207461743,
          0.3268468909876187,
          -0.5959794030657887,
          1.4839483445597128,
          -0.1610153983089623,
          -0.7565042264746906,
          -0.5673293379584862,
          1.0546566945183387,
          1.0698727219541548,
          -0.11271713921465255,
          0.5693381244323878,
          0.4135236437601984,
          -0.6802629079893298,
          0.5648510393775303,
          -0.4493682009586909,
          -0.46879536556519275,
          -0.37126296043418505,
          0.9588349430886267,
          0.9541772804025027,
          -1.2110212934479987,
          -0.33580654072256205
         ],
         "xaxis": "x12",
         "y": [
          -0.7301352317282106,
          0.08779556201931825,
          -0.524709251031356,
          -0.21593021511776864,
          1.3250904965255268,
          -1.3364697728077088,
          -1.469261874221005,
          0.07339431139103271,
          -1.1098237572465623,
          -0.0635405043182496,
          0.15544483959009103,
          0.5150962954286789,
          0.5002093153624056,
          -0.7362811308263522,
          -0.4381493328406711,
          2.0900514328682105,
          1.5894679443431854,
          2.574006507457789,
          -0.8567000712841061,
          0.3700038521859714,
          -0.455657509521665,
          0.32023432876899793,
          -0.8408124542854524,
          1.5300045654723207,
          1.428512779986509,
          0.530396350375161,
          1.2519206100951428,
          0.6663292387288364,
          -0.7730012234696285,
          -0.7814861900476605,
          0.15539685558857158,
          1.0136265203289576,
          1.5342875479575093,
          0.5353385807618619,
          -0.6404571235699517,
          1.96804384588998,
          -1.7164176764969905,
          0.10698173480426748,
          0.4517264381169476,
          0.36588106653529856,
          -0.3082592879308524,
          -0.4305870864675882,
          -0.751991013941709,
          -1.0458828762609829,
          -0.15386690845757842,
          -0.061784434498645506,
          0.25301461745526455,
          0.050810391451398144,
          -1.130049106084122,
          -0.36721191428312094,
          -1.3425255150576543,
          1.332769166021427,
          -0.5499855518754465,
          -1.6416207551974187,
          0.5478581555199442,
          0.7754992829442867,
          0.05228088917803463,
          0.9268097942485304,
          0.045646819658006446,
          -1.7391340994184767,
          -0.7053086718910987,
          -0.5692892996671876,
          0.02510544648360247,
          0.5067679358623244,
          0.3195885391018388,
          1.7224598614546238,
          1.147959696652209,
          0.004588975576922581,
          -0.9671271227639321,
          0.5740234635784761,
          -0.8980901246671379,
          -1.5930458910826608,
          0.15802777930569248,
          -0.9254381374688119,
          -0.04161554143363617,
          -1.8691436551710514,
          -1.0971553281117405,
          -1.2299202652865213,
          -1.8524050796872709,
          -1.230260810808082,
          1.439920507932906,
          -0.8888478054575822,
          -1.9231932754945789,
          -0.4895990739239892,
          -1.870962483925207,
          0.3673464736837565,
          0.10697930603923508,
          -1.5209617058013976,
          -1.2832638676076424,
          -0.16622121795532996,
          -0.23890348896172903,
          0.5063012008978391,
          -1.7923206805183614,
          -0.08092462174465116,
          -2.3094418477242318,
          -0.5426532984047878,
          0.8189498229715165,
          -0.7238095388860954,
          0.11732881297747685,
          0.30789135902706505
         ],
         "yaxis": "y12"
        },
        {
         "line": {
          "color": "rgba(128, 128, 128, 1.0)",
          "dash": "solid",
          "shape": "linear",
          "width": 1.3
         },
         "marker": {
          "size": 2,
          "symbol": "circle"
         },
         "mode": "markers",
         "name": "D",
         "text": "",
         "type": "scatter",
         "x": [
          1.565884337167468,
          -0.45771390855734573,
          -0.6294981356484306,
          -0.31632596935640805,
          -0.8415387236765782,
          -1.0011109686364592,
          -1.4848300297289672,
          -0.4341971001119396,
          0.20559798897040746,
          -1.0093491072636154,
          -0.6933918467635506,
          -1.4134648098598488,
          -0.006558075223548637,
          0.42339501837302906,
          1.0536102304279946,
          -0.22135839802994153,
          -0.5588442239783614,
          0.8011714238548048,
          -0.8954504814497545,
          -0.8702490790991079,
          -0.08548128885203164,
          -1.7781641352509694,
          2.614932210947218,
          -0.1040436359440887,
          -1.6474994438719635,
          0.1131359207721515,
          -0.08796528933397242,
          2.5258333098386765,
          -0.4163684847370185,
          0.278459211531101,
          1.348134060287212,
          -1.0270330164094006,
          -0.3082720877712286,
          1.0975241245551837,
          -1.955871071034986,
          -0.6521508448632184,
          -0.8038019598913686,
          -1.501894043694504,
          0.24333768279152238,
          1.592031644168021,
          0.949301075242087,
          -0.023481831597560853,
          -1.367738140808775,
          -0.08686752700857645,
          -0.1638917532126145,
          -1.272210803236027,
          -1.0741244297077253,
          -3.4659277855100084,
          -0.9738316689582084,
          0.34373991219368616,
          -1.3290005300039058,
          2.2827711463244196,
          -0.6194094358815374,
          0.37335682630177425,
          1.7163568406020657,
          0.6634845573251583,
          0.13750158166138593,
          0.8869606796560566,
          -0.36898132575109505,
          -0.027969059779097097,
          0.5651141298181905,
          -0.998635320715629,
          -0.520446310714804,
          0.5994623035040102,
          0.708852267700245,
          -0.8136227015450364,
          -1.5764748894413487,
          -0.8977669402845133,
          0.06760506819494855,
          1.8214441598957745,
          -0.858597184257929,
          0.018599761851139936,
          1.0615074581619262,
          -0.5945356040381385,
          1.063628108280927,
          -0.026343395611301456,
          1.6160843357286385,
          -2.039300163490272,
          0.29197227096395584,
          1.2773432038890091,
          1.397931871420511,
          -0.19011073602518447,
          -0.5616139272987423,
          -0.33365921974022533,
          0.25498039368357694,
          -0.5045169854402038,
          -0.6823106757278841,
          -1.0524270888935459,
          1.297890380840405,
          0.37222308458826087,
          -0.1858497690901246,
          -0.5969749215773195,
          1.750369944761348,
          1.05428825034664,
          -0.9561301036271894,
          -1.0575419797300827,
          -1.0516778401677838,
          0.8456087654973249,
          0.41348484173507144,
          -2.0351669878108525
         ],
         "xaxis": "x13",
         "y": [
          -1.7216172312988307,
          1.8046858648116653,
          -1.4647291390348893,
          -1.5147331241316506,
          1.6825890547486828,
          1.8145266255975043,
          1.3973500850895426,
          0.12926806224259768,
          1.0512562312534692,
          -1.089012260383378,
          0.13849113722266734,
          -1.0165849482167328,
          1.8608447935012344,
          0.6146829773835975,
          -0.5623266638223187,
          -0.38879792913416616,
          2.147157541766009,
          2.089580369789075,
          -0.6849070270113347,
          2.2814129932357226,
          0.18349546900263083,
          0.8947645448819614,
          1.268409819667111,
          0.8414386517865439,
          1.4694813141284722,
          -0.9175515368153877,
          1.4990926921005339,
          0.8942504300601379,
          -0.04440976514025778,
          0.4393172691963984,
          -0.6500106279702698,
          1.3994018921447586,
          2.50578036606172,
          -0.29954702938157635,
          0.22487923849090152,
          1.05805800360803,
          1.2355699642843032,
          1.2685503173303463,
          0.5628284654241276,
          -0.38372302612685594,
          -1.184551643972065,
          -1.1651111349147578,
          -0.2161468874285778,
          -0.8481230977944765,
          -0.7149885633430976,
          -1.2431141346192784,
          -0.21244970998497795,
          0.7192602729860825,
          1.6646071028834495,
          1.4378441469571286,
          1.1527586806687484,
          -1.7059803294554596,
          0.7118290987712215,
          -0.301389165741736,
          0.5191048378964799,
          0.2325799221827256,
          -0.18388027155761488,
          0.4287281044896644,
          0.5775018103708022,
          0.007842996834937116,
          -0.1349810771475766,
          1.0957690666341457,
          -1.658083265471898,
          0.16011036262935488,
          0.093626295000747,
          0.48080651549150766,
          1.2978612597856227,
          1.2208179294634713,
          -0.4334630855456557,
          -0.34121310493691415,
          -0.5860177924410135,
          1.5073536831169771,
          -0.1428257546349099,
          0.37195007032908595,
          -0.4683382228777139,
          -0.2669611259903742,
          1.4480344684104847,
          -2.0932530674252625,
          -0.8153365944967327,
          0.016606208207461743,
          0.3268468909876187,
          -0.5959794030657887,
          1.4839483445597128,
          -0.1610153983089623,
          -0.7565042264746906,
          -0.5673293379584862,
          1.0546566945183387,
          1.0698727219541548,
          -0.11271713921465255,
          0.5693381244323878,
          0.4135236437601984,
          -0.6802629079893298,
          0.5648510393775303,
          -0.4493682009586909,
          -0.46879536556519275,
          -0.37126296043418505,
          0.9588349430886267,
          0.9541772804025027,
          -1.2110212934479987,
          -0.33580654072256205
         ],
         "yaxis": "y13"
        },
        {
         "line": {
          "color": "rgba(128, 128, 128, 1.0)",
          "dash": "solid",
          "shape": "linear",
          "width": 1.3
         },
         "marker": {
          "size": 2,
          "symbol": "circle"
         },
         "mode": "markers",
         "name": "D",
         "text": "",
         "type": "scatter",
         "x": [
          -0.6967737301029128,
          0.3955923153588364,
          0.9304509208325568,
          -0.0744586522642926,
          0.1211984333652385,
          0.022291349587955523,
          0.3887385590763829,
          -2.197471675736836,
          -0.18263329127329966,
          -0.8441573294832997,
          0.25438217466521695,
          -0.4665323161144188,
          -0.28094950723014095,
          -0.9019303972034435,
          -0.8564555377646561,
          0.4945430468649379,
          -1.76258208763336,
          -0.4918490163755658,
          1.2494042369031118,
          0.031181800975316205,
          -0.1083735743325583,
          1.2884576364371843,
          -1.6037547525042675,
          -1.1462001137263944,
          0.9548645539803001,
          -1.3886683835731528,
          0.7532489553467764,
          -0.010822797014181502,
          -0.3577884303405244,
          -0.9600572198594697,
          -0.8487481571361674,
          -0.1886567268766113,
          0.7651822612089191,
          -0.154652529142487,
          0.25439107341567063,
          -2.8948776168564954,
          -0.03072124986333935,
          0.22591470261515573,
          1.5029917208158639,
          0.15340207199391692,
          -0.06341970644899546,
          -0.778625105227336,
          -0.3739662082593961,
          0.5826781894263957,
          1.3352886097452983,
          0.45955618854761954,
          -1.2509126022463022,
          -0.23781710320954533,
          0.6511060012132226,
          1.0599773131525834,
          1.455408403447102,
          -0.8892299822485499,
          1.6720953701987729,
          0.7586822821240174,
          -1.1029657978608838,
          -0.42074668557719874,
          0.4373370016959473,
          1.6674354351089624,
          -0.5014138119319443,
          0.8901371658728653,
          0.5450316271810358,
          -0.2979814489174735,
          0.00746766129420241,
          0.48805137821334166,
          -0.15750421727680192,
          0.5135060773499763,
          -0.6679765559004219,
          0.6234621029683176,
          0.6687995341297776,
          0.44948993111897134,
          0.22050423567227825,
          -0.7373287858654547,
          -0.024554045318524825,
          1.3946803315640273,
          0.5892612669063987,
          0.6474314037463123,
          -1.3016713140423926,
          1.263933201091441,
          -2.062701337755691,
          2.525763242001359,
          0.7361501938603366,
          -0.07660514326388362,
          0.054162809365627486,
          -1.6422968996712803,
          -0.7101847406077325,
          1.079380624362349,
          -0.602693260182104,
          -1.598310885910521,
          0.7222361259546951,
          0.87395586159824,
          0.44038898813091215,
          -0.3631094213080669,
          1.644230309460639,
          1.0507482071374046,
          0.9512076062512657,
          -0.894214278654392,
          1.9233660832168906,
          -1.268145238676145,
          0.18883957711582006,
          0.851423150446762
         ],
         "xaxis": "x14",
         "y": [
          -1.7216172312988307,
          1.8046858648116653,
          -1.4647291390348893,
          -1.5147331241316506,
          1.6825890547486828,
          1.8145266255975043,
          1.3973500850895426,
          0.12926806224259768,
          1.0512562312534692,
          -1.089012260383378,
          0.13849113722266734,
          -1.0165849482167328,
          1.8608447935012344,
          0.6146829773835975,
          -0.5623266638223187,
          -0.38879792913416616,
          2.147157541766009,
          2.089580369789075,
          -0.6849070270113347,
          2.2814129932357226,
          0.18349546900263083,
          0.8947645448819614,
          1.268409819667111,
          0.8414386517865439,
          1.4694813141284722,
          -0.9175515368153877,
          1.4990926921005339,
          0.8942504300601379,
          -0.04440976514025778,
          0.4393172691963984,
          -0.6500106279702698,
          1.3994018921447586,
          2.50578036606172,
          -0.29954702938157635,
          0.22487923849090152,
          1.05805800360803,
          1.2355699642843032,
          1.2685503173303463,
          0.5628284654241276,
          -0.38372302612685594,
          -1.184551643972065,
          -1.1651111349147578,
          -0.2161468874285778,
          -0.8481230977944765,
          -0.7149885633430976,
          -1.2431141346192784,
          -0.21244970998497795,
          0.7192602729860825,
          1.6646071028834495,
          1.4378441469571286,
          1.1527586806687484,
          -1.7059803294554596,
          0.7118290987712215,
          -0.301389165741736,
          0.5191048378964799,
          0.2325799221827256,
          -0.18388027155761488,
          0.4287281044896644,
          0.5775018103708022,
          0.007842996834937116,
          -0.1349810771475766,
          1.0957690666341457,
          -1.658083265471898,
          0.16011036262935488,
          0.093626295000747,
          0.48080651549150766,
          1.2978612597856227,
          1.2208179294634713,
          -0.4334630855456557,
          -0.34121310493691415,
          -0.5860177924410135,
          1.5073536831169771,
          -0.1428257546349099,
          0.37195007032908595,
          -0.4683382228777139,
          -0.2669611259903742,
          1.4480344684104847,
          -2.0932530674252625,
          -0.8153365944967327,
          0.016606208207461743,
          0.3268468909876187,
          -0.5959794030657887,
          1.4839483445597128,
          -0.1610153983089623,
          -0.7565042264746906,
          -0.5673293379584862,
          1.0546566945183387,
          1.0698727219541548,
          -0.11271713921465255,
          0.5693381244323878,
          0.4135236437601984,
          -0.6802629079893298,
          0.5648510393775303,
          -0.4493682009586909,
          -0.46879536556519275,
          -0.37126296043418505,
          0.9588349430886267,
          0.9541772804025027,
          -1.2110212934479987,
          -0.33580654072256205
         ],
         "yaxis": "y14"
        },
        {
         "line": {
          "color": "rgba(128, 128, 128, 1.0)",
          "dash": "solid",
          "shape": "linear",
          "width": 1.3
         },
         "marker": {
          "size": 2,
          "symbol": "circle"
         },
         "mode": "markers",
         "name": "D",
         "text": "",
         "type": "scatter",
         "x": [
          -0.7301352317282106,
          0.08779556201931825,
          -0.524709251031356,
          -0.21593021511776864,
          1.3250904965255268,
          -1.3364697728077088,
          -1.469261874221005,
          0.07339431139103271,
          -1.1098237572465623,
          -0.0635405043182496,
          0.15544483959009103,
          0.5150962954286789,
          0.5002093153624056,
          -0.7362811308263522,
          -0.4381493328406711,
          2.0900514328682105,
          1.5894679443431854,
          2.574006507457789,
          -0.8567000712841061,
          0.3700038521859714,
          -0.455657509521665,
          0.32023432876899793,
          -0.8408124542854524,
          1.5300045654723207,
          1.428512779986509,
          0.530396350375161,
          1.2519206100951428,
          0.6663292387288364,
          -0.7730012234696285,
          -0.7814861900476605,
          0.15539685558857158,
          1.0136265203289576,
          1.5342875479575093,
          0.5353385807618619,
          -0.6404571235699517,
          1.96804384588998,
          -1.7164176764969905,
          0.10698173480426748,
          0.4517264381169476,
          0.36588106653529856,
          -0.3082592879308524,
          -0.4305870864675882,
          -0.751991013941709,
          -1.0458828762609829,
          -0.15386690845757842,
          -0.061784434498645506,
          0.25301461745526455,
          0.050810391451398144,
          -1.130049106084122,
          -0.36721191428312094,
          -1.3425255150576543,
          1.332769166021427,
          -0.5499855518754465,
          -1.6416207551974187,
          0.5478581555199442,
          0.7754992829442867,
          0.05228088917803463,
          0.9268097942485304,
          0.045646819658006446,
          -1.7391340994184767,
          -0.7053086718910987,
          -0.5692892996671876,
          0.02510544648360247,
          0.5067679358623244,
          0.3195885391018388,
          1.7224598614546238,
          1.147959696652209,
          0.004588975576922581,
          -0.9671271227639321,
          0.5740234635784761,
          -0.8980901246671379,
          -1.5930458910826608,
          0.15802777930569248,
          -0.9254381374688119,
          -0.04161554143363617,
          -1.8691436551710514,
          -1.0971553281117405,
          -1.2299202652865213,
          -1.8524050796872709,
          -1.230260810808082,
          1.439920507932906,
          -0.8888478054575822,
          -1.9231932754945789,
          -0.4895990739239892,
          -1.870962483925207,
          0.3673464736837565,
          0.10697930603923508,
          -1.5209617058013976,
          -1.2832638676076424,
          -0.16622121795532996,
          -0.23890348896172903,
          0.5063012008978391,
          -1.7923206805183614,
          -0.08092462174465116,
          -2.3094418477242318,
          -0.5426532984047878,
          0.8189498229715165,
          -0.7238095388860954,
          0.11732881297747685,
          0.30789135902706505
         ],
         "xaxis": "x15",
         "y": [
          -1.7216172312988307,
          1.8046858648116653,
          -1.4647291390348893,
          -1.5147331241316506,
          1.6825890547486828,
          1.8145266255975043,
          1.3973500850895426,
          0.12926806224259768,
          1.0512562312534692,
          -1.089012260383378,
          0.13849113722266734,
          -1.0165849482167328,
          1.8608447935012344,
          0.6146829773835975,
          -0.5623266638223187,
          -0.38879792913416616,
          2.147157541766009,
          2.089580369789075,
          -0.6849070270113347,
          2.2814129932357226,
          0.18349546900263083,
          0.8947645448819614,
          1.268409819667111,
          0.8414386517865439,
          1.4694813141284722,
          -0.9175515368153877,
          1.4990926921005339,
          0.8942504300601379,
          -0.04440976514025778,
          0.4393172691963984,
          -0.6500106279702698,
          1.3994018921447586,
          2.50578036606172,
          -0.29954702938157635,
          0.22487923849090152,
          1.05805800360803,
          1.2355699642843032,
          1.2685503173303463,
          0.5628284654241276,
          -0.38372302612685594,
          -1.184551643972065,
          -1.1651111349147578,
          -0.2161468874285778,
          -0.8481230977944765,
          -0.7149885633430976,
          -1.2431141346192784,
          -0.21244970998497795,
          0.7192602729860825,
          1.6646071028834495,
          1.4378441469571286,
          1.1527586806687484,
          -1.7059803294554596,
          0.7118290987712215,
          -0.301389165741736,
          0.5191048378964799,
          0.2325799221827256,
          -0.18388027155761488,
          0.4287281044896644,
          0.5775018103708022,
          0.007842996834937116,
          -0.1349810771475766,
          1.0957690666341457,
          -1.658083265471898,
          0.16011036262935488,
          0.093626295000747,
          0.48080651549150766,
          1.2978612597856227,
          1.2208179294634713,
          -0.4334630855456557,
          -0.34121310493691415,
          -0.5860177924410135,
          1.5073536831169771,
          -0.1428257546349099,
          0.37195007032908595,
          -0.4683382228777139,
          -0.2669611259903742,
          1.4480344684104847,
          -2.0932530674252625,
          -0.8153365944967327,
          0.016606208207461743,
          0.3268468909876187,
          -0.5959794030657887,
          1.4839483445597128,
          -0.1610153983089623,
          -0.7565042264746906,
          -0.5673293379584862,
          1.0546566945183387,
          1.0698727219541548,
          -0.11271713921465255,
          0.5693381244323878,
          0.4135236437601984,
          -0.6802629079893298,
          0.5648510393775303,
          -0.4493682009586909,
          -0.46879536556519275,
          -0.37126296043418505,
          0.9588349430886267,
          0.9541772804025027,
          -1.2110212934479987,
          -0.33580654072256205
         ],
         "yaxis": "y15"
        },
        {
         "histfunc": "count",
         "histnorm": "",
         "marker": {
          "color": "rgba(128, 0, 128, 1.0)",
          "line": {
           "color": "#4D5663",
           "width": 1.3
          }
         },
         "name": "D",
         "nbinsx": 10,
         "opacity": 0.8,
         "orientation": "v",
         "type": "histogram",
         "x": [
          -1.7216172312988307,
          1.8046858648116653,
          -1.4647291390348893,
          -1.5147331241316506,
          1.6825890547486828,
          1.8145266255975043,
          1.3973500850895426,
          0.12926806224259768,
          1.0512562312534692,
          -1.089012260383378,
          0.13849113722266734,
          -1.0165849482167328,
          1.8608447935012344,
          0.6146829773835975,
          -0.5623266638223187,
          -0.38879792913416616,
          2.147157541766009,
          2.089580369789075,
          -0.6849070270113347,
          2.2814129932357226,
          0.18349546900263083,
          0.8947645448819614,
          1.268409819667111,
          0.8414386517865439,
          1.4694813141284722,
          -0.9175515368153877,
          1.4990926921005339,
          0.8942504300601379,
          -0.04440976514025778,
          0.4393172691963984,
          -0.6500106279702698,
          1.3994018921447586,
          2.50578036606172,
          -0.29954702938157635,
          0.22487923849090152,
          1.05805800360803,
          1.2355699642843032,
          1.2685503173303463,
          0.5628284654241276,
          -0.38372302612685594,
          -1.184551643972065,
          -1.1651111349147578,
          -0.2161468874285778,
          -0.8481230977944765,
          -0.7149885633430976,
          -1.2431141346192784,
          -0.21244970998497795,
          0.7192602729860825,
          1.6646071028834495,
          1.4378441469571286,
          1.1527586806687484,
          -1.7059803294554596,
          0.7118290987712215,
          -0.301389165741736,
          0.5191048378964799,
          0.2325799221827256,
          -0.18388027155761488,
          0.4287281044896644,
          0.5775018103708022,
          0.007842996834937116,
          -0.1349810771475766,
          1.0957690666341457,
          -1.658083265471898,
          0.16011036262935488,
          0.093626295000747,
          0.48080651549150766,
          1.2978612597856227,
          1.2208179294634713,
          -0.4334630855456557,
          -0.34121310493691415,
          -0.5860177924410135,
          1.5073536831169771,
          -0.1428257546349099,
          0.37195007032908595,
          -0.4683382228777139,
          -0.2669611259903742,
          1.4480344684104847,
          -2.0932530674252625,
          -0.8153365944967327,
          0.016606208207461743,
          0.3268468909876187,
          -0.5959794030657887,
          1.4839483445597128,
          -0.1610153983089623,
          -0.7565042264746906,
          -0.5673293379584862,
          1.0546566945183387,
          1.0698727219541548,
          -0.11271713921465255,
          0.5693381244323878,
          0.4135236437601984,
          -0.6802629079893298,
          0.5648510393775303,
          -0.4493682009586909,
          -0.46879536556519275,
          -0.37126296043418505,
          0.9588349430886267,
          0.9541772804025027,
          -1.2110212934479987,
          -0.33580654072256205
         ],
         "xaxis": "x16",
         "yaxis": "y16"
        }
       ],
       "layout": {
        "bargap": 0.02,
        "legend": {
         "bgcolor": "#F5F6F9",
         "font": {
          "color": "#4D5663"
         }
        },
        "paper_bgcolor": "#F5F6F9",
        "plot_bgcolor": "#F5F6F9",
        "showlegend": false,
        "template": {
         "data": {
          "bar": [
           {
            "error_x": {
             "color": "#2a3f5f"
            },
            "error_y": {
             "color": "#2a3f5f"
            },
            "marker": {
             "line": {
              "color": "#E5ECF6",
              "width": 0.5
             }
            },
            "type": "bar"
           }
          ],
          "barpolar": [
           {
            "marker": {
             "line": {
              "color": "#E5ECF6",
              "width": 0.5
             }
            },
            "type": "barpolar"
           }
          ],
          "carpet": [
           {
            "aaxis": {
             "endlinecolor": "#2a3f5f",
             "gridcolor": "white",
             "linecolor": "white",
             "minorgridcolor": "white",
             "startlinecolor": "#2a3f5f"
            },
            "baxis": {
             "endlinecolor": "#2a3f5f",
             "gridcolor": "white",
             "linecolor": "white",
             "minorgridcolor": "white",
             "startlinecolor": "#2a3f5f"
            },
            "type": "carpet"
           }
          ],
          "choropleth": [
           {
            "colorbar": {
             "outlinewidth": 0,
             "ticks": ""
            },
            "type": "choropleth"
           }
          ],
          "contour": [
           {
            "colorbar": {
             "outlinewidth": 0,
             "ticks": ""
            },
            "colorscale": [
             [
              0,
              "#0d0887"
             ],
             [
              0.1111111111111111,
              "#46039f"
             ],
             [
              0.2222222222222222,
              "#7201a8"
             ],
             [
              0.3333333333333333,
              "#9c179e"
             ],
             [
              0.4444444444444444,
              "#bd3786"
             ],
             [
              0.5555555555555556,
              "#d8576b"
             ],
             [
              0.6666666666666666,
              "#ed7953"
             ],
             [
              0.7777777777777778,
              "#fb9f3a"
             ],
             [
              0.8888888888888888,
              "#fdca26"
             ],
             [
              1,
              "#f0f921"
             ]
            ],
            "type": "contour"
           }
          ],
          "contourcarpet": [
           {
            "colorbar": {
             "outlinewidth": 0,
             "ticks": ""
            },
            "type": "contourcarpet"
           }
          ],
          "heatmap": [
           {
            "colorbar": {
             "outlinewidth": 0,
             "ticks": ""
            },
            "colorscale": [
             [
              0,
              "#0d0887"
             ],
             [
              0.1111111111111111,
              "#46039f"
             ],
             [
              0.2222222222222222,
              "#7201a8"
             ],
             [
              0.3333333333333333,
              "#9c179e"
             ],
             [
              0.4444444444444444,
              "#bd3786"
             ],
             [
              0.5555555555555556,
              "#d8576b"
             ],
             [
              0.6666666666666666,
              "#ed7953"
             ],
             [
              0.7777777777777778,
              "#fb9f3a"
             ],
             [
              0.8888888888888888,
              "#fdca26"
             ],
             [
              1,
              "#f0f921"
             ]
            ],
            "type": "heatmap"
           }
          ],
          "heatmapgl": [
           {
            "colorbar": {
             "outlinewidth": 0,
             "ticks": ""
            },
            "colorscale": [
             [
              0,
              "#0d0887"
             ],
             [
              0.1111111111111111,
              "#46039f"
             ],
             [
              0.2222222222222222,
              "#7201a8"
             ],
             [
              0.3333333333333333,
              "#9c179e"
             ],
             [
              0.4444444444444444,
              "#bd3786"
             ],
             [
              0.5555555555555556,
              "#d8576b"
             ],
             [
              0.6666666666666666,
              "#ed7953"
             ],
             [
              0.7777777777777778,
              "#fb9f3a"
             ],
             [
              0.8888888888888888,
              "#fdca26"
             ],
             [
              1,
              "#f0f921"
             ]
            ],
            "type": "heatmapgl"
           }
          ],
          "histogram": [
           {
            "marker": {
             "colorbar": {
              "outlinewidth": 0,
              "ticks": ""
             }
            },
            "type": "histogram"
           }
          ],
          "histogram2d": [
           {
            "colorbar": {
             "outlinewidth": 0,
             "ticks": ""
            },
            "colorscale": [
             [
              0,
              "#0d0887"
             ],
             [
              0.1111111111111111,
              "#46039f"
             ],
             [
              0.2222222222222222,
              "#7201a8"
             ],
             [
              0.3333333333333333,
              "#9c179e"
             ],
             [
              0.4444444444444444,
              "#bd3786"
             ],
             [
              0.5555555555555556,
              "#d8576b"
             ],
             [
              0.6666666666666666,
              "#ed7953"
             ],
             [
              0.7777777777777778,
              "#fb9f3a"
             ],
             [
              0.8888888888888888,
              "#fdca26"
             ],
             [
              1,
              "#f0f921"
             ]
            ],
            "type": "histogram2d"
           }
          ],
          "histogram2dcontour": [
           {
            "colorbar": {
             "outlinewidth": 0,
             "ticks": ""
            },
            "colorscale": [
             [
              0,
              "#0d0887"
             ],
             [
              0.1111111111111111,
              "#46039f"
             ],
             [
              0.2222222222222222,
              "#7201a8"
             ],
             [
              0.3333333333333333,
              "#9c179e"
             ],
             [
              0.4444444444444444,
              "#bd3786"
             ],
             [
              0.5555555555555556,
              "#d8576b"
             ],
             [
              0.6666666666666666,
              "#ed7953"
             ],
             [
              0.7777777777777778,
              "#fb9f3a"
             ],
             [
              0.8888888888888888,
              "#fdca26"
             ],
             [
              1,
              "#f0f921"
             ]
            ],
            "type": "histogram2dcontour"
           }
          ],
          "mesh3d": [
           {
            "colorbar": {
             "outlinewidth": 0,
             "ticks": ""
            },
            "type": "mesh3d"
           }
          ],
          "parcoords": [
           {
            "line": {
             "colorbar": {
              "outlinewidth": 0,
              "ticks": ""
             }
            },
            "type": "parcoords"
           }
          ],
          "pie": [
           {
            "automargin": true,
            "type": "pie"
           }
          ],
          "scatter": [
           {
            "marker": {
             "colorbar": {
              "outlinewidth": 0,
              "ticks": ""
             }
            },
            "type": "scatter"
           }
          ],
          "scatter3d": [
           {
            "line": {
             "colorbar": {
              "outlinewidth": 0,
              "ticks": ""
             }
            },
            "marker": {
             "colorbar": {
              "outlinewidth": 0,
              "ticks": ""
             }
            },
            "type": "scatter3d"
           }
          ],
          "scattercarpet": [
           {
            "marker": {
             "colorbar": {
              "outlinewidth": 0,
              "ticks": ""
             }
            },
            "type": "scattercarpet"
           }
          ],
          "scattergeo": [
           {
            "marker": {
             "colorbar": {
              "outlinewidth": 0,
              "ticks": ""
             }
            },
            "type": "scattergeo"
           }
          ],
          "scattergl": [
           {
            "marker": {
             "colorbar": {
              "outlinewidth": 0,
              "ticks": ""
             }
            },
            "type": "scattergl"
           }
          ],
          "scattermapbox": [
           {
            "marker": {
             "colorbar": {
              "outlinewidth": 0,
              "ticks": ""
             }
            },
            "type": "scattermapbox"
           }
          ],
          "scatterpolar": [
           {
            "marker": {
             "colorbar": {
              "outlinewidth": 0,
              "ticks": ""
             }
            },
            "type": "scatterpolar"
           }
          ],
          "scatterpolargl": [
           {
            "marker": {
             "colorbar": {
              "outlinewidth": 0,
              "ticks": ""
             }
            },
            "type": "scatterpolargl"
           }
          ],
          "scatterternary": [
           {
            "marker": {
             "colorbar": {
              "outlinewidth": 0,
              "ticks": ""
             }
            },
            "type": "scatterternary"
           }
          ],
          "surface": [
           {
            "colorbar": {
             "outlinewidth": 0,
             "ticks": ""
            },
            "colorscale": [
             [
              0,
              "#0d0887"
             ],
             [
              0.1111111111111111,
              "#46039f"
             ],
             [
              0.2222222222222222,
              "#7201a8"
             ],
             [
              0.3333333333333333,
              "#9c179e"
             ],
             [
              0.4444444444444444,
              "#bd3786"
             ],
             [
              0.5555555555555556,
              "#d8576b"
             ],
             [
              0.6666666666666666,
              "#ed7953"
             ],
             [
              0.7777777777777778,
              "#fb9f3a"
             ],
             [
              0.8888888888888888,
              "#fdca26"
             ],
             [
              1,
              "#f0f921"
             ]
            ],
            "type": "surface"
           }
          ],
          "table": [
           {
            "cells": {
             "fill": {
              "color": "#EBF0F8"
             },
             "line": {
              "color": "white"
             }
            },
            "header": {
             "fill": {
              "color": "#C8D4E3"
             },
             "line": {
              "color": "white"
             }
            },
            "type": "table"
           }
          ]
         },
         "layout": {
          "annotationdefaults": {
           "arrowcolor": "#2a3f5f",
           "arrowhead": 0,
           "arrowwidth": 1
          },
          "coloraxis": {
           "colorbar": {
            "outlinewidth": 0,
            "ticks": ""
           }
          },
          "colorscale": {
           "diverging": [
            [
             0,
             "#8e0152"
            ],
            [
             0.1,
             "#c51b7d"
            ],
            [
             0.2,
             "#de77ae"
            ],
            [
             0.3,
             "#f1b6da"
            ],
            [
             0.4,
             "#fde0ef"
            ],
            [
             0.5,
             "#f7f7f7"
            ],
            [
             0.6,
             "#e6f5d0"
            ],
            [
             0.7,
             "#b8e186"
            ],
            [
             0.8,
             "#7fbc41"
            ],
            [
             0.9,
             "#4d9221"
            ],
            [
             1,
             "#276419"
            ]
           ],
           "sequential": [
            [
             0,
             "#0d0887"
            ],
            [
             0.1111111111111111,
             "#46039f"
            ],
            [
             0.2222222222222222,
             "#7201a8"
            ],
            [
             0.3333333333333333,
             "#9c179e"
            ],
            [
             0.4444444444444444,
             "#bd3786"
            ],
            [
             0.5555555555555556,
             "#d8576b"
            ],
            [
             0.6666666666666666,
             "#ed7953"
            ],
            [
             0.7777777777777778,
             "#fb9f3a"
            ],
            [
             0.8888888888888888,
             "#fdca26"
            ],
            [
             1,
             "#f0f921"
            ]
           ],
           "sequentialminus": [
            [
             0,
             "#0d0887"
            ],
            [
             0.1111111111111111,
             "#46039f"
            ],
            [
             0.2222222222222222,
             "#7201a8"
            ],
            [
             0.3333333333333333,
             "#9c179e"
            ],
            [
             0.4444444444444444,
             "#bd3786"
            ],
            [
             0.5555555555555556,
             "#d8576b"
            ],
            [
             0.6666666666666666,
             "#ed7953"
            ],
            [
             0.7777777777777778,
             "#fb9f3a"
            ],
            [
             0.8888888888888888,
             "#fdca26"
            ],
            [
             1,
             "#f0f921"
            ]
           ]
          },
          "colorway": [
           "#636efa",
           "#EF553B",
           "#00cc96",
           "#ab63fa",
           "#FFA15A",
           "#19d3f3",
           "#FF6692",
           "#B6E880",
           "#FF97FF",
           "#FECB52"
          ],
          "font": {
           "color": "#2a3f5f"
          },
          "geo": {
           "bgcolor": "white",
           "lakecolor": "white",
           "landcolor": "#E5ECF6",
           "showlakes": true,
           "showland": true,
           "subunitcolor": "white"
          },
          "hoverlabel": {
           "align": "left"
          },
          "hovermode": "closest",
          "mapbox": {
           "style": "light"
          },
          "paper_bgcolor": "white",
          "plot_bgcolor": "#E5ECF6",
          "polar": {
           "angularaxis": {
            "gridcolor": "white",
            "linecolor": "white",
            "ticks": ""
           },
           "bgcolor": "#E5ECF6",
           "radialaxis": {
            "gridcolor": "white",
            "linecolor": "white",
            "ticks": ""
           }
          },
          "scene": {
           "xaxis": {
            "backgroundcolor": "#E5ECF6",
            "gridcolor": "white",
            "gridwidth": 2,
            "linecolor": "white",
            "showbackground": true,
            "ticks": "",
            "zerolinecolor": "white"
           },
           "yaxis": {
            "backgroundcolor": "#E5ECF6",
            "gridcolor": "white",
            "gridwidth": 2,
            "linecolor": "white",
            "showbackground": true,
            "ticks": "",
            "zerolinecolor": "white"
           },
           "zaxis": {
            "backgroundcolor": "#E5ECF6",
            "gridcolor": "white",
            "gridwidth": 2,
            "linecolor": "white",
            "showbackground": true,
            "ticks": "",
            "zerolinecolor": "white"
           }
          },
          "shapedefaults": {
           "line": {
            "color": "#2a3f5f"
           }
          },
          "ternary": {
           "aaxis": {
            "gridcolor": "white",
            "linecolor": "white",
            "ticks": ""
           },
           "baxis": {
            "gridcolor": "white",
            "linecolor": "white",
            "ticks": ""
           },
           "bgcolor": "#E5ECF6",
           "caxis": {
            "gridcolor": "white",
            "linecolor": "white",
            "ticks": ""
           }
          },
          "title": {
           "x": 0.05
          },
          "xaxis": {
           "automargin": true,
           "gridcolor": "white",
           "linecolor": "white",
           "ticks": "",
           "title": {
            "standoff": 15
           },
           "zerolinecolor": "white",
           "zerolinewidth": 2
          },
          "yaxis": {
           "automargin": true,
           "gridcolor": "white",
           "linecolor": "white",
           "ticks": "",
           "title": {
            "standoff": 15
           },
           "zerolinecolor": "white",
           "zerolinewidth": 2
          }
         }
        },
        "title": {
         "font": {
          "color": "#4D5663"
         }
        },
        "xaxis": {
         "anchor": "y",
         "domain": [
          0,
          0.2125
         ],
         "gridcolor": "#E1E5ED",
         "showgrid": false,
         "tickfont": {
          "color": "#4D5663"
         },
         "title": {
          "font": {
           "color": "#4D5663"
          },
          "text": ""
         },
         "zerolinecolor": "#E1E5ED"
        },
        "xaxis10": {
         "anchor": "y10",
         "domain": [
          0.2625,
          0.475
         ],
         "gridcolor": "#E1E5ED",
         "showgrid": false,
         "tickfont": {
          "color": "#4D5663"
         },
         "title": {
          "font": {
           "color": "#4D5663"
          },
          "text": ""
         },
         "zerolinecolor": "#E1E5ED"
        },
        "xaxis11": {
         "anchor": "y11",
         "domain": [
          0.525,
          0.7375
         ],
         "gridcolor": "#E1E5ED",
         "showgrid": false,
         "tickfont": {
          "color": "#4D5663"
         },
         "title": {
          "font": {
           "color": "#4D5663"
          },
          "text": ""
         },
         "zerolinecolor": "#E1E5ED"
        },
        "xaxis12": {
         "anchor": "y12",
         "domain": [
          0.7875,
          1
         ],
         "gridcolor": "#E1E5ED",
         "showgrid": false,
         "tickfont": {
          "color": "#4D5663"
         },
         "title": {
          "font": {
           "color": "#4D5663"
          },
          "text": ""
         },
         "zerolinecolor": "#E1E5ED"
        },
        "xaxis13": {
         "anchor": "y13",
         "domain": [
          0,
          0.2125
         ],
         "gridcolor": "#E1E5ED",
         "showgrid": false,
         "tickfont": {
          "color": "#4D5663"
         },
         "title": {
          "font": {
           "color": "#4D5663"
          },
          "text": ""
         },
         "zerolinecolor": "#E1E5ED"
        },
        "xaxis14": {
         "anchor": "y14",
         "domain": [
          0.2625,
          0.475
         ],
         "gridcolor": "#E1E5ED",
         "showgrid": false,
         "tickfont": {
          "color": "#4D5663"
         },
         "title": {
          "font": {
           "color": "#4D5663"
          },
          "text": ""
         },
         "zerolinecolor": "#E1E5ED"
        },
        "xaxis15": {
         "anchor": "y15",
         "domain": [
          0.525,
          0.7375
         ],
         "gridcolor": "#E1E5ED",
         "showgrid": false,
         "tickfont": {
          "color": "#4D5663"
         },
         "title": {
          "font": {
           "color": "#4D5663"
          },
          "text": ""
         },
         "zerolinecolor": "#E1E5ED"
        },
        "xaxis16": {
         "anchor": "y16",
         "domain": [
          0.7875,
          1
         ],
         "gridcolor": "#E1E5ED",
         "showgrid": false,
         "tickfont": {
          "color": "#4D5663"
         },
         "title": {
          "font": {
           "color": "#4D5663"
          },
          "text": ""
         },
         "zerolinecolor": "#E1E5ED"
        },
        "xaxis2": {
         "anchor": "y2",
         "domain": [
          0.2625,
          0.475
         ],
         "gridcolor": "#E1E5ED",
         "showgrid": false,
         "tickfont": {
          "color": "#4D5663"
         },
         "title": {
          "font": {
           "color": "#4D5663"
          },
          "text": ""
         },
         "zerolinecolor": "#E1E5ED"
        },
        "xaxis3": {
         "anchor": "y3",
         "domain": [
          0.525,
          0.7375
         ],
         "gridcolor": "#E1E5ED",
         "showgrid": false,
         "tickfont": {
          "color": "#4D5663"
         },
         "title": {
          "font": {
           "color": "#4D5663"
          },
          "text": ""
         },
         "zerolinecolor": "#E1E5ED"
        },
        "xaxis4": {
         "anchor": "y4",
         "domain": [
          0.7875,
          1
         ],
         "gridcolor": "#E1E5ED",
         "showgrid": false,
         "tickfont": {
          "color": "#4D5663"
         },
         "title": {
          "font": {
           "color": "#4D5663"
          },
          "text": ""
         },
         "zerolinecolor": "#E1E5ED"
        },
        "xaxis5": {
         "anchor": "y5",
         "domain": [
          0,
          0.2125
         ],
         "gridcolor": "#E1E5ED",
         "showgrid": false,
         "tickfont": {
          "color": "#4D5663"
         },
         "title": {
          "font": {
           "color": "#4D5663"
          },
          "text": ""
         },
         "zerolinecolor": "#E1E5ED"
        },
        "xaxis6": {
         "anchor": "y6",
         "domain": [
          0.2625,
          0.475
         ],
         "gridcolor": "#E1E5ED",
         "showgrid": false,
         "tickfont": {
          "color": "#4D5663"
         },
         "title": {
          "font": {
           "color": "#4D5663"
          },
          "text": ""
         },
         "zerolinecolor": "#E1E5ED"
        },
        "xaxis7": {
         "anchor": "y7",
         "domain": [
          0.525,
          0.7375
         ],
         "gridcolor": "#E1E5ED",
         "showgrid": false,
         "tickfont": {
          "color": "#4D5663"
         },
         "title": {
          "font": {
           "color": "#4D5663"
          },
          "text": ""
         },
         "zerolinecolor": "#E1E5ED"
        },
        "xaxis8": {
         "anchor": "y8",
         "domain": [
          0.7875,
          1
         ],
         "gridcolor": "#E1E5ED",
         "showgrid": false,
         "tickfont": {
          "color": "#4D5663"
         },
         "title": {
          "font": {
           "color": "#4D5663"
          },
          "text": ""
         },
         "zerolinecolor": "#E1E5ED"
        },
        "xaxis9": {
         "anchor": "y9",
         "domain": [
          0,
          0.2125
         ],
         "gridcolor": "#E1E5ED",
         "showgrid": false,
         "tickfont": {
          "color": "#4D5663"
         },
         "title": {
          "font": {
           "color": "#4D5663"
          },
          "text": ""
         },
         "zerolinecolor": "#E1E5ED"
        },
        "yaxis": {
         "anchor": "x",
         "domain": [
          0.8025,
          1
         ],
         "gridcolor": "#E1E5ED",
         "showgrid": false,
         "tickfont": {
          "color": "#4D5663"
         },
         "title": {
          "font": {
           "color": "#4D5663"
          },
          "text": ""
         },
         "zerolinecolor": "#E1E5ED"
        },
        "yaxis10": {
         "anchor": "x10",
         "domain": [
          0.2675,
          0.465
         ],
         "gridcolor": "#E1E5ED",
         "showgrid": false,
         "tickfont": {
          "color": "#4D5663"
         },
         "title": {
          "font": {
           "color": "#4D5663"
          },
          "text": ""
         },
         "zerolinecolor": "#E1E5ED"
        },
        "yaxis11": {
         "anchor": "x11",
         "domain": [
          0.2675,
          0.465
         ],
         "gridcolor": "#E1E5ED",
         "showgrid": false,
         "tickfont": {
          "color": "#4D5663"
         },
         "title": {
          "font": {
           "color": "#4D5663"
          },
          "text": ""
         },
         "zerolinecolor": "#E1E5ED"
        },
        "yaxis12": {
         "anchor": "x12",
         "domain": [
          0.2675,
          0.465
         ],
         "gridcolor": "#E1E5ED",
         "showgrid": false,
         "tickfont": {
          "color": "#4D5663"
         },
         "title": {
          "font": {
           "color": "#4D5663"
          },
          "text": ""
         },
         "zerolinecolor": "#E1E5ED"
        },
        "yaxis13": {
         "anchor": "x13",
         "domain": [
          0,
          0.1975
         ],
         "gridcolor": "#E1E5ED",
         "showgrid": false,
         "tickfont": {
          "color": "#4D5663"
         },
         "title": {
          "font": {
           "color": "#4D5663"
          },
          "text": ""
         },
         "zerolinecolor": "#E1E5ED"
        },
        "yaxis14": {
         "anchor": "x14",
         "domain": [
          0,
          0.1975
         ],
         "gridcolor": "#E1E5ED",
         "showgrid": false,
         "tickfont": {
          "color": "#4D5663"
         },
         "title": {
          "font": {
           "color": "#4D5663"
          },
          "text": ""
         },
         "zerolinecolor": "#E1E5ED"
        },
        "yaxis15": {
         "anchor": "x15",
         "domain": [
          0,
          0.1975
         ],
         "gridcolor": "#E1E5ED",
         "showgrid": false,
         "tickfont": {
          "color": "#4D5663"
         },
         "title": {
          "font": {
           "color": "#4D5663"
          },
          "text": ""
         },
         "zerolinecolor": "#E1E5ED"
        },
        "yaxis16": {
         "anchor": "x16",
         "domain": [
          0,
          0.1975
         ],
         "gridcolor": "#E1E5ED",
         "showgrid": false,
         "tickfont": {
          "color": "#4D5663"
         },
         "title": {
          "font": {
           "color": "#4D5663"
          },
          "text": ""
         },
         "zerolinecolor": "#E1E5ED"
        },
        "yaxis2": {
         "anchor": "x2",
         "domain": [
          0.8025,
          1
         ],
         "gridcolor": "#E1E5ED",
         "showgrid": false,
         "tickfont": {
          "color": "#4D5663"
         },
         "title": {
          "font": {
           "color": "#4D5663"
          },
          "text": ""
         },
         "zerolinecolor": "#E1E5ED"
        },
        "yaxis3": {
         "anchor": "x3",
         "domain": [
          0.8025,
          1
         ],
         "gridcolor": "#E1E5ED",
         "showgrid": false,
         "tickfont": {
          "color": "#4D5663"
         },
         "title": {
          "font": {
           "color": "#4D5663"
          },
          "text": ""
         },
         "zerolinecolor": "#E1E5ED"
        },
        "yaxis4": {
         "anchor": "x4",
         "domain": [
          0.8025,
          1
         ],
         "gridcolor": "#E1E5ED",
         "showgrid": false,
         "tickfont": {
          "color": "#4D5663"
         },
         "title": {
          "font": {
           "color": "#4D5663"
          },
          "text": ""
         },
         "zerolinecolor": "#E1E5ED"
        },
        "yaxis5": {
         "anchor": "x5",
         "domain": [
          0.535,
          0.7325
         ],
         "gridcolor": "#E1E5ED",
         "showgrid": false,
         "tickfont": {
          "color": "#4D5663"
         },
         "title": {
          "font": {
           "color": "#4D5663"
          },
          "text": ""
         },
         "zerolinecolor": "#E1E5ED"
        },
        "yaxis6": {
         "anchor": "x6",
         "domain": [
          0.535,
          0.7325
         ],
         "gridcolor": "#E1E5ED",
         "showgrid": false,
         "tickfont": {
          "color": "#4D5663"
         },
         "title": {
          "font": {
           "color": "#4D5663"
          },
          "text": ""
         },
         "zerolinecolor": "#E1E5ED"
        },
        "yaxis7": {
         "anchor": "x7",
         "domain": [
          0.535,
          0.7325
         ],
         "gridcolor": "#E1E5ED",
         "showgrid": false,
         "tickfont": {
          "color": "#4D5663"
         },
         "title": {
          "font": {
           "color": "#4D5663"
          },
          "text": ""
         },
         "zerolinecolor": "#E1E5ED"
        },
        "yaxis8": {
         "anchor": "x8",
         "domain": [
          0.535,
          0.7325
         ],
         "gridcolor": "#E1E5ED",
         "showgrid": false,
         "tickfont": {
          "color": "#4D5663"
         },
         "title": {
          "font": {
           "color": "#4D5663"
          },
          "text": ""
         },
         "zerolinecolor": "#E1E5ED"
        },
        "yaxis9": {
         "anchor": "x9",
         "domain": [
          0.2675,
          0.465
         ],
         "gridcolor": "#E1E5ED",
         "showgrid": false,
         "tickfont": {
          "color": "#4D5663"
         },
         "title": {
          "font": {
           "color": "#4D5663"
          },
          "text": ""
         },
         "zerolinecolor": "#E1E5ED"
        }
       }
      },
      "text/html": [
       "<div>\n",
       "        \n",
       "        \n",
       "            <div id=\"fe4ca4b0-6364-49b5-80a8-a032573a9d64\" class=\"plotly-graph-div\" style=\"height:525px; width:100%;\"></div>\n",
       "            <script type=\"text/javascript\">\n",
       "                require([\"plotly\"], function(Plotly) {\n",
       "                    window.PLOTLYENV=window.PLOTLYENV || {};\n",
       "                    window.PLOTLYENV.BASE_URL='https://plot.ly';\n",
       "                    \n",
       "                if (document.getElementById(\"fe4ca4b0-6364-49b5-80a8-a032573a9d64\")) {\n",
       "                    Plotly.newPlot(\n",
       "                        'fe4ca4b0-6364-49b5-80a8-a032573a9d64',\n",
       "                        [{\"histfunc\": \"count\", \"histnorm\": \"\", \"marker\": {\"color\": \"rgba(255, 153, 51, 1.0)\", \"line\": {\"color\": \"#4D5663\", \"width\": 1.3}}, \"name\": \"A\", \"nbinsx\": 10, \"opacity\": 0.8, \"orientation\": \"v\", \"type\": \"histogram\", \"x\": [1.565884337167468, -0.45771390855734573, -0.6294981356484306, -0.31632596935640805, -0.8415387236765782, -1.0011109686364592, -1.4848300297289672, -0.4341971001119396, 0.20559798897040746, -1.0093491072636154, -0.6933918467635506, -1.4134648098598488, -0.006558075223548637, 0.42339501837302906, 1.0536102304279946, -0.22135839802994153, -0.5588442239783614, 0.8011714238548048, -0.8954504814497545, -0.8702490790991079, -0.08548128885203164, -1.7781641352509694, 2.614932210947218, -0.1040436359440887, -1.6474994438719635, 0.1131359207721515, -0.08796528933397242, 2.5258333098386765, -0.4163684847370185, 0.278459211531101, 1.348134060287212, -1.0270330164094006, -0.3082720877712286, 1.0975241245551837, -1.955871071034986, -0.6521508448632184, -0.8038019598913686, -1.501894043694504, 0.24333768279152238, 1.592031644168021, 0.949301075242087, -0.023481831597560853, -1.367738140808775, -0.08686752700857645, -0.1638917532126145, -1.272210803236027, -1.0741244297077253, -3.4659277855100084, -0.9738316689582084, 0.34373991219368616, -1.3290005300039058, 2.2827711463244196, -0.6194094358815374, 0.37335682630177425, 1.7163568406020657, 0.6634845573251583, 0.13750158166138593, 0.8869606796560566, -0.36898132575109505, -0.027969059779097097, 0.5651141298181905, -0.998635320715629, -0.520446310714804, 0.5994623035040102, 0.708852267700245, -0.8136227015450364, -1.5764748894413487, -0.8977669402845133, 0.06760506819494855, 1.8214441598957745, -0.858597184257929, 0.018599761851139936, 1.0615074581619262, -0.5945356040381385, 1.063628108280927, -0.026343395611301456, 1.6160843357286385, -2.039300163490272, 0.29197227096395584, 1.2773432038890091, 1.397931871420511, -0.19011073602518447, -0.5616139272987423, -0.33365921974022533, 0.25498039368357694, -0.5045169854402038, -0.6823106757278841, -1.0524270888935459, 1.297890380840405, 0.37222308458826087, -0.1858497690901246, -0.5969749215773195, 1.750369944761348, 1.05428825034664, -0.9561301036271894, -1.0575419797300827, -1.0516778401677838, 0.8456087654973249, 0.41348484173507144, -2.0351669878108525], \"xaxis\": \"x\", \"yaxis\": \"y\"}, {\"line\": {\"color\": \"rgba(128, 128, 128, 1.0)\", \"dash\": \"solid\", \"shape\": \"linear\", \"width\": 1.3}, \"marker\": {\"size\": 2, \"symbol\": \"circle\"}, \"mode\": \"markers\", \"name\": \"A\", \"text\": \"\", \"type\": \"scatter\", \"x\": [-0.6967737301029128, 0.3955923153588364, 0.9304509208325568, -0.0744586522642926, 0.1211984333652385, 0.022291349587955523, 0.3887385590763829, -2.197471675736836, -0.18263329127329966, -0.8441573294832997, 0.25438217466521695, -0.4665323161144188, -0.28094950723014095, -0.9019303972034435, -0.8564555377646561, 0.4945430468649379, -1.76258208763336, -0.4918490163755658, 1.2494042369031118, 0.031181800975316205, -0.1083735743325583, 1.2884576364371843, -1.6037547525042675, -1.1462001137263944, 0.9548645539803001, -1.3886683835731528, 0.7532489553467764, -0.010822797014181502, -0.3577884303405244, -0.9600572198594697, -0.8487481571361674, -0.1886567268766113, 0.7651822612089191, -0.154652529142487, 0.25439107341567063, -2.8948776168564954, -0.03072124986333935, 0.22591470261515573, 1.5029917208158639, 0.15340207199391692, -0.06341970644899546, -0.778625105227336, -0.3739662082593961, 0.5826781894263957, 1.3352886097452983, 0.45955618854761954, -1.2509126022463022, -0.23781710320954533, 0.6511060012132226, 1.0599773131525834, 1.455408403447102, -0.8892299822485499, 1.6720953701987729, 0.7586822821240174, -1.1029657978608838, -0.42074668557719874, 0.4373370016959473, 1.6674354351089624, -0.5014138119319443, 0.8901371658728653, 0.5450316271810358, -0.2979814489174735, 0.00746766129420241, 0.48805137821334166, -0.15750421727680192, 0.5135060773499763, -0.6679765559004219, 0.6234621029683176, 0.6687995341297776, 0.44948993111897134, 0.22050423567227825, -0.7373287858654547, -0.024554045318524825, 1.3946803315640273, 0.5892612669063987, 0.6474314037463123, -1.3016713140423926, 1.263933201091441, -2.062701337755691, 2.525763242001359, 0.7361501938603366, -0.07660514326388362, 0.054162809365627486, -1.6422968996712803, -0.7101847406077325, 1.079380624362349, -0.602693260182104, -1.598310885910521, 0.7222361259546951, 0.87395586159824, 0.44038898813091215, -0.3631094213080669, 1.644230309460639, 1.0507482071374046, 0.9512076062512657, -0.894214278654392, 1.9233660832168906, -1.268145238676145, 0.18883957711582006, 0.851423150446762], \"xaxis\": \"x2\", \"y\": [1.565884337167468, -0.45771390855734573, -0.6294981356484306, -0.31632596935640805, -0.8415387236765782, -1.0011109686364592, -1.4848300297289672, -0.4341971001119396, 0.20559798897040746, -1.0093491072636154, -0.6933918467635506, -1.4134648098598488, -0.006558075223548637, 0.42339501837302906, 1.0536102304279946, -0.22135839802994153, -0.5588442239783614, 0.8011714238548048, -0.8954504814497545, -0.8702490790991079, -0.08548128885203164, -1.7781641352509694, 2.614932210947218, -0.1040436359440887, -1.6474994438719635, 0.1131359207721515, -0.08796528933397242, 2.5258333098386765, -0.4163684847370185, 0.278459211531101, 1.348134060287212, -1.0270330164094006, -0.3082720877712286, 1.0975241245551837, -1.955871071034986, -0.6521508448632184, -0.8038019598913686, -1.501894043694504, 0.24333768279152238, 1.592031644168021, 0.949301075242087, -0.023481831597560853, -1.367738140808775, -0.08686752700857645, -0.1638917532126145, -1.272210803236027, -1.0741244297077253, -3.4659277855100084, -0.9738316689582084, 0.34373991219368616, -1.3290005300039058, 2.2827711463244196, -0.6194094358815374, 0.37335682630177425, 1.7163568406020657, 0.6634845573251583, 0.13750158166138593, 0.8869606796560566, -0.36898132575109505, -0.027969059779097097, 0.5651141298181905, -0.998635320715629, -0.520446310714804, 0.5994623035040102, 0.708852267700245, -0.8136227015450364, -1.5764748894413487, -0.8977669402845133, 0.06760506819494855, 1.8214441598957745, -0.858597184257929, 0.018599761851139936, 1.0615074581619262, -0.5945356040381385, 1.063628108280927, -0.026343395611301456, 1.6160843357286385, -2.039300163490272, 0.29197227096395584, 1.2773432038890091, 1.397931871420511, -0.19011073602518447, -0.5616139272987423, -0.33365921974022533, 0.25498039368357694, -0.5045169854402038, -0.6823106757278841, -1.0524270888935459, 1.297890380840405, 0.37222308458826087, -0.1858497690901246, -0.5969749215773195, 1.750369944761348, 1.05428825034664, -0.9561301036271894, -1.0575419797300827, -1.0516778401677838, 0.8456087654973249, 0.41348484173507144, -2.0351669878108525], \"yaxis\": \"y2\"}, {\"line\": {\"color\": \"rgba(128, 128, 128, 1.0)\", \"dash\": \"solid\", \"shape\": \"linear\", \"width\": 1.3}, \"marker\": {\"size\": 2, \"symbol\": \"circle\"}, \"mode\": \"markers\", \"name\": \"A\", \"text\": \"\", \"type\": \"scatter\", \"x\": [-0.7301352317282106, 0.08779556201931825, -0.524709251031356, -0.21593021511776864, 1.3250904965255268, -1.3364697728077088, -1.469261874221005, 0.07339431139103271, -1.1098237572465623, -0.0635405043182496, 0.15544483959009103, 0.5150962954286789, 0.5002093153624056, -0.7362811308263522, -0.4381493328406711, 2.0900514328682105, 1.5894679443431854, 2.574006507457789, -0.8567000712841061, 0.3700038521859714, -0.455657509521665, 0.32023432876899793, -0.8408124542854524, 1.5300045654723207, 1.428512779986509, 0.530396350375161, 1.2519206100951428, 0.6663292387288364, -0.7730012234696285, -0.7814861900476605, 0.15539685558857158, 1.0136265203289576, 1.5342875479575093, 0.5353385807618619, -0.6404571235699517, 1.96804384588998, -1.7164176764969905, 0.10698173480426748, 0.4517264381169476, 0.36588106653529856, -0.3082592879308524, -0.4305870864675882, -0.751991013941709, -1.0458828762609829, -0.15386690845757842, -0.061784434498645506, 0.25301461745526455, 0.050810391451398144, -1.130049106084122, -0.36721191428312094, -1.3425255150576543, 1.332769166021427, -0.5499855518754465, -1.6416207551974187, 0.5478581555199442, 0.7754992829442867, 0.05228088917803463, 0.9268097942485304, 0.045646819658006446, -1.7391340994184767, -0.7053086718910987, -0.5692892996671876, 0.02510544648360247, 0.5067679358623244, 0.3195885391018388, 1.7224598614546238, 1.147959696652209, 0.004588975576922581, -0.9671271227639321, 0.5740234635784761, -0.8980901246671379, -1.5930458910826608, 0.15802777930569248, -0.9254381374688119, -0.04161554143363617, -1.8691436551710514, -1.0971553281117405, -1.2299202652865213, -1.8524050796872709, -1.230260810808082, 1.439920507932906, -0.8888478054575822, -1.9231932754945789, -0.4895990739239892, -1.870962483925207, 0.3673464736837565, 0.10697930603923508, -1.5209617058013976, -1.2832638676076424, -0.16622121795532996, -0.23890348896172903, 0.5063012008978391, -1.7923206805183614, -0.08092462174465116, -2.3094418477242318, -0.5426532984047878, 0.8189498229715165, -0.7238095388860954, 0.11732881297747685, 0.30789135902706505], \"xaxis\": \"x3\", \"y\": [1.565884337167468, -0.45771390855734573, -0.6294981356484306, -0.31632596935640805, -0.8415387236765782, -1.0011109686364592, -1.4848300297289672, -0.4341971001119396, 0.20559798897040746, -1.0093491072636154, -0.6933918467635506, -1.4134648098598488, -0.006558075223548637, 0.42339501837302906, 1.0536102304279946, -0.22135839802994153, -0.5588442239783614, 0.8011714238548048, -0.8954504814497545, -0.8702490790991079, -0.08548128885203164, -1.7781641352509694, 2.614932210947218, -0.1040436359440887, -1.6474994438719635, 0.1131359207721515, -0.08796528933397242, 2.5258333098386765, -0.4163684847370185, 0.278459211531101, 1.348134060287212, -1.0270330164094006, -0.3082720877712286, 1.0975241245551837, -1.955871071034986, -0.6521508448632184, -0.8038019598913686, -1.501894043694504, 0.24333768279152238, 1.592031644168021, 0.949301075242087, -0.023481831597560853, -1.367738140808775, -0.08686752700857645, -0.1638917532126145, -1.272210803236027, -1.0741244297077253, -3.4659277855100084, -0.9738316689582084, 0.34373991219368616, -1.3290005300039058, 2.2827711463244196, -0.6194094358815374, 0.37335682630177425, 1.7163568406020657, 0.6634845573251583, 0.13750158166138593, 0.8869606796560566, -0.36898132575109505, -0.027969059779097097, 0.5651141298181905, -0.998635320715629, -0.520446310714804, 0.5994623035040102, 0.708852267700245, -0.8136227015450364, -1.5764748894413487, -0.8977669402845133, 0.06760506819494855, 1.8214441598957745, -0.858597184257929, 0.018599761851139936, 1.0615074581619262, -0.5945356040381385, 1.063628108280927, -0.026343395611301456, 1.6160843357286385, -2.039300163490272, 0.29197227096395584, 1.2773432038890091, 1.397931871420511, -0.19011073602518447, -0.5616139272987423, -0.33365921974022533, 0.25498039368357694, -0.5045169854402038, -0.6823106757278841, -1.0524270888935459, 1.297890380840405, 0.37222308458826087, -0.1858497690901246, -0.5969749215773195, 1.750369944761348, 1.05428825034664, -0.9561301036271894, -1.0575419797300827, -1.0516778401677838, 0.8456087654973249, 0.41348484173507144, -2.0351669878108525], \"yaxis\": \"y3\"}, {\"line\": {\"color\": \"rgba(128, 128, 128, 1.0)\", \"dash\": \"solid\", \"shape\": \"linear\", \"width\": 1.3}, \"marker\": {\"size\": 2, \"symbol\": \"circle\"}, \"mode\": \"markers\", \"name\": \"A\", \"text\": \"\", \"type\": \"scatter\", \"x\": [-1.7216172312988307, 1.8046858648116653, -1.4647291390348893, -1.5147331241316506, 1.6825890547486828, 1.8145266255975043, 1.3973500850895426, 0.12926806224259768, 1.0512562312534692, -1.089012260383378, 0.13849113722266734, -1.0165849482167328, 1.8608447935012344, 0.6146829773835975, -0.5623266638223187, -0.38879792913416616, 2.147157541766009, 2.089580369789075, -0.6849070270113347, 2.2814129932357226, 0.18349546900263083, 0.8947645448819614, 1.268409819667111, 0.8414386517865439, 1.4694813141284722, -0.9175515368153877, 1.4990926921005339, 0.8942504300601379, -0.04440976514025778, 0.4393172691963984, -0.6500106279702698, 1.3994018921447586, 2.50578036606172, -0.29954702938157635, 0.22487923849090152, 1.05805800360803, 1.2355699642843032, 1.2685503173303463, 0.5628284654241276, -0.38372302612685594, -1.184551643972065, -1.1651111349147578, -0.2161468874285778, -0.8481230977944765, -0.7149885633430976, -1.2431141346192784, -0.21244970998497795, 0.7192602729860825, 1.6646071028834495, 1.4378441469571286, 1.1527586806687484, -1.7059803294554596, 0.7118290987712215, -0.301389165741736, 0.5191048378964799, 0.2325799221827256, -0.18388027155761488, 0.4287281044896644, 0.5775018103708022, 0.007842996834937116, -0.1349810771475766, 1.0957690666341457, -1.658083265471898, 0.16011036262935488, 0.093626295000747, 0.48080651549150766, 1.2978612597856227, 1.2208179294634713, -0.4334630855456557, -0.34121310493691415, -0.5860177924410135, 1.5073536831169771, -0.1428257546349099, 0.37195007032908595, -0.4683382228777139, -0.2669611259903742, 1.4480344684104847, -2.0932530674252625, -0.8153365944967327, 0.016606208207461743, 0.3268468909876187, -0.5959794030657887, 1.4839483445597128, -0.1610153983089623, -0.7565042264746906, -0.5673293379584862, 1.0546566945183387, 1.0698727219541548, -0.11271713921465255, 0.5693381244323878, 0.4135236437601984, -0.6802629079893298, 0.5648510393775303, -0.4493682009586909, -0.46879536556519275, -0.37126296043418505, 0.9588349430886267, 0.9541772804025027, -1.2110212934479987, -0.33580654072256205], \"xaxis\": \"x4\", \"y\": [1.565884337167468, -0.45771390855734573, -0.6294981356484306, -0.31632596935640805, -0.8415387236765782, -1.0011109686364592, -1.4848300297289672, -0.4341971001119396, 0.20559798897040746, -1.0093491072636154, -0.6933918467635506, -1.4134648098598488, -0.006558075223548637, 0.42339501837302906, 1.0536102304279946, -0.22135839802994153, -0.5588442239783614, 0.8011714238548048, -0.8954504814497545, -0.8702490790991079, -0.08548128885203164, -1.7781641352509694, 2.614932210947218, -0.1040436359440887, -1.6474994438719635, 0.1131359207721515, -0.08796528933397242, 2.5258333098386765, -0.4163684847370185, 0.278459211531101, 1.348134060287212, -1.0270330164094006, -0.3082720877712286, 1.0975241245551837, -1.955871071034986, -0.6521508448632184, -0.8038019598913686, -1.501894043694504, 0.24333768279152238, 1.592031644168021, 0.949301075242087, -0.023481831597560853, -1.367738140808775, -0.08686752700857645, -0.1638917532126145, -1.272210803236027, -1.0741244297077253, -3.4659277855100084, -0.9738316689582084, 0.34373991219368616, -1.3290005300039058, 2.2827711463244196, -0.6194094358815374, 0.37335682630177425, 1.7163568406020657, 0.6634845573251583, 0.13750158166138593, 0.8869606796560566, -0.36898132575109505, -0.027969059779097097, 0.5651141298181905, -0.998635320715629, -0.520446310714804, 0.5994623035040102, 0.708852267700245, -0.8136227015450364, -1.5764748894413487, -0.8977669402845133, 0.06760506819494855, 1.8214441598957745, -0.858597184257929, 0.018599761851139936, 1.0615074581619262, -0.5945356040381385, 1.063628108280927, -0.026343395611301456, 1.6160843357286385, -2.039300163490272, 0.29197227096395584, 1.2773432038890091, 1.397931871420511, -0.19011073602518447, -0.5616139272987423, -0.33365921974022533, 0.25498039368357694, -0.5045169854402038, -0.6823106757278841, -1.0524270888935459, 1.297890380840405, 0.37222308458826087, -0.1858497690901246, -0.5969749215773195, 1.750369944761348, 1.05428825034664, -0.9561301036271894, -1.0575419797300827, -1.0516778401677838, 0.8456087654973249, 0.41348484173507144, -2.0351669878108525], \"yaxis\": \"y4\"}, {\"line\": {\"color\": \"rgba(128, 128, 128, 1.0)\", \"dash\": \"solid\", \"shape\": \"linear\", \"width\": 1.3}, \"marker\": {\"size\": 2, \"symbol\": \"circle\"}, \"mode\": \"markers\", \"name\": \"B\", \"text\": \"\", \"type\": \"scatter\", \"x\": [1.565884337167468, -0.45771390855734573, -0.6294981356484306, -0.31632596935640805, -0.8415387236765782, -1.0011109686364592, -1.4848300297289672, -0.4341971001119396, 0.20559798897040746, -1.0093491072636154, -0.6933918467635506, -1.4134648098598488, -0.006558075223548637, 0.42339501837302906, 1.0536102304279946, -0.22135839802994153, -0.5588442239783614, 0.8011714238548048, -0.8954504814497545, -0.8702490790991079, -0.08548128885203164, -1.7781641352509694, 2.614932210947218, -0.1040436359440887, -1.6474994438719635, 0.1131359207721515, -0.08796528933397242, 2.5258333098386765, -0.4163684847370185, 0.278459211531101, 1.348134060287212, -1.0270330164094006, -0.3082720877712286, 1.0975241245551837, -1.955871071034986, -0.6521508448632184, -0.8038019598913686, -1.501894043694504, 0.24333768279152238, 1.592031644168021, 0.949301075242087, -0.023481831597560853, -1.367738140808775, -0.08686752700857645, -0.1638917532126145, -1.272210803236027, -1.0741244297077253, -3.4659277855100084, -0.9738316689582084, 0.34373991219368616, -1.3290005300039058, 2.2827711463244196, -0.6194094358815374, 0.37335682630177425, 1.7163568406020657, 0.6634845573251583, 0.13750158166138593, 0.8869606796560566, -0.36898132575109505, -0.027969059779097097, 0.5651141298181905, -0.998635320715629, -0.520446310714804, 0.5994623035040102, 0.708852267700245, -0.8136227015450364, -1.5764748894413487, -0.8977669402845133, 0.06760506819494855, 1.8214441598957745, -0.858597184257929, 0.018599761851139936, 1.0615074581619262, -0.5945356040381385, 1.063628108280927, -0.026343395611301456, 1.6160843357286385, -2.039300163490272, 0.29197227096395584, 1.2773432038890091, 1.397931871420511, -0.19011073602518447, -0.5616139272987423, -0.33365921974022533, 0.25498039368357694, -0.5045169854402038, -0.6823106757278841, -1.0524270888935459, 1.297890380840405, 0.37222308458826087, -0.1858497690901246, -0.5969749215773195, 1.750369944761348, 1.05428825034664, -0.9561301036271894, -1.0575419797300827, -1.0516778401677838, 0.8456087654973249, 0.41348484173507144, -2.0351669878108525], \"xaxis\": \"x5\", \"y\": [-0.6967737301029128, 0.3955923153588364, 0.9304509208325568, -0.0744586522642926, 0.1211984333652385, 0.022291349587955523, 0.3887385590763829, -2.197471675736836, -0.18263329127329966, -0.8441573294832997, 0.25438217466521695, -0.4665323161144188, -0.28094950723014095, -0.9019303972034435, -0.8564555377646561, 0.4945430468649379, -1.76258208763336, -0.4918490163755658, 1.2494042369031118, 0.031181800975316205, -0.1083735743325583, 1.2884576364371843, -1.6037547525042675, -1.1462001137263944, 0.9548645539803001, -1.3886683835731528, 0.7532489553467764, -0.010822797014181502, -0.3577884303405244, -0.9600572198594697, -0.8487481571361674, -0.1886567268766113, 0.7651822612089191, -0.154652529142487, 0.25439107341567063, -2.8948776168564954, -0.03072124986333935, 0.22591470261515573, 1.5029917208158639, 0.15340207199391692, -0.06341970644899546, -0.778625105227336, -0.3739662082593961, 0.5826781894263957, 1.3352886097452983, 0.45955618854761954, -1.2509126022463022, -0.23781710320954533, 0.6511060012132226, 1.0599773131525834, 1.455408403447102, -0.8892299822485499, 1.6720953701987729, 0.7586822821240174, -1.1029657978608838, -0.42074668557719874, 0.4373370016959473, 1.6674354351089624, -0.5014138119319443, 0.8901371658728653, 0.5450316271810358, -0.2979814489174735, 0.00746766129420241, 0.48805137821334166, -0.15750421727680192, 0.5135060773499763, -0.6679765559004219, 0.6234621029683176, 0.6687995341297776, 0.44948993111897134, 0.22050423567227825, -0.7373287858654547, -0.024554045318524825, 1.3946803315640273, 0.5892612669063987, 0.6474314037463123, -1.3016713140423926, 1.263933201091441, -2.062701337755691, 2.525763242001359, 0.7361501938603366, -0.07660514326388362, 0.054162809365627486, -1.6422968996712803, -0.7101847406077325, 1.079380624362349, -0.602693260182104, -1.598310885910521, 0.7222361259546951, 0.87395586159824, 0.44038898813091215, -0.3631094213080669, 1.644230309460639, 1.0507482071374046, 0.9512076062512657, -0.894214278654392, 1.9233660832168906, -1.268145238676145, 0.18883957711582006, 0.851423150446762], \"yaxis\": \"y5\"}, {\"histfunc\": \"count\", \"histnorm\": \"\", \"marker\": {\"color\": \"rgba(55, 128, 191, 1.0)\", \"line\": {\"color\": \"#4D5663\", \"width\": 1.3}}, \"name\": \"B\", \"nbinsx\": 10, \"opacity\": 0.8, \"orientation\": \"v\", \"type\": \"histogram\", \"x\": [-0.6967737301029128, 0.3955923153588364, 0.9304509208325568, -0.0744586522642926, 0.1211984333652385, 0.022291349587955523, 0.3887385590763829, -2.197471675736836, -0.18263329127329966, -0.8441573294832997, 0.25438217466521695, -0.4665323161144188, -0.28094950723014095, -0.9019303972034435, -0.8564555377646561, 0.4945430468649379, -1.76258208763336, -0.4918490163755658, 1.2494042369031118, 0.031181800975316205, -0.1083735743325583, 1.2884576364371843, -1.6037547525042675, -1.1462001137263944, 0.9548645539803001, -1.3886683835731528, 0.7532489553467764, -0.010822797014181502, -0.3577884303405244, -0.9600572198594697, -0.8487481571361674, -0.1886567268766113, 0.7651822612089191, -0.154652529142487, 0.25439107341567063, -2.8948776168564954, -0.03072124986333935, 0.22591470261515573, 1.5029917208158639, 0.15340207199391692, -0.06341970644899546, -0.778625105227336, -0.3739662082593961, 0.5826781894263957, 1.3352886097452983, 0.45955618854761954, -1.2509126022463022, -0.23781710320954533, 0.6511060012132226, 1.0599773131525834, 1.455408403447102, -0.8892299822485499, 1.6720953701987729, 0.7586822821240174, -1.1029657978608838, -0.42074668557719874, 0.4373370016959473, 1.6674354351089624, -0.5014138119319443, 0.8901371658728653, 0.5450316271810358, -0.2979814489174735, 0.00746766129420241, 0.48805137821334166, -0.15750421727680192, 0.5135060773499763, -0.6679765559004219, 0.6234621029683176, 0.6687995341297776, 0.44948993111897134, 0.22050423567227825, -0.7373287858654547, -0.024554045318524825, 1.3946803315640273, 0.5892612669063987, 0.6474314037463123, -1.3016713140423926, 1.263933201091441, -2.062701337755691, 2.525763242001359, 0.7361501938603366, -0.07660514326388362, 0.054162809365627486, -1.6422968996712803, -0.7101847406077325, 1.079380624362349, -0.602693260182104, -1.598310885910521, 0.7222361259546951, 0.87395586159824, 0.44038898813091215, -0.3631094213080669, 1.644230309460639, 1.0507482071374046, 0.9512076062512657, -0.894214278654392, 1.9233660832168906, -1.268145238676145, 0.18883957711582006, 0.851423150446762], \"xaxis\": \"x6\", \"yaxis\": \"y6\"}, {\"line\": {\"color\": \"rgba(128, 128, 128, 1.0)\", \"dash\": \"solid\", \"shape\": \"linear\", \"width\": 1.3}, \"marker\": {\"size\": 2, \"symbol\": \"circle\"}, \"mode\": \"markers\", \"name\": \"B\", \"text\": \"\", \"type\": \"scatter\", \"x\": [-0.7301352317282106, 0.08779556201931825, -0.524709251031356, -0.21593021511776864, 1.3250904965255268, -1.3364697728077088, -1.469261874221005, 0.07339431139103271, -1.1098237572465623, -0.0635405043182496, 0.15544483959009103, 0.5150962954286789, 0.5002093153624056, -0.7362811308263522, -0.4381493328406711, 2.0900514328682105, 1.5894679443431854, 2.574006507457789, -0.8567000712841061, 0.3700038521859714, -0.455657509521665, 0.32023432876899793, -0.8408124542854524, 1.5300045654723207, 1.428512779986509, 0.530396350375161, 1.2519206100951428, 0.6663292387288364, -0.7730012234696285, -0.7814861900476605, 0.15539685558857158, 1.0136265203289576, 1.5342875479575093, 0.5353385807618619, -0.6404571235699517, 1.96804384588998, -1.7164176764969905, 0.10698173480426748, 0.4517264381169476, 0.36588106653529856, -0.3082592879308524, -0.4305870864675882, -0.751991013941709, -1.0458828762609829, -0.15386690845757842, -0.061784434498645506, 0.25301461745526455, 0.050810391451398144, -1.130049106084122, -0.36721191428312094, -1.3425255150576543, 1.332769166021427, -0.5499855518754465, -1.6416207551974187, 0.5478581555199442, 0.7754992829442867, 0.05228088917803463, 0.9268097942485304, 0.045646819658006446, -1.7391340994184767, -0.7053086718910987, -0.5692892996671876, 0.02510544648360247, 0.5067679358623244, 0.3195885391018388, 1.7224598614546238, 1.147959696652209, 0.004588975576922581, -0.9671271227639321, 0.5740234635784761, -0.8980901246671379, -1.5930458910826608, 0.15802777930569248, -0.9254381374688119, -0.04161554143363617, -1.8691436551710514, -1.0971553281117405, -1.2299202652865213, -1.8524050796872709, -1.230260810808082, 1.439920507932906, -0.8888478054575822, -1.9231932754945789, -0.4895990739239892, -1.870962483925207, 0.3673464736837565, 0.10697930603923508, -1.5209617058013976, -1.2832638676076424, -0.16622121795532996, -0.23890348896172903, 0.5063012008978391, -1.7923206805183614, -0.08092462174465116, -2.3094418477242318, -0.5426532984047878, 0.8189498229715165, -0.7238095388860954, 0.11732881297747685, 0.30789135902706505], \"xaxis\": \"x7\", \"y\": [-0.6967737301029128, 0.3955923153588364, 0.9304509208325568, -0.0744586522642926, 0.1211984333652385, 0.022291349587955523, 0.3887385590763829, -2.197471675736836, -0.18263329127329966, -0.8441573294832997, 0.25438217466521695, -0.4665323161144188, -0.28094950723014095, -0.9019303972034435, -0.8564555377646561, 0.4945430468649379, -1.76258208763336, -0.4918490163755658, 1.2494042369031118, 0.031181800975316205, -0.1083735743325583, 1.2884576364371843, -1.6037547525042675, -1.1462001137263944, 0.9548645539803001, -1.3886683835731528, 0.7532489553467764, -0.010822797014181502, -0.3577884303405244, -0.9600572198594697, -0.8487481571361674, -0.1886567268766113, 0.7651822612089191, -0.154652529142487, 0.25439107341567063, -2.8948776168564954, -0.03072124986333935, 0.22591470261515573, 1.5029917208158639, 0.15340207199391692, -0.06341970644899546, -0.778625105227336, -0.3739662082593961, 0.5826781894263957, 1.3352886097452983, 0.45955618854761954, -1.2509126022463022, -0.23781710320954533, 0.6511060012132226, 1.0599773131525834, 1.455408403447102, -0.8892299822485499, 1.6720953701987729, 0.7586822821240174, -1.1029657978608838, -0.42074668557719874, 0.4373370016959473, 1.6674354351089624, -0.5014138119319443, 0.8901371658728653, 0.5450316271810358, -0.2979814489174735, 0.00746766129420241, 0.48805137821334166, -0.15750421727680192, 0.5135060773499763, -0.6679765559004219, 0.6234621029683176, 0.6687995341297776, 0.44948993111897134, 0.22050423567227825, -0.7373287858654547, -0.024554045318524825, 1.3946803315640273, 0.5892612669063987, 0.6474314037463123, -1.3016713140423926, 1.263933201091441, -2.062701337755691, 2.525763242001359, 0.7361501938603366, -0.07660514326388362, 0.054162809365627486, -1.6422968996712803, -0.7101847406077325, 1.079380624362349, -0.602693260182104, -1.598310885910521, 0.7222361259546951, 0.87395586159824, 0.44038898813091215, -0.3631094213080669, 1.644230309460639, 1.0507482071374046, 0.9512076062512657, -0.894214278654392, 1.9233660832168906, -1.268145238676145, 0.18883957711582006, 0.851423150446762], \"yaxis\": \"y7\"}, {\"line\": {\"color\": \"rgba(128, 128, 128, 1.0)\", \"dash\": \"solid\", \"shape\": \"linear\", \"width\": 1.3}, \"marker\": {\"size\": 2, \"symbol\": \"circle\"}, \"mode\": \"markers\", \"name\": \"B\", \"text\": \"\", \"type\": \"scatter\", \"x\": [-1.7216172312988307, 1.8046858648116653, -1.4647291390348893, -1.5147331241316506, 1.6825890547486828, 1.8145266255975043, 1.3973500850895426, 0.12926806224259768, 1.0512562312534692, -1.089012260383378, 0.13849113722266734, -1.0165849482167328, 1.8608447935012344, 0.6146829773835975, -0.5623266638223187, -0.38879792913416616, 2.147157541766009, 2.089580369789075, -0.6849070270113347, 2.2814129932357226, 0.18349546900263083, 0.8947645448819614, 1.268409819667111, 0.8414386517865439, 1.4694813141284722, -0.9175515368153877, 1.4990926921005339, 0.8942504300601379, -0.04440976514025778, 0.4393172691963984, -0.6500106279702698, 1.3994018921447586, 2.50578036606172, -0.29954702938157635, 0.22487923849090152, 1.05805800360803, 1.2355699642843032, 1.2685503173303463, 0.5628284654241276, -0.38372302612685594, -1.184551643972065, -1.1651111349147578, -0.2161468874285778, -0.8481230977944765, -0.7149885633430976, -1.2431141346192784, -0.21244970998497795, 0.7192602729860825, 1.6646071028834495, 1.4378441469571286, 1.1527586806687484, -1.7059803294554596, 0.7118290987712215, -0.301389165741736, 0.5191048378964799, 0.2325799221827256, -0.18388027155761488, 0.4287281044896644, 0.5775018103708022, 0.007842996834937116, -0.1349810771475766, 1.0957690666341457, -1.658083265471898, 0.16011036262935488, 0.093626295000747, 0.48080651549150766, 1.2978612597856227, 1.2208179294634713, -0.4334630855456557, -0.34121310493691415, -0.5860177924410135, 1.5073536831169771, -0.1428257546349099, 0.37195007032908595, -0.4683382228777139, -0.2669611259903742, 1.4480344684104847, -2.0932530674252625, -0.8153365944967327, 0.016606208207461743, 0.3268468909876187, -0.5959794030657887, 1.4839483445597128, -0.1610153983089623, -0.7565042264746906, -0.5673293379584862, 1.0546566945183387, 1.0698727219541548, -0.11271713921465255, 0.5693381244323878, 0.4135236437601984, -0.6802629079893298, 0.5648510393775303, -0.4493682009586909, -0.46879536556519275, -0.37126296043418505, 0.9588349430886267, 0.9541772804025027, -1.2110212934479987, -0.33580654072256205], \"xaxis\": \"x8\", \"y\": [-0.6967737301029128, 0.3955923153588364, 0.9304509208325568, -0.0744586522642926, 0.1211984333652385, 0.022291349587955523, 0.3887385590763829, -2.197471675736836, -0.18263329127329966, -0.8441573294832997, 0.25438217466521695, -0.4665323161144188, -0.28094950723014095, -0.9019303972034435, -0.8564555377646561, 0.4945430468649379, -1.76258208763336, -0.4918490163755658, 1.2494042369031118, 0.031181800975316205, -0.1083735743325583, 1.2884576364371843, -1.6037547525042675, -1.1462001137263944, 0.9548645539803001, -1.3886683835731528, 0.7532489553467764, -0.010822797014181502, -0.3577884303405244, -0.9600572198594697, -0.8487481571361674, -0.1886567268766113, 0.7651822612089191, -0.154652529142487, 0.25439107341567063, -2.8948776168564954, -0.03072124986333935, 0.22591470261515573, 1.5029917208158639, 0.15340207199391692, -0.06341970644899546, -0.778625105227336, -0.3739662082593961, 0.5826781894263957, 1.3352886097452983, 0.45955618854761954, -1.2509126022463022, -0.23781710320954533, 0.6511060012132226, 1.0599773131525834, 1.455408403447102, -0.8892299822485499, 1.6720953701987729, 0.7586822821240174, -1.1029657978608838, -0.42074668557719874, 0.4373370016959473, 1.6674354351089624, -0.5014138119319443, 0.8901371658728653, 0.5450316271810358, -0.2979814489174735, 0.00746766129420241, 0.48805137821334166, -0.15750421727680192, 0.5135060773499763, -0.6679765559004219, 0.6234621029683176, 0.6687995341297776, 0.44948993111897134, 0.22050423567227825, -0.7373287858654547, -0.024554045318524825, 1.3946803315640273, 0.5892612669063987, 0.6474314037463123, -1.3016713140423926, 1.263933201091441, -2.062701337755691, 2.525763242001359, 0.7361501938603366, -0.07660514326388362, 0.054162809365627486, -1.6422968996712803, -0.7101847406077325, 1.079380624362349, -0.602693260182104, -1.598310885910521, 0.7222361259546951, 0.87395586159824, 0.44038898813091215, -0.3631094213080669, 1.644230309460639, 1.0507482071374046, 0.9512076062512657, -0.894214278654392, 1.9233660832168906, -1.268145238676145, 0.18883957711582006, 0.851423150446762], \"yaxis\": \"y8\"}, {\"line\": {\"color\": \"rgba(128, 128, 128, 1.0)\", \"dash\": \"solid\", \"shape\": \"linear\", \"width\": 1.3}, \"marker\": {\"size\": 2, \"symbol\": \"circle\"}, \"mode\": \"markers\", \"name\": \"C\", \"text\": \"\", \"type\": \"scatter\", \"x\": [1.565884337167468, -0.45771390855734573, -0.6294981356484306, -0.31632596935640805, -0.8415387236765782, -1.0011109686364592, -1.4848300297289672, -0.4341971001119396, 0.20559798897040746, -1.0093491072636154, -0.6933918467635506, -1.4134648098598488, -0.006558075223548637, 0.42339501837302906, 1.0536102304279946, -0.22135839802994153, -0.5588442239783614, 0.8011714238548048, -0.8954504814497545, -0.8702490790991079, -0.08548128885203164, -1.7781641352509694, 2.614932210947218, -0.1040436359440887, -1.6474994438719635, 0.1131359207721515, -0.08796528933397242, 2.5258333098386765, -0.4163684847370185, 0.278459211531101, 1.348134060287212, -1.0270330164094006, -0.3082720877712286, 1.0975241245551837, -1.955871071034986, -0.6521508448632184, -0.8038019598913686, -1.501894043694504, 0.24333768279152238, 1.592031644168021, 0.949301075242087, -0.023481831597560853, -1.367738140808775, -0.08686752700857645, -0.1638917532126145, -1.272210803236027, -1.0741244297077253, -3.4659277855100084, -0.9738316689582084, 0.34373991219368616, -1.3290005300039058, 2.2827711463244196, -0.6194094358815374, 0.37335682630177425, 1.7163568406020657, 0.6634845573251583, 0.13750158166138593, 0.8869606796560566, -0.36898132575109505, -0.027969059779097097, 0.5651141298181905, -0.998635320715629, -0.520446310714804, 0.5994623035040102, 0.708852267700245, -0.8136227015450364, -1.5764748894413487, -0.8977669402845133, 0.06760506819494855, 1.8214441598957745, -0.858597184257929, 0.018599761851139936, 1.0615074581619262, -0.5945356040381385, 1.063628108280927, -0.026343395611301456, 1.6160843357286385, -2.039300163490272, 0.29197227096395584, 1.2773432038890091, 1.397931871420511, -0.19011073602518447, -0.5616139272987423, -0.33365921974022533, 0.25498039368357694, -0.5045169854402038, -0.6823106757278841, -1.0524270888935459, 1.297890380840405, 0.37222308458826087, -0.1858497690901246, -0.5969749215773195, 1.750369944761348, 1.05428825034664, -0.9561301036271894, -1.0575419797300827, -1.0516778401677838, 0.8456087654973249, 0.41348484173507144, -2.0351669878108525], \"xaxis\": \"x9\", \"y\": [-0.7301352317282106, 0.08779556201931825, -0.524709251031356, -0.21593021511776864, 1.3250904965255268, -1.3364697728077088, -1.469261874221005, 0.07339431139103271, -1.1098237572465623, -0.0635405043182496, 0.15544483959009103, 0.5150962954286789, 0.5002093153624056, -0.7362811308263522, -0.4381493328406711, 2.0900514328682105, 1.5894679443431854, 2.574006507457789, -0.8567000712841061, 0.3700038521859714, -0.455657509521665, 0.32023432876899793, -0.8408124542854524, 1.5300045654723207, 1.428512779986509, 0.530396350375161, 1.2519206100951428, 0.6663292387288364, -0.7730012234696285, -0.7814861900476605, 0.15539685558857158, 1.0136265203289576, 1.5342875479575093, 0.5353385807618619, -0.6404571235699517, 1.96804384588998, -1.7164176764969905, 0.10698173480426748, 0.4517264381169476, 0.36588106653529856, -0.3082592879308524, -0.4305870864675882, -0.751991013941709, -1.0458828762609829, -0.15386690845757842, -0.061784434498645506, 0.25301461745526455, 0.050810391451398144, -1.130049106084122, -0.36721191428312094, -1.3425255150576543, 1.332769166021427, -0.5499855518754465, -1.6416207551974187, 0.5478581555199442, 0.7754992829442867, 0.05228088917803463, 0.9268097942485304, 0.045646819658006446, -1.7391340994184767, -0.7053086718910987, -0.5692892996671876, 0.02510544648360247, 0.5067679358623244, 0.3195885391018388, 1.7224598614546238, 1.147959696652209, 0.004588975576922581, -0.9671271227639321, 0.5740234635784761, -0.8980901246671379, -1.5930458910826608, 0.15802777930569248, -0.9254381374688119, -0.04161554143363617, -1.8691436551710514, -1.0971553281117405, -1.2299202652865213, -1.8524050796872709, -1.230260810808082, 1.439920507932906, -0.8888478054575822, -1.9231932754945789, -0.4895990739239892, -1.870962483925207, 0.3673464736837565, 0.10697930603923508, -1.5209617058013976, -1.2832638676076424, -0.16622121795532996, -0.23890348896172903, 0.5063012008978391, -1.7923206805183614, -0.08092462174465116, -2.3094418477242318, -0.5426532984047878, 0.8189498229715165, -0.7238095388860954, 0.11732881297747685, 0.30789135902706505], \"yaxis\": \"y9\"}, {\"line\": {\"color\": \"rgba(128, 128, 128, 1.0)\", \"dash\": \"solid\", \"shape\": \"linear\", \"width\": 1.3}, \"marker\": {\"size\": 2, \"symbol\": \"circle\"}, \"mode\": \"markers\", \"name\": \"C\", \"text\": \"\", \"type\": \"scatter\", \"x\": [-0.6967737301029128, 0.3955923153588364, 0.9304509208325568, -0.0744586522642926, 0.1211984333652385, 0.022291349587955523, 0.3887385590763829, -2.197471675736836, -0.18263329127329966, -0.8441573294832997, 0.25438217466521695, -0.4665323161144188, -0.28094950723014095, -0.9019303972034435, -0.8564555377646561, 0.4945430468649379, -1.76258208763336, -0.4918490163755658, 1.2494042369031118, 0.031181800975316205, -0.1083735743325583, 1.2884576364371843, -1.6037547525042675, -1.1462001137263944, 0.9548645539803001, -1.3886683835731528, 0.7532489553467764, -0.010822797014181502, -0.3577884303405244, -0.9600572198594697, -0.8487481571361674, -0.1886567268766113, 0.7651822612089191, -0.154652529142487, 0.25439107341567063, -2.8948776168564954, -0.03072124986333935, 0.22591470261515573, 1.5029917208158639, 0.15340207199391692, -0.06341970644899546, -0.778625105227336, -0.3739662082593961, 0.5826781894263957, 1.3352886097452983, 0.45955618854761954, -1.2509126022463022, -0.23781710320954533, 0.6511060012132226, 1.0599773131525834, 1.455408403447102, -0.8892299822485499, 1.6720953701987729, 0.7586822821240174, -1.1029657978608838, -0.42074668557719874, 0.4373370016959473, 1.6674354351089624, -0.5014138119319443, 0.8901371658728653, 0.5450316271810358, -0.2979814489174735, 0.00746766129420241, 0.48805137821334166, -0.15750421727680192, 0.5135060773499763, -0.6679765559004219, 0.6234621029683176, 0.6687995341297776, 0.44948993111897134, 0.22050423567227825, -0.7373287858654547, -0.024554045318524825, 1.3946803315640273, 0.5892612669063987, 0.6474314037463123, -1.3016713140423926, 1.263933201091441, -2.062701337755691, 2.525763242001359, 0.7361501938603366, -0.07660514326388362, 0.054162809365627486, -1.6422968996712803, -0.7101847406077325, 1.079380624362349, -0.602693260182104, -1.598310885910521, 0.7222361259546951, 0.87395586159824, 0.44038898813091215, -0.3631094213080669, 1.644230309460639, 1.0507482071374046, 0.9512076062512657, -0.894214278654392, 1.9233660832168906, -1.268145238676145, 0.18883957711582006, 0.851423150446762], \"xaxis\": \"x10\", \"y\": [-0.7301352317282106, 0.08779556201931825, -0.524709251031356, -0.21593021511776864, 1.3250904965255268, -1.3364697728077088, -1.469261874221005, 0.07339431139103271, -1.1098237572465623, -0.0635405043182496, 0.15544483959009103, 0.5150962954286789, 0.5002093153624056, -0.7362811308263522, -0.4381493328406711, 2.0900514328682105, 1.5894679443431854, 2.574006507457789, -0.8567000712841061, 0.3700038521859714, -0.455657509521665, 0.32023432876899793, -0.8408124542854524, 1.5300045654723207, 1.428512779986509, 0.530396350375161, 1.2519206100951428, 0.6663292387288364, -0.7730012234696285, -0.7814861900476605, 0.15539685558857158, 1.0136265203289576, 1.5342875479575093, 0.5353385807618619, -0.6404571235699517, 1.96804384588998, -1.7164176764969905, 0.10698173480426748, 0.4517264381169476, 0.36588106653529856, -0.3082592879308524, -0.4305870864675882, -0.751991013941709, -1.0458828762609829, -0.15386690845757842, -0.061784434498645506, 0.25301461745526455, 0.050810391451398144, -1.130049106084122, -0.36721191428312094, -1.3425255150576543, 1.332769166021427, -0.5499855518754465, -1.6416207551974187, 0.5478581555199442, 0.7754992829442867, 0.05228088917803463, 0.9268097942485304, 0.045646819658006446, -1.7391340994184767, -0.7053086718910987, -0.5692892996671876, 0.02510544648360247, 0.5067679358623244, 0.3195885391018388, 1.7224598614546238, 1.147959696652209, 0.004588975576922581, -0.9671271227639321, 0.5740234635784761, -0.8980901246671379, -1.5930458910826608, 0.15802777930569248, -0.9254381374688119, -0.04161554143363617, -1.8691436551710514, -1.0971553281117405, -1.2299202652865213, -1.8524050796872709, -1.230260810808082, 1.439920507932906, -0.8888478054575822, -1.9231932754945789, -0.4895990739239892, -1.870962483925207, 0.3673464736837565, 0.10697930603923508, -1.5209617058013976, -1.2832638676076424, -0.16622121795532996, -0.23890348896172903, 0.5063012008978391, -1.7923206805183614, -0.08092462174465116, -2.3094418477242318, -0.5426532984047878, 0.8189498229715165, -0.7238095388860954, 0.11732881297747685, 0.30789135902706505], \"yaxis\": \"y10\"}, {\"histfunc\": \"count\", \"histnorm\": \"\", \"marker\": {\"color\": \"rgba(50, 171, 96, 1.0)\", \"line\": {\"color\": \"#4D5663\", \"width\": 1.3}}, \"name\": \"C\", \"nbinsx\": 10, \"opacity\": 0.8, \"orientation\": \"v\", \"type\": \"histogram\", \"x\": [-0.7301352317282106, 0.08779556201931825, -0.524709251031356, -0.21593021511776864, 1.3250904965255268, -1.3364697728077088, -1.469261874221005, 0.07339431139103271, -1.1098237572465623, -0.0635405043182496, 0.15544483959009103, 0.5150962954286789, 0.5002093153624056, -0.7362811308263522, -0.4381493328406711, 2.0900514328682105, 1.5894679443431854, 2.574006507457789, -0.8567000712841061, 0.3700038521859714, -0.455657509521665, 0.32023432876899793, -0.8408124542854524, 1.5300045654723207, 1.428512779986509, 0.530396350375161, 1.2519206100951428, 0.6663292387288364, -0.7730012234696285, -0.7814861900476605, 0.15539685558857158, 1.0136265203289576, 1.5342875479575093, 0.5353385807618619, -0.6404571235699517, 1.96804384588998, -1.7164176764969905, 0.10698173480426748, 0.4517264381169476, 0.36588106653529856, -0.3082592879308524, -0.4305870864675882, -0.751991013941709, -1.0458828762609829, -0.15386690845757842, -0.061784434498645506, 0.25301461745526455, 0.050810391451398144, -1.130049106084122, -0.36721191428312094, -1.3425255150576543, 1.332769166021427, -0.5499855518754465, -1.6416207551974187, 0.5478581555199442, 0.7754992829442867, 0.05228088917803463, 0.9268097942485304, 0.045646819658006446, -1.7391340994184767, -0.7053086718910987, -0.5692892996671876, 0.02510544648360247, 0.5067679358623244, 0.3195885391018388, 1.7224598614546238, 1.147959696652209, 0.004588975576922581, -0.9671271227639321, 0.5740234635784761, -0.8980901246671379, -1.5930458910826608, 0.15802777930569248, -0.9254381374688119, -0.04161554143363617, -1.8691436551710514, -1.0971553281117405, -1.2299202652865213, -1.8524050796872709, -1.230260810808082, 1.439920507932906, -0.8888478054575822, -1.9231932754945789, -0.4895990739239892, -1.870962483925207, 0.3673464736837565, 0.10697930603923508, -1.5209617058013976, -1.2832638676076424, -0.16622121795532996, -0.23890348896172903, 0.5063012008978391, -1.7923206805183614, -0.08092462174465116, -2.3094418477242318, -0.5426532984047878, 0.8189498229715165, -0.7238095388860954, 0.11732881297747685, 0.30789135902706505], \"xaxis\": \"x11\", \"yaxis\": \"y11\"}, {\"line\": {\"color\": \"rgba(128, 128, 128, 1.0)\", \"dash\": \"solid\", \"shape\": \"linear\", \"width\": 1.3}, \"marker\": {\"size\": 2, \"symbol\": \"circle\"}, \"mode\": \"markers\", \"name\": \"C\", \"text\": \"\", \"type\": \"scatter\", \"x\": [-1.7216172312988307, 1.8046858648116653, -1.4647291390348893, -1.5147331241316506, 1.6825890547486828, 1.8145266255975043, 1.3973500850895426, 0.12926806224259768, 1.0512562312534692, -1.089012260383378, 0.13849113722266734, -1.0165849482167328, 1.8608447935012344, 0.6146829773835975, -0.5623266638223187, -0.38879792913416616, 2.147157541766009, 2.089580369789075, -0.6849070270113347, 2.2814129932357226, 0.18349546900263083, 0.8947645448819614, 1.268409819667111, 0.8414386517865439, 1.4694813141284722, -0.9175515368153877, 1.4990926921005339, 0.8942504300601379, -0.04440976514025778, 0.4393172691963984, -0.6500106279702698, 1.3994018921447586, 2.50578036606172, -0.29954702938157635, 0.22487923849090152, 1.05805800360803, 1.2355699642843032, 1.2685503173303463, 0.5628284654241276, -0.38372302612685594, -1.184551643972065, -1.1651111349147578, -0.2161468874285778, -0.8481230977944765, -0.7149885633430976, -1.2431141346192784, -0.21244970998497795, 0.7192602729860825, 1.6646071028834495, 1.4378441469571286, 1.1527586806687484, -1.7059803294554596, 0.7118290987712215, -0.301389165741736, 0.5191048378964799, 0.2325799221827256, -0.18388027155761488, 0.4287281044896644, 0.5775018103708022, 0.007842996834937116, -0.1349810771475766, 1.0957690666341457, -1.658083265471898, 0.16011036262935488, 0.093626295000747, 0.48080651549150766, 1.2978612597856227, 1.2208179294634713, -0.4334630855456557, -0.34121310493691415, -0.5860177924410135, 1.5073536831169771, -0.1428257546349099, 0.37195007032908595, -0.4683382228777139, -0.2669611259903742, 1.4480344684104847, -2.0932530674252625, -0.8153365944967327, 0.016606208207461743, 0.3268468909876187, -0.5959794030657887, 1.4839483445597128, -0.1610153983089623, -0.7565042264746906, -0.5673293379584862, 1.0546566945183387, 1.0698727219541548, -0.11271713921465255, 0.5693381244323878, 0.4135236437601984, -0.6802629079893298, 0.5648510393775303, -0.4493682009586909, -0.46879536556519275, -0.37126296043418505, 0.9588349430886267, 0.9541772804025027, -1.2110212934479987, -0.33580654072256205], \"xaxis\": \"x12\", \"y\": [-0.7301352317282106, 0.08779556201931825, -0.524709251031356, -0.21593021511776864, 1.3250904965255268, -1.3364697728077088, -1.469261874221005, 0.07339431139103271, -1.1098237572465623, -0.0635405043182496, 0.15544483959009103, 0.5150962954286789, 0.5002093153624056, -0.7362811308263522, -0.4381493328406711, 2.0900514328682105, 1.5894679443431854, 2.574006507457789, -0.8567000712841061, 0.3700038521859714, -0.455657509521665, 0.32023432876899793, -0.8408124542854524, 1.5300045654723207, 1.428512779986509, 0.530396350375161, 1.2519206100951428, 0.6663292387288364, -0.7730012234696285, -0.7814861900476605, 0.15539685558857158, 1.0136265203289576, 1.5342875479575093, 0.5353385807618619, -0.6404571235699517, 1.96804384588998, -1.7164176764969905, 0.10698173480426748, 0.4517264381169476, 0.36588106653529856, -0.3082592879308524, -0.4305870864675882, -0.751991013941709, -1.0458828762609829, -0.15386690845757842, -0.061784434498645506, 0.25301461745526455, 0.050810391451398144, -1.130049106084122, -0.36721191428312094, -1.3425255150576543, 1.332769166021427, -0.5499855518754465, -1.6416207551974187, 0.5478581555199442, 0.7754992829442867, 0.05228088917803463, 0.9268097942485304, 0.045646819658006446, -1.7391340994184767, -0.7053086718910987, -0.5692892996671876, 0.02510544648360247, 0.5067679358623244, 0.3195885391018388, 1.7224598614546238, 1.147959696652209, 0.004588975576922581, -0.9671271227639321, 0.5740234635784761, -0.8980901246671379, -1.5930458910826608, 0.15802777930569248, -0.9254381374688119, -0.04161554143363617, -1.8691436551710514, -1.0971553281117405, -1.2299202652865213, -1.8524050796872709, -1.230260810808082, 1.439920507932906, -0.8888478054575822, -1.9231932754945789, -0.4895990739239892, -1.870962483925207, 0.3673464736837565, 0.10697930603923508, -1.5209617058013976, -1.2832638676076424, -0.16622121795532996, -0.23890348896172903, 0.5063012008978391, -1.7923206805183614, -0.08092462174465116, -2.3094418477242318, -0.5426532984047878, 0.8189498229715165, -0.7238095388860954, 0.11732881297747685, 0.30789135902706505], \"yaxis\": \"y12\"}, {\"line\": {\"color\": \"rgba(128, 128, 128, 1.0)\", \"dash\": \"solid\", \"shape\": \"linear\", \"width\": 1.3}, \"marker\": {\"size\": 2, \"symbol\": \"circle\"}, \"mode\": \"markers\", \"name\": \"D\", \"text\": \"\", \"type\": \"scatter\", \"x\": [1.565884337167468, -0.45771390855734573, -0.6294981356484306, -0.31632596935640805, -0.8415387236765782, -1.0011109686364592, -1.4848300297289672, -0.4341971001119396, 0.20559798897040746, -1.0093491072636154, -0.6933918467635506, -1.4134648098598488, -0.006558075223548637, 0.42339501837302906, 1.0536102304279946, -0.22135839802994153, -0.5588442239783614, 0.8011714238548048, -0.8954504814497545, -0.8702490790991079, -0.08548128885203164, -1.7781641352509694, 2.614932210947218, -0.1040436359440887, -1.6474994438719635, 0.1131359207721515, -0.08796528933397242, 2.5258333098386765, -0.4163684847370185, 0.278459211531101, 1.348134060287212, -1.0270330164094006, -0.3082720877712286, 1.0975241245551837, -1.955871071034986, -0.6521508448632184, -0.8038019598913686, -1.501894043694504, 0.24333768279152238, 1.592031644168021, 0.949301075242087, -0.023481831597560853, -1.367738140808775, -0.08686752700857645, -0.1638917532126145, -1.272210803236027, -1.0741244297077253, -3.4659277855100084, -0.9738316689582084, 0.34373991219368616, -1.3290005300039058, 2.2827711463244196, -0.6194094358815374, 0.37335682630177425, 1.7163568406020657, 0.6634845573251583, 0.13750158166138593, 0.8869606796560566, -0.36898132575109505, -0.027969059779097097, 0.5651141298181905, -0.998635320715629, -0.520446310714804, 0.5994623035040102, 0.708852267700245, -0.8136227015450364, -1.5764748894413487, -0.8977669402845133, 0.06760506819494855, 1.8214441598957745, -0.858597184257929, 0.018599761851139936, 1.0615074581619262, -0.5945356040381385, 1.063628108280927, -0.026343395611301456, 1.6160843357286385, -2.039300163490272, 0.29197227096395584, 1.2773432038890091, 1.397931871420511, -0.19011073602518447, -0.5616139272987423, -0.33365921974022533, 0.25498039368357694, -0.5045169854402038, -0.6823106757278841, -1.0524270888935459, 1.297890380840405, 0.37222308458826087, -0.1858497690901246, -0.5969749215773195, 1.750369944761348, 1.05428825034664, -0.9561301036271894, -1.0575419797300827, -1.0516778401677838, 0.8456087654973249, 0.41348484173507144, -2.0351669878108525], \"xaxis\": \"x13\", \"y\": [-1.7216172312988307, 1.8046858648116653, -1.4647291390348893, -1.5147331241316506, 1.6825890547486828, 1.8145266255975043, 1.3973500850895426, 0.12926806224259768, 1.0512562312534692, -1.089012260383378, 0.13849113722266734, -1.0165849482167328, 1.8608447935012344, 0.6146829773835975, -0.5623266638223187, -0.38879792913416616, 2.147157541766009, 2.089580369789075, -0.6849070270113347, 2.2814129932357226, 0.18349546900263083, 0.8947645448819614, 1.268409819667111, 0.8414386517865439, 1.4694813141284722, -0.9175515368153877, 1.4990926921005339, 0.8942504300601379, -0.04440976514025778, 0.4393172691963984, -0.6500106279702698, 1.3994018921447586, 2.50578036606172, -0.29954702938157635, 0.22487923849090152, 1.05805800360803, 1.2355699642843032, 1.2685503173303463, 0.5628284654241276, -0.38372302612685594, -1.184551643972065, -1.1651111349147578, -0.2161468874285778, -0.8481230977944765, -0.7149885633430976, -1.2431141346192784, -0.21244970998497795, 0.7192602729860825, 1.6646071028834495, 1.4378441469571286, 1.1527586806687484, -1.7059803294554596, 0.7118290987712215, -0.301389165741736, 0.5191048378964799, 0.2325799221827256, -0.18388027155761488, 0.4287281044896644, 0.5775018103708022, 0.007842996834937116, -0.1349810771475766, 1.0957690666341457, -1.658083265471898, 0.16011036262935488, 0.093626295000747, 0.48080651549150766, 1.2978612597856227, 1.2208179294634713, -0.4334630855456557, -0.34121310493691415, -0.5860177924410135, 1.5073536831169771, -0.1428257546349099, 0.37195007032908595, -0.4683382228777139, -0.2669611259903742, 1.4480344684104847, -2.0932530674252625, -0.8153365944967327, 0.016606208207461743, 0.3268468909876187, -0.5959794030657887, 1.4839483445597128, -0.1610153983089623, -0.7565042264746906, -0.5673293379584862, 1.0546566945183387, 1.0698727219541548, -0.11271713921465255, 0.5693381244323878, 0.4135236437601984, -0.6802629079893298, 0.5648510393775303, -0.4493682009586909, -0.46879536556519275, -0.37126296043418505, 0.9588349430886267, 0.9541772804025027, -1.2110212934479987, -0.33580654072256205], \"yaxis\": \"y13\"}, {\"line\": {\"color\": \"rgba(128, 128, 128, 1.0)\", \"dash\": \"solid\", \"shape\": \"linear\", \"width\": 1.3}, \"marker\": {\"size\": 2, \"symbol\": \"circle\"}, \"mode\": \"markers\", \"name\": \"D\", \"text\": \"\", \"type\": \"scatter\", \"x\": [-0.6967737301029128, 0.3955923153588364, 0.9304509208325568, -0.0744586522642926, 0.1211984333652385, 0.022291349587955523, 0.3887385590763829, -2.197471675736836, -0.18263329127329966, -0.8441573294832997, 0.25438217466521695, -0.4665323161144188, -0.28094950723014095, -0.9019303972034435, -0.8564555377646561, 0.4945430468649379, -1.76258208763336, -0.4918490163755658, 1.2494042369031118, 0.031181800975316205, -0.1083735743325583, 1.2884576364371843, -1.6037547525042675, -1.1462001137263944, 0.9548645539803001, -1.3886683835731528, 0.7532489553467764, -0.010822797014181502, -0.3577884303405244, -0.9600572198594697, -0.8487481571361674, -0.1886567268766113, 0.7651822612089191, -0.154652529142487, 0.25439107341567063, -2.8948776168564954, -0.03072124986333935, 0.22591470261515573, 1.5029917208158639, 0.15340207199391692, -0.06341970644899546, -0.778625105227336, -0.3739662082593961, 0.5826781894263957, 1.3352886097452983, 0.45955618854761954, -1.2509126022463022, -0.23781710320954533, 0.6511060012132226, 1.0599773131525834, 1.455408403447102, -0.8892299822485499, 1.6720953701987729, 0.7586822821240174, -1.1029657978608838, -0.42074668557719874, 0.4373370016959473, 1.6674354351089624, -0.5014138119319443, 0.8901371658728653, 0.5450316271810358, -0.2979814489174735, 0.00746766129420241, 0.48805137821334166, -0.15750421727680192, 0.5135060773499763, -0.6679765559004219, 0.6234621029683176, 0.6687995341297776, 0.44948993111897134, 0.22050423567227825, -0.7373287858654547, -0.024554045318524825, 1.3946803315640273, 0.5892612669063987, 0.6474314037463123, -1.3016713140423926, 1.263933201091441, -2.062701337755691, 2.525763242001359, 0.7361501938603366, -0.07660514326388362, 0.054162809365627486, -1.6422968996712803, -0.7101847406077325, 1.079380624362349, -0.602693260182104, -1.598310885910521, 0.7222361259546951, 0.87395586159824, 0.44038898813091215, -0.3631094213080669, 1.644230309460639, 1.0507482071374046, 0.9512076062512657, -0.894214278654392, 1.9233660832168906, -1.268145238676145, 0.18883957711582006, 0.851423150446762], \"xaxis\": \"x14\", \"y\": [-1.7216172312988307, 1.8046858648116653, -1.4647291390348893, -1.5147331241316506, 1.6825890547486828, 1.8145266255975043, 1.3973500850895426, 0.12926806224259768, 1.0512562312534692, -1.089012260383378, 0.13849113722266734, -1.0165849482167328, 1.8608447935012344, 0.6146829773835975, -0.5623266638223187, -0.38879792913416616, 2.147157541766009, 2.089580369789075, -0.6849070270113347, 2.2814129932357226, 0.18349546900263083, 0.8947645448819614, 1.268409819667111, 0.8414386517865439, 1.4694813141284722, -0.9175515368153877, 1.4990926921005339, 0.8942504300601379, -0.04440976514025778, 0.4393172691963984, -0.6500106279702698, 1.3994018921447586, 2.50578036606172, -0.29954702938157635, 0.22487923849090152, 1.05805800360803, 1.2355699642843032, 1.2685503173303463, 0.5628284654241276, -0.38372302612685594, -1.184551643972065, -1.1651111349147578, -0.2161468874285778, -0.8481230977944765, -0.7149885633430976, -1.2431141346192784, -0.21244970998497795, 0.7192602729860825, 1.6646071028834495, 1.4378441469571286, 1.1527586806687484, -1.7059803294554596, 0.7118290987712215, -0.301389165741736, 0.5191048378964799, 0.2325799221827256, -0.18388027155761488, 0.4287281044896644, 0.5775018103708022, 0.007842996834937116, -0.1349810771475766, 1.0957690666341457, -1.658083265471898, 0.16011036262935488, 0.093626295000747, 0.48080651549150766, 1.2978612597856227, 1.2208179294634713, -0.4334630855456557, -0.34121310493691415, -0.5860177924410135, 1.5073536831169771, -0.1428257546349099, 0.37195007032908595, -0.4683382228777139, -0.2669611259903742, 1.4480344684104847, -2.0932530674252625, -0.8153365944967327, 0.016606208207461743, 0.3268468909876187, -0.5959794030657887, 1.4839483445597128, -0.1610153983089623, -0.7565042264746906, -0.5673293379584862, 1.0546566945183387, 1.0698727219541548, -0.11271713921465255, 0.5693381244323878, 0.4135236437601984, -0.6802629079893298, 0.5648510393775303, -0.4493682009586909, -0.46879536556519275, -0.37126296043418505, 0.9588349430886267, 0.9541772804025027, -1.2110212934479987, -0.33580654072256205], \"yaxis\": \"y14\"}, {\"line\": {\"color\": \"rgba(128, 128, 128, 1.0)\", \"dash\": \"solid\", \"shape\": \"linear\", \"width\": 1.3}, \"marker\": {\"size\": 2, \"symbol\": \"circle\"}, \"mode\": \"markers\", \"name\": \"D\", \"text\": \"\", \"type\": \"scatter\", \"x\": [-0.7301352317282106, 0.08779556201931825, -0.524709251031356, -0.21593021511776864, 1.3250904965255268, -1.3364697728077088, -1.469261874221005, 0.07339431139103271, -1.1098237572465623, -0.0635405043182496, 0.15544483959009103, 0.5150962954286789, 0.5002093153624056, -0.7362811308263522, -0.4381493328406711, 2.0900514328682105, 1.5894679443431854, 2.574006507457789, -0.8567000712841061, 0.3700038521859714, -0.455657509521665, 0.32023432876899793, -0.8408124542854524, 1.5300045654723207, 1.428512779986509, 0.530396350375161, 1.2519206100951428, 0.6663292387288364, -0.7730012234696285, -0.7814861900476605, 0.15539685558857158, 1.0136265203289576, 1.5342875479575093, 0.5353385807618619, -0.6404571235699517, 1.96804384588998, -1.7164176764969905, 0.10698173480426748, 0.4517264381169476, 0.36588106653529856, -0.3082592879308524, -0.4305870864675882, -0.751991013941709, -1.0458828762609829, -0.15386690845757842, -0.061784434498645506, 0.25301461745526455, 0.050810391451398144, -1.130049106084122, -0.36721191428312094, -1.3425255150576543, 1.332769166021427, -0.5499855518754465, -1.6416207551974187, 0.5478581555199442, 0.7754992829442867, 0.05228088917803463, 0.9268097942485304, 0.045646819658006446, -1.7391340994184767, -0.7053086718910987, -0.5692892996671876, 0.02510544648360247, 0.5067679358623244, 0.3195885391018388, 1.7224598614546238, 1.147959696652209, 0.004588975576922581, -0.9671271227639321, 0.5740234635784761, -0.8980901246671379, -1.5930458910826608, 0.15802777930569248, -0.9254381374688119, -0.04161554143363617, -1.8691436551710514, -1.0971553281117405, -1.2299202652865213, -1.8524050796872709, -1.230260810808082, 1.439920507932906, -0.8888478054575822, -1.9231932754945789, -0.4895990739239892, -1.870962483925207, 0.3673464736837565, 0.10697930603923508, -1.5209617058013976, -1.2832638676076424, -0.16622121795532996, -0.23890348896172903, 0.5063012008978391, -1.7923206805183614, -0.08092462174465116, -2.3094418477242318, -0.5426532984047878, 0.8189498229715165, -0.7238095388860954, 0.11732881297747685, 0.30789135902706505], \"xaxis\": \"x15\", \"y\": [-1.7216172312988307, 1.8046858648116653, -1.4647291390348893, -1.5147331241316506, 1.6825890547486828, 1.8145266255975043, 1.3973500850895426, 0.12926806224259768, 1.0512562312534692, -1.089012260383378, 0.13849113722266734, -1.0165849482167328, 1.8608447935012344, 0.6146829773835975, -0.5623266638223187, -0.38879792913416616, 2.147157541766009, 2.089580369789075, -0.6849070270113347, 2.2814129932357226, 0.18349546900263083, 0.8947645448819614, 1.268409819667111, 0.8414386517865439, 1.4694813141284722, -0.9175515368153877, 1.4990926921005339, 0.8942504300601379, -0.04440976514025778, 0.4393172691963984, -0.6500106279702698, 1.3994018921447586, 2.50578036606172, -0.29954702938157635, 0.22487923849090152, 1.05805800360803, 1.2355699642843032, 1.2685503173303463, 0.5628284654241276, -0.38372302612685594, -1.184551643972065, -1.1651111349147578, -0.2161468874285778, -0.8481230977944765, -0.7149885633430976, -1.2431141346192784, -0.21244970998497795, 0.7192602729860825, 1.6646071028834495, 1.4378441469571286, 1.1527586806687484, -1.7059803294554596, 0.7118290987712215, -0.301389165741736, 0.5191048378964799, 0.2325799221827256, -0.18388027155761488, 0.4287281044896644, 0.5775018103708022, 0.007842996834937116, -0.1349810771475766, 1.0957690666341457, -1.658083265471898, 0.16011036262935488, 0.093626295000747, 0.48080651549150766, 1.2978612597856227, 1.2208179294634713, -0.4334630855456557, -0.34121310493691415, -0.5860177924410135, 1.5073536831169771, -0.1428257546349099, 0.37195007032908595, -0.4683382228777139, -0.2669611259903742, 1.4480344684104847, -2.0932530674252625, -0.8153365944967327, 0.016606208207461743, 0.3268468909876187, -0.5959794030657887, 1.4839483445597128, -0.1610153983089623, -0.7565042264746906, -0.5673293379584862, 1.0546566945183387, 1.0698727219541548, -0.11271713921465255, 0.5693381244323878, 0.4135236437601984, -0.6802629079893298, 0.5648510393775303, -0.4493682009586909, -0.46879536556519275, -0.37126296043418505, 0.9588349430886267, 0.9541772804025027, -1.2110212934479987, -0.33580654072256205], \"yaxis\": \"y15\"}, {\"histfunc\": \"count\", \"histnorm\": \"\", \"marker\": {\"color\": \"rgba(128, 0, 128, 1.0)\", \"line\": {\"color\": \"#4D5663\", \"width\": 1.3}}, \"name\": \"D\", \"nbinsx\": 10, \"opacity\": 0.8, \"orientation\": \"v\", \"type\": \"histogram\", \"x\": [-1.7216172312988307, 1.8046858648116653, -1.4647291390348893, -1.5147331241316506, 1.6825890547486828, 1.8145266255975043, 1.3973500850895426, 0.12926806224259768, 1.0512562312534692, -1.089012260383378, 0.13849113722266734, -1.0165849482167328, 1.8608447935012344, 0.6146829773835975, -0.5623266638223187, -0.38879792913416616, 2.147157541766009, 2.089580369789075, -0.6849070270113347, 2.2814129932357226, 0.18349546900263083, 0.8947645448819614, 1.268409819667111, 0.8414386517865439, 1.4694813141284722, -0.9175515368153877, 1.4990926921005339, 0.8942504300601379, -0.04440976514025778, 0.4393172691963984, -0.6500106279702698, 1.3994018921447586, 2.50578036606172, -0.29954702938157635, 0.22487923849090152, 1.05805800360803, 1.2355699642843032, 1.2685503173303463, 0.5628284654241276, -0.38372302612685594, -1.184551643972065, -1.1651111349147578, -0.2161468874285778, -0.8481230977944765, -0.7149885633430976, -1.2431141346192784, -0.21244970998497795, 0.7192602729860825, 1.6646071028834495, 1.4378441469571286, 1.1527586806687484, -1.7059803294554596, 0.7118290987712215, -0.301389165741736, 0.5191048378964799, 0.2325799221827256, -0.18388027155761488, 0.4287281044896644, 0.5775018103708022, 0.007842996834937116, -0.1349810771475766, 1.0957690666341457, -1.658083265471898, 0.16011036262935488, 0.093626295000747, 0.48080651549150766, 1.2978612597856227, 1.2208179294634713, -0.4334630855456557, -0.34121310493691415, -0.5860177924410135, 1.5073536831169771, -0.1428257546349099, 0.37195007032908595, -0.4683382228777139, -0.2669611259903742, 1.4480344684104847, -2.0932530674252625, -0.8153365944967327, 0.016606208207461743, 0.3268468909876187, -0.5959794030657887, 1.4839483445597128, -0.1610153983089623, -0.7565042264746906, -0.5673293379584862, 1.0546566945183387, 1.0698727219541548, -0.11271713921465255, 0.5693381244323878, 0.4135236437601984, -0.6802629079893298, 0.5648510393775303, -0.4493682009586909, -0.46879536556519275, -0.37126296043418505, 0.9588349430886267, 0.9541772804025027, -1.2110212934479987, -0.33580654072256205], \"xaxis\": \"x16\", \"yaxis\": \"y16\"}],\n",
       "                        {\"bargap\": 0.02, \"legend\": {\"bgcolor\": \"#F5F6F9\", \"font\": {\"color\": \"#4D5663\"}}, \"paper_bgcolor\": \"#F5F6F9\", \"plot_bgcolor\": \"#F5F6F9\", \"showlegend\": false, \"template\": {\"data\": {\"bar\": [{\"error_x\": {\"color\": \"#2a3f5f\"}, \"error_y\": {\"color\": \"#2a3f5f\"}, \"marker\": {\"line\": {\"color\": \"#E5ECF6\", \"width\": 0.5}}, \"type\": \"bar\"}], \"barpolar\": [{\"marker\": {\"line\": {\"color\": \"#E5ECF6\", \"width\": 0.5}}, \"type\": \"barpolar\"}], \"carpet\": [{\"aaxis\": {\"endlinecolor\": \"#2a3f5f\", \"gridcolor\": \"white\", \"linecolor\": \"white\", \"minorgridcolor\": \"white\", \"startlinecolor\": \"#2a3f5f\"}, \"baxis\": {\"endlinecolor\": \"#2a3f5f\", \"gridcolor\": \"white\", \"linecolor\": \"white\", \"minorgridcolor\": \"white\", \"startlinecolor\": \"#2a3f5f\"}, \"type\": \"carpet\"}], \"choropleth\": [{\"colorbar\": {\"outlinewidth\": 0, \"ticks\": \"\"}, \"type\": \"choropleth\"}], \"contour\": [{\"colorbar\": {\"outlinewidth\": 0, \"ticks\": \"\"}, \"colorscale\": [[0.0, \"#0d0887\"], [0.1111111111111111, \"#46039f\"], [0.2222222222222222, \"#7201a8\"], [0.3333333333333333, \"#9c179e\"], [0.4444444444444444, \"#bd3786\"], [0.5555555555555556, \"#d8576b\"], [0.6666666666666666, \"#ed7953\"], [0.7777777777777778, \"#fb9f3a\"], [0.8888888888888888, \"#fdca26\"], [1.0, \"#f0f921\"]], \"type\": \"contour\"}], \"contourcarpet\": [{\"colorbar\": {\"outlinewidth\": 0, \"ticks\": \"\"}, \"type\": \"contourcarpet\"}], \"heatmap\": [{\"colorbar\": {\"outlinewidth\": 0, \"ticks\": \"\"}, \"colorscale\": [[0.0, \"#0d0887\"], [0.1111111111111111, \"#46039f\"], [0.2222222222222222, \"#7201a8\"], [0.3333333333333333, \"#9c179e\"], [0.4444444444444444, \"#bd3786\"], [0.5555555555555556, \"#d8576b\"], [0.6666666666666666, \"#ed7953\"], [0.7777777777777778, \"#fb9f3a\"], [0.8888888888888888, \"#fdca26\"], [1.0, \"#f0f921\"]], \"type\": \"heatmap\"}], \"heatmapgl\": [{\"colorbar\": {\"outlinewidth\": 0, \"ticks\": \"\"}, \"colorscale\": [[0.0, \"#0d0887\"], [0.1111111111111111, \"#46039f\"], [0.2222222222222222, \"#7201a8\"], [0.3333333333333333, \"#9c179e\"], [0.4444444444444444, \"#bd3786\"], [0.5555555555555556, \"#d8576b\"], [0.6666666666666666, \"#ed7953\"], [0.7777777777777778, \"#fb9f3a\"], [0.8888888888888888, \"#fdca26\"], [1.0, \"#f0f921\"]], \"type\": \"heatmapgl\"}], \"histogram\": [{\"marker\": {\"colorbar\": {\"outlinewidth\": 0, \"ticks\": \"\"}}, \"type\": \"histogram\"}], \"histogram2d\": [{\"colorbar\": {\"outlinewidth\": 0, \"ticks\": \"\"}, \"colorscale\": [[0.0, \"#0d0887\"], [0.1111111111111111, \"#46039f\"], [0.2222222222222222, \"#7201a8\"], [0.3333333333333333, \"#9c179e\"], [0.4444444444444444, \"#bd3786\"], [0.5555555555555556, \"#d8576b\"], [0.6666666666666666, \"#ed7953\"], [0.7777777777777778, \"#fb9f3a\"], [0.8888888888888888, \"#fdca26\"], [1.0, \"#f0f921\"]], \"type\": \"histogram2d\"}], \"histogram2dcontour\": [{\"colorbar\": {\"outlinewidth\": 0, \"ticks\": \"\"}, \"colorscale\": [[0.0, \"#0d0887\"], [0.1111111111111111, \"#46039f\"], [0.2222222222222222, \"#7201a8\"], [0.3333333333333333, \"#9c179e\"], [0.4444444444444444, \"#bd3786\"], [0.5555555555555556, \"#d8576b\"], [0.6666666666666666, \"#ed7953\"], [0.7777777777777778, \"#fb9f3a\"], [0.8888888888888888, \"#fdca26\"], [1.0, \"#f0f921\"]], \"type\": \"histogram2dcontour\"}], \"mesh3d\": [{\"colorbar\": {\"outlinewidth\": 0, \"ticks\": \"\"}, \"type\": \"mesh3d\"}], \"parcoords\": [{\"line\": {\"colorbar\": {\"outlinewidth\": 0, \"ticks\": \"\"}}, \"type\": \"parcoords\"}], \"pie\": [{\"automargin\": true, \"type\": \"pie\"}], \"scatter\": [{\"marker\": {\"colorbar\": {\"outlinewidth\": 0, \"ticks\": \"\"}}, \"type\": \"scatter\"}], \"scatter3d\": [{\"line\": {\"colorbar\": {\"outlinewidth\": 0, \"ticks\": \"\"}}, \"marker\": {\"colorbar\": {\"outlinewidth\": 0, \"ticks\": \"\"}}, \"type\": \"scatter3d\"}], \"scattercarpet\": [{\"marker\": {\"colorbar\": {\"outlinewidth\": 0, \"ticks\": \"\"}}, \"type\": \"scattercarpet\"}], \"scattergeo\": [{\"marker\": {\"colorbar\": {\"outlinewidth\": 0, \"ticks\": \"\"}}, \"type\": \"scattergeo\"}], \"scattergl\": [{\"marker\": {\"colorbar\": {\"outlinewidth\": 0, \"ticks\": \"\"}}, \"type\": \"scattergl\"}], \"scattermapbox\": [{\"marker\": {\"colorbar\": {\"outlinewidth\": 0, \"ticks\": \"\"}}, \"type\": \"scattermapbox\"}], \"scatterpolar\": [{\"marker\": {\"colorbar\": {\"outlinewidth\": 0, \"ticks\": \"\"}}, \"type\": \"scatterpolar\"}], \"scatterpolargl\": [{\"marker\": {\"colorbar\": {\"outlinewidth\": 0, \"ticks\": \"\"}}, \"type\": \"scatterpolargl\"}], \"scatterternary\": [{\"marker\": {\"colorbar\": {\"outlinewidth\": 0, \"ticks\": \"\"}}, \"type\": \"scatterternary\"}], \"surface\": [{\"colorbar\": {\"outlinewidth\": 0, \"ticks\": \"\"}, \"colorscale\": [[0.0, \"#0d0887\"], [0.1111111111111111, \"#46039f\"], [0.2222222222222222, \"#7201a8\"], [0.3333333333333333, \"#9c179e\"], [0.4444444444444444, \"#bd3786\"], [0.5555555555555556, \"#d8576b\"], [0.6666666666666666, \"#ed7953\"], [0.7777777777777778, \"#fb9f3a\"], [0.8888888888888888, \"#fdca26\"], [1.0, \"#f0f921\"]], \"type\": \"surface\"}], \"table\": [{\"cells\": {\"fill\": {\"color\": \"#EBF0F8\"}, \"line\": {\"color\": \"white\"}}, \"header\": {\"fill\": {\"color\": \"#C8D4E3\"}, \"line\": {\"color\": \"white\"}}, \"type\": \"table\"}]}, \"layout\": {\"annotationdefaults\": {\"arrowcolor\": \"#2a3f5f\", \"arrowhead\": 0, \"arrowwidth\": 1}, \"coloraxis\": {\"colorbar\": {\"outlinewidth\": 0, \"ticks\": \"\"}}, \"colorscale\": {\"diverging\": [[0, \"#8e0152\"], [0.1, \"#c51b7d\"], [0.2, \"#de77ae\"], [0.3, \"#f1b6da\"], [0.4, \"#fde0ef\"], [0.5, \"#f7f7f7\"], [0.6, \"#e6f5d0\"], [0.7, \"#b8e186\"], [0.8, \"#7fbc41\"], [0.9, \"#4d9221\"], [1, \"#276419\"]], \"sequential\": [[0.0, \"#0d0887\"], [0.1111111111111111, \"#46039f\"], [0.2222222222222222, \"#7201a8\"], [0.3333333333333333, \"#9c179e\"], [0.4444444444444444, \"#bd3786\"], [0.5555555555555556, \"#d8576b\"], [0.6666666666666666, \"#ed7953\"], [0.7777777777777778, \"#fb9f3a\"], [0.8888888888888888, \"#fdca26\"], [1.0, \"#f0f921\"]], \"sequentialminus\": [[0.0, \"#0d0887\"], [0.1111111111111111, \"#46039f\"], [0.2222222222222222, \"#7201a8\"], [0.3333333333333333, \"#9c179e\"], [0.4444444444444444, \"#bd3786\"], [0.5555555555555556, \"#d8576b\"], [0.6666666666666666, \"#ed7953\"], [0.7777777777777778, \"#fb9f3a\"], [0.8888888888888888, \"#fdca26\"], [1.0, \"#f0f921\"]]}, \"colorway\": [\"#636efa\", \"#EF553B\", \"#00cc96\", \"#ab63fa\", \"#FFA15A\", \"#19d3f3\", \"#FF6692\", \"#B6E880\", \"#FF97FF\", \"#FECB52\"], \"font\": {\"color\": \"#2a3f5f\"}, \"geo\": {\"bgcolor\": \"white\", \"lakecolor\": \"white\", \"landcolor\": \"#E5ECF6\", \"showlakes\": true, \"showland\": true, \"subunitcolor\": \"white\"}, \"hoverlabel\": {\"align\": \"left\"}, \"hovermode\": \"closest\", \"mapbox\": {\"style\": \"light\"}, \"paper_bgcolor\": \"white\", \"plot_bgcolor\": \"#E5ECF6\", \"polar\": {\"angularaxis\": {\"gridcolor\": \"white\", \"linecolor\": \"white\", \"ticks\": \"\"}, \"bgcolor\": \"#E5ECF6\", \"radialaxis\": {\"gridcolor\": \"white\", \"linecolor\": \"white\", \"ticks\": \"\"}}, \"scene\": {\"xaxis\": {\"backgroundcolor\": \"#E5ECF6\", \"gridcolor\": \"white\", \"gridwidth\": 2, \"linecolor\": \"white\", \"showbackground\": true, \"ticks\": \"\", \"zerolinecolor\": \"white\"}, \"yaxis\": {\"backgroundcolor\": \"#E5ECF6\", \"gridcolor\": \"white\", \"gridwidth\": 2, \"linecolor\": \"white\", \"showbackground\": true, \"ticks\": \"\", \"zerolinecolor\": \"white\"}, \"zaxis\": {\"backgroundcolor\": \"#E5ECF6\", \"gridcolor\": \"white\", \"gridwidth\": 2, \"linecolor\": \"white\", \"showbackground\": true, \"ticks\": \"\", \"zerolinecolor\": \"white\"}}, \"shapedefaults\": {\"line\": {\"color\": \"#2a3f5f\"}}, \"ternary\": {\"aaxis\": {\"gridcolor\": \"white\", \"linecolor\": \"white\", \"ticks\": \"\"}, \"baxis\": {\"gridcolor\": \"white\", \"linecolor\": \"white\", \"ticks\": \"\"}, \"bgcolor\": \"#E5ECF6\", \"caxis\": {\"gridcolor\": \"white\", \"linecolor\": \"white\", \"ticks\": \"\"}}, \"title\": {\"x\": 0.05}, \"xaxis\": {\"automargin\": true, \"gridcolor\": \"white\", \"linecolor\": \"white\", \"ticks\": \"\", \"title\": {\"standoff\": 15}, \"zerolinecolor\": \"white\", \"zerolinewidth\": 2}, \"yaxis\": {\"automargin\": true, \"gridcolor\": \"white\", \"linecolor\": \"white\", \"ticks\": \"\", \"title\": {\"standoff\": 15}, \"zerolinecolor\": \"white\", \"zerolinewidth\": 2}}}, \"title\": {\"font\": {\"color\": \"#4D5663\"}}, \"xaxis\": {\"anchor\": \"y\", \"domain\": [0.0, 0.2125], \"gridcolor\": \"#E1E5ED\", \"showgrid\": false, \"tickfont\": {\"color\": \"#4D5663\"}, \"title\": {\"font\": {\"color\": \"#4D5663\"}, \"text\": \"\"}, \"zerolinecolor\": \"#E1E5ED\"}, \"xaxis10\": {\"anchor\": \"y10\", \"domain\": [0.2625, 0.475], \"gridcolor\": \"#E1E5ED\", \"showgrid\": false, \"tickfont\": {\"color\": \"#4D5663\"}, \"title\": {\"font\": {\"color\": \"#4D5663\"}, \"text\": \"\"}, \"zerolinecolor\": \"#E1E5ED\"}, \"xaxis11\": {\"anchor\": \"y11\", \"domain\": [0.525, 0.7375], \"gridcolor\": \"#E1E5ED\", \"showgrid\": false, \"tickfont\": {\"color\": \"#4D5663\"}, \"title\": {\"font\": {\"color\": \"#4D5663\"}, \"text\": \"\"}, \"zerolinecolor\": \"#E1E5ED\"}, \"xaxis12\": {\"anchor\": \"y12\", \"domain\": [0.7875, 1.0], \"gridcolor\": \"#E1E5ED\", \"showgrid\": false, \"tickfont\": {\"color\": \"#4D5663\"}, \"title\": {\"font\": {\"color\": \"#4D5663\"}, \"text\": \"\"}, \"zerolinecolor\": \"#E1E5ED\"}, \"xaxis13\": {\"anchor\": \"y13\", \"domain\": [0.0, 0.2125], \"gridcolor\": \"#E1E5ED\", \"showgrid\": false, \"tickfont\": {\"color\": \"#4D5663\"}, \"title\": {\"font\": {\"color\": \"#4D5663\"}, \"text\": \"\"}, \"zerolinecolor\": \"#E1E5ED\"}, \"xaxis14\": {\"anchor\": \"y14\", \"domain\": [0.2625, 0.475], \"gridcolor\": \"#E1E5ED\", \"showgrid\": false, \"tickfont\": {\"color\": \"#4D5663\"}, \"title\": {\"font\": {\"color\": \"#4D5663\"}, \"text\": \"\"}, \"zerolinecolor\": \"#E1E5ED\"}, \"xaxis15\": {\"anchor\": \"y15\", \"domain\": [0.525, 0.7375], \"gridcolor\": \"#E1E5ED\", \"showgrid\": false, \"tickfont\": {\"color\": \"#4D5663\"}, \"title\": {\"font\": {\"color\": \"#4D5663\"}, \"text\": \"\"}, \"zerolinecolor\": \"#E1E5ED\"}, \"xaxis16\": {\"anchor\": \"y16\", \"domain\": [0.7875, 1.0], \"gridcolor\": \"#E1E5ED\", \"showgrid\": false, \"tickfont\": {\"color\": \"#4D5663\"}, \"title\": {\"font\": {\"color\": \"#4D5663\"}, \"text\": \"\"}, \"zerolinecolor\": \"#E1E5ED\"}, \"xaxis2\": {\"anchor\": \"y2\", \"domain\": [0.2625, 0.475], \"gridcolor\": \"#E1E5ED\", \"showgrid\": false, \"tickfont\": {\"color\": \"#4D5663\"}, \"title\": {\"font\": {\"color\": \"#4D5663\"}, \"text\": \"\"}, \"zerolinecolor\": \"#E1E5ED\"}, \"xaxis3\": {\"anchor\": \"y3\", \"domain\": [0.525, 0.7375], \"gridcolor\": \"#E1E5ED\", \"showgrid\": false, \"tickfont\": {\"color\": \"#4D5663\"}, \"title\": {\"font\": {\"color\": \"#4D5663\"}, \"text\": \"\"}, \"zerolinecolor\": \"#E1E5ED\"}, \"xaxis4\": {\"anchor\": \"y4\", \"domain\": [0.7875, 1.0], \"gridcolor\": \"#E1E5ED\", \"showgrid\": false, \"tickfont\": {\"color\": \"#4D5663\"}, \"title\": {\"font\": {\"color\": \"#4D5663\"}, \"text\": \"\"}, \"zerolinecolor\": \"#E1E5ED\"}, \"xaxis5\": {\"anchor\": \"y5\", \"domain\": [0.0, 0.2125], \"gridcolor\": \"#E1E5ED\", \"showgrid\": false, \"tickfont\": {\"color\": \"#4D5663\"}, \"title\": {\"font\": {\"color\": \"#4D5663\"}, \"text\": \"\"}, \"zerolinecolor\": \"#E1E5ED\"}, \"xaxis6\": {\"anchor\": \"y6\", \"domain\": [0.2625, 0.475], \"gridcolor\": \"#E1E5ED\", \"showgrid\": false, \"tickfont\": {\"color\": \"#4D5663\"}, \"title\": {\"font\": {\"color\": \"#4D5663\"}, \"text\": \"\"}, \"zerolinecolor\": \"#E1E5ED\"}, \"xaxis7\": {\"anchor\": \"y7\", \"domain\": [0.525, 0.7375], \"gridcolor\": \"#E1E5ED\", \"showgrid\": false, \"tickfont\": {\"color\": \"#4D5663\"}, \"title\": {\"font\": {\"color\": \"#4D5663\"}, \"text\": \"\"}, \"zerolinecolor\": \"#E1E5ED\"}, \"xaxis8\": {\"anchor\": \"y8\", \"domain\": [0.7875, 1.0], \"gridcolor\": \"#E1E5ED\", \"showgrid\": false, \"tickfont\": {\"color\": \"#4D5663\"}, \"title\": {\"font\": {\"color\": \"#4D5663\"}, \"text\": \"\"}, \"zerolinecolor\": \"#E1E5ED\"}, \"xaxis9\": {\"anchor\": \"y9\", \"domain\": [0.0, 0.2125], \"gridcolor\": \"#E1E5ED\", \"showgrid\": false, \"tickfont\": {\"color\": \"#4D5663\"}, \"title\": {\"font\": {\"color\": \"#4D5663\"}, \"text\": \"\"}, \"zerolinecolor\": \"#E1E5ED\"}, \"yaxis\": {\"anchor\": \"x\", \"domain\": [0.8025, 1.0], \"gridcolor\": \"#E1E5ED\", \"showgrid\": false, \"tickfont\": {\"color\": \"#4D5663\"}, \"title\": {\"font\": {\"color\": \"#4D5663\"}, \"text\": \"\"}, \"zerolinecolor\": \"#E1E5ED\"}, \"yaxis10\": {\"anchor\": \"x10\", \"domain\": [0.2675, 0.465], \"gridcolor\": \"#E1E5ED\", \"showgrid\": false, \"tickfont\": {\"color\": \"#4D5663\"}, \"title\": {\"font\": {\"color\": \"#4D5663\"}, \"text\": \"\"}, \"zerolinecolor\": \"#E1E5ED\"}, \"yaxis11\": {\"anchor\": \"x11\", \"domain\": [0.2675, 0.465], \"gridcolor\": \"#E1E5ED\", \"showgrid\": false, \"tickfont\": {\"color\": \"#4D5663\"}, \"title\": {\"font\": {\"color\": \"#4D5663\"}, \"text\": \"\"}, \"zerolinecolor\": \"#E1E5ED\"}, \"yaxis12\": {\"anchor\": \"x12\", \"domain\": [0.2675, 0.465], \"gridcolor\": \"#E1E5ED\", \"showgrid\": false, \"tickfont\": {\"color\": \"#4D5663\"}, \"title\": {\"font\": {\"color\": \"#4D5663\"}, \"text\": \"\"}, \"zerolinecolor\": \"#E1E5ED\"}, \"yaxis13\": {\"anchor\": \"x13\", \"domain\": [0.0, 0.1975], \"gridcolor\": \"#E1E5ED\", \"showgrid\": false, \"tickfont\": {\"color\": \"#4D5663\"}, \"title\": {\"font\": {\"color\": \"#4D5663\"}, \"text\": \"\"}, \"zerolinecolor\": \"#E1E5ED\"}, \"yaxis14\": {\"anchor\": \"x14\", \"domain\": [0.0, 0.1975], \"gridcolor\": \"#E1E5ED\", \"showgrid\": false, \"tickfont\": {\"color\": \"#4D5663\"}, \"title\": {\"font\": {\"color\": \"#4D5663\"}, \"text\": \"\"}, \"zerolinecolor\": \"#E1E5ED\"}, \"yaxis15\": {\"anchor\": \"x15\", \"domain\": [0.0, 0.1975], \"gridcolor\": \"#E1E5ED\", \"showgrid\": false, \"tickfont\": {\"color\": \"#4D5663\"}, \"title\": {\"font\": {\"color\": \"#4D5663\"}, \"text\": \"\"}, \"zerolinecolor\": \"#E1E5ED\"}, \"yaxis16\": {\"anchor\": \"x16\", \"domain\": [0.0, 0.1975], \"gridcolor\": \"#E1E5ED\", \"showgrid\": false, \"tickfont\": {\"color\": \"#4D5663\"}, \"title\": {\"font\": {\"color\": \"#4D5663\"}, \"text\": \"\"}, \"zerolinecolor\": \"#E1E5ED\"}, \"yaxis2\": {\"anchor\": \"x2\", \"domain\": [0.8025, 1.0], \"gridcolor\": \"#E1E5ED\", \"showgrid\": false, \"tickfont\": {\"color\": \"#4D5663\"}, \"title\": {\"font\": {\"color\": \"#4D5663\"}, \"text\": \"\"}, \"zerolinecolor\": \"#E1E5ED\"}, \"yaxis3\": {\"anchor\": \"x3\", \"domain\": [0.8025, 1.0], \"gridcolor\": \"#E1E5ED\", \"showgrid\": false, \"tickfont\": {\"color\": \"#4D5663\"}, \"title\": {\"font\": {\"color\": \"#4D5663\"}, \"text\": \"\"}, \"zerolinecolor\": \"#E1E5ED\"}, \"yaxis4\": {\"anchor\": \"x4\", \"domain\": [0.8025, 1.0], \"gridcolor\": \"#E1E5ED\", \"showgrid\": false, \"tickfont\": {\"color\": \"#4D5663\"}, \"title\": {\"font\": {\"color\": \"#4D5663\"}, \"text\": \"\"}, \"zerolinecolor\": \"#E1E5ED\"}, \"yaxis5\": {\"anchor\": \"x5\", \"domain\": [0.535, 0.7325], \"gridcolor\": \"#E1E5ED\", \"showgrid\": false, \"tickfont\": {\"color\": \"#4D5663\"}, \"title\": {\"font\": {\"color\": \"#4D5663\"}, \"text\": \"\"}, \"zerolinecolor\": \"#E1E5ED\"}, \"yaxis6\": {\"anchor\": \"x6\", \"domain\": [0.535, 0.7325], \"gridcolor\": \"#E1E5ED\", \"showgrid\": false, \"tickfont\": {\"color\": \"#4D5663\"}, \"title\": {\"font\": {\"color\": \"#4D5663\"}, \"text\": \"\"}, \"zerolinecolor\": \"#E1E5ED\"}, \"yaxis7\": {\"anchor\": \"x7\", \"domain\": [0.535, 0.7325], \"gridcolor\": \"#E1E5ED\", \"showgrid\": false, \"tickfont\": {\"color\": \"#4D5663\"}, \"title\": {\"font\": {\"color\": \"#4D5663\"}, \"text\": \"\"}, \"zerolinecolor\": \"#E1E5ED\"}, \"yaxis8\": {\"anchor\": \"x8\", \"domain\": [0.535, 0.7325], \"gridcolor\": \"#E1E5ED\", \"showgrid\": false, \"tickfont\": {\"color\": \"#4D5663\"}, \"title\": {\"font\": {\"color\": \"#4D5663\"}, \"text\": \"\"}, \"zerolinecolor\": \"#E1E5ED\"}, \"yaxis9\": {\"anchor\": \"x9\", \"domain\": [0.2675, 0.465], \"gridcolor\": \"#E1E5ED\", \"showgrid\": false, \"tickfont\": {\"color\": \"#4D5663\"}, \"title\": {\"font\": {\"color\": \"#4D5663\"}, \"text\": \"\"}, \"zerolinecolor\": \"#E1E5ED\"}},\n",
       "                        {\"showLink\": true, \"linkText\": \"Export to plot.ly\", \"plotlyServerURL\": \"https://plot.ly\", \"responsive\": true}\n",
       "                    ).then(function(){\n",
       "                            \n",
       "var gd = document.getElementById('fe4ca4b0-6364-49b5-80a8-a032573a9d64');\n",
       "var x = new MutationObserver(function (mutations, observer) {{\n",
       "        var display = window.getComputedStyle(gd).display;\n",
       "        if (!display || display === 'none') {{\n",
       "            console.log([gd, 'removed!']);\n",
       "            Plotly.purge(gd);\n",
       "            observer.disconnect();\n",
       "        }}\n",
       "}});\n",
       "\n",
       "// Listen for the removal of the full notebook cells\n",
       "var notebookContainer = gd.closest('#notebook-container');\n",
       "if (notebookContainer) {{\n",
       "    x.observe(notebookContainer, {childList: true});\n",
       "}}\n",
       "\n",
       "// Listen for the clearing of the current output cell\n",
       "var outputEl = gd.closest('.output');\n",
       "if (outputEl) {{\n",
       "    x.observe(outputEl, {childList: true});\n",
       "}}\n",
       "\n",
       "                        })\n",
       "                };\n",
       "                });\n",
       "            </script>\n",
       "        </div>"
      ]
     },
     "metadata": {},
     "output_type": "display_data"
    }
   ],
   "source": [
    "df.scatter_matrix()"
   ]
  },
  {
   "cell_type": "markdown",
   "metadata": {
    "collapsed": true
   },
   "source": [
    "# Great Job!"
   ]
  }
 ],
 "metadata": {
  "kernelspec": {
   "display_name": "Python 3",
   "language": "python",
   "name": "python3"
  },
  "language_info": {
   "codemirror_mode": {
    "name": "ipython",
    "version": 3
   },
   "file_extension": ".py",
   "mimetype": "text/x-python",
   "name": "python",
   "nbconvert_exporter": "python",
   "pygments_lexer": "ipython3",
   "version": "3.7.6"
  }
 },
 "nbformat": 4,
 "nbformat_minor": 1
}
